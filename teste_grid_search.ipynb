{
 "cells": [
  {
   "cell_type": "markdown",
   "metadata": {},
   "source": [
    "Modelo 1: LSTM"
   ]
  },
  {
   "cell_type": "code",
   "execution_count": 2,
   "metadata": {},
   "outputs": [
    {
     "name": "stdout",
     "output_type": "stream",
     "text": [
      "Número total de modos utilizados: 20\n",
      "Total de combinações de hiperparâmetros: 216\n",
      "\n",
      "Executando combinação 1/216: {'sequence_length': 10, 'lstm_units': 64, 'dropout_rate': 0.1, 'learning_rate': 0.001, 'batch_size': 32}\n"
     ]
    },
    {
     "name": "stderr",
     "output_type": "stream",
     "text": [
      "c:\\Users\\FilipeAraujoXimenes\\anaconda3\\Lib\\site-packages\\keras\\src\\layers\\rnn\\rnn.py:204: UserWarning: Do not pass an `input_shape`/`input_dim` argument to a layer. When using Sequential models, prefer using an `Input(shape)` object as the first layer in the model instead.\n",
      "  super().__init__(**kwargs)\n"
     ]
    },
    {
     "name": "stdout",
     "output_type": "stream",
     "text": [
      "\u001b[1m175/175\u001b[0m \u001b[32m━━━━━━━━━━━━━━━━━━━━\u001b[0m\u001b[37m\u001b[0m \u001b[1m1s\u001b[0m 5ms/step\n",
      "NMSE médio do módulo dos coeficientes: 0.066097\n",
      "\n",
      "Executando combinação 2/216: {'sequence_length': 10, 'lstm_units': 64, 'dropout_rate': 0.1, 'learning_rate': 0.001, 'batch_size': 64}\n"
     ]
    },
    {
     "name": "stderr",
     "output_type": "stream",
     "text": [
      "c:\\Users\\FilipeAraujoXimenes\\anaconda3\\Lib\\site-packages\\keras\\src\\layers\\rnn\\rnn.py:204: UserWarning: Do not pass an `input_shape`/`input_dim` argument to a layer. When using Sequential models, prefer using an `Input(shape)` object as the first layer in the model instead.\n",
      "  super().__init__(**kwargs)\n"
     ]
    },
    {
     "name": "stdout",
     "output_type": "stream",
     "text": [
      "\u001b[1m175/175\u001b[0m \u001b[32m━━━━━━━━━━━━━━━━━━━━\u001b[0m\u001b[37m\u001b[0m \u001b[1m2s\u001b[0m 9ms/step\n",
      "NMSE médio do módulo dos coeficientes: 0.086316\n",
      "\n",
      "Executando combinação 3/216: {'sequence_length': 10, 'lstm_units': 64, 'dropout_rate': 0.1, 'learning_rate': 0.0005, 'batch_size': 32}\n"
     ]
    },
    {
     "name": "stderr",
     "output_type": "stream",
     "text": [
      "c:\\Users\\FilipeAraujoXimenes\\anaconda3\\Lib\\site-packages\\keras\\src\\layers\\rnn\\rnn.py:204: UserWarning: Do not pass an `input_shape`/`input_dim` argument to a layer. When using Sequential models, prefer using an `Input(shape)` object as the first layer in the model instead.\n",
      "  super().__init__(**kwargs)\n"
     ]
    },
    {
     "name": "stdout",
     "output_type": "stream",
     "text": [
      "\u001b[1m175/175\u001b[0m \u001b[32m━━━━━━━━━━━━━━━━━━━━\u001b[0m\u001b[37m\u001b[0m \u001b[1m1s\u001b[0m 7ms/step\n",
      "NMSE médio do módulo dos coeficientes: 0.107740\n",
      "\n",
      "Executando combinação 4/216: {'sequence_length': 10, 'lstm_units': 64, 'dropout_rate': 0.1, 'learning_rate': 0.0005, 'batch_size': 64}\n"
     ]
    },
    {
     "name": "stderr",
     "output_type": "stream",
     "text": [
      "c:\\Users\\FilipeAraujoXimenes\\anaconda3\\Lib\\site-packages\\keras\\src\\layers\\rnn\\rnn.py:204: UserWarning: Do not pass an `input_shape`/`input_dim` argument to a layer. When using Sequential models, prefer using an `Input(shape)` object as the first layer in the model instead.\n",
      "  super().__init__(**kwargs)\n"
     ]
    },
    {
     "name": "stdout",
     "output_type": "stream",
     "text": [
      "\u001b[1m175/175\u001b[0m \u001b[32m━━━━━━━━━━━━━━━━━━━━\u001b[0m\u001b[37m\u001b[0m \u001b[1m1s\u001b[0m 5ms/step\n",
      "NMSE médio do módulo dos coeficientes: 0.148129\n",
      "\n",
      "Executando combinação 5/216: {'sequence_length': 10, 'lstm_units': 64, 'dropout_rate': 0.1, 'learning_rate': 0.0001, 'batch_size': 32}\n"
     ]
    },
    {
     "name": "stderr",
     "output_type": "stream",
     "text": [
      "c:\\Users\\FilipeAraujoXimenes\\anaconda3\\Lib\\site-packages\\keras\\src\\layers\\rnn\\rnn.py:204: UserWarning: Do not pass an `input_shape`/`input_dim` argument to a layer. When using Sequential models, prefer using an `Input(shape)` object as the first layer in the model instead.\n",
      "  super().__init__(**kwargs)\n"
     ]
    },
    {
     "name": "stdout",
     "output_type": "stream",
     "text": [
      "\u001b[1m175/175\u001b[0m \u001b[32m━━━━━━━━━━━━━━━━━━━━\u001b[0m\u001b[37m\u001b[0m \u001b[1m1s\u001b[0m 3ms/step\n",
      "NMSE médio do módulo dos coeficientes: 0.516602\n",
      "\n",
      "Executando combinação 6/216: {'sequence_length': 10, 'lstm_units': 64, 'dropout_rate': 0.1, 'learning_rate': 0.0001, 'batch_size': 64}\n"
     ]
    },
    {
     "name": "stderr",
     "output_type": "stream",
     "text": [
      "c:\\Users\\FilipeAraujoXimenes\\anaconda3\\Lib\\site-packages\\keras\\src\\layers\\rnn\\rnn.py:204: UserWarning: Do not pass an `input_shape`/`input_dim` argument to a layer. When using Sequential models, prefer using an `Input(shape)` object as the first layer in the model instead.\n",
      "  super().__init__(**kwargs)\n"
     ]
    },
    {
     "name": "stdout",
     "output_type": "stream",
     "text": [
      "\u001b[1m175/175\u001b[0m \u001b[32m━━━━━━━━━━━━━━━━━━━━\u001b[0m\u001b[37m\u001b[0m \u001b[1m1s\u001b[0m 3ms/step\n",
      "NMSE médio do módulo dos coeficientes: 0.833468\n",
      "\n",
      "Executando combinação 7/216: {'sequence_length': 10, 'lstm_units': 64, 'dropout_rate': 0.2, 'learning_rate': 0.001, 'batch_size': 32}\n"
     ]
    },
    {
     "name": "stderr",
     "output_type": "stream",
     "text": [
      "c:\\Users\\FilipeAraujoXimenes\\anaconda3\\Lib\\site-packages\\keras\\src\\layers\\rnn\\rnn.py:204: UserWarning: Do not pass an `input_shape`/`input_dim` argument to a layer. When using Sequential models, prefer using an `Input(shape)` object as the first layer in the model instead.\n",
      "  super().__init__(**kwargs)\n"
     ]
    },
    {
     "name": "stdout",
     "output_type": "stream",
     "text": [
      "\u001b[1m175/175\u001b[0m \u001b[32m━━━━━━━━━━━━━━━━━━━━\u001b[0m\u001b[37m\u001b[0m \u001b[1m1s\u001b[0m 3ms/step\n",
      "NMSE médio do módulo dos coeficientes: 0.157242\n",
      "\n",
      "Executando combinação 8/216: {'sequence_length': 10, 'lstm_units': 64, 'dropout_rate': 0.2, 'learning_rate': 0.001, 'batch_size': 64}\n"
     ]
    },
    {
     "name": "stderr",
     "output_type": "stream",
     "text": [
      "c:\\Users\\FilipeAraujoXimenes\\anaconda3\\Lib\\site-packages\\keras\\src\\layers\\rnn\\rnn.py:204: UserWarning: Do not pass an `input_shape`/`input_dim` argument to a layer. When using Sequential models, prefer using an `Input(shape)` object as the first layer in the model instead.\n",
      "  super().__init__(**kwargs)\n"
     ]
    },
    {
     "name": "stdout",
     "output_type": "stream",
     "text": [
      "\u001b[1m175/175\u001b[0m \u001b[32m━━━━━━━━━━━━━━━━━━━━\u001b[0m\u001b[37m\u001b[0m \u001b[1m1s\u001b[0m 3ms/step\n",
      "NMSE médio do módulo dos coeficientes: 0.175968\n",
      "\n",
      "Executando combinação 9/216: {'sequence_length': 10, 'lstm_units': 64, 'dropout_rate': 0.2, 'learning_rate': 0.0005, 'batch_size': 32}\n"
     ]
    },
    {
     "name": "stderr",
     "output_type": "stream",
     "text": [
      "c:\\Users\\FilipeAraujoXimenes\\anaconda3\\Lib\\site-packages\\keras\\src\\layers\\rnn\\rnn.py:204: UserWarning: Do not pass an `input_shape`/`input_dim` argument to a layer. When using Sequential models, prefer using an `Input(shape)` object as the first layer in the model instead.\n",
      "  super().__init__(**kwargs)\n"
     ]
    },
    {
     "name": "stdout",
     "output_type": "stream",
     "text": [
      "\u001b[1m175/175\u001b[0m \u001b[32m━━━━━━━━━━━━━━━━━━━━\u001b[0m\u001b[37m\u001b[0m \u001b[1m1s\u001b[0m 3ms/step\n",
      "NMSE médio do módulo dos coeficientes: 0.219286\n",
      "\n",
      "Executando combinação 10/216: {'sequence_length': 10, 'lstm_units': 64, 'dropout_rate': 0.2, 'learning_rate': 0.0005, 'batch_size': 64}\n"
     ]
    },
    {
     "name": "stderr",
     "output_type": "stream",
     "text": [
      "c:\\Users\\FilipeAraujoXimenes\\anaconda3\\Lib\\site-packages\\keras\\src\\layers\\rnn\\rnn.py:204: UserWarning: Do not pass an `input_shape`/`input_dim` argument to a layer. When using Sequential models, prefer using an `Input(shape)` object as the first layer in the model instead.\n",
      "  super().__init__(**kwargs)\n"
     ]
    },
    {
     "name": "stdout",
     "output_type": "stream",
     "text": [
      "\u001b[1m175/175\u001b[0m \u001b[32m━━━━━━━━━━━━━━━━━━━━\u001b[0m\u001b[37m\u001b[0m \u001b[1m1s\u001b[0m 6ms/step\n",
      "NMSE médio do módulo dos coeficientes: 0.301315\n",
      "\n",
      "Executando combinação 11/216: {'sequence_length': 10, 'lstm_units': 64, 'dropout_rate': 0.2, 'learning_rate': 0.0001, 'batch_size': 32}\n"
     ]
    },
    {
     "name": "stderr",
     "output_type": "stream",
     "text": [
      "c:\\Users\\FilipeAraujoXimenes\\anaconda3\\Lib\\site-packages\\keras\\src\\layers\\rnn\\rnn.py:204: UserWarning: Do not pass an `input_shape`/`input_dim` argument to a layer. When using Sequential models, prefer using an `Input(shape)` object as the first layer in the model instead.\n",
      "  super().__init__(**kwargs)\n"
     ]
    },
    {
     "name": "stdout",
     "output_type": "stream",
     "text": [
      "\u001b[1m175/175\u001b[0m \u001b[32m━━━━━━━━━━━━━━━━━━━━\u001b[0m\u001b[37m\u001b[0m \u001b[1m1s\u001b[0m 4ms/step\n",
      "NMSE médio do módulo dos coeficientes: 0.702677\n",
      "\n",
      "Executando combinação 12/216: {'sequence_length': 10, 'lstm_units': 64, 'dropout_rate': 0.2, 'learning_rate': 0.0001, 'batch_size': 64}\n"
     ]
    },
    {
     "name": "stderr",
     "output_type": "stream",
     "text": [
      "c:\\Users\\FilipeAraujoXimenes\\anaconda3\\Lib\\site-packages\\keras\\src\\layers\\rnn\\rnn.py:204: UserWarning: Do not pass an `input_shape`/`input_dim` argument to a layer. When using Sequential models, prefer using an `Input(shape)` object as the first layer in the model instead.\n",
      "  super().__init__(**kwargs)\n"
     ]
    },
    {
     "name": "stdout",
     "output_type": "stream",
     "text": [
      "\u001b[1m175/175\u001b[0m \u001b[32m━━━━━━━━━━━━━━━━━━━━\u001b[0m\u001b[37m\u001b[0m \u001b[1m1s\u001b[0m 4ms/step\n",
      "NMSE médio do módulo dos coeficientes: 1.105832\n",
      "\n",
      "Executando combinação 13/216: {'sequence_length': 10, 'lstm_units': 64, 'dropout_rate': 0.3, 'learning_rate': 0.001, 'batch_size': 32}\n"
     ]
    },
    {
     "name": "stderr",
     "output_type": "stream",
     "text": [
      "c:\\Users\\FilipeAraujoXimenes\\anaconda3\\Lib\\site-packages\\keras\\src\\layers\\rnn\\rnn.py:204: UserWarning: Do not pass an `input_shape`/`input_dim` argument to a layer. When using Sequential models, prefer using an `Input(shape)` object as the first layer in the model instead.\n",
      "  super().__init__(**kwargs)\n"
     ]
    },
    {
     "name": "stdout",
     "output_type": "stream",
     "text": [
      "\u001b[1m175/175\u001b[0m \u001b[32m━━━━━━━━━━━━━━━━━━━━\u001b[0m\u001b[37m\u001b[0m \u001b[1m1s\u001b[0m 7ms/step\n",
      "NMSE médio do módulo dos coeficientes: 0.308745\n",
      "\n",
      "Executando combinação 14/216: {'sequence_length': 10, 'lstm_units': 64, 'dropout_rate': 0.3, 'learning_rate': 0.001, 'batch_size': 64}\n"
     ]
    },
    {
     "name": "stderr",
     "output_type": "stream",
     "text": [
      "c:\\Users\\FilipeAraujoXimenes\\anaconda3\\Lib\\site-packages\\keras\\src\\layers\\rnn\\rnn.py:204: UserWarning: Do not pass an `input_shape`/`input_dim` argument to a layer. When using Sequential models, prefer using an `Input(shape)` object as the first layer in the model instead.\n",
      "  super().__init__(**kwargs)\n"
     ]
    },
    {
     "name": "stdout",
     "output_type": "stream",
     "text": [
      "\u001b[1m175/175\u001b[0m \u001b[32m━━━━━━━━━━━━━━━━━━━━\u001b[0m\u001b[37m\u001b[0m \u001b[1m1s\u001b[0m 5ms/step\n",
      "NMSE médio do módulo dos coeficientes: 0.354132\n",
      "\n",
      "Executando combinação 15/216: {'sequence_length': 10, 'lstm_units': 64, 'dropout_rate': 0.3, 'learning_rate': 0.0005, 'batch_size': 32}\n"
     ]
    },
    {
     "name": "stderr",
     "output_type": "stream",
     "text": [
      "c:\\Users\\FilipeAraujoXimenes\\anaconda3\\Lib\\site-packages\\keras\\src\\layers\\rnn\\rnn.py:204: UserWarning: Do not pass an `input_shape`/`input_dim` argument to a layer. When using Sequential models, prefer using an `Input(shape)` object as the first layer in the model instead.\n",
      "  super().__init__(**kwargs)\n"
     ]
    },
    {
     "name": "stdout",
     "output_type": "stream",
     "text": [
      "\u001b[1m175/175\u001b[0m \u001b[32m━━━━━━━━━━━━━━━━━━━━\u001b[0m\u001b[37m\u001b[0m \u001b[1m1s\u001b[0m 4ms/step\n",
      "NMSE médio do módulo dos coeficientes: 0.391724\n",
      "\n",
      "Executando combinação 16/216: {'sequence_length': 10, 'lstm_units': 64, 'dropout_rate': 0.3, 'learning_rate': 0.0005, 'batch_size': 64}\n"
     ]
    },
    {
     "name": "stderr",
     "output_type": "stream",
     "text": [
      "c:\\Users\\FilipeAraujoXimenes\\anaconda3\\Lib\\site-packages\\keras\\src\\layers\\rnn\\rnn.py:204: UserWarning: Do not pass an `input_shape`/`input_dim` argument to a layer. When using Sequential models, prefer using an `Input(shape)` object as the first layer in the model instead.\n",
      "  super().__init__(**kwargs)\n"
     ]
    },
    {
     "name": "stdout",
     "output_type": "stream",
     "text": [
      "\u001b[1m175/175\u001b[0m \u001b[32m━━━━━━━━━━━━━━━━━━━━\u001b[0m\u001b[37m\u001b[0m \u001b[1m1s\u001b[0m 4ms/step\n",
      "NMSE médio do módulo dos coeficientes: 0.483666\n",
      "\n",
      "Executando combinação 17/216: {'sequence_length': 10, 'lstm_units': 64, 'dropout_rate': 0.3, 'learning_rate': 0.0001, 'batch_size': 32}\n"
     ]
    },
    {
     "name": "stderr",
     "output_type": "stream",
     "text": [
      "c:\\Users\\FilipeAraujoXimenes\\anaconda3\\Lib\\site-packages\\keras\\src\\layers\\rnn\\rnn.py:204: UserWarning: Do not pass an `input_shape`/`input_dim` argument to a layer. When using Sequential models, prefer using an `Input(shape)` object as the first layer in the model instead.\n",
      "  super().__init__(**kwargs)\n"
     ]
    },
    {
     "name": "stdout",
     "output_type": "stream",
     "text": [
      "\u001b[1m175/175\u001b[0m \u001b[32m━━━━━━━━━━━━━━━━━━━━\u001b[0m\u001b[37m\u001b[0m \u001b[1m1s\u001b[0m 3ms/step\n",
      "NMSE médio do módulo dos coeficientes: 0.918664\n",
      "\n",
      "Executando combinação 18/216: {'sequence_length': 10, 'lstm_units': 64, 'dropout_rate': 0.3, 'learning_rate': 0.0001, 'batch_size': 64}\n"
     ]
    },
    {
     "name": "stderr",
     "output_type": "stream",
     "text": [
      "c:\\Users\\FilipeAraujoXimenes\\anaconda3\\Lib\\site-packages\\keras\\src\\layers\\rnn\\rnn.py:204: UserWarning: Do not pass an `input_shape`/`input_dim` argument to a layer. When using Sequential models, prefer using an `Input(shape)` object as the first layer in the model instead.\n",
      "  super().__init__(**kwargs)\n"
     ]
    },
    {
     "name": "stdout",
     "output_type": "stream",
     "text": [
      "\u001b[1m175/175\u001b[0m \u001b[32m━━━━━━━━━━━━━━━━━━━━\u001b[0m\u001b[37m\u001b[0m \u001b[1m1s\u001b[0m 5ms/step\n",
      "NMSE médio do módulo dos coeficientes: 1.268355\n",
      "\n",
      "Executando combinação 19/216: {'sequence_length': 10, 'lstm_units': 128, 'dropout_rate': 0.1, 'learning_rate': 0.001, 'batch_size': 32}\n"
     ]
    },
    {
     "name": "stderr",
     "output_type": "stream",
     "text": [
      "c:\\Users\\FilipeAraujoXimenes\\anaconda3\\Lib\\site-packages\\keras\\src\\layers\\rnn\\rnn.py:204: UserWarning: Do not pass an `input_shape`/`input_dim` argument to a layer. When using Sequential models, prefer using an `Input(shape)` object as the first layer in the model instead.\n",
      "  super().__init__(**kwargs)\n"
     ]
    },
    {
     "name": "stdout",
     "output_type": "stream",
     "text": [
      "\u001b[1m175/175\u001b[0m \u001b[32m━━━━━━━━━━━━━━━━━━━━\u001b[0m\u001b[37m\u001b[0m \u001b[1m3s\u001b[0m 14ms/step\n",
      "NMSE médio do módulo dos coeficientes: 0.034415\n",
      "\n",
      "Executando combinação 20/216: {'sequence_length': 10, 'lstm_units': 128, 'dropout_rate': 0.1, 'learning_rate': 0.001, 'batch_size': 64}\n"
     ]
    },
    {
     "name": "stderr",
     "output_type": "stream",
     "text": [
      "c:\\Users\\FilipeAraujoXimenes\\anaconda3\\Lib\\site-packages\\keras\\src\\layers\\rnn\\rnn.py:204: UserWarning: Do not pass an `input_shape`/`input_dim` argument to a layer. When using Sequential models, prefer using an `Input(shape)` object as the first layer in the model instead.\n",
      "  super().__init__(**kwargs)\n"
     ]
    },
    {
     "name": "stdout",
     "output_type": "stream",
     "text": [
      "\u001b[1m175/175\u001b[0m \u001b[32m━━━━━━━━━━━━━━━━━━━━\u001b[0m\u001b[37m\u001b[0m \u001b[1m1s\u001b[0m 7ms/step\n",
      "NMSE médio do módulo dos coeficientes: 0.041582\n",
      "\n",
      "Executando combinação 21/216: {'sequence_length': 10, 'lstm_units': 128, 'dropout_rate': 0.1, 'learning_rate': 0.0005, 'batch_size': 32}\n"
     ]
    },
    {
     "name": "stderr",
     "output_type": "stream",
     "text": [
      "c:\\Users\\FilipeAraujoXimenes\\anaconda3\\Lib\\site-packages\\keras\\src\\layers\\rnn\\rnn.py:204: UserWarning: Do not pass an `input_shape`/`input_dim` argument to a layer. When using Sequential models, prefer using an `Input(shape)` object as the first layer in the model instead.\n",
      "  super().__init__(**kwargs)\n"
     ]
    },
    {
     "name": "stdout",
     "output_type": "stream",
     "text": [
      "\u001b[1m175/175\u001b[0m \u001b[32m━━━━━━━━━━━━━━━━━━━━\u001b[0m\u001b[37m\u001b[0m \u001b[1m2s\u001b[0m 8ms/step\n",
      "NMSE médio do módulo dos coeficientes: 0.052703\n",
      "\n",
      "Executando combinação 22/216: {'sequence_length': 10, 'lstm_units': 128, 'dropout_rate': 0.1, 'learning_rate': 0.0005, 'batch_size': 64}\n"
     ]
    },
    {
     "name": "stderr",
     "output_type": "stream",
     "text": [
      "c:\\Users\\FilipeAraujoXimenes\\anaconda3\\Lib\\site-packages\\keras\\src\\layers\\rnn\\rnn.py:204: UserWarning: Do not pass an `input_shape`/`input_dim` argument to a layer. When using Sequential models, prefer using an `Input(shape)` object as the first layer in the model instead.\n",
      "  super().__init__(**kwargs)\n"
     ]
    },
    {
     "name": "stdout",
     "output_type": "stream",
     "text": [
      "\u001b[1m175/175\u001b[0m \u001b[32m━━━━━━━━━━━━━━━━━━━━\u001b[0m\u001b[37m\u001b[0m \u001b[1m2s\u001b[0m 6ms/step\n",
      "NMSE médio do módulo dos coeficientes: 0.070278\n",
      "\n",
      "Executando combinação 23/216: {'sequence_length': 10, 'lstm_units': 128, 'dropout_rate': 0.1, 'learning_rate': 0.0001, 'batch_size': 32}\n"
     ]
    },
    {
     "name": "stderr",
     "output_type": "stream",
     "text": [
      "c:\\Users\\FilipeAraujoXimenes\\anaconda3\\Lib\\site-packages\\keras\\src\\layers\\rnn\\rnn.py:204: UserWarning: Do not pass an `input_shape`/`input_dim` argument to a layer. When using Sequential models, prefer using an `Input(shape)` object as the first layer in the model instead.\n",
      "  super().__init__(**kwargs)\n"
     ]
    },
    {
     "name": "stdout",
     "output_type": "stream",
     "text": [
      "\u001b[1m175/175\u001b[0m \u001b[32m━━━━━━━━━━━━━━━━━━━━\u001b[0m\u001b[37m\u001b[0m \u001b[1m2s\u001b[0m 6ms/step\n",
      "NMSE médio do módulo dos coeficientes: 0.263986\n",
      "\n",
      "Executando combinação 24/216: {'sequence_length': 10, 'lstm_units': 128, 'dropout_rate': 0.1, 'learning_rate': 0.0001, 'batch_size': 64}\n"
     ]
    },
    {
     "name": "stderr",
     "output_type": "stream",
     "text": [
      "c:\\Users\\FilipeAraujoXimenes\\anaconda3\\Lib\\site-packages\\keras\\src\\layers\\rnn\\rnn.py:204: UserWarning: Do not pass an `input_shape`/`input_dim` argument to a layer. When using Sequential models, prefer using an `Input(shape)` object as the first layer in the model instead.\n",
      "  super().__init__(**kwargs)\n"
     ]
    },
    {
     "name": "stdout",
     "output_type": "stream",
     "text": [
      "\u001b[1m175/175\u001b[0m \u001b[32m━━━━━━━━━━━━━━━━━━━━\u001b[0m\u001b[37m\u001b[0m \u001b[1m1s\u001b[0m 5ms/step\n",
      "NMSE médio do módulo dos coeficientes: 0.422014\n",
      "\n",
      "Executando combinação 25/216: {'sequence_length': 10, 'lstm_units': 128, 'dropout_rate': 0.2, 'learning_rate': 0.001, 'batch_size': 32}\n"
     ]
    },
    {
     "name": "stderr",
     "output_type": "stream",
     "text": [
      "c:\\Users\\FilipeAraujoXimenes\\anaconda3\\Lib\\site-packages\\keras\\src\\layers\\rnn\\rnn.py:204: UserWarning: Do not pass an `input_shape`/`input_dim` argument to a layer. When using Sequential models, prefer using an `Input(shape)` object as the first layer in the model instead.\n",
      "  super().__init__(**kwargs)\n"
     ]
    },
    {
     "name": "stdout",
     "output_type": "stream",
     "text": [
      "\u001b[1m175/175\u001b[0m \u001b[32m━━━━━━━━━━━━━━━━━━━━\u001b[0m\u001b[37m\u001b[0m \u001b[1m2s\u001b[0m 7ms/step\n",
      "NMSE médio do módulo dos coeficientes: 0.062619\n",
      "\n",
      "Executando combinação 26/216: {'sequence_length': 10, 'lstm_units': 128, 'dropout_rate': 0.2, 'learning_rate': 0.001, 'batch_size': 64}\n"
     ]
    },
    {
     "name": "stderr",
     "output_type": "stream",
     "text": [
      "c:\\Users\\FilipeAraujoXimenes\\anaconda3\\Lib\\site-packages\\keras\\src\\layers\\rnn\\rnn.py:204: UserWarning: Do not pass an `input_shape`/`input_dim` argument to a layer. When using Sequential models, prefer using an `Input(shape)` object as the first layer in the model instead.\n",
      "  super().__init__(**kwargs)\n"
     ]
    },
    {
     "name": "stdout",
     "output_type": "stream",
     "text": [
      "\u001b[1m175/175\u001b[0m \u001b[32m━━━━━━━━━━━━━━━━━━━━\u001b[0m\u001b[37m\u001b[0m \u001b[1m1s\u001b[0m 5ms/step\n",
      "NMSE médio do módulo dos coeficientes: 0.071840\n",
      "\n",
      "Executando combinação 27/216: {'sequence_length': 10, 'lstm_units': 128, 'dropout_rate': 0.2, 'learning_rate': 0.0005, 'batch_size': 32}\n"
     ]
    },
    {
     "name": "stderr",
     "output_type": "stream",
     "text": [
      "c:\\Users\\FilipeAraujoXimenes\\anaconda3\\Lib\\site-packages\\keras\\src\\layers\\rnn\\rnn.py:204: UserWarning: Do not pass an `input_shape`/`input_dim` argument to a layer. When using Sequential models, prefer using an `Input(shape)` object as the first layer in the model instead.\n",
      "  super().__init__(**kwargs)\n"
     ]
    },
    {
     "name": "stdout",
     "output_type": "stream",
     "text": [
      "\u001b[1m175/175\u001b[0m \u001b[32m━━━━━━━━━━━━━━━━━━━━\u001b[0m\u001b[37m\u001b[0m \u001b[1m1s\u001b[0m 5ms/step\n",
      "NMSE médio do módulo dos coeficientes: 0.085291\n",
      "\n",
      "Executando combinação 28/216: {'sequence_length': 10, 'lstm_units': 128, 'dropout_rate': 0.2, 'learning_rate': 0.0005, 'batch_size': 64}\n"
     ]
    },
    {
     "name": "stderr",
     "output_type": "stream",
     "text": [
      "c:\\Users\\FilipeAraujoXimenes\\anaconda3\\Lib\\site-packages\\keras\\src\\layers\\rnn\\rnn.py:204: UserWarning: Do not pass an `input_shape`/`input_dim` argument to a layer. When using Sequential models, prefer using an `Input(shape)` object as the first layer in the model instead.\n",
      "  super().__init__(**kwargs)\n"
     ]
    },
    {
     "name": "stdout",
     "output_type": "stream",
     "text": [
      "\u001b[1m175/175\u001b[0m \u001b[32m━━━━━━━━━━━━━━━━━━━━\u001b[0m\u001b[37m\u001b[0m \u001b[1m1s\u001b[0m 7ms/step\n",
      "NMSE médio do módulo dos coeficientes: 0.109546\n",
      "\n",
      "Executando combinação 29/216: {'sequence_length': 10, 'lstm_units': 128, 'dropout_rate': 0.2, 'learning_rate': 0.0001, 'batch_size': 32}\n"
     ]
    },
    {
     "name": "stderr",
     "output_type": "stream",
     "text": [
      "c:\\Users\\FilipeAraujoXimenes\\anaconda3\\Lib\\site-packages\\keras\\src\\layers\\rnn\\rnn.py:204: UserWarning: Do not pass an `input_shape`/`input_dim` argument to a layer. When using Sequential models, prefer using an `Input(shape)` object as the first layer in the model instead.\n",
      "  super().__init__(**kwargs)\n"
     ]
    },
    {
     "name": "stdout",
     "output_type": "stream",
     "text": [
      "\u001b[1m175/175\u001b[0m \u001b[32m━━━━━━━━━━━━━━━━━━━━\u001b[0m\u001b[37m\u001b[0m \u001b[1m1s\u001b[0m 7ms/step\n",
      "NMSE médio do módulo dos coeficientes: 0.380298\n",
      "\n",
      "Executando combinação 30/216: {'sequence_length': 10, 'lstm_units': 128, 'dropout_rate': 0.2, 'learning_rate': 0.0001, 'batch_size': 64}\n"
     ]
    },
    {
     "name": "stderr",
     "output_type": "stream",
     "text": [
      "c:\\Users\\FilipeAraujoXimenes\\anaconda3\\Lib\\site-packages\\keras\\src\\layers\\rnn\\rnn.py:204: UserWarning: Do not pass an `input_shape`/`input_dim` argument to a layer. When using Sequential models, prefer using an `Input(shape)` object as the first layer in the model instead.\n",
      "  super().__init__(**kwargs)\n"
     ]
    },
    {
     "name": "stdout",
     "output_type": "stream",
     "text": [
      "\u001b[1m175/175\u001b[0m \u001b[32m━━━━━━━━━━━━━━━━━━━━\u001b[0m\u001b[37m\u001b[0m \u001b[1m1s\u001b[0m 4ms/step\n",
      "NMSE médio do módulo dos coeficientes: 0.557025\n",
      "\n",
      "Executando combinação 31/216: {'sequence_length': 10, 'lstm_units': 128, 'dropout_rate': 0.3, 'learning_rate': 0.001, 'batch_size': 32}\n"
     ]
    },
    {
     "name": "stderr",
     "output_type": "stream",
     "text": [
      "c:\\Users\\FilipeAraujoXimenes\\anaconda3\\Lib\\site-packages\\keras\\src\\layers\\rnn\\rnn.py:204: UserWarning: Do not pass an `input_shape`/`input_dim` argument to a layer. When using Sequential models, prefer using an `Input(shape)` object as the first layer in the model instead.\n",
      "  super().__init__(**kwargs)\n"
     ]
    },
    {
     "name": "stdout",
     "output_type": "stream",
     "text": [
      "\u001b[1m175/175\u001b[0m \u001b[32m━━━━━━━━━━━━━━━━━━━━\u001b[0m\u001b[37m\u001b[0m \u001b[1m2s\u001b[0m 11ms/step\n",
      "NMSE médio do módulo dos coeficientes: 0.126571\n",
      "\n",
      "Executando combinação 32/216: {'sequence_length': 10, 'lstm_units': 128, 'dropout_rate': 0.3, 'learning_rate': 0.001, 'batch_size': 64}\n"
     ]
    },
    {
     "name": "stderr",
     "output_type": "stream",
     "text": [
      "c:\\Users\\FilipeAraujoXimenes\\anaconda3\\Lib\\site-packages\\keras\\src\\layers\\rnn\\rnn.py:204: UserWarning: Do not pass an `input_shape`/`input_dim` argument to a layer. When using Sequential models, prefer using an `Input(shape)` object as the first layer in the model instead.\n",
      "  super().__init__(**kwargs)\n"
     ]
    },
    {
     "name": "stdout",
     "output_type": "stream",
     "text": [
      "\u001b[1m175/175\u001b[0m \u001b[32m━━━━━━━━━━━━━━━━━━━━\u001b[0m\u001b[37m\u001b[0m \u001b[1m1s\u001b[0m 6ms/step\n",
      "NMSE médio do módulo dos coeficientes: 0.171978\n",
      "\n",
      "Executando combinação 33/216: {'sequence_length': 10, 'lstm_units': 128, 'dropout_rate': 0.3, 'learning_rate': 0.0005, 'batch_size': 32}\n"
     ]
    },
    {
     "name": "stderr",
     "output_type": "stream",
     "text": [
      "c:\\Users\\FilipeAraujoXimenes\\anaconda3\\Lib\\site-packages\\keras\\src\\layers\\rnn\\rnn.py:204: UserWarning: Do not pass an `input_shape`/`input_dim` argument to a layer. When using Sequential models, prefer using an `Input(shape)` object as the first layer in the model instead.\n",
      "  super().__init__(**kwargs)\n"
     ]
    },
    {
     "name": "stdout",
     "output_type": "stream",
     "text": [
      "\u001b[1m175/175\u001b[0m \u001b[32m━━━━━━━━━━━━━━━━━━━━\u001b[0m\u001b[37m\u001b[0m \u001b[1m2s\u001b[0m 8ms/step\n",
      "NMSE médio do módulo dos coeficientes: 0.192909\n",
      "\n",
      "Executando combinação 34/216: {'sequence_length': 10, 'lstm_units': 128, 'dropout_rate': 0.3, 'learning_rate': 0.0005, 'batch_size': 64}\n"
     ]
    },
    {
     "name": "stderr",
     "output_type": "stream",
     "text": [
      "c:\\Users\\FilipeAraujoXimenes\\anaconda3\\Lib\\site-packages\\keras\\src\\layers\\rnn\\rnn.py:204: UserWarning: Do not pass an `input_shape`/`input_dim` argument to a layer. When using Sequential models, prefer using an `Input(shape)` object as the first layer in the model instead.\n",
      "  super().__init__(**kwargs)\n"
     ]
    },
    {
     "name": "stdout",
     "output_type": "stream",
     "text": [
      "\u001b[1m175/175\u001b[0m \u001b[32m━━━━━━━━━━━━━━━━━━━━\u001b[0m\u001b[37m\u001b[0m \u001b[1m1s\u001b[0m 6ms/step\n",
      "NMSE médio do módulo dos coeficientes: 0.238538\n",
      "\n",
      "Executando combinação 35/216: {'sequence_length': 10, 'lstm_units': 128, 'dropout_rate': 0.3, 'learning_rate': 0.0001, 'batch_size': 32}\n"
     ]
    },
    {
     "name": "stderr",
     "output_type": "stream",
     "text": [
      "c:\\Users\\FilipeAraujoXimenes\\anaconda3\\Lib\\site-packages\\keras\\src\\layers\\rnn\\rnn.py:204: UserWarning: Do not pass an `input_shape`/`input_dim` argument to a layer. When using Sequential models, prefer using an `Input(shape)` object as the first layer in the model instead.\n",
      "  super().__init__(**kwargs)\n"
     ]
    },
    {
     "name": "stdout",
     "output_type": "stream",
     "text": [
      "\u001b[1m175/175\u001b[0m \u001b[32m━━━━━━━━━━━━━━━━━━━━\u001b[0m\u001b[37m\u001b[0m \u001b[1m1s\u001b[0m 5ms/step\n",
      "NMSE médio do módulo dos coeficientes: 0.494553\n",
      "\n",
      "Executando combinação 36/216: {'sequence_length': 10, 'lstm_units': 128, 'dropout_rate': 0.3, 'learning_rate': 0.0001, 'batch_size': 64}\n"
     ]
    },
    {
     "name": "stderr",
     "output_type": "stream",
     "text": [
      "c:\\Users\\FilipeAraujoXimenes\\anaconda3\\Lib\\site-packages\\keras\\src\\layers\\rnn\\rnn.py:204: UserWarning: Do not pass an `input_shape`/`input_dim` argument to a layer. When using Sequential models, prefer using an `Input(shape)` object as the first layer in the model instead.\n",
      "  super().__init__(**kwargs)\n"
     ]
    },
    {
     "name": "stdout",
     "output_type": "stream",
     "text": [
      "\u001b[1m175/175\u001b[0m \u001b[32m━━━━━━━━━━━━━━━━━━━━\u001b[0m\u001b[37m\u001b[0m \u001b[1m1s\u001b[0m 8ms/step\n",
      "NMSE médio do módulo dos coeficientes: 0.699389\n",
      "\n",
      "Executando combinação 37/216: {'sequence_length': 10, 'lstm_units': 256, 'dropout_rate': 0.1, 'learning_rate': 0.001, 'batch_size': 32}\n"
     ]
    },
    {
     "name": "stderr",
     "output_type": "stream",
     "text": [
      "c:\\Users\\FilipeAraujoXimenes\\anaconda3\\Lib\\site-packages\\keras\\src\\layers\\rnn\\rnn.py:204: UserWarning: Do not pass an `input_shape`/`input_dim` argument to a layer. When using Sequential models, prefer using an `Input(shape)` object as the first layer in the model instead.\n",
      "  super().__init__(**kwargs)\n"
     ]
    },
    {
     "name": "stdout",
     "output_type": "stream",
     "text": [
      "\u001b[1m175/175\u001b[0m \u001b[32m━━━━━━━━━━━━━━━━━━━━\u001b[0m\u001b[37m\u001b[0m \u001b[1m3s\u001b[0m 13ms/step\n",
      "NMSE médio do módulo dos coeficientes: 0.026517\n",
      "\n",
      "Executando combinação 38/216: {'sequence_length': 10, 'lstm_units': 256, 'dropout_rate': 0.1, 'learning_rate': 0.001, 'batch_size': 64}\n"
     ]
    },
    {
     "name": "stderr",
     "output_type": "stream",
     "text": [
      "c:\\Users\\FilipeAraujoXimenes\\anaconda3\\Lib\\site-packages\\keras\\src\\layers\\rnn\\rnn.py:204: UserWarning: Do not pass an `input_shape`/`input_dim` argument to a layer. When using Sequential models, prefer using an `Input(shape)` object as the first layer in the model instead.\n",
      "  super().__init__(**kwargs)\n"
     ]
    },
    {
     "name": "stdout",
     "output_type": "stream",
     "text": [
      "\u001b[1m175/175\u001b[0m \u001b[32m━━━━━━━━━━━━━━━━━━━━\u001b[0m\u001b[37m\u001b[0m \u001b[1m4s\u001b[0m 23ms/step\n",
      "NMSE médio do módulo dos coeficientes: 0.030275\n",
      "\n",
      "Executando combinação 39/216: {'sequence_length': 10, 'lstm_units': 256, 'dropout_rate': 0.1, 'learning_rate': 0.0005, 'batch_size': 32}\n"
     ]
    },
    {
     "name": "stderr",
     "output_type": "stream",
     "text": [
      "c:\\Users\\FilipeAraujoXimenes\\anaconda3\\Lib\\site-packages\\keras\\src\\layers\\rnn\\rnn.py:204: UserWarning: Do not pass an `input_shape`/`input_dim` argument to a layer. When using Sequential models, prefer using an `Input(shape)` object as the first layer in the model instead.\n",
      "  super().__init__(**kwargs)\n"
     ]
    },
    {
     "name": "stdout",
     "output_type": "stream",
     "text": [
      "\u001b[1m175/175\u001b[0m \u001b[32m━━━━━━━━━━━━━━━━━━━━\u001b[0m\u001b[37m\u001b[0m \u001b[1m2s\u001b[0m 11ms/step\n",
      "NMSE médio do módulo dos coeficientes: 0.034807\n",
      "\n",
      "Executando combinação 40/216: {'sequence_length': 10, 'lstm_units': 256, 'dropout_rate': 0.1, 'learning_rate': 0.0005, 'batch_size': 64}\n"
     ]
    },
    {
     "name": "stderr",
     "output_type": "stream",
     "text": [
      "c:\\Users\\FilipeAraujoXimenes\\anaconda3\\Lib\\site-packages\\keras\\src\\layers\\rnn\\rnn.py:204: UserWarning: Do not pass an `input_shape`/`input_dim` argument to a layer. When using Sequential models, prefer using an `Input(shape)` object as the first layer in the model instead.\n",
      "  super().__init__(**kwargs)\n"
     ]
    },
    {
     "name": "stdout",
     "output_type": "stream",
     "text": [
      "\u001b[1m175/175\u001b[0m \u001b[32m━━━━━━━━━━━━━━━━━━━━\u001b[0m\u001b[37m\u001b[0m \u001b[1m3s\u001b[0m 16ms/step\n",
      "NMSE médio do módulo dos coeficientes: 0.046566\n",
      "\n",
      "Executando combinação 41/216: {'sequence_length': 10, 'lstm_units': 256, 'dropout_rate': 0.1, 'learning_rate': 0.0001, 'batch_size': 32}\n"
     ]
    },
    {
     "name": "stderr",
     "output_type": "stream",
     "text": [
      "c:\\Users\\FilipeAraujoXimenes\\anaconda3\\Lib\\site-packages\\keras\\src\\layers\\rnn\\rnn.py:204: UserWarning: Do not pass an `input_shape`/`input_dim` argument to a layer. When using Sequential models, prefer using an `Input(shape)` object as the first layer in the model instead.\n",
      "  super().__init__(**kwargs)\n"
     ]
    },
    {
     "name": "stdout",
     "output_type": "stream",
     "text": [
      "\u001b[1m175/175\u001b[0m \u001b[32m━━━━━━━━━━━━━━━━━━━━\u001b[0m\u001b[37m\u001b[0m \u001b[1m2s\u001b[0m 11ms/step\n",
      "NMSE médio do módulo dos coeficientes: 0.142986\n",
      "\n",
      "Executando combinação 42/216: {'sequence_length': 10, 'lstm_units': 256, 'dropout_rate': 0.1, 'learning_rate': 0.0001, 'batch_size': 64}\n"
     ]
    },
    {
     "name": "stderr",
     "output_type": "stream",
     "text": [
      "c:\\Users\\FilipeAraujoXimenes\\anaconda3\\Lib\\site-packages\\keras\\src\\layers\\rnn\\rnn.py:204: UserWarning: Do not pass an `input_shape`/`input_dim` argument to a layer. When using Sequential models, prefer using an `Input(shape)` object as the first layer in the model instead.\n",
      "  super().__init__(**kwargs)\n"
     ]
    },
    {
     "name": "stdout",
     "output_type": "stream",
     "text": [
      "\u001b[1m175/175\u001b[0m \u001b[32m━━━━━━━━━━━━━━━━━━━━\u001b[0m\u001b[37m\u001b[0m \u001b[1m2s\u001b[0m 9ms/step\n",
      "NMSE médio do módulo dos coeficientes: 0.238905\n",
      "\n",
      "Executando combinação 43/216: {'sequence_length': 10, 'lstm_units': 256, 'dropout_rate': 0.2, 'learning_rate': 0.001, 'batch_size': 32}\n"
     ]
    },
    {
     "name": "stderr",
     "output_type": "stream",
     "text": [
      "c:\\Users\\FilipeAraujoXimenes\\anaconda3\\Lib\\site-packages\\keras\\src\\layers\\rnn\\rnn.py:204: UserWarning: Do not pass an `input_shape`/`input_dim` argument to a layer. When using Sequential models, prefer using an `Input(shape)` object as the first layer in the model instead.\n",
      "  super().__init__(**kwargs)\n"
     ]
    },
    {
     "name": "stdout",
     "output_type": "stream",
     "text": [
      "\u001b[1m175/175\u001b[0m \u001b[32m━━━━━━━━━━━━━━━━━━━━\u001b[0m\u001b[37m\u001b[0m \u001b[1m3s\u001b[0m 14ms/step\n",
      "NMSE médio do módulo dos coeficientes: 0.035268\n",
      "\n",
      "Executando combinação 44/216: {'sequence_length': 10, 'lstm_units': 256, 'dropout_rate': 0.2, 'learning_rate': 0.001, 'batch_size': 64}\n"
     ]
    },
    {
     "name": "stderr",
     "output_type": "stream",
     "text": [
      "c:\\Users\\FilipeAraujoXimenes\\anaconda3\\Lib\\site-packages\\keras\\src\\layers\\rnn\\rnn.py:204: UserWarning: Do not pass an `input_shape`/`input_dim` argument to a layer. When using Sequential models, prefer using an `Input(shape)` object as the first layer in the model instead.\n",
      "  super().__init__(**kwargs)\n"
     ]
    },
    {
     "name": "stdout",
     "output_type": "stream",
     "text": [
      "\u001b[1m175/175\u001b[0m \u001b[32m━━━━━━━━━━━━━━━━━━━━\u001b[0m\u001b[37m\u001b[0m \u001b[1m2s\u001b[0m 9ms/step\n",
      "NMSE médio do módulo dos coeficientes: 0.039646\n",
      "\n",
      "Executando combinação 45/216: {'sequence_length': 10, 'lstm_units': 256, 'dropout_rate': 0.2, 'learning_rate': 0.0005, 'batch_size': 32}\n"
     ]
    },
    {
     "name": "stderr",
     "output_type": "stream",
     "text": [
      "c:\\Users\\FilipeAraujoXimenes\\anaconda3\\Lib\\site-packages\\keras\\src\\layers\\rnn\\rnn.py:204: UserWarning: Do not pass an `input_shape`/`input_dim` argument to a layer. When using Sequential models, prefer using an `Input(shape)` object as the first layer in the model instead.\n",
      "  super().__init__(**kwargs)\n"
     ]
    },
    {
     "name": "stdout",
     "output_type": "stream",
     "text": [
      "\u001b[1m175/175\u001b[0m \u001b[32m━━━━━━━━━━━━━━━━━━━━\u001b[0m\u001b[37m\u001b[0m \u001b[1m3s\u001b[0m 16ms/step\n",
      "NMSE médio do módulo dos coeficientes: 0.046290\n",
      "\n",
      "Executando combinação 46/216: {'sequence_length': 10, 'lstm_units': 256, 'dropout_rate': 0.2, 'learning_rate': 0.0005, 'batch_size': 64}\n"
     ]
    },
    {
     "name": "stderr",
     "output_type": "stream",
     "text": [
      "c:\\Users\\FilipeAraujoXimenes\\anaconda3\\Lib\\site-packages\\keras\\src\\layers\\rnn\\rnn.py:204: UserWarning: Do not pass an `input_shape`/`input_dim` argument to a layer. When using Sequential models, prefer using an `Input(shape)` object as the first layer in the model instead.\n",
      "  super().__init__(**kwargs)\n"
     ]
    },
    {
     "name": "stdout",
     "output_type": "stream",
     "text": [
      "\u001b[1m175/175\u001b[0m \u001b[32m━━━━━━━━━━━━━━━━━━━━\u001b[0m\u001b[37m\u001b[0m \u001b[1m3s\u001b[0m 15ms/step\n",
      "NMSE médio do módulo dos coeficientes: 0.059504\n",
      "\n",
      "Executando combinação 47/216: {'sequence_length': 10, 'lstm_units': 256, 'dropout_rate': 0.2, 'learning_rate': 0.0001, 'batch_size': 32}\n"
     ]
    },
    {
     "name": "stderr",
     "output_type": "stream",
     "text": [
      "c:\\Users\\FilipeAraujoXimenes\\anaconda3\\Lib\\site-packages\\keras\\src\\layers\\rnn\\rnn.py:204: UserWarning: Do not pass an `input_shape`/`input_dim` argument to a layer. When using Sequential models, prefer using an `Input(shape)` object as the first layer in the model instead.\n",
      "  super().__init__(**kwargs)\n"
     ]
    },
    {
     "name": "stdout",
     "output_type": "stream",
     "text": [
      "\u001b[1m175/175\u001b[0m \u001b[32m━━━━━━━━━━━━━━━━━━━━\u001b[0m\u001b[37m\u001b[0m \u001b[1m2s\u001b[0m 11ms/step\n",
      "NMSE médio do módulo dos coeficientes: 0.194834\n",
      "\n",
      "Executando combinação 48/216: {'sequence_length': 10, 'lstm_units': 256, 'dropout_rate': 0.2, 'learning_rate': 0.0001, 'batch_size': 64}\n"
     ]
    },
    {
     "name": "stderr",
     "output_type": "stream",
     "text": [
      "c:\\Users\\FilipeAraujoXimenes\\anaconda3\\Lib\\site-packages\\keras\\src\\layers\\rnn\\rnn.py:204: UserWarning: Do not pass an `input_shape`/`input_dim` argument to a layer. When using Sequential models, prefer using an `Input(shape)` object as the first layer in the model instead.\n",
      "  super().__init__(**kwargs)\n"
     ]
    },
    {
     "name": "stdout",
     "output_type": "stream",
     "text": [
      "\u001b[1m175/175\u001b[0m \u001b[32m━━━━━━━━━━━━━━━━━━━━\u001b[0m\u001b[37m\u001b[0m \u001b[1m4s\u001b[0m 19ms/step\n",
      "NMSE médio do módulo dos coeficientes: 0.317396\n",
      "\n",
      "Executando combinação 49/216: {'sequence_length': 10, 'lstm_units': 256, 'dropout_rate': 0.3, 'learning_rate': 0.001, 'batch_size': 32}\n"
     ]
    },
    {
     "name": "stderr",
     "output_type": "stream",
     "text": [
      "c:\\Users\\FilipeAraujoXimenes\\anaconda3\\Lib\\site-packages\\keras\\src\\layers\\rnn\\rnn.py:204: UserWarning: Do not pass an `input_shape`/`input_dim` argument to a layer. When using Sequential models, prefer using an `Input(shape)` object as the first layer in the model instead.\n",
      "  super().__init__(**kwargs)\n"
     ]
    },
    {
     "name": "stdout",
     "output_type": "stream",
     "text": [
      "\u001b[1m175/175\u001b[0m \u001b[32m━━━━━━━━━━━━━━━━━━━━\u001b[0m\u001b[37m\u001b[0m \u001b[1m2s\u001b[0m 12ms/step\n",
      "NMSE médio do módulo dos coeficientes: 0.053845\n",
      "\n",
      "Executando combinação 50/216: {'sequence_length': 10, 'lstm_units': 256, 'dropout_rate': 0.3, 'learning_rate': 0.001, 'batch_size': 64}\n"
     ]
    },
    {
     "name": "stderr",
     "output_type": "stream",
     "text": [
      "c:\\Users\\FilipeAraujoXimenes\\anaconda3\\Lib\\site-packages\\keras\\src\\layers\\rnn\\rnn.py:204: UserWarning: Do not pass an `input_shape`/`input_dim` argument to a layer. When using Sequential models, prefer using an `Input(shape)` object as the first layer in the model instead.\n",
      "  super().__init__(**kwargs)\n"
     ]
    },
    {
     "name": "stdout",
     "output_type": "stream",
     "text": [
      "\u001b[1m175/175\u001b[0m \u001b[32m━━━━━━━━━━━━━━━━━━━━\u001b[0m\u001b[37m\u001b[0m \u001b[1m3s\u001b[0m 16ms/step\n",
      "NMSE médio do módulo dos coeficientes: 0.064359\n",
      "\n",
      "Executando combinação 51/216: {'sequence_length': 10, 'lstm_units': 256, 'dropout_rate': 0.3, 'learning_rate': 0.0005, 'batch_size': 32}\n"
     ]
    },
    {
     "name": "stderr",
     "output_type": "stream",
     "text": [
      "c:\\Users\\FilipeAraujoXimenes\\anaconda3\\Lib\\site-packages\\keras\\src\\layers\\rnn\\rnn.py:204: UserWarning: Do not pass an `input_shape`/`input_dim` argument to a layer. When using Sequential models, prefer using an `Input(shape)` object as the first layer in the model instead.\n",
      "  super().__init__(**kwargs)\n"
     ]
    },
    {
     "name": "stdout",
     "output_type": "stream",
     "text": [
      "\u001b[1m175/175\u001b[0m \u001b[32m━━━━━━━━━━━━━━━━━━━━\u001b[0m\u001b[37m\u001b[0m \u001b[1m3s\u001b[0m 13ms/step\n",
      "NMSE médio do módulo dos coeficientes: 0.067813\n",
      "\n",
      "Executando combinação 52/216: {'sequence_length': 10, 'lstm_units': 256, 'dropout_rate': 0.3, 'learning_rate': 0.0005, 'batch_size': 64}\n"
     ]
    },
    {
     "name": "stderr",
     "output_type": "stream",
     "text": [
      "c:\\Users\\FilipeAraujoXimenes\\anaconda3\\Lib\\site-packages\\keras\\src\\layers\\rnn\\rnn.py:204: UserWarning: Do not pass an `input_shape`/`input_dim` argument to a layer. When using Sequential models, prefer using an `Input(shape)` object as the first layer in the model instead.\n",
      "  super().__init__(**kwargs)\n"
     ]
    },
    {
     "name": "stdout",
     "output_type": "stream",
     "text": [
      "\u001b[1m175/175\u001b[0m \u001b[32m━━━━━━━━━━━━━━━━━━━━\u001b[0m\u001b[37m\u001b[0m \u001b[1m3s\u001b[0m 15ms/step\n",
      "NMSE médio do módulo dos coeficientes: 0.089513\n",
      "\n",
      "Executando combinação 53/216: {'sequence_length': 10, 'lstm_units': 256, 'dropout_rate': 0.3, 'learning_rate': 0.0001, 'batch_size': 32}\n"
     ]
    },
    {
     "name": "stderr",
     "output_type": "stream",
     "text": [
      "c:\\Users\\FilipeAraujoXimenes\\anaconda3\\Lib\\site-packages\\keras\\src\\layers\\rnn\\rnn.py:204: UserWarning: Do not pass an `input_shape`/`input_dim` argument to a layer. When using Sequential models, prefer using an `Input(shape)` object as the first layer in the model instead.\n",
      "  super().__init__(**kwargs)\n"
     ]
    },
    {
     "name": "stdout",
     "output_type": "stream",
     "text": [
      "\u001b[1m175/175\u001b[0m \u001b[32m━━━━━━━━━━━━━━━━━━━━\u001b[0m\u001b[37m\u001b[0m \u001b[1m3s\u001b[0m 14ms/step\n",
      "NMSE médio do módulo dos coeficientes: 0.280068\n",
      "\n",
      "Executando combinação 54/216: {'sequence_length': 10, 'lstm_units': 256, 'dropout_rate': 0.3, 'learning_rate': 0.0001, 'batch_size': 64}\n"
     ]
    },
    {
     "name": "stderr",
     "output_type": "stream",
     "text": [
      "c:\\Users\\FilipeAraujoXimenes\\anaconda3\\Lib\\site-packages\\keras\\src\\layers\\rnn\\rnn.py:204: UserWarning: Do not pass an `input_shape`/`input_dim` argument to a layer. When using Sequential models, prefer using an `Input(shape)` object as the first layer in the model instead.\n",
      "  super().__init__(**kwargs)\n"
     ]
    },
    {
     "name": "stdout",
     "output_type": "stream",
     "text": [
      "\u001b[1m175/175\u001b[0m \u001b[32m━━━━━━━━━━━━━━━━━━━━\u001b[0m\u001b[37m\u001b[0m \u001b[1m3s\u001b[0m 16ms/step\n",
      "NMSE médio do módulo dos coeficientes: 0.396355\n",
      "\n",
      "Executando combinação 55/216: {'sequence_length': 20, 'lstm_units': 64, 'dropout_rate': 0.1, 'learning_rate': 0.001, 'batch_size': 32}\n"
     ]
    },
    {
     "name": "stderr",
     "output_type": "stream",
     "text": [
      "c:\\Users\\FilipeAraujoXimenes\\anaconda3\\Lib\\site-packages\\keras\\src\\layers\\rnn\\rnn.py:204: UserWarning: Do not pass an `input_shape`/`input_dim` argument to a layer. When using Sequential models, prefer using an `Input(shape)` object as the first layer in the model instead.\n",
      "  super().__init__(**kwargs)\n"
     ]
    },
    {
     "name": "stdout",
     "output_type": "stream",
     "text": [
      "\u001b[1m175/175\u001b[0m \u001b[32m━━━━━━━━━━━━━━━━━━━━\u001b[0m\u001b[37m\u001b[0m \u001b[1m1s\u001b[0m 6ms/step\n",
      "NMSE médio do módulo dos coeficientes: 0.064952\n",
      "\n",
      "Executando combinação 56/216: {'sequence_length': 20, 'lstm_units': 64, 'dropout_rate': 0.1, 'learning_rate': 0.001, 'batch_size': 64}\n"
     ]
    },
    {
     "name": "stderr",
     "output_type": "stream",
     "text": [
      "c:\\Users\\FilipeAraujoXimenes\\anaconda3\\Lib\\site-packages\\keras\\src\\layers\\rnn\\rnn.py:204: UserWarning: Do not pass an `input_shape`/`input_dim` argument to a layer. When using Sequential models, prefer using an `Input(shape)` object as the first layer in the model instead.\n",
      "  super().__init__(**kwargs)\n"
     ]
    },
    {
     "name": "stdout",
     "output_type": "stream",
     "text": [
      "\u001b[1m175/175\u001b[0m \u001b[32m━━━━━━━━━━━━━━━━━━━━\u001b[0m\u001b[37m\u001b[0m \u001b[1m1s\u001b[0m 5ms/step\n",
      "NMSE médio do módulo dos coeficientes: 0.092436\n",
      "\n",
      "Executando combinação 57/216: {'sequence_length': 20, 'lstm_units': 64, 'dropout_rate': 0.1, 'learning_rate': 0.0005, 'batch_size': 32}\n"
     ]
    },
    {
     "name": "stderr",
     "output_type": "stream",
     "text": [
      "c:\\Users\\FilipeAraujoXimenes\\anaconda3\\Lib\\site-packages\\keras\\src\\layers\\rnn\\rnn.py:204: UserWarning: Do not pass an `input_shape`/`input_dim` argument to a layer. When using Sequential models, prefer using an `Input(shape)` object as the first layer in the model instead.\n",
      "  super().__init__(**kwargs)\n"
     ]
    },
    {
     "name": "stdout",
     "output_type": "stream",
     "text": [
      "\u001b[1m175/175\u001b[0m \u001b[32m━━━━━━━━━━━━━━━━━━━━\u001b[0m\u001b[37m\u001b[0m \u001b[1m2s\u001b[0m 9ms/step\n",
      "NMSE médio do módulo dos coeficientes: 0.104316\n",
      "\n",
      "Executando combinação 58/216: {'sequence_length': 20, 'lstm_units': 64, 'dropout_rate': 0.1, 'learning_rate': 0.0005, 'batch_size': 64}\n"
     ]
    },
    {
     "name": "stderr",
     "output_type": "stream",
     "text": [
      "c:\\Users\\FilipeAraujoXimenes\\anaconda3\\Lib\\site-packages\\keras\\src\\layers\\rnn\\rnn.py:204: UserWarning: Do not pass an `input_shape`/`input_dim` argument to a layer. When using Sequential models, prefer using an `Input(shape)` object as the first layer in the model instead.\n",
      "  super().__init__(**kwargs)\n"
     ]
    },
    {
     "name": "stdout",
     "output_type": "stream",
     "text": [
      "\u001b[1m175/175\u001b[0m \u001b[32m━━━━━━━━━━━━━━━━━━━━\u001b[0m\u001b[37m\u001b[0m \u001b[1m1s\u001b[0m 7ms/step\n",
      "NMSE médio do módulo dos coeficientes: 0.169586\n",
      "\n",
      "Executando combinação 59/216: {'sequence_length': 20, 'lstm_units': 64, 'dropout_rate': 0.1, 'learning_rate': 0.0001, 'batch_size': 32}\n"
     ]
    },
    {
     "name": "stderr",
     "output_type": "stream",
     "text": [
      "c:\\Users\\FilipeAraujoXimenes\\anaconda3\\Lib\\site-packages\\keras\\src\\layers\\rnn\\rnn.py:204: UserWarning: Do not pass an `input_shape`/`input_dim` argument to a layer. When using Sequential models, prefer using an `Input(shape)` object as the first layer in the model instead.\n",
      "  super().__init__(**kwargs)\n"
     ]
    },
    {
     "name": "stdout",
     "output_type": "stream",
     "text": [
      "\u001b[1m175/175\u001b[0m \u001b[32m━━━━━━━━━━━━━━━━━━━━\u001b[0m\u001b[37m\u001b[0m \u001b[1m2s\u001b[0m 8ms/step\n",
      "NMSE médio do módulo dos coeficientes: 0.498964\n",
      "\n",
      "Executando combinação 60/216: {'sequence_length': 20, 'lstm_units': 64, 'dropout_rate': 0.1, 'learning_rate': 0.0001, 'batch_size': 64}\n"
     ]
    },
    {
     "name": "stderr",
     "output_type": "stream",
     "text": [
      "c:\\Users\\FilipeAraujoXimenes\\anaconda3\\Lib\\site-packages\\keras\\src\\layers\\rnn\\rnn.py:204: UserWarning: Do not pass an `input_shape`/`input_dim` argument to a layer. When using Sequential models, prefer using an `Input(shape)` object as the first layer in the model instead.\n",
      "  super().__init__(**kwargs)\n"
     ]
    },
    {
     "name": "stdout",
     "output_type": "stream",
     "text": [
      "\u001b[1m175/175\u001b[0m \u001b[32m━━━━━━━━━━━━━━━━━━━━\u001b[0m\u001b[37m\u001b[0m \u001b[1m1s\u001b[0m 7ms/step\n",
      "NMSE médio do módulo dos coeficientes: 0.805177\n",
      "\n",
      "Executando combinação 61/216: {'sequence_length': 20, 'lstm_units': 64, 'dropout_rate': 0.2, 'learning_rate': 0.001, 'batch_size': 32}\n"
     ]
    },
    {
     "name": "stderr",
     "output_type": "stream",
     "text": [
      "c:\\Users\\FilipeAraujoXimenes\\anaconda3\\Lib\\site-packages\\keras\\src\\layers\\rnn\\rnn.py:204: UserWarning: Do not pass an `input_shape`/`input_dim` argument to a layer. When using Sequential models, prefer using an `Input(shape)` object as the first layer in the model instead.\n",
      "  super().__init__(**kwargs)\n"
     ]
    },
    {
     "name": "stdout",
     "output_type": "stream",
     "text": [
      "\u001b[1m175/175\u001b[0m \u001b[32m━━━━━━━━━━━━━━━━━━━━\u001b[0m\u001b[37m\u001b[0m \u001b[1m2s\u001b[0m 6ms/step\n",
      "NMSE médio do módulo dos coeficientes: 0.150439\n",
      "\n",
      "Executando combinação 62/216: {'sequence_length': 20, 'lstm_units': 64, 'dropout_rate': 0.2, 'learning_rate': 0.001, 'batch_size': 64}\n"
     ]
    },
    {
     "name": "stderr",
     "output_type": "stream",
     "text": [
      "c:\\Users\\FilipeAraujoXimenes\\anaconda3\\Lib\\site-packages\\keras\\src\\layers\\rnn\\rnn.py:204: UserWarning: Do not pass an `input_shape`/`input_dim` argument to a layer. When using Sequential models, prefer using an `Input(shape)` object as the first layer in the model instead.\n",
      "  super().__init__(**kwargs)\n"
     ]
    },
    {
     "name": "stdout",
     "output_type": "stream",
     "text": [
      "\u001b[1m175/175\u001b[0m \u001b[32m━━━━━━━━━━━━━━━━━━━━\u001b[0m\u001b[37m\u001b[0m \u001b[1m1s\u001b[0m 6ms/step\n",
      "NMSE médio do módulo dos coeficientes: 0.179459\n",
      "\n",
      "Executando combinação 63/216: {'sequence_length': 20, 'lstm_units': 64, 'dropout_rate': 0.2, 'learning_rate': 0.0005, 'batch_size': 32}\n"
     ]
    },
    {
     "name": "stderr",
     "output_type": "stream",
     "text": [
      "c:\\Users\\FilipeAraujoXimenes\\anaconda3\\Lib\\site-packages\\keras\\src\\layers\\rnn\\rnn.py:204: UserWarning: Do not pass an `input_shape`/`input_dim` argument to a layer. When using Sequential models, prefer using an `Input(shape)` object as the first layer in the model instead.\n",
      "  super().__init__(**kwargs)\n"
     ]
    },
    {
     "name": "stdout",
     "output_type": "stream",
     "text": [
      "\u001b[1m175/175\u001b[0m \u001b[32m━━━━━━━━━━━━━━━━━━━━\u001b[0m\u001b[37m\u001b[0m \u001b[1m1s\u001b[0m 5ms/step\n",
      "NMSE médio do módulo dos coeficientes: 0.231191\n",
      "\n",
      "Executando combinação 64/216: {'sequence_length': 20, 'lstm_units': 64, 'dropout_rate': 0.2, 'learning_rate': 0.0005, 'batch_size': 64}\n"
     ]
    },
    {
     "name": "stderr",
     "output_type": "stream",
     "text": [
      "c:\\Users\\FilipeAraujoXimenes\\anaconda3\\Lib\\site-packages\\keras\\src\\layers\\rnn\\rnn.py:204: UserWarning: Do not pass an `input_shape`/`input_dim` argument to a layer. When using Sequential models, prefer using an `Input(shape)` object as the first layer in the model instead.\n",
      "  super().__init__(**kwargs)\n"
     ]
    },
    {
     "name": "stdout",
     "output_type": "stream",
     "text": [
      "\u001b[1m175/175\u001b[0m \u001b[32m━━━━━━━━━━━━━━━━━━━━\u001b[0m\u001b[37m\u001b[0m \u001b[1m2s\u001b[0m 11ms/step\n",
      "NMSE médio do módulo dos coeficientes: 0.313657\n",
      "\n",
      "Executando combinação 65/216: {'sequence_length': 20, 'lstm_units': 64, 'dropout_rate': 0.2, 'learning_rate': 0.0001, 'batch_size': 32}\n"
     ]
    },
    {
     "name": "stderr",
     "output_type": "stream",
     "text": [
      "c:\\Users\\FilipeAraujoXimenes\\anaconda3\\Lib\\site-packages\\keras\\src\\layers\\rnn\\rnn.py:204: UserWarning: Do not pass an `input_shape`/`input_dim` argument to a layer. When using Sequential models, prefer using an `Input(shape)` object as the first layer in the model instead.\n",
      "  super().__init__(**kwargs)\n"
     ]
    },
    {
     "name": "stdout",
     "output_type": "stream",
     "text": [
      "\u001b[1m175/175\u001b[0m \u001b[32m━━━━━━━━━━━━━━━━━━━━\u001b[0m\u001b[37m\u001b[0m \u001b[1m1s\u001b[0m 7ms/step\n",
      "NMSE médio do módulo dos coeficientes: 0.696151\n",
      "\n",
      "Executando combinação 66/216: {'sequence_length': 20, 'lstm_units': 64, 'dropout_rate': 0.2, 'learning_rate': 0.0001, 'batch_size': 64}\n"
     ]
    },
    {
     "name": "stderr",
     "output_type": "stream",
     "text": [
      "c:\\Users\\FilipeAraujoXimenes\\anaconda3\\Lib\\site-packages\\keras\\src\\layers\\rnn\\rnn.py:204: UserWarning: Do not pass an `input_shape`/`input_dim` argument to a layer. When using Sequential models, prefer using an `Input(shape)` object as the first layer in the model instead.\n",
      "  super().__init__(**kwargs)\n"
     ]
    },
    {
     "name": "stdout",
     "output_type": "stream",
     "text": [
      "\u001b[1m175/175\u001b[0m \u001b[32m━━━━━━━━━━━━━━━━━━━━\u001b[0m\u001b[37m\u001b[0m \u001b[1m2s\u001b[0m 7ms/step\n",
      "NMSE médio do módulo dos coeficientes: 1.086040\n",
      "\n",
      "Executando combinação 67/216: {'sequence_length': 20, 'lstm_units': 64, 'dropout_rate': 0.3, 'learning_rate': 0.001, 'batch_size': 32}\n"
     ]
    },
    {
     "name": "stderr",
     "output_type": "stream",
     "text": [
      "c:\\Users\\FilipeAraujoXimenes\\anaconda3\\Lib\\site-packages\\keras\\src\\layers\\rnn\\rnn.py:204: UserWarning: Do not pass an `input_shape`/`input_dim` argument to a layer. When using Sequential models, prefer using an `Input(shape)` object as the first layer in the model instead.\n",
      "  super().__init__(**kwargs)\n"
     ]
    },
    {
     "name": "stdout",
     "output_type": "stream",
     "text": [
      "\u001b[1m175/175\u001b[0m \u001b[32m━━━━━━━━━━━━━━━━━━━━\u001b[0m\u001b[37m\u001b[0m \u001b[1m1s\u001b[0m 6ms/step\n",
      "NMSE médio do módulo dos coeficientes: 0.307072\n",
      "\n",
      "Executando combinação 68/216: {'sequence_length': 20, 'lstm_units': 64, 'dropout_rate': 0.3, 'learning_rate': 0.001, 'batch_size': 64}\n"
     ]
    },
    {
     "name": "stderr",
     "output_type": "stream",
     "text": [
      "c:\\Users\\FilipeAraujoXimenes\\anaconda3\\Lib\\site-packages\\keras\\src\\layers\\rnn\\rnn.py:204: UserWarning: Do not pass an `input_shape`/`input_dim` argument to a layer. When using Sequential models, prefer using an `Input(shape)` object as the first layer in the model instead.\n",
      "  super().__init__(**kwargs)\n"
     ]
    },
    {
     "name": "stdout",
     "output_type": "stream",
     "text": [
      "\u001b[1m175/175\u001b[0m \u001b[32m━━━━━━━━━━━━━━━━━━━━\u001b[0m\u001b[37m\u001b[0m \u001b[1m1s\u001b[0m 5ms/step\n",
      "NMSE médio do módulo dos coeficientes: 0.359146\n",
      "\n",
      "Executando combinação 69/216: {'sequence_length': 20, 'lstm_units': 64, 'dropout_rate': 0.3, 'learning_rate': 0.0005, 'batch_size': 32}\n"
     ]
    },
    {
     "name": "stderr",
     "output_type": "stream",
     "text": [
      "c:\\Users\\FilipeAraujoXimenes\\anaconda3\\Lib\\site-packages\\keras\\src\\layers\\rnn\\rnn.py:204: UserWarning: Do not pass an `input_shape`/`input_dim` argument to a layer. When using Sequential models, prefer using an `Input(shape)` object as the first layer in the model instead.\n",
      "  super().__init__(**kwargs)\n"
     ]
    },
    {
     "name": "stdout",
     "output_type": "stream",
     "text": [
      "\u001b[1m175/175\u001b[0m \u001b[32m━━━━━━━━━━━━━━━━━━━━\u001b[0m\u001b[37m\u001b[0m \u001b[1m1s\u001b[0m 5ms/step\n",
      "NMSE médio do módulo dos coeficientes: 0.388119\n",
      "\n",
      "Executando combinação 70/216: {'sequence_length': 20, 'lstm_units': 64, 'dropout_rate': 0.3, 'learning_rate': 0.0005, 'batch_size': 64}\n"
     ]
    },
    {
     "name": "stderr",
     "output_type": "stream",
     "text": [
      "c:\\Users\\FilipeAraujoXimenes\\anaconda3\\Lib\\site-packages\\keras\\src\\layers\\rnn\\rnn.py:204: UserWarning: Do not pass an `input_shape`/`input_dim` argument to a layer. When using Sequential models, prefer using an `Input(shape)` object as the first layer in the model instead.\n",
      "  super().__init__(**kwargs)\n"
     ]
    },
    {
     "name": "stdout",
     "output_type": "stream",
     "text": [
      "\u001b[1m175/175\u001b[0m \u001b[32m━━━━━━━━━━━━━━━━━━━━\u001b[0m\u001b[37m\u001b[0m \u001b[1m2s\u001b[0m 9ms/step\n",
      "NMSE médio do módulo dos coeficientes: 0.487526\n",
      "\n",
      "Executando combinação 71/216: {'sequence_length': 20, 'lstm_units': 64, 'dropout_rate': 0.3, 'learning_rate': 0.0001, 'batch_size': 32}\n"
     ]
    },
    {
     "name": "stderr",
     "output_type": "stream",
     "text": [
      "c:\\Users\\FilipeAraujoXimenes\\anaconda3\\Lib\\site-packages\\keras\\src\\layers\\rnn\\rnn.py:204: UserWarning: Do not pass an `input_shape`/`input_dim` argument to a layer. When using Sequential models, prefer using an `Input(shape)` object as the first layer in the model instead.\n",
      "  super().__init__(**kwargs)\n"
     ]
    },
    {
     "name": "stdout",
     "output_type": "stream",
     "text": [
      "\u001b[1m175/175\u001b[0m \u001b[32m━━━━━━━━━━━━━━━━━━━━\u001b[0m\u001b[37m\u001b[0m \u001b[1m2s\u001b[0m 8ms/step\n",
      "NMSE médio do módulo dos coeficientes: 0.912124\n",
      "\n",
      "Executando combinação 72/216: {'sequence_length': 20, 'lstm_units': 64, 'dropout_rate': 0.3, 'learning_rate': 0.0001, 'batch_size': 64}\n"
     ]
    },
    {
     "name": "stderr",
     "output_type": "stream",
     "text": [
      "c:\\Users\\FilipeAraujoXimenes\\anaconda3\\Lib\\site-packages\\keras\\src\\layers\\rnn\\rnn.py:204: UserWarning: Do not pass an `input_shape`/`input_dim` argument to a layer. When using Sequential models, prefer using an `Input(shape)` object as the first layer in the model instead.\n",
      "  super().__init__(**kwargs)\n"
     ]
    },
    {
     "name": "stdout",
     "output_type": "stream",
     "text": [
      "\u001b[1m175/175\u001b[0m \u001b[32m━━━━━━━━━━━━━━━━━━━━\u001b[0m\u001b[37m\u001b[0m \u001b[1m2s\u001b[0m 9ms/step\n",
      "NMSE médio do módulo dos coeficientes: 1.313628\n",
      "\n",
      "Executando combinação 73/216: {'sequence_length': 20, 'lstm_units': 128, 'dropout_rate': 0.1, 'learning_rate': 0.001, 'batch_size': 32}\n"
     ]
    },
    {
     "name": "stderr",
     "output_type": "stream",
     "text": [
      "c:\\Users\\FilipeAraujoXimenes\\anaconda3\\Lib\\site-packages\\keras\\src\\layers\\rnn\\rnn.py:204: UserWarning: Do not pass an `input_shape`/`input_dim` argument to a layer. When using Sequential models, prefer using an `Input(shape)` object as the first layer in the model instead.\n",
      "  super().__init__(**kwargs)\n"
     ]
    },
    {
     "name": "stdout",
     "output_type": "stream",
     "text": [
      "\u001b[1m175/175\u001b[0m \u001b[32m━━━━━━━━━━━━━━━━━━━━\u001b[0m\u001b[37m\u001b[0m \u001b[1m2s\u001b[0m 7ms/step\n",
      "NMSE médio do módulo dos coeficientes: 0.032821\n",
      "\n",
      "Executando combinação 74/216: {'sequence_length': 20, 'lstm_units': 128, 'dropout_rate': 0.1, 'learning_rate': 0.001, 'batch_size': 64}\n"
     ]
    },
    {
     "name": "stderr",
     "output_type": "stream",
     "text": [
      "c:\\Users\\FilipeAraujoXimenes\\anaconda3\\Lib\\site-packages\\keras\\src\\layers\\rnn\\rnn.py:204: UserWarning: Do not pass an `input_shape`/`input_dim` argument to a layer. When using Sequential models, prefer using an `Input(shape)` object as the first layer in the model instead.\n",
      "  super().__init__(**kwargs)\n"
     ]
    },
    {
     "name": "stdout",
     "output_type": "stream",
     "text": [
      "\u001b[1m175/175\u001b[0m \u001b[32m━━━━━━━━━━━━━━━━━━━━\u001b[0m\u001b[37m\u001b[0m \u001b[1m3s\u001b[0m 15ms/step\n",
      "NMSE médio do módulo dos coeficientes: 0.043002\n",
      "\n",
      "Executando combinação 75/216: {'sequence_length': 20, 'lstm_units': 128, 'dropout_rate': 0.1, 'learning_rate': 0.0005, 'batch_size': 32}\n"
     ]
    },
    {
     "name": "stderr",
     "output_type": "stream",
     "text": [
      "c:\\Users\\FilipeAraujoXimenes\\anaconda3\\Lib\\site-packages\\keras\\src\\layers\\rnn\\rnn.py:204: UserWarning: Do not pass an `input_shape`/`input_dim` argument to a layer. When using Sequential models, prefer using an `Input(shape)` object as the first layer in the model instead.\n",
      "  super().__init__(**kwargs)\n"
     ]
    },
    {
     "name": "stdout",
     "output_type": "stream",
     "text": [
      "\u001b[1m175/175\u001b[0m \u001b[32m━━━━━━━━━━━━━━━━━━━━\u001b[0m\u001b[37m\u001b[0m \u001b[1m2s\u001b[0m 11ms/step\n",
      "NMSE médio do módulo dos coeficientes: 0.053959\n",
      "\n",
      "Executando combinação 76/216: {'sequence_length': 20, 'lstm_units': 128, 'dropout_rate': 0.1, 'learning_rate': 0.0005, 'batch_size': 64}\n"
     ]
    },
    {
     "name": "stderr",
     "output_type": "stream",
     "text": [
      "c:\\Users\\FilipeAraujoXimenes\\anaconda3\\Lib\\site-packages\\keras\\src\\layers\\rnn\\rnn.py:204: UserWarning: Do not pass an `input_shape`/`input_dim` argument to a layer. When using Sequential models, prefer using an `Input(shape)` object as the first layer in the model instead.\n",
      "  super().__init__(**kwargs)\n"
     ]
    },
    {
     "name": "stdout",
     "output_type": "stream",
     "text": [
      "\u001b[1m175/175\u001b[0m \u001b[32m━━━━━━━━━━━━━━━━━━━━\u001b[0m\u001b[37m\u001b[0m \u001b[1m2s\u001b[0m 11ms/step\n",
      "NMSE médio do módulo dos coeficientes: 0.082882\n",
      "\n",
      "Executando combinação 77/216: {'sequence_length': 20, 'lstm_units': 128, 'dropout_rate': 0.1, 'learning_rate': 0.0001, 'batch_size': 32}\n"
     ]
    },
    {
     "name": "stderr",
     "output_type": "stream",
     "text": [
      "c:\\Users\\FilipeAraujoXimenes\\anaconda3\\Lib\\site-packages\\keras\\src\\layers\\rnn\\rnn.py:204: UserWarning: Do not pass an `input_shape`/`input_dim` argument to a layer. When using Sequential models, prefer using an `Input(shape)` object as the first layer in the model instead.\n",
      "  super().__init__(**kwargs)\n"
     ]
    },
    {
     "name": "stdout",
     "output_type": "stream",
     "text": [
      "\u001b[1m175/175\u001b[0m \u001b[32m━━━━━━━━━━━━━━━━━━━━\u001b[0m\u001b[37m\u001b[0m \u001b[1m2s\u001b[0m 10ms/step\n",
      "NMSE médio do módulo dos coeficientes: 0.270664\n",
      "\n",
      "Executando combinação 78/216: {'sequence_length': 20, 'lstm_units': 128, 'dropout_rate': 0.1, 'learning_rate': 0.0001, 'batch_size': 64}\n"
     ]
    },
    {
     "name": "stderr",
     "output_type": "stream",
     "text": [
      "c:\\Users\\FilipeAraujoXimenes\\anaconda3\\Lib\\site-packages\\keras\\src\\layers\\rnn\\rnn.py:204: UserWarning: Do not pass an `input_shape`/`input_dim` argument to a layer. When using Sequential models, prefer using an `Input(shape)` object as the first layer in the model instead.\n",
      "  super().__init__(**kwargs)\n"
     ]
    },
    {
     "name": "stdout",
     "output_type": "stream",
     "text": [
      "\u001b[1m175/175\u001b[0m \u001b[32m━━━━━━━━━━━━━━━━━━━━\u001b[0m\u001b[37m\u001b[0m \u001b[1m2s\u001b[0m 12ms/step\n",
      "NMSE médio do módulo dos coeficientes: 0.405996\n",
      "\n",
      "Executando combinação 79/216: {'sequence_length': 20, 'lstm_units': 128, 'dropout_rate': 0.2, 'learning_rate': 0.001, 'batch_size': 32}\n"
     ]
    },
    {
     "name": "stderr",
     "output_type": "stream",
     "text": [
      "c:\\Users\\FilipeAraujoXimenes\\anaconda3\\Lib\\site-packages\\keras\\src\\layers\\rnn\\rnn.py:204: UserWarning: Do not pass an `input_shape`/`input_dim` argument to a layer. When using Sequential models, prefer using an `Input(shape)` object as the first layer in the model instead.\n",
      "  super().__init__(**kwargs)\n"
     ]
    },
    {
     "name": "stdout",
     "output_type": "stream",
     "text": [
      "\u001b[1m175/175\u001b[0m \u001b[32m━━━━━━━━━━━━━━━━━━━━\u001b[0m\u001b[37m\u001b[0m \u001b[1m2s\u001b[0m 10ms/step\n",
      "NMSE médio do módulo dos coeficientes: 0.062516\n",
      "\n",
      "Executando combinação 80/216: {'sequence_length': 20, 'lstm_units': 128, 'dropout_rate': 0.2, 'learning_rate': 0.001, 'batch_size': 64}\n"
     ]
    },
    {
     "name": "stderr",
     "output_type": "stream",
     "text": [
      "c:\\Users\\FilipeAraujoXimenes\\anaconda3\\Lib\\site-packages\\keras\\src\\layers\\rnn\\rnn.py:204: UserWarning: Do not pass an `input_shape`/`input_dim` argument to a layer. When using Sequential models, prefer using an `Input(shape)` object as the first layer in the model instead.\n",
      "  super().__init__(**kwargs)\n"
     ]
    },
    {
     "name": "stdout",
     "output_type": "stream",
     "text": [
      "\u001b[1m175/175\u001b[0m \u001b[32m━━━━━━━━━━━━━━━━━━━━\u001b[0m\u001b[37m\u001b[0m \u001b[1m3s\u001b[0m 19ms/step\n",
      "NMSE médio do módulo dos coeficientes: 0.077761\n",
      "\n",
      "Executando combinação 81/216: {'sequence_length': 20, 'lstm_units': 128, 'dropout_rate': 0.2, 'learning_rate': 0.0005, 'batch_size': 32}\n"
     ]
    },
    {
     "name": "stderr",
     "output_type": "stream",
     "text": [
      "c:\\Users\\FilipeAraujoXimenes\\anaconda3\\Lib\\site-packages\\keras\\src\\layers\\rnn\\rnn.py:204: UserWarning: Do not pass an `input_shape`/`input_dim` argument to a layer. When using Sequential models, prefer using an `Input(shape)` object as the first layer in the model instead.\n",
      "  super().__init__(**kwargs)\n"
     ]
    },
    {
     "name": "stdout",
     "output_type": "stream",
     "text": [
      "\u001b[1m175/175\u001b[0m \u001b[32m━━━━━━━━━━━━━━━━━━━━\u001b[0m\u001b[37m\u001b[0m \u001b[1m1s\u001b[0m 8ms/step\n",
      "NMSE médio do módulo dos coeficientes: 0.083049\n",
      "\n",
      "Executando combinação 82/216: {'sequence_length': 20, 'lstm_units': 128, 'dropout_rate': 0.2, 'learning_rate': 0.0005, 'batch_size': 64}\n"
     ]
    },
    {
     "name": "stderr",
     "output_type": "stream",
     "text": [
      "c:\\Users\\FilipeAraujoXimenes\\anaconda3\\Lib\\site-packages\\keras\\src\\layers\\rnn\\rnn.py:204: UserWarning: Do not pass an `input_shape`/`input_dim` argument to a layer. When using Sequential models, prefer using an `Input(shape)` object as the first layer in the model instead.\n",
      "  super().__init__(**kwargs)\n"
     ]
    },
    {
     "name": "stdout",
     "output_type": "stream",
     "text": [
      "\u001b[1m175/175\u001b[0m \u001b[32m━━━━━━━━━━━━━━━━━━━━\u001b[0m\u001b[37m\u001b[0m \u001b[1m2s\u001b[0m 11ms/step\n",
      "NMSE médio do módulo dos coeficientes: 0.137722\n",
      "\n",
      "Executando combinação 83/216: {'sequence_length': 20, 'lstm_units': 128, 'dropout_rate': 0.2, 'learning_rate': 0.0001, 'batch_size': 32}\n"
     ]
    },
    {
     "name": "stderr",
     "output_type": "stream",
     "text": [
      "c:\\Users\\FilipeAraujoXimenes\\anaconda3\\Lib\\site-packages\\keras\\src\\layers\\rnn\\rnn.py:204: UserWarning: Do not pass an `input_shape`/`input_dim` argument to a layer. When using Sequential models, prefer using an `Input(shape)` object as the first layer in the model instead.\n",
      "  super().__init__(**kwargs)\n"
     ]
    },
    {
     "name": "stdout",
     "output_type": "stream",
     "text": [
      "\u001b[1m175/175\u001b[0m \u001b[32m━━━━━━━━━━━━━━━━━━━━\u001b[0m\u001b[37m\u001b[0m \u001b[1m3s\u001b[0m 16ms/step\n",
      "NMSE médio do módulo dos coeficientes: 0.380407\n",
      "\n",
      "Executando combinação 84/216: {'sequence_length': 20, 'lstm_units': 128, 'dropout_rate': 0.2, 'learning_rate': 0.0001, 'batch_size': 64}\n"
     ]
    },
    {
     "name": "stderr",
     "output_type": "stream",
     "text": [
      "c:\\Users\\FilipeAraujoXimenes\\anaconda3\\Lib\\site-packages\\keras\\src\\layers\\rnn\\rnn.py:204: UserWarning: Do not pass an `input_shape`/`input_dim` argument to a layer. When using Sequential models, prefer using an `Input(shape)` object as the first layer in the model instead.\n",
      "  super().__init__(**kwargs)\n"
     ]
    },
    {
     "name": "stdout",
     "output_type": "stream",
     "text": [
      "\u001b[1m175/175\u001b[0m \u001b[32m━━━━━━━━━━━━━━━━━━━━\u001b[0m\u001b[37m\u001b[0m \u001b[1m2s\u001b[0m 11ms/step\n",
      "NMSE médio do módulo dos coeficientes: 0.546135\n",
      "\n",
      "Executando combinação 85/216: {'sequence_length': 20, 'lstm_units': 128, 'dropout_rate': 0.3, 'learning_rate': 0.001, 'batch_size': 32}\n"
     ]
    },
    {
     "name": "stderr",
     "output_type": "stream",
     "text": [
      "c:\\Users\\FilipeAraujoXimenes\\anaconda3\\Lib\\site-packages\\keras\\src\\layers\\rnn\\rnn.py:204: UserWarning: Do not pass an `input_shape`/`input_dim` argument to a layer. When using Sequential models, prefer using an `Input(shape)` object as the first layer in the model instead.\n",
      "  super().__init__(**kwargs)\n"
     ]
    },
    {
     "name": "stdout",
     "output_type": "stream",
     "text": [
      "\u001b[1m175/175\u001b[0m \u001b[32m━━━━━━━━━━━━━━━━━━━━\u001b[0m\u001b[37m\u001b[0m \u001b[1m2s\u001b[0m 8ms/step\n",
      "NMSE médio do módulo dos coeficientes: 0.132092\n",
      "\n",
      "Executando combinação 86/216: {'sequence_length': 20, 'lstm_units': 128, 'dropout_rate': 0.3, 'learning_rate': 0.001, 'batch_size': 64}\n"
     ]
    },
    {
     "name": "stderr",
     "output_type": "stream",
     "text": [
      "c:\\Users\\FilipeAraujoXimenes\\anaconda3\\Lib\\site-packages\\keras\\src\\layers\\rnn\\rnn.py:204: UserWarning: Do not pass an `input_shape`/`input_dim` argument to a layer. When using Sequential models, prefer using an `Input(shape)` object as the first layer in the model instead.\n",
      "  super().__init__(**kwargs)\n"
     ]
    },
    {
     "name": "stdout",
     "output_type": "stream",
     "text": [
      "\u001b[1m175/175\u001b[0m \u001b[32m━━━━━━━━━━━━━━━━━━━━\u001b[0m\u001b[37m\u001b[0m \u001b[1m2s\u001b[0m 11ms/step\n",
      "NMSE médio do módulo dos coeficientes: 0.143945\n",
      "\n",
      "Executando combinação 87/216: {'sequence_length': 20, 'lstm_units': 128, 'dropout_rate': 0.3, 'learning_rate': 0.0005, 'batch_size': 32}\n"
     ]
    },
    {
     "name": "stderr",
     "output_type": "stream",
     "text": [
      "c:\\Users\\FilipeAraujoXimenes\\anaconda3\\Lib\\site-packages\\keras\\src\\layers\\rnn\\rnn.py:204: UserWarning: Do not pass an `input_shape`/`input_dim` argument to a layer. When using Sequential models, prefer using an `Input(shape)` object as the first layer in the model instead.\n",
      "  super().__init__(**kwargs)\n"
     ]
    },
    {
     "name": "stdout",
     "output_type": "stream",
     "text": [
      "\u001b[1m175/175\u001b[0m \u001b[32m━━━━━━━━━━━━━━━━━━━━\u001b[0m\u001b[37m\u001b[0m \u001b[1m2s\u001b[0m 10ms/step\n",
      "NMSE médio do módulo dos coeficientes: 0.167416\n",
      "\n",
      "Executando combinação 88/216: {'sequence_length': 20, 'lstm_units': 128, 'dropout_rate': 0.3, 'learning_rate': 0.0005, 'batch_size': 64}\n"
     ]
    },
    {
     "name": "stderr",
     "output_type": "stream",
     "text": [
      "c:\\Users\\FilipeAraujoXimenes\\anaconda3\\Lib\\site-packages\\keras\\src\\layers\\rnn\\rnn.py:204: UserWarning: Do not pass an `input_shape`/`input_dim` argument to a layer. When using Sequential models, prefer using an `Input(shape)` object as the first layer in the model instead.\n",
      "  super().__init__(**kwargs)\n"
     ]
    },
    {
     "name": "stdout",
     "output_type": "stream",
     "text": [
      "\u001b[1m175/175\u001b[0m \u001b[32m━━━━━━━━━━━━━━━━━━━━\u001b[0m\u001b[37m\u001b[0m \u001b[1m2s\u001b[0m 9ms/step\n",
      "NMSE médio do módulo dos coeficientes: 0.219146\n",
      "\n",
      "Executando combinação 89/216: {'sequence_length': 20, 'lstm_units': 128, 'dropout_rate': 0.3, 'learning_rate': 0.0001, 'batch_size': 32}\n"
     ]
    },
    {
     "name": "stderr",
     "output_type": "stream",
     "text": [
      "c:\\Users\\FilipeAraujoXimenes\\anaconda3\\Lib\\site-packages\\keras\\src\\layers\\rnn\\rnn.py:204: UserWarning: Do not pass an `input_shape`/`input_dim` argument to a layer. When using Sequential models, prefer using an `Input(shape)` object as the first layer in the model instead.\n",
      "  super().__init__(**kwargs)\n"
     ]
    },
    {
     "name": "stdout",
     "output_type": "stream",
     "text": [
      "\u001b[1m175/175\u001b[0m \u001b[32m━━━━━━━━━━━━━━━━━━━━\u001b[0m\u001b[37m\u001b[0m \u001b[1m3s\u001b[0m 12ms/step\n",
      "NMSE médio do módulo dos coeficientes: 0.510088\n",
      "\n",
      "Executando combinação 90/216: {'sequence_length': 20, 'lstm_units': 128, 'dropout_rate': 0.3, 'learning_rate': 0.0001, 'batch_size': 64}\n"
     ]
    },
    {
     "name": "stderr",
     "output_type": "stream",
     "text": [
      "c:\\Users\\FilipeAraujoXimenes\\anaconda3\\Lib\\site-packages\\keras\\src\\layers\\rnn\\rnn.py:204: UserWarning: Do not pass an `input_shape`/`input_dim` argument to a layer. When using Sequential models, prefer using an `Input(shape)` object as the first layer in the model instead.\n",
      "  super().__init__(**kwargs)\n"
     ]
    },
    {
     "name": "stdout",
     "output_type": "stream",
     "text": [
      "\u001b[1m175/175\u001b[0m \u001b[32m━━━━━━━━━━━━━━━━━━━━\u001b[0m\u001b[37m\u001b[0m \u001b[1m2s\u001b[0m 11ms/step\n",
      "NMSE médio do módulo dos coeficientes: 0.686094\n",
      "\n",
      "Executando combinação 91/216: {'sequence_length': 20, 'lstm_units': 256, 'dropout_rate': 0.1, 'learning_rate': 0.001, 'batch_size': 32}\n"
     ]
    },
    {
     "name": "stderr",
     "output_type": "stream",
     "text": [
      "c:\\Users\\FilipeAraujoXimenes\\anaconda3\\Lib\\site-packages\\keras\\src\\layers\\rnn\\rnn.py:204: UserWarning: Do not pass an `input_shape`/`input_dim` argument to a layer. When using Sequential models, prefer using an `Input(shape)` object as the first layer in the model instead.\n",
      "  super().__init__(**kwargs)\n"
     ]
    },
    {
     "name": "stdout",
     "output_type": "stream",
     "text": [
      "\u001b[1m175/175\u001b[0m \u001b[32m━━━━━━━━━━━━━━━━━━━━\u001b[0m\u001b[37m\u001b[0m \u001b[1m4s\u001b[0m 20ms/step\n",
      "NMSE médio do módulo dos coeficientes: 0.022736\n",
      "\n",
      "Executando combinação 92/216: {'sequence_length': 20, 'lstm_units': 256, 'dropout_rate': 0.1, 'learning_rate': 0.001, 'batch_size': 64}\n"
     ]
    },
    {
     "name": "stderr",
     "output_type": "stream",
     "text": [
      "c:\\Users\\FilipeAraujoXimenes\\anaconda3\\Lib\\site-packages\\keras\\src\\layers\\rnn\\rnn.py:204: UserWarning: Do not pass an `input_shape`/`input_dim` argument to a layer. When using Sequential models, prefer using an `Input(shape)` object as the first layer in the model instead.\n",
      "  super().__init__(**kwargs)\n"
     ]
    },
    {
     "name": "stdout",
     "output_type": "stream",
     "text": [
      "\u001b[1m175/175\u001b[0m \u001b[32m━━━━━━━━━━━━━━━━━━━━\u001b[0m\u001b[37m\u001b[0m \u001b[1m4s\u001b[0m 20ms/step\n",
      "NMSE médio do módulo dos coeficientes: 0.027423\n",
      "\n",
      "Executando combinação 93/216: {'sequence_length': 20, 'lstm_units': 256, 'dropout_rate': 0.1, 'learning_rate': 0.0005, 'batch_size': 32}\n"
     ]
    },
    {
     "name": "stderr",
     "output_type": "stream",
     "text": [
      "c:\\Users\\FilipeAraujoXimenes\\anaconda3\\Lib\\site-packages\\keras\\src\\layers\\rnn\\rnn.py:204: UserWarning: Do not pass an `input_shape`/`input_dim` argument to a layer. When using Sequential models, prefer using an `Input(shape)` object as the first layer in the model instead.\n",
      "  super().__init__(**kwargs)\n"
     ]
    },
    {
     "name": "stdout",
     "output_type": "stream",
     "text": [
      "\u001b[1m175/175\u001b[0m \u001b[32m━━━━━━━━━━━━━━━━━━━━\u001b[0m\u001b[37m\u001b[0m \u001b[1m3s\u001b[0m 17ms/step\n",
      "NMSE médio do módulo dos coeficientes: 0.034185\n",
      "\n",
      "Executando combinação 94/216: {'sequence_length': 20, 'lstm_units': 256, 'dropout_rate': 0.1, 'learning_rate': 0.0005, 'batch_size': 64}\n"
     ]
    },
    {
     "name": "stderr",
     "output_type": "stream",
     "text": [
      "c:\\Users\\FilipeAraujoXimenes\\anaconda3\\Lib\\site-packages\\keras\\src\\layers\\rnn\\rnn.py:204: UserWarning: Do not pass an `input_shape`/`input_dim` argument to a layer. When using Sequential models, prefer using an `Input(shape)` object as the first layer in the model instead.\n",
      "  super().__init__(**kwargs)\n"
     ]
    },
    {
     "name": "stdout",
     "output_type": "stream",
     "text": [
      "\u001b[1m175/175\u001b[0m \u001b[32m━━━━━━━━━━━━━━━━━━━━\u001b[0m\u001b[37m\u001b[0m \u001b[1m5s\u001b[0m 28ms/step\n",
      "NMSE médio do módulo dos coeficientes: 0.055144\n",
      "\n",
      "Executando combinação 95/216: {'sequence_length': 20, 'lstm_units': 256, 'dropout_rate': 0.1, 'learning_rate': 0.0001, 'batch_size': 32}\n"
     ]
    },
    {
     "name": "stderr",
     "output_type": "stream",
     "text": [
      "c:\\Users\\FilipeAraujoXimenes\\anaconda3\\Lib\\site-packages\\keras\\src\\layers\\rnn\\rnn.py:204: UserWarning: Do not pass an `input_shape`/`input_dim` argument to a layer. When using Sequential models, prefer using an `Input(shape)` object as the first layer in the model instead.\n",
      "  super().__init__(**kwargs)\n"
     ]
    },
    {
     "name": "stdout",
     "output_type": "stream",
     "text": [
      "\u001b[1m175/175\u001b[0m \u001b[32m━━━━━━━━━━━━━━━━━━━━\u001b[0m\u001b[37m\u001b[0m \u001b[1m4s\u001b[0m 24ms/step\n",
      "NMSE médio do módulo dos coeficientes: 0.165894\n",
      "\n",
      "Executando combinação 96/216: {'sequence_length': 20, 'lstm_units': 256, 'dropout_rate': 0.1, 'learning_rate': 0.0001, 'batch_size': 64}\n"
     ]
    },
    {
     "name": "stderr",
     "output_type": "stream",
     "text": [
      "c:\\Users\\FilipeAraujoXimenes\\anaconda3\\Lib\\site-packages\\keras\\src\\layers\\rnn\\rnn.py:204: UserWarning: Do not pass an `input_shape`/`input_dim` argument to a layer. When using Sequential models, prefer using an `Input(shape)` object as the first layer in the model instead.\n",
      "  super().__init__(**kwargs)\n"
     ]
    },
    {
     "name": "stdout",
     "output_type": "stream",
     "text": [
      "\u001b[1m175/175\u001b[0m \u001b[32m━━━━━━━━━━━━━━━━━━━━\u001b[0m\u001b[37m\u001b[0m \u001b[1m5s\u001b[0m 27ms/step\n",
      "NMSE médio do módulo dos coeficientes: 0.251672\n",
      "\n",
      "Executando combinação 97/216: {'sequence_length': 20, 'lstm_units': 256, 'dropout_rate': 0.2, 'learning_rate': 0.001, 'batch_size': 32}\n"
     ]
    },
    {
     "name": "stderr",
     "output_type": "stream",
     "text": [
      "c:\\Users\\FilipeAraujoXimenes\\anaconda3\\Lib\\site-packages\\keras\\src\\layers\\rnn\\rnn.py:204: UserWarning: Do not pass an `input_shape`/`input_dim` argument to a layer. When using Sequential models, prefer using an `Input(shape)` object as the first layer in the model instead.\n",
      "  super().__init__(**kwargs)\n"
     ]
    },
    {
     "name": "stdout",
     "output_type": "stream",
     "text": [
      "\u001b[1m175/175\u001b[0m \u001b[32m━━━━━━━━━━━━━━━━━━━━\u001b[0m\u001b[37m\u001b[0m \u001b[1m4s\u001b[0m 20ms/step\n",
      "NMSE médio do módulo dos coeficientes: 0.032724\n",
      "\n",
      "Executando combinação 98/216: {'sequence_length': 20, 'lstm_units': 256, 'dropout_rate': 0.2, 'learning_rate': 0.001, 'batch_size': 64}\n"
     ]
    },
    {
     "name": "stderr",
     "output_type": "stream",
     "text": [
      "c:\\Users\\FilipeAraujoXimenes\\anaconda3\\Lib\\site-packages\\keras\\src\\layers\\rnn\\rnn.py:204: UserWarning: Do not pass an `input_shape`/`input_dim` argument to a layer. When using Sequential models, prefer using an `Input(shape)` object as the first layer in the model instead.\n",
      "  super().__init__(**kwargs)\n"
     ]
    },
    {
     "name": "stdout",
     "output_type": "stream",
     "text": [
      "\u001b[1m175/175\u001b[0m \u001b[32m━━━━━━━━━━━━━━━━━━━━\u001b[0m\u001b[37m\u001b[0m \u001b[1m4s\u001b[0m 22ms/step\n",
      "NMSE médio do módulo dos coeficientes: 0.039016\n",
      "\n",
      "Executando combinação 99/216: {'sequence_length': 20, 'lstm_units': 256, 'dropout_rate': 0.2, 'learning_rate': 0.0005, 'batch_size': 32}\n"
     ]
    },
    {
     "name": "stderr",
     "output_type": "stream",
     "text": [
      "c:\\Users\\FilipeAraujoXimenes\\anaconda3\\Lib\\site-packages\\keras\\src\\layers\\rnn\\rnn.py:204: UserWarning: Do not pass an `input_shape`/`input_dim` argument to a layer. When using Sequential models, prefer using an `Input(shape)` object as the first layer in the model instead.\n",
      "  super().__init__(**kwargs)\n"
     ]
    },
    {
     "name": "stdout",
     "output_type": "stream",
     "text": [
      "\u001b[1m175/175\u001b[0m \u001b[32m━━━━━━━━━━━━━━━━━━━━\u001b[0m\u001b[37m\u001b[0m \u001b[1m5s\u001b[0m 24ms/step\n",
      "NMSE médio do módulo dos coeficientes: 0.044545\n",
      "\n",
      "Executando combinação 100/216: {'sequence_length': 20, 'lstm_units': 256, 'dropout_rate': 0.2, 'learning_rate': 0.0005, 'batch_size': 64}\n"
     ]
    },
    {
     "name": "stderr",
     "output_type": "stream",
     "text": [
      "c:\\Users\\FilipeAraujoXimenes\\anaconda3\\Lib\\site-packages\\keras\\src\\layers\\rnn\\rnn.py:204: UserWarning: Do not pass an `input_shape`/`input_dim` argument to a layer. When using Sequential models, prefer using an `Input(shape)` object as the first layer in the model instead.\n",
      "  super().__init__(**kwargs)\n"
     ]
    },
    {
     "name": "stdout",
     "output_type": "stream",
     "text": [
      "\u001b[1m175/175\u001b[0m \u001b[32m━━━━━━━━━━━━━━━━━━━━\u001b[0m\u001b[37m\u001b[0m \u001b[1m4s\u001b[0m 22ms/step\n",
      "NMSE médio do módulo dos coeficientes: 0.068589\n",
      "\n",
      "Executando combinação 101/216: {'sequence_length': 20, 'lstm_units': 256, 'dropout_rate': 0.2, 'learning_rate': 0.0001, 'batch_size': 32}\n"
     ]
    },
    {
     "name": "stderr",
     "output_type": "stream",
     "text": [
      "c:\\Users\\FilipeAraujoXimenes\\anaconda3\\Lib\\site-packages\\keras\\src\\layers\\rnn\\rnn.py:204: UserWarning: Do not pass an `input_shape`/`input_dim` argument to a layer. When using Sequential models, prefer using an `Input(shape)` object as the first layer in the model instead.\n",
      "  super().__init__(**kwargs)\n"
     ]
    },
    {
     "name": "stdout",
     "output_type": "stream",
     "text": [
      "\u001b[1m175/175\u001b[0m \u001b[32m━━━━━━━━━━━━━━━━━━━━\u001b[0m\u001b[37m\u001b[0m \u001b[1m5s\u001b[0m 25ms/step\n",
      "NMSE médio do módulo dos coeficientes: 0.228520\n",
      "\n",
      "Executando combinação 102/216: {'sequence_length': 20, 'lstm_units': 256, 'dropout_rate': 0.2, 'learning_rate': 0.0001, 'batch_size': 64}\n"
     ]
    },
    {
     "name": "stderr",
     "output_type": "stream",
     "text": [
      "c:\\Users\\FilipeAraujoXimenes\\anaconda3\\Lib\\site-packages\\keras\\src\\layers\\rnn\\rnn.py:204: UserWarning: Do not pass an `input_shape`/`input_dim` argument to a layer. When using Sequential models, prefer using an `Input(shape)` object as the first layer in the model instead.\n",
      "  super().__init__(**kwargs)\n"
     ]
    },
    {
     "name": "stdout",
     "output_type": "stream",
     "text": [
      "\u001b[1m175/175\u001b[0m \u001b[32m━━━━━━━━━━━━━━━━━━━━\u001b[0m\u001b[37m\u001b[0m \u001b[1m4s\u001b[0m 19ms/step\n",
      "NMSE médio do módulo dos coeficientes: 0.332351\n",
      "\n",
      "Executando combinação 103/216: {'sequence_length': 20, 'lstm_units': 256, 'dropout_rate': 0.3, 'learning_rate': 0.001, 'batch_size': 32}\n"
     ]
    },
    {
     "name": "stderr",
     "output_type": "stream",
     "text": [
      "c:\\Users\\FilipeAraujoXimenes\\anaconda3\\Lib\\site-packages\\keras\\src\\layers\\rnn\\rnn.py:204: UserWarning: Do not pass an `input_shape`/`input_dim` argument to a layer. When using Sequential models, prefer using an `Input(shape)` object as the first layer in the model instead.\n",
      "  super().__init__(**kwargs)\n"
     ]
    },
    {
     "name": "stdout",
     "output_type": "stream",
     "text": [
      "\u001b[1m175/175\u001b[0m \u001b[32m━━━━━━━━━━━━━━━━━━━━\u001b[0m\u001b[37m\u001b[0m \u001b[1m4s\u001b[0m 22ms/step\n",
      "NMSE médio do módulo dos coeficientes: 0.051967\n",
      "\n",
      "Executando combinação 104/216: {'sequence_length': 20, 'lstm_units': 256, 'dropout_rate': 0.3, 'learning_rate': 0.001, 'batch_size': 64}\n"
     ]
    },
    {
     "name": "stderr",
     "output_type": "stream",
     "text": [
      "c:\\Users\\FilipeAraujoXimenes\\anaconda3\\Lib\\site-packages\\keras\\src\\layers\\rnn\\rnn.py:204: UserWarning: Do not pass an `input_shape`/`input_dim` argument to a layer. When using Sequential models, prefer using an `Input(shape)` object as the first layer in the model instead.\n",
      "  super().__init__(**kwargs)\n"
     ]
    },
    {
     "name": "stdout",
     "output_type": "stream",
     "text": [
      "\u001b[1m175/175\u001b[0m \u001b[32m━━━━━━━━━━━━━━━━━━━━\u001b[0m\u001b[37m\u001b[0m \u001b[1m4s\u001b[0m 24ms/step\n",
      "NMSE médio do módulo dos coeficientes: 0.060507\n",
      "\n",
      "Executando combinação 105/216: {'sequence_length': 20, 'lstm_units': 256, 'dropout_rate': 0.3, 'learning_rate': 0.0005, 'batch_size': 32}\n"
     ]
    },
    {
     "name": "stderr",
     "output_type": "stream",
     "text": [
      "c:\\Users\\FilipeAraujoXimenes\\anaconda3\\Lib\\site-packages\\keras\\src\\layers\\rnn\\rnn.py:204: UserWarning: Do not pass an `input_shape`/`input_dim` argument to a layer. When using Sequential models, prefer using an `Input(shape)` object as the first layer in the model instead.\n",
      "  super().__init__(**kwargs)\n"
     ]
    },
    {
     "name": "stdout",
     "output_type": "stream",
     "text": [
      "\u001b[1m175/175\u001b[0m \u001b[32m━━━━━━━━━━━━━━━━━━━━\u001b[0m\u001b[37m\u001b[0m \u001b[1m3s\u001b[0m 18ms/step\n",
      "NMSE médio do módulo dos coeficientes: 0.067415\n",
      "\n",
      "Executando combinação 106/216: {'sequence_length': 20, 'lstm_units': 256, 'dropout_rate': 0.3, 'learning_rate': 0.0005, 'batch_size': 64}\n"
     ]
    },
    {
     "name": "stderr",
     "output_type": "stream",
     "text": [
      "c:\\Users\\FilipeAraujoXimenes\\anaconda3\\Lib\\site-packages\\keras\\src\\layers\\rnn\\rnn.py:204: UserWarning: Do not pass an `input_shape`/`input_dim` argument to a layer. When using Sequential models, prefer using an `Input(shape)` object as the first layer in the model instead.\n",
      "  super().__init__(**kwargs)\n"
     ]
    },
    {
     "name": "stdout",
     "output_type": "stream",
     "text": [
      "\u001b[1m175/175\u001b[0m \u001b[32m━━━━━━━━━━━━━━━━━━━━\u001b[0m\u001b[37m\u001b[0m \u001b[1m3s\u001b[0m 14ms/step\n",
      "NMSE médio do módulo dos coeficientes: 0.092823\n",
      "\n",
      "Executando combinação 107/216: {'sequence_length': 20, 'lstm_units': 256, 'dropout_rate': 0.3, 'learning_rate': 0.0001, 'batch_size': 32}\n"
     ]
    },
    {
     "name": "stderr",
     "output_type": "stream",
     "text": [
      "c:\\Users\\FilipeAraujoXimenes\\anaconda3\\Lib\\site-packages\\keras\\src\\layers\\rnn\\rnn.py:204: UserWarning: Do not pass an `input_shape`/`input_dim` argument to a layer. When using Sequential models, prefer using an `Input(shape)` object as the first layer in the model instead.\n",
      "  super().__init__(**kwargs)\n"
     ]
    },
    {
     "name": "stdout",
     "output_type": "stream",
     "text": [
      "\u001b[1m175/175\u001b[0m \u001b[32m━━━━━━━━━━━━━━━━━━━━\u001b[0m\u001b[37m\u001b[0m \u001b[1m4s\u001b[0m 23ms/step\n",
      "NMSE médio do módulo dos coeficientes: 0.296166\n",
      "\n",
      "Executando combinação 108/216: {'sequence_length': 20, 'lstm_units': 256, 'dropout_rate': 0.3, 'learning_rate': 0.0001, 'batch_size': 64}\n"
     ]
    },
    {
     "name": "stderr",
     "output_type": "stream",
     "text": [
      "c:\\Users\\FilipeAraujoXimenes\\anaconda3\\Lib\\site-packages\\keras\\src\\layers\\rnn\\rnn.py:204: UserWarning: Do not pass an `input_shape`/`input_dim` argument to a layer. When using Sequential models, prefer using an `Input(shape)` object as the first layer in the model instead.\n",
      "  super().__init__(**kwargs)\n"
     ]
    },
    {
     "name": "stdout",
     "output_type": "stream",
     "text": [
      "\u001b[1m175/175\u001b[0m \u001b[32m━━━━━━━━━━━━━━━━━━━━\u001b[0m\u001b[37m\u001b[0m \u001b[1m3s\u001b[0m 17ms/step\n",
      "NMSE médio do módulo dos coeficientes: 0.403933\n",
      "\n",
      "Executando combinação 109/216: {'sequence_length': 30, 'lstm_units': 64, 'dropout_rate': 0.1, 'learning_rate': 0.001, 'batch_size': 32}\n"
     ]
    },
    {
     "name": "stderr",
     "output_type": "stream",
     "text": [
      "c:\\Users\\FilipeAraujoXimenes\\anaconda3\\Lib\\site-packages\\keras\\src\\layers\\rnn\\rnn.py:204: UserWarning: Do not pass an `input_shape`/`input_dim` argument to a layer. When using Sequential models, prefer using an `Input(shape)` object as the first layer in the model instead.\n",
      "  super().__init__(**kwargs)\n"
     ]
    },
    {
     "name": "stdout",
     "output_type": "stream",
     "text": [
      "\u001b[1m175/175\u001b[0m \u001b[32m━━━━━━━━━━━━━━━━━━━━\u001b[0m\u001b[37m\u001b[0m \u001b[1m1s\u001b[0m 7ms/step\n",
      "NMSE médio do módulo dos coeficientes: 0.067447\n",
      "\n",
      "Executando combinação 110/216: {'sequence_length': 30, 'lstm_units': 64, 'dropout_rate': 0.1, 'learning_rate': 0.001, 'batch_size': 64}\n"
     ]
    },
    {
     "name": "stderr",
     "output_type": "stream",
     "text": [
      "c:\\Users\\FilipeAraujoXimenes\\anaconda3\\Lib\\site-packages\\keras\\src\\layers\\rnn\\rnn.py:204: UserWarning: Do not pass an `input_shape`/`input_dim` argument to a layer. When using Sequential models, prefer using an `Input(shape)` object as the first layer in the model instead.\n",
      "  super().__init__(**kwargs)\n"
     ]
    },
    {
     "name": "stdout",
     "output_type": "stream",
     "text": [
      "\u001b[1m175/175\u001b[0m \u001b[32m━━━━━━━━━━━━━━━━━━━━\u001b[0m\u001b[37m\u001b[0m \u001b[1m2s\u001b[0m 7ms/step\n",
      "NMSE médio do módulo dos coeficientes: 0.093437\n",
      "\n",
      "Executando combinação 111/216: {'sequence_length': 30, 'lstm_units': 64, 'dropout_rate': 0.1, 'learning_rate': 0.0005, 'batch_size': 32}\n"
     ]
    },
    {
     "name": "stderr",
     "output_type": "stream",
     "text": [
      "c:\\Users\\FilipeAraujoXimenes\\anaconda3\\Lib\\site-packages\\keras\\src\\layers\\rnn\\rnn.py:204: UserWarning: Do not pass an `input_shape`/`input_dim` argument to a layer. When using Sequential models, prefer using an `Input(shape)` object as the first layer in the model instead.\n",
      "  super().__init__(**kwargs)\n"
     ]
    },
    {
     "name": "stdout",
     "output_type": "stream",
     "text": [
      "\u001b[1m175/175\u001b[0m \u001b[32m━━━━━━━━━━━━━━━━━━━━\u001b[0m\u001b[37m\u001b[0m \u001b[1m3s\u001b[0m 14ms/step\n",
      "NMSE médio do módulo dos coeficientes: 0.103305\n",
      "\n",
      "Executando combinação 112/216: {'sequence_length': 30, 'lstm_units': 64, 'dropout_rate': 0.1, 'learning_rate': 0.0005, 'batch_size': 64}\n"
     ]
    },
    {
     "name": "stderr",
     "output_type": "stream",
     "text": [
      "c:\\Users\\FilipeAraujoXimenes\\anaconda3\\Lib\\site-packages\\keras\\src\\layers\\rnn\\rnn.py:204: UserWarning: Do not pass an `input_shape`/`input_dim` argument to a layer. When using Sequential models, prefer using an `Input(shape)` object as the first layer in the model instead.\n",
      "  super().__init__(**kwargs)\n"
     ]
    },
    {
     "name": "stdout",
     "output_type": "stream",
     "text": [
      "\u001b[1m175/175\u001b[0m \u001b[32m━━━━━━━━━━━━━━━━━━━━\u001b[0m\u001b[37m\u001b[0m \u001b[1m2s\u001b[0m 9ms/step\n",
      "NMSE médio do módulo dos coeficientes: 0.186198\n",
      "\n",
      "Executando combinação 113/216: {'sequence_length': 30, 'lstm_units': 64, 'dropout_rate': 0.1, 'learning_rate': 0.0001, 'batch_size': 32}\n"
     ]
    },
    {
     "name": "stderr",
     "output_type": "stream",
     "text": [
      "c:\\Users\\FilipeAraujoXimenes\\anaconda3\\Lib\\site-packages\\keras\\src\\layers\\rnn\\rnn.py:204: UserWarning: Do not pass an `input_shape`/`input_dim` argument to a layer. When using Sequential models, prefer using an `Input(shape)` object as the first layer in the model instead.\n",
      "  super().__init__(**kwargs)\n"
     ]
    },
    {
     "name": "stdout",
     "output_type": "stream",
     "text": [
      "\u001b[1m175/175\u001b[0m \u001b[32m━━━━━━━━━━━━━━━━━━━━\u001b[0m\u001b[37m\u001b[0m \u001b[1m1s\u001b[0m 6ms/step\n",
      "NMSE médio do módulo dos coeficientes: 0.532647\n",
      "\n",
      "Executando combinação 114/216: {'sequence_length': 30, 'lstm_units': 64, 'dropout_rate': 0.1, 'learning_rate': 0.0001, 'batch_size': 64}\n"
     ]
    },
    {
     "name": "stderr",
     "output_type": "stream",
     "text": [
      "c:\\Users\\FilipeAraujoXimenes\\anaconda3\\Lib\\site-packages\\keras\\src\\layers\\rnn\\rnn.py:204: UserWarning: Do not pass an `input_shape`/`input_dim` argument to a layer. When using Sequential models, prefer using an `Input(shape)` object as the first layer in the model instead.\n",
      "  super().__init__(**kwargs)\n"
     ]
    },
    {
     "name": "stdout",
     "output_type": "stream",
     "text": [
      "\u001b[1m175/175\u001b[0m \u001b[32m━━━━━━━━━━━━━━━━━━━━\u001b[0m\u001b[37m\u001b[0m \u001b[1m2s\u001b[0m 11ms/step\n",
      "NMSE médio do módulo dos coeficientes: 0.926159\n",
      "\n",
      "Executando combinação 115/216: {'sequence_length': 30, 'lstm_units': 64, 'dropout_rate': 0.2, 'learning_rate': 0.001, 'batch_size': 32}\n"
     ]
    },
    {
     "name": "stderr",
     "output_type": "stream",
     "text": [
      "c:\\Users\\FilipeAraujoXimenes\\anaconda3\\Lib\\site-packages\\keras\\src\\layers\\rnn\\rnn.py:204: UserWarning: Do not pass an `input_shape`/`input_dim` argument to a layer. When using Sequential models, prefer using an `Input(shape)` object as the first layer in the model instead.\n",
      "  super().__init__(**kwargs)\n"
     ]
    },
    {
     "name": "stdout",
     "output_type": "stream",
     "text": [
      "\u001b[1m175/175\u001b[0m \u001b[32m━━━━━━━━━━━━━━━━━━━━\u001b[0m\u001b[37m\u001b[0m \u001b[1m2s\u001b[0m 8ms/step\n",
      "NMSE médio do módulo dos coeficientes: 0.148199\n",
      "\n",
      "Executando combinação 116/216: {'sequence_length': 30, 'lstm_units': 64, 'dropout_rate': 0.2, 'learning_rate': 0.001, 'batch_size': 64}\n"
     ]
    },
    {
     "name": "stderr",
     "output_type": "stream",
     "text": [
      "c:\\Users\\FilipeAraujoXimenes\\anaconda3\\Lib\\site-packages\\keras\\src\\layers\\rnn\\rnn.py:204: UserWarning: Do not pass an `input_shape`/`input_dim` argument to a layer. When using Sequential models, prefer using an `Input(shape)` object as the first layer in the model instead.\n",
      "  super().__init__(**kwargs)\n"
     ]
    },
    {
     "name": "stdout",
     "output_type": "stream",
     "text": [
      "\u001b[1m175/175\u001b[0m \u001b[32m━━━━━━━━━━━━━━━━━━━━\u001b[0m\u001b[37m\u001b[0m \u001b[1m2s\u001b[0m 8ms/step\n",
      "NMSE médio do módulo dos coeficientes: 0.219986\n",
      "\n",
      "Executando combinação 117/216: {'sequence_length': 30, 'lstm_units': 64, 'dropout_rate': 0.2, 'learning_rate': 0.0005, 'batch_size': 32}\n"
     ]
    },
    {
     "name": "stderr",
     "output_type": "stream",
     "text": [
      "c:\\Users\\FilipeAraujoXimenes\\anaconda3\\Lib\\site-packages\\keras\\src\\layers\\rnn\\rnn.py:204: UserWarning: Do not pass an `input_shape`/`input_dim` argument to a layer. When using Sequential models, prefer using an `Input(shape)` object as the first layer in the model instead.\n",
      "  super().__init__(**kwargs)\n"
     ]
    },
    {
     "name": "stdout",
     "output_type": "stream",
     "text": [
      "\u001b[1m175/175\u001b[0m \u001b[32m━━━━━━━━━━━━━━━━━━━━\u001b[0m\u001b[37m\u001b[0m \u001b[1m1s\u001b[0m 7ms/step\n",
      "NMSE médio do módulo dos coeficientes: 0.236129\n",
      "\n",
      "Executando combinação 118/216: {'sequence_length': 30, 'lstm_units': 64, 'dropout_rate': 0.2, 'learning_rate': 0.0005, 'batch_size': 64}\n"
     ]
    },
    {
     "name": "stderr",
     "output_type": "stream",
     "text": [
      "c:\\Users\\FilipeAraujoXimenes\\anaconda3\\Lib\\site-packages\\keras\\src\\layers\\rnn\\rnn.py:204: UserWarning: Do not pass an `input_shape`/`input_dim` argument to a layer. When using Sequential models, prefer using an `Input(shape)` object as the first layer in the model instead.\n",
      "  super().__init__(**kwargs)\n"
     ]
    },
    {
     "name": "stdout",
     "output_type": "stream",
     "text": [
      "\u001b[1m175/175\u001b[0m \u001b[32m━━━━━━━━━━━━━━━━━━━━\u001b[0m\u001b[37m\u001b[0m \u001b[1m2s\u001b[0m 8ms/step\n",
      "NMSE médio do módulo dos coeficientes: 0.337515\n",
      "\n",
      "Executando combinação 119/216: {'sequence_length': 30, 'lstm_units': 64, 'dropout_rate': 0.2, 'learning_rate': 0.0001, 'batch_size': 32}\n"
     ]
    },
    {
     "name": "stderr",
     "output_type": "stream",
     "text": [
      "c:\\Users\\FilipeAraujoXimenes\\anaconda3\\Lib\\site-packages\\keras\\src\\layers\\rnn\\rnn.py:204: UserWarning: Do not pass an `input_shape`/`input_dim` argument to a layer. When using Sequential models, prefer using an `Input(shape)` object as the first layer in the model instead.\n",
      "  super().__init__(**kwargs)\n"
     ]
    },
    {
     "name": "stdout",
     "output_type": "stream",
     "text": [
      "\u001b[1m175/175\u001b[0m \u001b[32m━━━━━━━━━━━━━━━━━━━━\u001b[0m\u001b[37m\u001b[0m \u001b[1m2s\u001b[0m 9ms/step\n",
      "NMSE médio do módulo dos coeficientes: 0.707927\n",
      "\n",
      "Executando combinação 120/216: {'sequence_length': 30, 'lstm_units': 64, 'dropout_rate': 0.2, 'learning_rate': 0.0001, 'batch_size': 64}\n"
     ]
    },
    {
     "name": "stderr",
     "output_type": "stream",
     "text": [
      "c:\\Users\\FilipeAraujoXimenes\\anaconda3\\Lib\\site-packages\\keras\\src\\layers\\rnn\\rnn.py:204: UserWarning: Do not pass an `input_shape`/`input_dim` argument to a layer. When using Sequential models, prefer using an `Input(shape)` object as the first layer in the model instead.\n",
      "  super().__init__(**kwargs)\n"
     ]
    },
    {
     "name": "stdout",
     "output_type": "stream",
     "text": [
      "\u001b[1m175/175\u001b[0m \u001b[32m━━━━━━━━━━━━━━━━━━━━\u001b[0m\u001b[37m\u001b[0m \u001b[1m2s\u001b[0m 8ms/step\n",
      "NMSE médio do módulo dos coeficientes: 1.139266\n",
      "\n",
      "Executando combinação 121/216: {'sequence_length': 30, 'lstm_units': 64, 'dropout_rate': 0.3, 'learning_rate': 0.001, 'batch_size': 32}\n"
     ]
    },
    {
     "name": "stderr",
     "output_type": "stream",
     "text": [
      "c:\\Users\\FilipeAraujoXimenes\\anaconda3\\Lib\\site-packages\\keras\\src\\layers\\rnn\\rnn.py:204: UserWarning: Do not pass an `input_shape`/`input_dim` argument to a layer. When using Sequential models, prefer using an `Input(shape)` object as the first layer in the model instead.\n",
      "  super().__init__(**kwargs)\n"
     ]
    },
    {
     "name": "stdout",
     "output_type": "stream",
     "text": [
      "\u001b[1m175/175\u001b[0m \u001b[32m━━━━━━━━━━━━━━━━━━━━\u001b[0m\u001b[37m\u001b[0m \u001b[1m2s\u001b[0m 10ms/step\n",
      "NMSE médio do módulo dos coeficientes: 0.310422\n",
      "\n",
      "Executando combinação 122/216: {'sequence_length': 30, 'lstm_units': 64, 'dropout_rate': 0.3, 'learning_rate': 0.001, 'batch_size': 64}\n"
     ]
    },
    {
     "name": "stderr",
     "output_type": "stream",
     "text": [
      "c:\\Users\\FilipeAraujoXimenes\\anaconda3\\Lib\\site-packages\\keras\\src\\layers\\rnn\\rnn.py:204: UserWarning: Do not pass an `input_shape`/`input_dim` argument to a layer. When using Sequential models, prefer using an `Input(shape)` object as the first layer in the model instead.\n",
      "  super().__init__(**kwargs)\n"
     ]
    },
    {
     "name": "stdout",
     "output_type": "stream",
     "text": [
      "\u001b[1m175/175\u001b[0m \u001b[32m━━━━━━━━━━━━━━━━━━━━\u001b[0m\u001b[37m\u001b[0m \u001b[1m2s\u001b[0m 10ms/step\n",
      "NMSE médio do módulo dos coeficientes: 0.380207\n",
      "\n",
      "Executando combinação 123/216: {'sequence_length': 30, 'lstm_units': 64, 'dropout_rate': 0.3, 'learning_rate': 0.0005, 'batch_size': 32}\n"
     ]
    },
    {
     "name": "stderr",
     "output_type": "stream",
     "text": [
      "c:\\Users\\FilipeAraujoXimenes\\anaconda3\\Lib\\site-packages\\keras\\src\\layers\\rnn\\rnn.py:204: UserWarning: Do not pass an `input_shape`/`input_dim` argument to a layer. When using Sequential models, prefer using an `Input(shape)` object as the first layer in the model instead.\n",
      "  super().__init__(**kwargs)\n"
     ]
    },
    {
     "name": "stdout",
     "output_type": "stream",
     "text": [
      "\u001b[1m175/175\u001b[0m \u001b[32m━━━━━━━━━━━━━━━━━━━━\u001b[0m\u001b[37m\u001b[0m \u001b[1m2s\u001b[0m 10ms/step\n",
      "NMSE médio do módulo dos coeficientes: 0.400805\n",
      "\n",
      "Executando combinação 124/216: {'sequence_length': 30, 'lstm_units': 64, 'dropout_rate': 0.3, 'learning_rate': 0.0005, 'batch_size': 64}\n"
     ]
    },
    {
     "name": "stderr",
     "output_type": "stream",
     "text": [
      "c:\\Users\\FilipeAraujoXimenes\\anaconda3\\Lib\\site-packages\\keras\\src\\layers\\rnn\\rnn.py:204: UserWarning: Do not pass an `input_shape`/`input_dim` argument to a layer. When using Sequential models, prefer using an `Input(shape)` object as the first layer in the model instead.\n",
      "  super().__init__(**kwargs)\n"
     ]
    },
    {
     "name": "stdout",
     "output_type": "stream",
     "text": [
      "\u001b[1m175/175\u001b[0m \u001b[32m━━━━━━━━━━━━━━━━━━━━\u001b[0m\u001b[37m\u001b[0m \u001b[1m2s\u001b[0m 8ms/step\n",
      "NMSE médio do módulo dos coeficientes: 0.519458\n",
      "\n",
      "Executando combinação 125/216: {'sequence_length': 30, 'lstm_units': 64, 'dropout_rate': 0.3, 'learning_rate': 0.0001, 'batch_size': 32}\n"
     ]
    },
    {
     "name": "stderr",
     "output_type": "stream",
     "text": [
      "c:\\Users\\FilipeAraujoXimenes\\anaconda3\\Lib\\site-packages\\keras\\src\\layers\\rnn\\rnn.py:204: UserWarning: Do not pass an `input_shape`/`input_dim` argument to a layer. When using Sequential models, prefer using an `Input(shape)` object as the first layer in the model instead.\n",
      "  super().__init__(**kwargs)\n"
     ]
    },
    {
     "name": "stdout",
     "output_type": "stream",
     "text": [
      "\u001b[1m175/175\u001b[0m \u001b[32m━━━━━━━━━━━━━━━━━━━━\u001b[0m\u001b[37m\u001b[0m \u001b[1m3s\u001b[0m 14ms/step\n",
      "NMSE médio do módulo dos coeficientes: 0.912281\n",
      "\n",
      "Executando combinação 126/216: {'sequence_length': 30, 'lstm_units': 64, 'dropout_rate': 0.3, 'learning_rate': 0.0001, 'batch_size': 64}\n"
     ]
    },
    {
     "name": "stderr",
     "output_type": "stream",
     "text": [
      "c:\\Users\\FilipeAraujoXimenes\\anaconda3\\Lib\\site-packages\\keras\\src\\layers\\rnn\\rnn.py:204: UserWarning: Do not pass an `input_shape`/`input_dim` argument to a layer. When using Sequential models, prefer using an `Input(shape)` object as the first layer in the model instead.\n",
      "  super().__init__(**kwargs)\n"
     ]
    },
    {
     "name": "stdout",
     "output_type": "stream",
     "text": [
      "\u001b[1m175/175\u001b[0m \u001b[32m━━━━━━━━━━━━━━━━━━━━\u001b[0m\u001b[37m\u001b[0m \u001b[1m2s\u001b[0m 10ms/step\n",
      "NMSE médio do módulo dos coeficientes: 1.424228\n",
      "\n",
      "Executando combinação 127/216: {'sequence_length': 30, 'lstm_units': 128, 'dropout_rate': 0.1, 'learning_rate': 0.001, 'batch_size': 32}\n"
     ]
    },
    {
     "name": "stderr",
     "output_type": "stream",
     "text": [
      "c:\\Users\\FilipeAraujoXimenes\\anaconda3\\Lib\\site-packages\\keras\\src\\layers\\rnn\\rnn.py:204: UserWarning: Do not pass an `input_shape`/`input_dim` argument to a layer. When using Sequential models, prefer using an `Input(shape)` object as the first layer in the model instead.\n",
      "  super().__init__(**kwargs)\n"
     ]
    },
    {
     "name": "stdout",
     "output_type": "stream",
     "text": [
      "\u001b[1m175/175\u001b[0m \u001b[32m━━━━━━━━━━━━━━━━━━━━\u001b[0m\u001b[37m\u001b[0m \u001b[1m2s\u001b[0m 10ms/step\n",
      "NMSE médio do módulo dos coeficientes: 0.033998\n",
      "\n",
      "Executando combinação 128/216: {'sequence_length': 30, 'lstm_units': 128, 'dropout_rate': 0.1, 'learning_rate': 0.001, 'batch_size': 64}\n"
     ]
    },
    {
     "name": "stderr",
     "output_type": "stream",
     "text": [
      "c:\\Users\\FilipeAraujoXimenes\\anaconda3\\Lib\\site-packages\\keras\\src\\layers\\rnn\\rnn.py:204: UserWarning: Do not pass an `input_shape`/`input_dim` argument to a layer. When using Sequential models, prefer using an `Input(shape)` object as the first layer in the model instead.\n",
      "  super().__init__(**kwargs)\n"
     ]
    },
    {
     "name": "stdout",
     "output_type": "stream",
     "text": [
      "\u001b[1m175/175\u001b[0m \u001b[32m━━━━━━━━━━━━━━━━━━━━\u001b[0m\u001b[37m\u001b[0m \u001b[1m2s\u001b[0m 13ms/step\n",
      "NMSE médio do módulo dos coeficientes: 0.049388\n",
      "\n",
      "Executando combinação 129/216: {'sequence_length': 30, 'lstm_units': 128, 'dropout_rate': 0.1, 'learning_rate': 0.0005, 'batch_size': 32}\n"
     ]
    },
    {
     "name": "stderr",
     "output_type": "stream",
     "text": [
      "c:\\Users\\FilipeAraujoXimenes\\anaconda3\\Lib\\site-packages\\keras\\src\\layers\\rnn\\rnn.py:204: UserWarning: Do not pass an `input_shape`/`input_dim` argument to a layer. When using Sequential models, prefer using an `Input(shape)` object as the first layer in the model instead.\n",
      "  super().__init__(**kwargs)\n"
     ]
    },
    {
     "name": "stdout",
     "output_type": "stream",
     "text": [
      "\u001b[1m175/175\u001b[0m \u001b[32m━━━━━━━━━━━━━━━━━━━━\u001b[0m\u001b[37m\u001b[0m \u001b[1m2s\u001b[0m 13ms/step\n",
      "NMSE médio do módulo dos coeficientes: 0.054590\n",
      "\n",
      "Executando combinação 130/216: {'sequence_length': 30, 'lstm_units': 128, 'dropout_rate': 0.1, 'learning_rate': 0.0005, 'batch_size': 64}\n"
     ]
    },
    {
     "name": "stderr",
     "output_type": "stream",
     "text": [
      "c:\\Users\\FilipeAraujoXimenes\\anaconda3\\Lib\\site-packages\\keras\\src\\layers\\rnn\\rnn.py:204: UserWarning: Do not pass an `input_shape`/`input_dim` argument to a layer. When using Sequential models, prefer using an `Input(shape)` object as the first layer in the model instead.\n",
      "  super().__init__(**kwargs)\n"
     ]
    },
    {
     "name": "stdout",
     "output_type": "stream",
     "text": [
      "\u001b[1m175/175\u001b[0m \u001b[32m━━━━━━━━━━━━━━━━━━━━\u001b[0m\u001b[37m\u001b[0m \u001b[1m4s\u001b[0m 19ms/step\n",
      "NMSE médio do módulo dos coeficientes: 0.101658\n",
      "\n",
      "Executando combinação 131/216: {'sequence_length': 30, 'lstm_units': 128, 'dropout_rate': 0.1, 'learning_rate': 0.0001, 'batch_size': 32}\n"
     ]
    },
    {
     "name": "stderr",
     "output_type": "stream",
     "text": [
      "c:\\Users\\FilipeAraujoXimenes\\anaconda3\\Lib\\site-packages\\keras\\src\\layers\\rnn\\rnn.py:204: UserWarning: Do not pass an `input_shape`/`input_dim` argument to a layer. When using Sequential models, prefer using an `Input(shape)` object as the first layer in the model instead.\n",
      "  super().__init__(**kwargs)\n"
     ]
    },
    {
     "name": "stdout",
     "output_type": "stream",
     "text": [
      "\u001b[1m175/175\u001b[0m \u001b[32m━━━━━━━━━━━━━━━━━━━━\u001b[0m\u001b[37m\u001b[0m \u001b[1m3s\u001b[0m 15ms/step\n",
      "NMSE médio do módulo dos coeficientes: 0.292172\n",
      "\n",
      "Executando combinação 132/216: {'sequence_length': 30, 'lstm_units': 128, 'dropout_rate': 0.1, 'learning_rate': 0.0001, 'batch_size': 64}\n"
     ]
    },
    {
     "name": "stderr",
     "output_type": "stream",
     "text": [
      "c:\\Users\\FilipeAraujoXimenes\\anaconda3\\Lib\\site-packages\\keras\\src\\layers\\rnn\\rnn.py:204: UserWarning: Do not pass an `input_shape`/`input_dim` argument to a layer. When using Sequential models, prefer using an `Input(shape)` object as the first layer in the model instead.\n",
      "  super().__init__(**kwargs)\n"
     ]
    },
    {
     "name": "stdout",
     "output_type": "stream",
     "text": [
      "\u001b[1m175/175\u001b[0m \u001b[32m━━━━━━━━━━━━━━━━━━━━\u001b[0m\u001b[37m\u001b[0m \u001b[1m3s\u001b[0m 14ms/step\n",
      "NMSE médio do módulo dos coeficientes: 0.476690\n",
      "\n",
      "Executando combinação 133/216: {'sequence_length': 30, 'lstm_units': 128, 'dropout_rate': 0.2, 'learning_rate': 0.001, 'batch_size': 32}\n"
     ]
    },
    {
     "name": "stderr",
     "output_type": "stream",
     "text": [
      "c:\\Users\\FilipeAraujoXimenes\\anaconda3\\Lib\\site-packages\\keras\\src\\layers\\rnn\\rnn.py:204: UserWarning: Do not pass an `input_shape`/`input_dim` argument to a layer. When using Sequential models, prefer using an `Input(shape)` object as the first layer in the model instead.\n",
      "  super().__init__(**kwargs)\n"
     ]
    },
    {
     "name": "stdout",
     "output_type": "stream",
     "text": [
      "\u001b[1m175/175\u001b[0m \u001b[32m━━━━━━━━━━━━━━━━━━━━\u001b[0m\u001b[37m\u001b[0m \u001b[1m3s\u001b[0m 13ms/step\n",
      "NMSE médio do módulo dos coeficientes: 0.062565\n",
      "\n",
      "Executando combinação 134/216: {'sequence_length': 30, 'lstm_units': 128, 'dropout_rate': 0.2, 'learning_rate': 0.001, 'batch_size': 64}\n"
     ]
    },
    {
     "name": "stderr",
     "output_type": "stream",
     "text": [
      "c:\\Users\\FilipeAraujoXimenes\\anaconda3\\Lib\\site-packages\\keras\\src\\layers\\rnn\\rnn.py:204: UserWarning: Do not pass an `input_shape`/`input_dim` argument to a layer. When using Sequential models, prefer using an `Input(shape)` object as the first layer in the model instead.\n",
      "  super().__init__(**kwargs)\n"
     ]
    },
    {
     "name": "stdout",
     "output_type": "stream",
     "text": [
      "\u001b[1m175/175\u001b[0m \u001b[32m━━━━━━━━━━━━━━━━━━━━\u001b[0m\u001b[37m\u001b[0m \u001b[1m4s\u001b[0m 21ms/step\n",
      "NMSE médio do módulo dos coeficientes: 0.075359\n",
      "\n",
      "Executando combinação 135/216: {'sequence_length': 30, 'lstm_units': 128, 'dropout_rate': 0.2, 'learning_rate': 0.0005, 'batch_size': 32}\n"
     ]
    },
    {
     "name": "stderr",
     "output_type": "stream",
     "text": [
      "c:\\Users\\FilipeAraujoXimenes\\anaconda3\\Lib\\site-packages\\keras\\src\\layers\\rnn\\rnn.py:204: UserWarning: Do not pass an `input_shape`/`input_dim` argument to a layer. When using Sequential models, prefer using an `Input(shape)` object as the first layer in the model instead.\n",
      "  super().__init__(**kwargs)\n"
     ]
    },
    {
     "name": "stdout",
     "output_type": "stream",
     "text": [
      "\u001b[1m175/175\u001b[0m \u001b[32m━━━━━━━━━━━━━━━━━━━━\u001b[0m\u001b[37m\u001b[0m \u001b[1m3s\u001b[0m 19ms/step\n",
      "NMSE médio do módulo dos coeficientes: 0.090399\n",
      "\n",
      "Executando combinação 136/216: {'sequence_length': 30, 'lstm_units': 128, 'dropout_rate': 0.2, 'learning_rate': 0.0005, 'batch_size': 64}\n"
     ]
    },
    {
     "name": "stderr",
     "output_type": "stream",
     "text": [
      "c:\\Users\\FilipeAraujoXimenes\\anaconda3\\Lib\\site-packages\\keras\\src\\layers\\rnn\\rnn.py:204: UserWarning: Do not pass an `input_shape`/`input_dim` argument to a layer. When using Sequential models, prefer using an `Input(shape)` object as the first layer in the model instead.\n",
      "  super().__init__(**kwargs)\n"
     ]
    },
    {
     "name": "stdout",
     "output_type": "stream",
     "text": [
      "\u001b[1m175/175\u001b[0m \u001b[32m━━━━━━━━━━━━━━━━━━━━\u001b[0m\u001b[37m\u001b[0m \u001b[1m3s\u001b[0m 16ms/step\n",
      "NMSE médio do módulo dos coeficientes: 0.145460\n",
      "\n",
      "Executando combinação 137/216: {'sequence_length': 30, 'lstm_units': 128, 'dropout_rate': 0.2, 'learning_rate': 0.0001, 'batch_size': 32}\n"
     ]
    },
    {
     "name": "stderr",
     "output_type": "stream",
     "text": [
      "c:\\Users\\FilipeAraujoXimenes\\anaconda3\\Lib\\site-packages\\keras\\src\\layers\\rnn\\rnn.py:204: UserWarning: Do not pass an `input_shape`/`input_dim` argument to a layer. When using Sequential models, prefer using an `Input(shape)` object as the first layer in the model instead.\n",
      "  super().__init__(**kwargs)\n"
     ]
    },
    {
     "name": "stdout",
     "output_type": "stream",
     "text": [
      "\u001b[1m175/175\u001b[0m \u001b[32m━━━━━━━━━━━━━━━━━━━━\u001b[0m\u001b[37m\u001b[0m \u001b[1m2s\u001b[0m 12ms/step\n",
      "NMSE médio do módulo dos coeficientes: 0.395683\n",
      "\n",
      "Executando combinação 138/216: {'sequence_length': 30, 'lstm_units': 128, 'dropout_rate': 0.2, 'learning_rate': 0.0001, 'batch_size': 64}\n"
     ]
    },
    {
     "name": "stderr",
     "output_type": "stream",
     "text": [
      "c:\\Users\\FilipeAraujoXimenes\\anaconda3\\Lib\\site-packages\\keras\\src\\layers\\rnn\\rnn.py:204: UserWarning: Do not pass an `input_shape`/`input_dim` argument to a layer. When using Sequential models, prefer using an `Input(shape)` object as the first layer in the model instead.\n",
      "  super().__init__(**kwargs)\n"
     ]
    },
    {
     "name": "stdout",
     "output_type": "stream",
     "text": [
      "\u001b[1m175/175\u001b[0m \u001b[32m━━━━━━━━━━━━━━━━━━━━\u001b[0m\u001b[37m\u001b[0m \u001b[1m2s\u001b[0m 11ms/step\n",
      "NMSE médio do módulo dos coeficientes: 0.593616\n",
      "\n",
      "Executando combinação 139/216: {'sequence_length': 30, 'lstm_units': 128, 'dropout_rate': 0.3, 'learning_rate': 0.001, 'batch_size': 32}\n"
     ]
    },
    {
     "name": "stderr",
     "output_type": "stream",
     "text": [
      "c:\\Users\\FilipeAraujoXimenes\\anaconda3\\Lib\\site-packages\\keras\\src\\layers\\rnn\\rnn.py:204: UserWarning: Do not pass an `input_shape`/`input_dim` argument to a layer. When using Sequential models, prefer using an `Input(shape)` object as the first layer in the model instead.\n",
      "  super().__init__(**kwargs)\n"
     ]
    },
    {
     "name": "stdout",
     "output_type": "stream",
     "text": [
      "\u001b[1m175/175\u001b[0m \u001b[32m━━━━━━━━━━━━━━━━━━━━\u001b[0m\u001b[37m\u001b[0m \u001b[1m4s\u001b[0m 21ms/step\n",
      "NMSE médio do módulo dos coeficientes: 0.123438\n",
      "\n",
      "Executando combinação 140/216: {'sequence_length': 30, 'lstm_units': 128, 'dropout_rate': 0.3, 'learning_rate': 0.001, 'batch_size': 64}\n"
     ]
    },
    {
     "name": "stderr",
     "output_type": "stream",
     "text": [
      "c:\\Users\\FilipeAraujoXimenes\\anaconda3\\Lib\\site-packages\\keras\\src\\layers\\rnn\\rnn.py:204: UserWarning: Do not pass an `input_shape`/`input_dim` argument to a layer. When using Sequential models, prefer using an `Input(shape)` object as the first layer in the model instead.\n",
      "  super().__init__(**kwargs)\n"
     ]
    },
    {
     "name": "stdout",
     "output_type": "stream",
     "text": [
      "\u001b[1m175/175\u001b[0m \u001b[32m━━━━━━━━━━━━━━━━━━━━\u001b[0m\u001b[37m\u001b[0m \u001b[1m2s\u001b[0m 11ms/step\n",
      "NMSE médio do módulo dos coeficientes: 0.176566\n",
      "\n",
      "Executando combinação 141/216: {'sequence_length': 30, 'lstm_units': 128, 'dropout_rate': 0.3, 'learning_rate': 0.0005, 'batch_size': 32}\n"
     ]
    },
    {
     "name": "stderr",
     "output_type": "stream",
     "text": [
      "c:\\Users\\FilipeAraujoXimenes\\anaconda3\\Lib\\site-packages\\keras\\src\\layers\\rnn\\rnn.py:204: UserWarning: Do not pass an `input_shape`/`input_dim` argument to a layer. When using Sequential models, prefer using an `Input(shape)` object as the first layer in the model instead.\n",
      "  super().__init__(**kwargs)\n"
     ]
    },
    {
     "name": "stdout",
     "output_type": "stream",
     "text": [
      "\u001b[1m175/175\u001b[0m \u001b[32m━━━━━━━━━━━━━━━━━━━━\u001b[0m\u001b[37m\u001b[0m \u001b[1m3s\u001b[0m 15ms/step\n",
      "NMSE médio do módulo dos coeficientes: 0.198625\n",
      "\n",
      "Executando combinação 142/216: {'sequence_length': 30, 'lstm_units': 128, 'dropout_rate': 0.3, 'learning_rate': 0.0005, 'batch_size': 64}\n"
     ]
    },
    {
     "name": "stderr",
     "output_type": "stream",
     "text": [
      "c:\\Users\\FilipeAraujoXimenes\\anaconda3\\Lib\\site-packages\\keras\\src\\layers\\rnn\\rnn.py:204: UserWarning: Do not pass an `input_shape`/`input_dim` argument to a layer. When using Sequential models, prefer using an `Input(shape)` object as the first layer in the model instead.\n",
      "  super().__init__(**kwargs)\n"
     ]
    },
    {
     "name": "stdout",
     "output_type": "stream",
     "text": [
      "\u001b[1m175/175\u001b[0m \u001b[32m━━━━━━━━━━━━━━━━━━━━\u001b[0m\u001b[37m\u001b[0m \u001b[1m2s\u001b[0m 13ms/step\n",
      "NMSE médio do módulo dos coeficientes: 0.267863\n",
      "\n",
      "Executando combinação 143/216: {'sequence_length': 30, 'lstm_units': 128, 'dropout_rate': 0.3, 'learning_rate': 0.0001, 'batch_size': 32}\n"
     ]
    },
    {
     "name": "stderr",
     "output_type": "stream",
     "text": [
      "c:\\Users\\FilipeAraujoXimenes\\anaconda3\\Lib\\site-packages\\keras\\src\\layers\\rnn\\rnn.py:204: UserWarning: Do not pass an `input_shape`/`input_dim` argument to a layer. When using Sequential models, prefer using an `Input(shape)` object as the first layer in the model instead.\n",
      "  super().__init__(**kwargs)\n"
     ]
    },
    {
     "name": "stdout",
     "output_type": "stream",
     "text": [
      "\u001b[1m175/175\u001b[0m \u001b[32m━━━━━━━━━━━━━━━━━━━━\u001b[0m\u001b[37m\u001b[0m \u001b[1m3s\u001b[0m 16ms/step\n",
      "NMSE médio do módulo dos coeficientes: 0.512096\n",
      "\n",
      "Executando combinação 144/216: {'sequence_length': 30, 'lstm_units': 128, 'dropout_rate': 0.3, 'learning_rate': 0.0001, 'batch_size': 64}\n"
     ]
    },
    {
     "name": "stderr",
     "output_type": "stream",
     "text": [
      "c:\\Users\\FilipeAraujoXimenes\\anaconda3\\Lib\\site-packages\\keras\\src\\layers\\rnn\\rnn.py:204: UserWarning: Do not pass an `input_shape`/`input_dim` argument to a layer. When using Sequential models, prefer using an `Input(shape)` object as the first layer in the model instead.\n",
      "  super().__init__(**kwargs)\n"
     ]
    },
    {
     "name": "stdout",
     "output_type": "stream",
     "text": [
      "\u001b[1m175/175\u001b[0m \u001b[32m━━━━━━━━━━━━━━━━━━━━\u001b[0m\u001b[37m\u001b[0m \u001b[1m2s\u001b[0m 13ms/step\n",
      "NMSE médio do módulo dos coeficientes: 0.763716\n",
      "\n",
      "Executando combinação 145/216: {'sequence_length': 30, 'lstm_units': 256, 'dropout_rate': 0.1, 'learning_rate': 0.001, 'batch_size': 32}\n"
     ]
    },
    {
     "name": "stderr",
     "output_type": "stream",
     "text": [
      "c:\\Users\\FilipeAraujoXimenes\\anaconda3\\Lib\\site-packages\\keras\\src\\layers\\rnn\\rnn.py:204: UserWarning: Do not pass an `input_shape`/`input_dim` argument to a layer. When using Sequential models, prefer using an `Input(shape)` object as the first layer in the model instead.\n",
      "  super().__init__(**kwargs)\n"
     ]
    },
    {
     "name": "stdout",
     "output_type": "stream",
     "text": [
      "\u001b[1m175/175\u001b[0m \u001b[32m━━━━━━━━━━━━━━━━━━━━\u001b[0m\u001b[37m\u001b[0m \u001b[1m5s\u001b[0m 26ms/step\n",
      "NMSE médio do módulo dos coeficientes: 0.022395\n",
      "\n",
      "Executando combinação 146/216: {'sequence_length': 30, 'lstm_units': 256, 'dropout_rate': 0.1, 'learning_rate': 0.001, 'batch_size': 64}\n"
     ]
    },
    {
     "name": "stderr",
     "output_type": "stream",
     "text": [
      "c:\\Users\\FilipeAraujoXimenes\\anaconda3\\Lib\\site-packages\\keras\\src\\layers\\rnn\\rnn.py:204: UserWarning: Do not pass an `input_shape`/`input_dim` argument to a layer. When using Sequential models, prefer using an `Input(shape)` object as the first layer in the model instead.\n",
      "  super().__init__(**kwargs)\n"
     ]
    },
    {
     "name": "stdout",
     "output_type": "stream",
     "text": [
      "\u001b[1m175/175\u001b[0m \u001b[32m━━━━━━━━━━━━━━━━━━━━\u001b[0m\u001b[37m\u001b[0m \u001b[1m7s\u001b[0m 39ms/step\n",
      "NMSE médio do módulo dos coeficientes: 0.032425\n",
      "\n",
      "Executando combinação 147/216: {'sequence_length': 30, 'lstm_units': 256, 'dropout_rate': 0.1, 'learning_rate': 0.0005, 'batch_size': 32}\n"
     ]
    },
    {
     "name": "stderr",
     "output_type": "stream",
     "text": [
      "c:\\Users\\FilipeAraujoXimenes\\anaconda3\\Lib\\site-packages\\keras\\src\\layers\\rnn\\rnn.py:204: UserWarning: Do not pass an `input_shape`/`input_dim` argument to a layer. When using Sequential models, prefer using an `Input(shape)` object as the first layer in the model instead.\n",
      "  super().__init__(**kwargs)\n"
     ]
    },
    {
     "name": "stdout",
     "output_type": "stream",
     "text": [
      "\u001b[1m175/175\u001b[0m \u001b[32m━━━━━━━━━━━━━━━━━━━━\u001b[0m\u001b[37m\u001b[0m \u001b[1m6s\u001b[0m 30ms/step\n",
      "NMSE médio do módulo dos coeficientes: 0.037112\n",
      "\n",
      "Executando combinação 148/216: {'sequence_length': 30, 'lstm_units': 256, 'dropout_rate': 0.1, 'learning_rate': 0.0005, 'batch_size': 64}\n"
     ]
    },
    {
     "name": "stderr",
     "output_type": "stream",
     "text": [
      "c:\\Users\\FilipeAraujoXimenes\\anaconda3\\Lib\\site-packages\\keras\\src\\layers\\rnn\\rnn.py:204: UserWarning: Do not pass an `input_shape`/`input_dim` argument to a layer. When using Sequential models, prefer using an `Input(shape)` object as the first layer in the model instead.\n",
      "  super().__init__(**kwargs)\n"
     ]
    },
    {
     "name": "stdout",
     "output_type": "stream",
     "text": [
      "\u001b[1m175/175\u001b[0m \u001b[32m━━━━━━━━━━━━━━━━━━━━\u001b[0m\u001b[37m\u001b[0m \u001b[1m8s\u001b[0m 41ms/step\n",
      "NMSE médio do módulo dos coeficientes: 0.072516\n",
      "\n",
      "Executando combinação 149/216: {'sequence_length': 30, 'lstm_units': 256, 'dropout_rate': 0.1, 'learning_rate': 0.0001, 'batch_size': 32}\n"
     ]
    },
    {
     "name": "stderr",
     "output_type": "stream",
     "text": [
      "c:\\Users\\FilipeAraujoXimenes\\anaconda3\\Lib\\site-packages\\keras\\src\\layers\\rnn\\rnn.py:204: UserWarning: Do not pass an `input_shape`/`input_dim` argument to a layer. When using Sequential models, prefer using an `Input(shape)` object as the first layer in the model instead.\n",
      "  super().__init__(**kwargs)\n"
     ]
    },
    {
     "name": "stdout",
     "output_type": "stream",
     "text": [
      "\u001b[1m175/175\u001b[0m \u001b[32m━━━━━━━━━━━━━━━━━━━━\u001b[0m\u001b[37m\u001b[0m \u001b[1m4s\u001b[0m 22ms/step\n",
      "NMSE médio do módulo dos coeficientes: 0.193440\n",
      "\n",
      "Executando combinação 150/216: {'sequence_length': 30, 'lstm_units': 256, 'dropout_rate': 0.1, 'learning_rate': 0.0001, 'batch_size': 64}\n"
     ]
    },
    {
     "name": "stderr",
     "output_type": "stream",
     "text": [
      "c:\\Users\\FilipeAraujoXimenes\\anaconda3\\Lib\\site-packages\\keras\\src\\layers\\rnn\\rnn.py:204: UserWarning: Do not pass an `input_shape`/`input_dim` argument to a layer. When using Sequential models, prefer using an `Input(shape)` object as the first layer in the model instead.\n",
      "  super().__init__(**kwargs)\n"
     ]
    },
    {
     "name": "stdout",
     "output_type": "stream",
     "text": [
      "\u001b[1m175/175\u001b[0m \u001b[32m━━━━━━━━━━━━━━━━━━━━\u001b[0m\u001b[37m\u001b[0m \u001b[1m5s\u001b[0m 29ms/step\n",
      "NMSE médio do módulo dos coeficientes: 0.295755\n",
      "\n",
      "Executando combinação 151/216: {'sequence_length': 30, 'lstm_units': 256, 'dropout_rate': 0.2, 'learning_rate': 0.001, 'batch_size': 32}\n"
     ]
    },
    {
     "name": "stderr",
     "output_type": "stream",
     "text": [
      "c:\\Users\\FilipeAraujoXimenes\\anaconda3\\Lib\\site-packages\\keras\\src\\layers\\rnn\\rnn.py:204: UserWarning: Do not pass an `input_shape`/`input_dim` argument to a layer. When using Sequential models, prefer using an `Input(shape)` object as the first layer in the model instead.\n",
      "  super().__init__(**kwargs)\n"
     ]
    },
    {
     "name": "stdout",
     "output_type": "stream",
     "text": [
      "\u001b[1m175/175\u001b[0m \u001b[32m━━━━━━━━━━━━━━━━━━━━\u001b[0m\u001b[37m\u001b[0m \u001b[1m6s\u001b[0m 31ms/step\n",
      "NMSE médio do módulo dos coeficientes: 0.035085\n",
      "\n",
      "Executando combinação 152/216: {'sequence_length': 30, 'lstm_units': 256, 'dropout_rate': 0.2, 'learning_rate': 0.001, 'batch_size': 64}\n"
     ]
    },
    {
     "name": "stderr",
     "output_type": "stream",
     "text": [
      "c:\\Users\\FilipeAraujoXimenes\\anaconda3\\Lib\\site-packages\\keras\\src\\layers\\rnn\\rnn.py:204: UserWarning: Do not pass an `input_shape`/`input_dim` argument to a layer. When using Sequential models, prefer using an `Input(shape)` object as the first layer in the model instead.\n",
      "  super().__init__(**kwargs)\n"
     ]
    },
    {
     "name": "stdout",
     "output_type": "stream",
     "text": [
      "\u001b[1m175/175\u001b[0m \u001b[32m━━━━━━━━━━━━━━━━━━━━\u001b[0m\u001b[37m\u001b[0m \u001b[1m5s\u001b[0m 24ms/step\n",
      "NMSE médio do módulo dos coeficientes: 0.041291\n",
      "\n",
      "Executando combinação 153/216: {'sequence_length': 30, 'lstm_units': 256, 'dropout_rate': 0.2, 'learning_rate': 0.0005, 'batch_size': 32}\n"
     ]
    },
    {
     "name": "stderr",
     "output_type": "stream",
     "text": [
      "c:\\Users\\FilipeAraujoXimenes\\anaconda3\\Lib\\site-packages\\keras\\src\\layers\\rnn\\rnn.py:204: UserWarning: Do not pass an `input_shape`/`input_dim` argument to a layer. When using Sequential models, prefer using an `Input(shape)` object as the first layer in the model instead.\n",
      "  super().__init__(**kwargs)\n"
     ]
    },
    {
     "name": "stdout",
     "output_type": "stream",
     "text": [
      "\u001b[1m175/175\u001b[0m \u001b[32m━━━━━━━━━━━━━━━━━━━━\u001b[0m\u001b[37m\u001b[0m \u001b[1m7s\u001b[0m 39ms/step\n",
      "NMSE médio do módulo dos coeficientes: 0.046880\n",
      "\n",
      "Executando combinação 154/216: {'sequence_length': 30, 'lstm_units': 256, 'dropout_rate': 0.2, 'learning_rate': 0.0005, 'batch_size': 64}\n"
     ]
    },
    {
     "name": "stderr",
     "output_type": "stream",
     "text": [
      "c:\\Users\\FilipeAraujoXimenes\\anaconda3\\Lib\\site-packages\\keras\\src\\layers\\rnn\\rnn.py:204: UserWarning: Do not pass an `input_shape`/`input_dim` argument to a layer. When using Sequential models, prefer using an `Input(shape)` object as the first layer in the model instead.\n",
      "  super().__init__(**kwargs)\n"
     ]
    },
    {
     "name": "stdout",
     "output_type": "stream",
     "text": [
      "\u001b[1m175/175\u001b[0m \u001b[32m━━━━━━━━━━━━━━━━━━━━\u001b[0m\u001b[37m\u001b[0m \u001b[1m5s\u001b[0m 29ms/step\n",
      "NMSE médio do módulo dos coeficientes: 0.083926\n",
      "\n",
      "Executando combinação 155/216: {'sequence_length': 30, 'lstm_units': 256, 'dropout_rate': 0.2, 'learning_rate': 0.0001, 'batch_size': 32}\n"
     ]
    },
    {
     "name": "stderr",
     "output_type": "stream",
     "text": [
      "c:\\Users\\FilipeAraujoXimenes\\anaconda3\\Lib\\site-packages\\keras\\src\\layers\\rnn\\rnn.py:204: UserWarning: Do not pass an `input_shape`/`input_dim` argument to a layer. When using Sequential models, prefer using an `Input(shape)` object as the first layer in the model instead.\n",
      "  super().__init__(**kwargs)\n"
     ]
    },
    {
     "name": "stdout",
     "output_type": "stream",
     "text": [
      "\u001b[1m175/175\u001b[0m \u001b[32m━━━━━━━━━━━━━━━━━━━━\u001b[0m\u001b[37m\u001b[0m \u001b[1m5s\u001b[0m 27ms/step\n",
      "NMSE médio do módulo dos coeficientes: 0.243907\n",
      "\n",
      "Executando combinação 156/216: {'sequence_length': 30, 'lstm_units': 256, 'dropout_rate': 0.2, 'learning_rate': 0.0001, 'batch_size': 64}\n"
     ]
    },
    {
     "name": "stderr",
     "output_type": "stream",
     "text": [
      "c:\\Users\\FilipeAraujoXimenes\\anaconda3\\Lib\\site-packages\\keras\\src\\layers\\rnn\\rnn.py:204: UserWarning: Do not pass an `input_shape`/`input_dim` argument to a layer. When using Sequential models, prefer using an `Input(shape)` object as the first layer in the model instead.\n",
      "  super().__init__(**kwargs)\n"
     ]
    },
    {
     "name": "stdout",
     "output_type": "stream",
     "text": [
      "\u001b[1m175/175\u001b[0m \u001b[32m━━━━━━━━━━━━━━━━━━━━\u001b[0m\u001b[37m\u001b[0m \u001b[1m5s\u001b[0m 28ms/step\n",
      "NMSE médio do módulo dos coeficientes: 0.364755\n",
      "\n",
      "Executando combinação 157/216: {'sequence_length': 30, 'lstm_units': 256, 'dropout_rate': 0.3, 'learning_rate': 0.001, 'batch_size': 32}\n"
     ]
    },
    {
     "name": "stderr",
     "output_type": "stream",
     "text": [
      "c:\\Users\\FilipeAraujoXimenes\\anaconda3\\Lib\\site-packages\\keras\\src\\layers\\rnn\\rnn.py:204: UserWarning: Do not pass an `input_shape`/`input_dim` argument to a layer. When using Sequential models, prefer using an `Input(shape)` object as the first layer in the model instead.\n",
      "  super().__init__(**kwargs)\n"
     ]
    },
    {
     "name": "stdout",
     "output_type": "stream",
     "text": [
      "\u001b[1m175/175\u001b[0m \u001b[32m━━━━━━━━━━━━━━━━━━━━\u001b[0m\u001b[37m\u001b[0m \u001b[1m6s\u001b[0m 32ms/step\n",
      "NMSE médio do módulo dos coeficientes: 0.054512\n",
      "\n",
      "Executando combinação 158/216: {'sequence_length': 30, 'lstm_units': 256, 'dropout_rate': 0.3, 'learning_rate': 0.001, 'batch_size': 64}\n"
     ]
    },
    {
     "name": "stderr",
     "output_type": "stream",
     "text": [
      "c:\\Users\\FilipeAraujoXimenes\\anaconda3\\Lib\\site-packages\\keras\\src\\layers\\rnn\\rnn.py:204: UserWarning: Do not pass an `input_shape`/`input_dim` argument to a layer. When using Sequential models, prefer using an `Input(shape)` object as the first layer in the model instead.\n",
      "  super().__init__(**kwargs)\n"
     ]
    },
    {
     "name": "stdout",
     "output_type": "stream",
     "text": [
      "\u001b[1m175/175\u001b[0m \u001b[32m━━━━━━━━━━━━━━━━━━━━\u001b[0m\u001b[37m\u001b[0m \u001b[1m6s\u001b[0m 32ms/step\n",
      "NMSE médio do módulo dos coeficientes: 0.062833\n",
      "\n",
      "Executando combinação 159/216: {'sequence_length': 30, 'lstm_units': 256, 'dropout_rate': 0.3, 'learning_rate': 0.0005, 'batch_size': 32}\n"
     ]
    },
    {
     "name": "stderr",
     "output_type": "stream",
     "text": [
      "c:\\Users\\FilipeAraujoXimenes\\anaconda3\\Lib\\site-packages\\keras\\src\\layers\\rnn\\rnn.py:204: UserWarning: Do not pass an `input_shape`/`input_dim` argument to a layer. When using Sequential models, prefer using an `Input(shape)` object as the first layer in the model instead.\n",
      "  super().__init__(**kwargs)\n"
     ]
    },
    {
     "name": "stdout",
     "output_type": "stream",
     "text": [
      "\u001b[1m175/175\u001b[0m \u001b[32m━━━━━━━━━━━━━━━━━━━━\u001b[0m\u001b[37m\u001b[0m \u001b[1m6s\u001b[0m 32ms/step\n",
      "NMSE médio do módulo dos coeficientes: 0.072912\n",
      "\n",
      "Executando combinação 160/216: {'sequence_length': 30, 'lstm_units': 256, 'dropout_rate': 0.3, 'learning_rate': 0.0005, 'batch_size': 64}\n"
     ]
    },
    {
     "name": "stderr",
     "output_type": "stream",
     "text": [
      "c:\\Users\\FilipeAraujoXimenes\\anaconda3\\Lib\\site-packages\\keras\\src\\layers\\rnn\\rnn.py:204: UserWarning: Do not pass an `input_shape`/`input_dim` argument to a layer. When using Sequential models, prefer using an `Input(shape)` object as the first layer in the model instead.\n",
      "  super().__init__(**kwargs)\n"
     ]
    },
    {
     "name": "stdout",
     "output_type": "stream",
     "text": [
      "\u001b[1m175/175\u001b[0m \u001b[32m━━━━━━━━━━━━━━━━━━━━\u001b[0m\u001b[37m\u001b[0m \u001b[1m6s\u001b[0m 31ms/step\n",
      "NMSE médio do módulo dos coeficientes: 0.119129\n",
      "\n",
      "Executando combinação 161/216: {'sequence_length': 30, 'lstm_units': 256, 'dropout_rate': 0.3, 'learning_rate': 0.0001, 'batch_size': 32}\n"
     ]
    },
    {
     "name": "stderr",
     "output_type": "stream",
     "text": [
      "c:\\Users\\FilipeAraujoXimenes\\anaconda3\\Lib\\site-packages\\keras\\src\\layers\\rnn\\rnn.py:204: UserWarning: Do not pass an `input_shape`/`input_dim` argument to a layer. When using Sequential models, prefer using an `Input(shape)` object as the first layer in the model instead.\n",
      "  super().__init__(**kwargs)\n"
     ]
    },
    {
     "name": "stdout",
     "output_type": "stream",
     "text": [
      "\u001b[1m175/175\u001b[0m \u001b[32m━━━━━━━━━━━━━━━━━━━━\u001b[0m\u001b[37m\u001b[0m \u001b[1m7s\u001b[0m 37ms/step\n",
      "NMSE médio do módulo dos coeficientes: 0.309989\n",
      "\n",
      "Executando combinação 162/216: {'sequence_length': 30, 'lstm_units': 256, 'dropout_rate': 0.3, 'learning_rate': 0.0001, 'batch_size': 64}\n"
     ]
    },
    {
     "name": "stderr",
     "output_type": "stream",
     "text": [
      "c:\\Users\\FilipeAraujoXimenes\\anaconda3\\Lib\\site-packages\\keras\\src\\layers\\rnn\\rnn.py:204: UserWarning: Do not pass an `input_shape`/`input_dim` argument to a layer. When using Sequential models, prefer using an `Input(shape)` object as the first layer in the model instead.\n",
      "  super().__init__(**kwargs)\n"
     ]
    },
    {
     "name": "stdout",
     "output_type": "stream",
     "text": [
      "\u001b[1m175/175\u001b[0m \u001b[32m━━━━━━━━━━━━━━━━━━━━\u001b[0m\u001b[37m\u001b[0m \u001b[1m7s\u001b[0m 37ms/step\n",
      "NMSE médio do módulo dos coeficientes: 0.453335\n",
      "\n",
      "Executando combinação 163/216: {'sequence_length': 40, 'lstm_units': 64, 'dropout_rate': 0.1, 'learning_rate': 0.001, 'batch_size': 32}\n"
     ]
    },
    {
     "name": "stderr",
     "output_type": "stream",
     "text": [
      "c:\\Users\\FilipeAraujoXimenes\\anaconda3\\Lib\\site-packages\\keras\\src\\layers\\rnn\\rnn.py:204: UserWarning: Do not pass an `input_shape`/`input_dim` argument to a layer. When using Sequential models, prefer using an `Input(shape)` object as the first layer in the model instead.\n",
      "  super().__init__(**kwargs)\n"
     ]
    },
    {
     "name": "stdout",
     "output_type": "stream",
     "text": [
      "\u001b[1m174/174\u001b[0m \u001b[32m━━━━━━━━━━━━━━━━━━━━\u001b[0m\u001b[37m\u001b[0m \u001b[1m4s\u001b[0m 17ms/step\n",
      "NMSE médio do módulo dos coeficientes: 0.068320\n",
      "\n",
      "Executando combinação 164/216: {'sequence_length': 40, 'lstm_units': 64, 'dropout_rate': 0.1, 'learning_rate': 0.001, 'batch_size': 64}\n"
     ]
    },
    {
     "name": "stderr",
     "output_type": "stream",
     "text": [
      "c:\\Users\\FilipeAraujoXimenes\\anaconda3\\Lib\\site-packages\\keras\\src\\layers\\rnn\\rnn.py:204: UserWarning: Do not pass an `input_shape`/`input_dim` argument to a layer. When using Sequential models, prefer using an `Input(shape)` object as the first layer in the model instead.\n",
      "  super().__init__(**kwargs)\n"
     ]
    },
    {
     "name": "stdout",
     "output_type": "stream",
     "text": [
      "\u001b[1m174/174\u001b[0m \u001b[32m━━━━━━━━━━━━━━━━━━━━\u001b[0m\u001b[37m\u001b[0m \u001b[1m3s\u001b[0m 16ms/step\n",
      "NMSE médio do módulo dos coeficientes: 0.089183\n",
      "\n",
      "Executando combinação 165/216: {'sequence_length': 40, 'lstm_units': 64, 'dropout_rate': 0.1, 'learning_rate': 0.0005, 'batch_size': 32}\n"
     ]
    },
    {
     "name": "stderr",
     "output_type": "stream",
     "text": [
      "c:\\Users\\FilipeAraujoXimenes\\anaconda3\\Lib\\site-packages\\keras\\src\\layers\\rnn\\rnn.py:204: UserWarning: Do not pass an `input_shape`/`input_dim` argument to a layer. When using Sequential models, prefer using an `Input(shape)` object as the first layer in the model instead.\n",
      "  super().__init__(**kwargs)\n"
     ]
    },
    {
     "name": "stdout",
     "output_type": "stream",
     "text": [
      "\u001b[1m174/174\u001b[0m \u001b[32m━━━━━━━━━━━━━━━━━━━━\u001b[0m\u001b[37m\u001b[0m \u001b[1m3s\u001b[0m 13ms/step\n",
      "NMSE médio do módulo dos coeficientes: 0.098034\n",
      "\n",
      "Executando combinação 166/216: {'sequence_length': 40, 'lstm_units': 64, 'dropout_rate': 0.1, 'learning_rate': 0.0005, 'batch_size': 64}\n"
     ]
    },
    {
     "name": "stderr",
     "output_type": "stream",
     "text": [
      "c:\\Users\\FilipeAraujoXimenes\\anaconda3\\Lib\\site-packages\\keras\\src\\layers\\rnn\\rnn.py:204: UserWarning: Do not pass an `input_shape`/`input_dim` argument to a layer. When using Sequential models, prefer using an `Input(shape)` object as the first layer in the model instead.\n",
      "  super().__init__(**kwargs)\n"
     ]
    },
    {
     "name": "stdout",
     "output_type": "stream",
     "text": [
      "\u001b[1m174/174\u001b[0m \u001b[32m━━━━━━━━━━━━━━━━━━━━\u001b[0m\u001b[37m\u001b[0m \u001b[1m3s\u001b[0m 14ms/step\n",
      "NMSE médio do módulo dos coeficientes: 0.169103\n",
      "\n",
      "Executando combinação 167/216: {'sequence_length': 40, 'lstm_units': 64, 'dropout_rate': 0.1, 'learning_rate': 0.0001, 'batch_size': 32}\n"
     ]
    },
    {
     "name": "stderr",
     "output_type": "stream",
     "text": [
      "c:\\Users\\FilipeAraujoXimenes\\anaconda3\\Lib\\site-packages\\keras\\src\\layers\\rnn\\rnn.py:204: UserWarning: Do not pass an `input_shape`/`input_dim` argument to a layer. When using Sequential models, prefer using an `Input(shape)` object as the first layer in the model instead.\n",
      "  super().__init__(**kwargs)\n"
     ]
    },
    {
     "name": "stdout",
     "output_type": "stream",
     "text": [
      "\u001b[1m174/174\u001b[0m \u001b[32m━━━━━━━━━━━━━━━━━━━━\u001b[0m\u001b[37m\u001b[0m \u001b[1m2s\u001b[0m 10ms/step\n",
      "NMSE médio do módulo dos coeficientes: 0.487144\n",
      "\n",
      "Executando combinação 168/216: {'sequence_length': 40, 'lstm_units': 64, 'dropout_rate': 0.1, 'learning_rate': 0.0001, 'batch_size': 64}\n"
     ]
    },
    {
     "name": "stderr",
     "output_type": "stream",
     "text": [
      "c:\\Users\\FilipeAraujoXimenes\\anaconda3\\Lib\\site-packages\\keras\\src\\layers\\rnn\\rnn.py:204: UserWarning: Do not pass an `input_shape`/`input_dim` argument to a layer. When using Sequential models, prefer using an `Input(shape)` object as the first layer in the model instead.\n",
      "  super().__init__(**kwargs)\n"
     ]
    },
    {
     "name": "stdout",
     "output_type": "stream",
     "text": [
      "\u001b[1m174/174\u001b[0m \u001b[32m━━━━━━━━━━━━━━━━━━━━\u001b[0m\u001b[37m\u001b[0m \u001b[1m2s\u001b[0m 11ms/step\n",
      "NMSE médio do módulo dos coeficientes: 0.817012\n",
      "\n",
      "Executando combinação 169/216: {'sequence_length': 40, 'lstm_units': 64, 'dropout_rate': 0.2, 'learning_rate': 0.001, 'batch_size': 32}\n"
     ]
    },
    {
     "name": "stderr",
     "output_type": "stream",
     "text": [
      "c:\\Users\\FilipeAraujoXimenes\\anaconda3\\Lib\\site-packages\\keras\\src\\layers\\rnn\\rnn.py:204: UserWarning: Do not pass an `input_shape`/`input_dim` argument to a layer. When using Sequential models, prefer using an `Input(shape)` object as the first layer in the model instead.\n",
      "  super().__init__(**kwargs)\n"
     ]
    },
    {
     "name": "stdout",
     "output_type": "stream",
     "text": [
      "\u001b[1m174/174\u001b[0m \u001b[32m━━━━━━━━━━━━━━━━━━━━\u001b[0m\u001b[37m\u001b[0m \u001b[1m2s\u001b[0m 9ms/step\n",
      "NMSE médio do módulo dos coeficientes: 0.161952\n",
      "\n",
      "Executando combinação 170/216: {'sequence_length': 40, 'lstm_units': 64, 'dropout_rate': 0.2, 'learning_rate': 0.001, 'batch_size': 64}\n"
     ]
    },
    {
     "name": "stderr",
     "output_type": "stream",
     "text": [
      "c:\\Users\\FilipeAraujoXimenes\\anaconda3\\Lib\\site-packages\\keras\\src\\layers\\rnn\\rnn.py:204: UserWarning: Do not pass an `input_shape`/`input_dim` argument to a layer. When using Sequential models, prefer using an `Input(shape)` object as the first layer in the model instead.\n",
      "  super().__init__(**kwargs)\n"
     ]
    },
    {
     "name": "stdout",
     "output_type": "stream",
     "text": [
      "\u001b[1m174/174\u001b[0m \u001b[32m━━━━━━━━━━━━━━━━━━━━\u001b[0m\u001b[37m\u001b[0m \u001b[1m2s\u001b[0m 10ms/step\n",
      "NMSE médio do módulo dos coeficientes: 0.178821\n",
      "\n",
      "Executando combinação 171/216: {'sequence_length': 40, 'lstm_units': 64, 'dropout_rate': 0.2, 'learning_rate': 0.0005, 'batch_size': 32}\n"
     ]
    },
    {
     "name": "stderr",
     "output_type": "stream",
     "text": [
      "c:\\Users\\FilipeAraujoXimenes\\anaconda3\\Lib\\site-packages\\keras\\src\\layers\\rnn\\rnn.py:204: UserWarning: Do not pass an `input_shape`/`input_dim` argument to a layer. When using Sequential models, prefer using an `Input(shape)` object as the first layer in the model instead.\n",
      "  super().__init__(**kwargs)\n"
     ]
    },
    {
     "name": "stdout",
     "output_type": "stream",
     "text": [
      "\u001b[1m174/174\u001b[0m \u001b[32m━━━━━━━━━━━━━━━━━━━━\u001b[0m\u001b[37m\u001b[0m \u001b[1m2s\u001b[0m 11ms/step\n",
      "NMSE médio do módulo dos coeficientes: 0.215482\n",
      "\n",
      "Executando combinação 172/216: {'sequence_length': 40, 'lstm_units': 64, 'dropout_rate': 0.2, 'learning_rate': 0.0005, 'batch_size': 64}\n"
     ]
    },
    {
     "name": "stderr",
     "output_type": "stream",
     "text": [
      "c:\\Users\\FilipeAraujoXimenes\\anaconda3\\Lib\\site-packages\\keras\\src\\layers\\rnn\\rnn.py:204: UserWarning: Do not pass an `input_shape`/`input_dim` argument to a layer. When using Sequential models, prefer using an `Input(shape)` object as the first layer in the model instead.\n",
      "  super().__init__(**kwargs)\n"
     ]
    },
    {
     "name": "stdout",
     "output_type": "stream",
     "text": [
      "\u001b[1m174/174\u001b[0m \u001b[32m━━━━━━━━━━━━━━━━━━━━\u001b[0m\u001b[37m\u001b[0m \u001b[1m2s\u001b[0m 9ms/step\n",
      "NMSE médio do módulo dos coeficientes: 0.312195\n",
      "\n",
      "Executando combinação 173/216: {'sequence_length': 40, 'lstm_units': 64, 'dropout_rate': 0.2, 'learning_rate': 0.0001, 'batch_size': 32}\n"
     ]
    },
    {
     "name": "stderr",
     "output_type": "stream",
     "text": [
      "c:\\Users\\FilipeAraujoXimenes\\anaconda3\\Lib\\site-packages\\keras\\src\\layers\\rnn\\rnn.py:204: UserWarning: Do not pass an `input_shape`/`input_dim` argument to a layer. When using Sequential models, prefer using an `Input(shape)` object as the first layer in the model instead.\n",
      "  super().__init__(**kwargs)\n"
     ]
    },
    {
     "name": "stdout",
     "output_type": "stream",
     "text": [
      "\u001b[1m174/174\u001b[0m \u001b[32m━━━━━━━━━━━━━━━━━━━━\u001b[0m\u001b[37m\u001b[0m \u001b[1m2s\u001b[0m 9ms/step\n",
      "NMSE médio do módulo dos coeficientes: 0.691773\n",
      "\n",
      "Executando combinação 174/216: {'sequence_length': 40, 'lstm_units': 64, 'dropout_rate': 0.2, 'learning_rate': 0.0001, 'batch_size': 64}\n"
     ]
    },
    {
     "name": "stderr",
     "output_type": "stream",
     "text": [
      "c:\\Users\\FilipeAraujoXimenes\\anaconda3\\Lib\\site-packages\\keras\\src\\layers\\rnn\\rnn.py:204: UserWarning: Do not pass an `input_shape`/`input_dim` argument to a layer. When using Sequential models, prefer using an `Input(shape)` object as the first layer in the model instead.\n",
      "  super().__init__(**kwargs)\n"
     ]
    },
    {
     "name": "stdout",
     "output_type": "stream",
     "text": [
      "\u001b[1m174/174\u001b[0m \u001b[32m━━━━━━━━━━━━━━━━━━━━\u001b[0m\u001b[37m\u001b[0m \u001b[1m2s\u001b[0m 9ms/step\n",
      "NMSE médio do módulo dos coeficientes: 1.060106\n",
      "\n",
      "Executando combinação 175/216: {'sequence_length': 40, 'lstm_units': 64, 'dropout_rate': 0.3, 'learning_rate': 0.001, 'batch_size': 32}\n"
     ]
    },
    {
     "name": "stderr",
     "output_type": "stream",
     "text": [
      "c:\\Users\\FilipeAraujoXimenes\\anaconda3\\Lib\\site-packages\\keras\\src\\layers\\rnn\\rnn.py:204: UserWarning: Do not pass an `input_shape`/`input_dim` argument to a layer. When using Sequential models, prefer using an `Input(shape)` object as the first layer in the model instead.\n",
      "  super().__init__(**kwargs)\n"
     ]
    },
    {
     "name": "stdout",
     "output_type": "stream",
     "text": [
      "\u001b[1m174/174\u001b[0m \u001b[32m━━━━━━━━━━━━━━━━━━━━\u001b[0m\u001b[37m\u001b[0m \u001b[1m2s\u001b[0m 11ms/step\n",
      "NMSE médio do módulo dos coeficientes: 0.309671\n",
      "\n",
      "Executando combinação 176/216: {'sequence_length': 40, 'lstm_units': 64, 'dropout_rate': 0.3, 'learning_rate': 0.001, 'batch_size': 64}\n"
     ]
    },
    {
     "name": "stderr",
     "output_type": "stream",
     "text": [
      "c:\\Users\\FilipeAraujoXimenes\\anaconda3\\Lib\\site-packages\\keras\\src\\layers\\rnn\\rnn.py:204: UserWarning: Do not pass an `input_shape`/`input_dim` argument to a layer. When using Sequential models, prefer using an `Input(shape)` object as the first layer in the model instead.\n",
      "  super().__init__(**kwargs)\n"
     ]
    },
    {
     "name": "stdout",
     "output_type": "stream",
     "text": [
      "\u001b[1m174/174\u001b[0m \u001b[32m━━━━━━━━━━━━━━━━━━━━\u001b[0m\u001b[37m\u001b[0m \u001b[1m3s\u001b[0m 13ms/step\n",
      "NMSE médio do módulo dos coeficientes: 0.361211\n",
      "\n",
      "Executando combinação 177/216: {'sequence_length': 40, 'lstm_units': 64, 'dropout_rate': 0.3, 'learning_rate': 0.0005, 'batch_size': 32}\n"
     ]
    },
    {
     "name": "stderr",
     "output_type": "stream",
     "text": [
      "c:\\Users\\FilipeAraujoXimenes\\anaconda3\\Lib\\site-packages\\keras\\src\\layers\\rnn\\rnn.py:204: UserWarning: Do not pass an `input_shape`/`input_dim` argument to a layer. When using Sequential models, prefer using an `Input(shape)` object as the first layer in the model instead.\n",
      "  super().__init__(**kwargs)\n"
     ]
    },
    {
     "name": "stdout",
     "output_type": "stream",
     "text": [
      "\u001b[1m174/174\u001b[0m \u001b[32m━━━━━━━━━━━━━━━━━━━━\u001b[0m\u001b[37m\u001b[0m \u001b[1m2s\u001b[0m 10ms/step\n",
      "NMSE médio do módulo dos coeficientes: 0.393878\n",
      "\n",
      "Executando combinação 178/216: {'sequence_length': 40, 'lstm_units': 64, 'dropout_rate': 0.3, 'learning_rate': 0.0005, 'batch_size': 64}\n"
     ]
    },
    {
     "name": "stderr",
     "output_type": "stream",
     "text": [
      "c:\\Users\\FilipeAraujoXimenes\\anaconda3\\Lib\\site-packages\\keras\\src\\layers\\rnn\\rnn.py:204: UserWarning: Do not pass an `input_shape`/`input_dim` argument to a layer. When using Sequential models, prefer using an `Input(shape)` object as the first layer in the model instead.\n",
      "  super().__init__(**kwargs)\n"
     ]
    },
    {
     "name": "stdout",
     "output_type": "stream",
     "text": [
      "\u001b[1m174/174\u001b[0m \u001b[32m━━━━━━━━━━━━━━━━━━━━\u001b[0m\u001b[37m\u001b[0m \u001b[1m2s\u001b[0m 9ms/step\n",
      "NMSE médio do módulo dos coeficientes: 0.487621\n",
      "\n",
      "Executando combinação 179/216: {'sequence_length': 40, 'lstm_units': 64, 'dropout_rate': 0.3, 'learning_rate': 0.0001, 'batch_size': 32}\n"
     ]
    },
    {
     "name": "stderr",
     "output_type": "stream",
     "text": [
      "c:\\Users\\FilipeAraujoXimenes\\anaconda3\\Lib\\site-packages\\keras\\src\\layers\\rnn\\rnn.py:204: UserWarning: Do not pass an `input_shape`/`input_dim` argument to a layer. When using Sequential models, prefer using an `Input(shape)` object as the first layer in the model instead.\n",
      "  super().__init__(**kwargs)\n"
     ]
    },
    {
     "name": "stdout",
     "output_type": "stream",
     "text": [
      "\u001b[1m174/174\u001b[0m \u001b[32m━━━━━━━━━━━━━━━━━━━━\u001b[0m\u001b[37m\u001b[0m \u001b[1m2s\u001b[0m 8ms/step\n",
      "NMSE médio do módulo dos coeficientes: 0.907981\n",
      "\n",
      "Executando combinação 180/216: {'sequence_length': 40, 'lstm_units': 64, 'dropout_rate': 0.3, 'learning_rate': 0.0001, 'batch_size': 64}\n"
     ]
    },
    {
     "name": "stderr",
     "output_type": "stream",
     "text": [
      "c:\\Users\\FilipeAraujoXimenes\\anaconda3\\Lib\\site-packages\\keras\\src\\layers\\rnn\\rnn.py:204: UserWarning: Do not pass an `input_shape`/`input_dim` argument to a layer. When using Sequential models, prefer using an `Input(shape)` object as the first layer in the model instead.\n",
      "  super().__init__(**kwargs)\n"
     ]
    },
    {
     "name": "stdout",
     "output_type": "stream",
     "text": [
      "\u001b[1m174/174\u001b[0m \u001b[32m━━━━━━━━━━━━━━━━━━━━\u001b[0m\u001b[37m\u001b[0m \u001b[1m2s\u001b[0m 9ms/step\n",
      "NMSE médio do módulo dos coeficientes: 1.272788\n",
      "\n",
      "Executando combinação 181/216: {'sequence_length': 40, 'lstm_units': 128, 'dropout_rate': 0.1, 'learning_rate': 0.001, 'batch_size': 32}\n"
     ]
    },
    {
     "name": "stderr",
     "output_type": "stream",
     "text": [
      "c:\\Users\\FilipeAraujoXimenes\\anaconda3\\Lib\\site-packages\\keras\\src\\layers\\rnn\\rnn.py:204: UserWarning: Do not pass an `input_shape`/`input_dim` argument to a layer. When using Sequential models, prefer using an `Input(shape)` object as the first layer in the model instead.\n",
      "  super().__init__(**kwargs)\n"
     ]
    },
    {
     "name": "stdout",
     "output_type": "stream",
     "text": [
      "\u001b[1m174/174\u001b[0m \u001b[32m━━━━━━━━━━━━━━━━━━━━\u001b[0m\u001b[37m\u001b[0m \u001b[1m5s\u001b[0m 26ms/step\n",
      "NMSE médio do módulo dos coeficientes: 0.033983\n",
      "\n",
      "Executando combinação 182/216: {'sequence_length': 40, 'lstm_units': 128, 'dropout_rate': 0.1, 'learning_rate': 0.001, 'batch_size': 64}\n"
     ]
    },
    {
     "name": "stderr",
     "output_type": "stream",
     "text": [
      "c:\\Users\\FilipeAraujoXimenes\\anaconda3\\Lib\\site-packages\\keras\\src\\layers\\rnn\\rnn.py:204: UserWarning: Do not pass an `input_shape`/`input_dim` argument to a layer. When using Sequential models, prefer using an `Input(shape)` object as the first layer in the model instead.\n",
      "  super().__init__(**kwargs)\n"
     ]
    },
    {
     "name": "stdout",
     "output_type": "stream",
     "text": [
      "\u001b[1m174/174\u001b[0m \u001b[32m━━━━━━━━━━━━━━━━━━━━\u001b[0m\u001b[37m\u001b[0m \u001b[1m3s\u001b[0m 14ms/step\n",
      "NMSE médio do módulo dos coeficientes: 0.045905\n",
      "\n",
      "Executando combinação 183/216: {'sequence_length': 40, 'lstm_units': 128, 'dropout_rate': 0.1, 'learning_rate': 0.0005, 'batch_size': 32}\n"
     ]
    },
    {
     "name": "stderr",
     "output_type": "stream",
     "text": [
      "c:\\Users\\FilipeAraujoXimenes\\anaconda3\\Lib\\site-packages\\keras\\src\\layers\\rnn\\rnn.py:204: UserWarning: Do not pass an `input_shape`/`input_dim` argument to a layer. When using Sequential models, prefer using an `Input(shape)` object as the first layer in the model instead.\n",
      "  super().__init__(**kwargs)\n"
     ]
    },
    {
     "name": "stdout",
     "output_type": "stream",
     "text": [
      "\u001b[1m174/174\u001b[0m \u001b[32m━━━━━━━━━━━━━━━━━━━━\u001b[0m\u001b[37m\u001b[0m \u001b[1m2s\u001b[0m 13ms/step\n",
      "NMSE médio do módulo dos coeficientes: 0.057903\n",
      "\n",
      "Executando combinação 184/216: {'sequence_length': 40, 'lstm_units': 128, 'dropout_rate': 0.1, 'learning_rate': 0.0005, 'batch_size': 64}\n"
     ]
    },
    {
     "name": "stderr",
     "output_type": "stream",
     "text": [
      "c:\\Users\\FilipeAraujoXimenes\\anaconda3\\Lib\\site-packages\\keras\\src\\layers\\rnn\\rnn.py:204: UserWarning: Do not pass an `input_shape`/`input_dim` argument to a layer. When using Sequential models, prefer using an `Input(shape)` object as the first layer in the model instead.\n",
      "  super().__init__(**kwargs)\n"
     ]
    },
    {
     "name": "stdout",
     "output_type": "stream",
     "text": [
      "\u001b[1m174/174\u001b[0m \u001b[32m━━━━━━━━━━━━━━━━━━━━\u001b[0m\u001b[37m\u001b[0m \u001b[1m2s\u001b[0m 13ms/step\n",
      "NMSE médio do módulo dos coeficientes: 0.097179\n",
      "\n",
      "Executando combinação 185/216: {'sequence_length': 40, 'lstm_units': 128, 'dropout_rate': 0.1, 'learning_rate': 0.0001, 'batch_size': 32}\n"
     ]
    },
    {
     "name": "stderr",
     "output_type": "stream",
     "text": [
      "c:\\Users\\FilipeAraujoXimenes\\anaconda3\\Lib\\site-packages\\keras\\src\\layers\\rnn\\rnn.py:204: UserWarning: Do not pass an `input_shape`/`input_dim` argument to a layer. When using Sequential models, prefer using an `Input(shape)` object as the first layer in the model instead.\n",
      "  super().__init__(**kwargs)\n"
     ]
    },
    {
     "name": "stdout",
     "output_type": "stream",
     "text": [
      "\u001b[1m174/174\u001b[0m \u001b[32m━━━━━━━━━━━━━━━━━━━━\u001b[0m\u001b[37m\u001b[0m \u001b[1m3s\u001b[0m 14ms/step\n",
      "NMSE médio do módulo dos coeficientes: 0.290526\n",
      "\n",
      "Executando combinação 186/216: {'sequence_length': 40, 'lstm_units': 128, 'dropout_rate': 0.1, 'learning_rate': 0.0001, 'batch_size': 64}\n"
     ]
    },
    {
     "name": "stderr",
     "output_type": "stream",
     "text": [
      "c:\\Users\\FilipeAraujoXimenes\\anaconda3\\Lib\\site-packages\\keras\\src\\layers\\rnn\\rnn.py:204: UserWarning: Do not pass an `input_shape`/`input_dim` argument to a layer. When using Sequential models, prefer using an `Input(shape)` object as the first layer in the model instead.\n",
      "  super().__init__(**kwargs)\n"
     ]
    },
    {
     "name": "stdout",
     "output_type": "stream",
     "text": [
      "\u001b[1m174/174\u001b[0m \u001b[32m━━━━━━━━━━━━━━━━━━━━\u001b[0m\u001b[37m\u001b[0m \u001b[1m3s\u001b[0m 16ms/step\n",
      "NMSE médio do módulo dos coeficientes: 0.410993\n",
      "\n",
      "Executando combinação 187/216: {'sequence_length': 40, 'lstm_units': 128, 'dropout_rate': 0.2, 'learning_rate': 0.001, 'batch_size': 32}\n"
     ]
    },
    {
     "name": "stderr",
     "output_type": "stream",
     "text": [
      "c:\\Users\\FilipeAraujoXimenes\\anaconda3\\Lib\\site-packages\\keras\\src\\layers\\rnn\\rnn.py:204: UserWarning: Do not pass an `input_shape`/`input_dim` argument to a layer. When using Sequential models, prefer using an `Input(shape)` object as the first layer in the model instead.\n",
      "  super().__init__(**kwargs)\n"
     ]
    },
    {
     "name": "stdout",
     "output_type": "stream",
     "text": [
      "\u001b[1m174/174\u001b[0m \u001b[32m━━━━━━━━━━━━━━━━━━━━\u001b[0m\u001b[37m\u001b[0m \u001b[1m2s\u001b[0m 13ms/step\n",
      "NMSE médio do módulo dos coeficientes: 0.064780\n",
      "\n",
      "Executando combinação 188/216: {'sequence_length': 40, 'lstm_units': 128, 'dropout_rate': 0.2, 'learning_rate': 0.001, 'batch_size': 64}\n"
     ]
    },
    {
     "name": "stderr",
     "output_type": "stream",
     "text": [
      "c:\\Users\\FilipeAraujoXimenes\\anaconda3\\Lib\\site-packages\\keras\\src\\layers\\rnn\\rnn.py:204: UserWarning: Do not pass an `input_shape`/`input_dim` argument to a layer. When using Sequential models, prefer using an `Input(shape)` object as the first layer in the model instead.\n",
      "  super().__init__(**kwargs)\n"
     ]
    },
    {
     "name": "stdout",
     "output_type": "stream",
     "text": [
      "\u001b[1m174/174\u001b[0m \u001b[32m━━━━━━━━━━━━━━━━━━━━\u001b[0m\u001b[37m\u001b[0m \u001b[1m3s\u001b[0m 14ms/step\n",
      "NMSE médio do módulo dos coeficientes: 0.076140\n",
      "\n",
      "Executando combinação 189/216: {'sequence_length': 40, 'lstm_units': 128, 'dropout_rate': 0.2, 'learning_rate': 0.0005, 'batch_size': 32}\n"
     ]
    },
    {
     "name": "stderr",
     "output_type": "stream",
     "text": [
      "c:\\Users\\FilipeAraujoXimenes\\anaconda3\\Lib\\site-packages\\keras\\src\\layers\\rnn\\rnn.py:204: UserWarning: Do not pass an `input_shape`/`input_dim` argument to a layer. When using Sequential models, prefer using an `Input(shape)` object as the first layer in the model instead.\n",
      "  super().__init__(**kwargs)\n"
     ]
    },
    {
     "name": "stdout",
     "output_type": "stream",
     "text": [
      "\u001b[1m174/174\u001b[0m \u001b[32m━━━━━━━━━━━━━━━━━━━━\u001b[0m\u001b[37m\u001b[0m \u001b[1m3s\u001b[0m 15ms/step\n",
      "NMSE médio do módulo dos coeficientes: 0.092792\n",
      "\n",
      "Executando combinação 190/216: {'sequence_length': 40, 'lstm_units': 128, 'dropout_rate': 0.2, 'learning_rate': 0.0005, 'batch_size': 64}\n"
     ]
    },
    {
     "name": "stderr",
     "output_type": "stream",
     "text": [
      "c:\\Users\\FilipeAraujoXimenes\\anaconda3\\Lib\\site-packages\\keras\\src\\layers\\rnn\\rnn.py:204: UserWarning: Do not pass an `input_shape`/`input_dim` argument to a layer. When using Sequential models, prefer using an `Input(shape)` object as the first layer in the model instead.\n",
      "  super().__init__(**kwargs)\n"
     ]
    },
    {
     "name": "stdout",
     "output_type": "stream",
     "text": [
      "\u001b[1m174/174\u001b[0m \u001b[32m━━━━━━━━━━━━━━━━━━━━\u001b[0m\u001b[37m\u001b[0m \u001b[1m2s\u001b[0m 13ms/step\n",
      "NMSE médio do módulo dos coeficientes: 0.122463\n",
      "\n",
      "Executando combinação 191/216: {'sequence_length': 40, 'lstm_units': 128, 'dropout_rate': 0.2, 'learning_rate': 0.0001, 'batch_size': 32}\n"
     ]
    },
    {
     "name": "stderr",
     "output_type": "stream",
     "text": [
      "c:\\Users\\FilipeAraujoXimenes\\anaconda3\\Lib\\site-packages\\keras\\src\\layers\\rnn\\rnn.py:204: UserWarning: Do not pass an `input_shape`/`input_dim` argument to a layer. When using Sequential models, prefer using an `Input(shape)` object as the first layer in the model instead.\n",
      "  super().__init__(**kwargs)\n"
     ]
    },
    {
     "name": "stdout",
     "output_type": "stream",
     "text": [
      "\u001b[1m174/174\u001b[0m \u001b[32m━━━━━━━━━━━━━━━━━━━━\u001b[0m\u001b[37m\u001b[0m \u001b[1m2s\u001b[0m 13ms/step\n",
      "NMSE médio do módulo dos coeficientes: 0.385988\n",
      "\n",
      "Executando combinação 192/216: {'sequence_length': 40, 'lstm_units': 128, 'dropout_rate': 0.2, 'learning_rate': 0.0001, 'batch_size': 64}\n"
     ]
    },
    {
     "name": "stderr",
     "output_type": "stream",
     "text": [
      "c:\\Users\\FilipeAraujoXimenes\\anaconda3\\Lib\\site-packages\\keras\\src\\layers\\rnn\\rnn.py:204: UserWarning: Do not pass an `input_shape`/`input_dim` argument to a layer. When using Sequential models, prefer using an `Input(shape)` object as the first layer in the model instead.\n",
      "  super().__init__(**kwargs)\n"
     ]
    },
    {
     "name": "stdout",
     "output_type": "stream",
     "text": [
      "\u001b[1m174/174\u001b[0m \u001b[32m━━━━━━━━━━━━━━━━━━━━\u001b[0m\u001b[37m\u001b[0m \u001b[1m3s\u001b[0m 18ms/step\n",
      "NMSE médio do módulo dos coeficientes: 0.537274\n",
      "\n",
      "Executando combinação 193/216: {'sequence_length': 40, 'lstm_units': 128, 'dropout_rate': 0.3, 'learning_rate': 0.001, 'batch_size': 32}\n"
     ]
    },
    {
     "name": "stderr",
     "output_type": "stream",
     "text": [
      "c:\\Users\\FilipeAraujoXimenes\\anaconda3\\Lib\\site-packages\\keras\\src\\layers\\rnn\\rnn.py:204: UserWarning: Do not pass an `input_shape`/`input_dim` argument to a layer. When using Sequential models, prefer using an `Input(shape)` object as the first layer in the model instead.\n",
      "  super().__init__(**kwargs)\n"
     ]
    },
    {
     "name": "stdout",
     "output_type": "stream",
     "text": [
      "\u001b[1m174/174\u001b[0m \u001b[32m━━━━━━━━━━━━━━━━━━━━\u001b[0m\u001b[37m\u001b[0m \u001b[1m3s\u001b[0m 14ms/step\n",
      "NMSE médio do módulo dos coeficientes: 0.115335\n",
      "\n",
      "Executando combinação 194/216: {'sequence_length': 40, 'lstm_units': 128, 'dropout_rate': 0.3, 'learning_rate': 0.001, 'batch_size': 64}\n"
     ]
    },
    {
     "name": "stderr",
     "output_type": "stream",
     "text": [
      "c:\\Users\\FilipeAraujoXimenes\\anaconda3\\Lib\\site-packages\\keras\\src\\layers\\rnn\\rnn.py:204: UserWarning: Do not pass an `input_shape`/`input_dim` argument to a layer. When using Sequential models, prefer using an `Input(shape)` object as the first layer in the model instead.\n",
      "  super().__init__(**kwargs)\n"
     ]
    },
    {
     "name": "stdout",
     "output_type": "stream",
     "text": [
      "\u001b[1m174/174\u001b[0m \u001b[32m━━━━━━━━━━━━━━━━━━━━\u001b[0m\u001b[37m\u001b[0m \u001b[1m3s\u001b[0m 14ms/step\n",
      "NMSE médio do módulo dos coeficientes: 0.138633\n",
      "\n",
      "Executando combinação 195/216: {'sequence_length': 40, 'lstm_units': 128, 'dropout_rate': 0.3, 'learning_rate': 0.0005, 'batch_size': 32}\n"
     ]
    },
    {
     "name": "stderr",
     "output_type": "stream",
     "text": [
      "c:\\Users\\FilipeAraujoXimenes\\anaconda3\\Lib\\site-packages\\keras\\src\\layers\\rnn\\rnn.py:204: UserWarning: Do not pass an `input_shape`/`input_dim` argument to a layer. When using Sequential models, prefer using an `Input(shape)` object as the first layer in the model instead.\n",
      "  super().__init__(**kwargs)\n"
     ]
    },
    {
     "name": "stdout",
     "output_type": "stream",
     "text": [
      "\u001b[1m174/174\u001b[0m \u001b[32m━━━━━━━━━━━━━━━━━━━━\u001b[0m\u001b[37m\u001b[0m \u001b[1m3s\u001b[0m 15ms/step\n",
      "NMSE médio do módulo dos coeficientes: 0.195678\n",
      "\n",
      "Executando combinação 196/216: {'sequence_length': 40, 'lstm_units': 128, 'dropout_rate': 0.3, 'learning_rate': 0.0005, 'batch_size': 64}\n"
     ]
    },
    {
     "name": "stderr",
     "output_type": "stream",
     "text": [
      "c:\\Users\\FilipeAraujoXimenes\\anaconda3\\Lib\\site-packages\\keras\\src\\layers\\rnn\\rnn.py:204: UserWarning: Do not pass an `input_shape`/`input_dim` argument to a layer. When using Sequential models, prefer using an `Input(shape)` object as the first layer in the model instead.\n",
      "  super().__init__(**kwargs)\n"
     ]
    },
    {
     "name": "stdout",
     "output_type": "stream",
     "text": [
      "\u001b[1m174/174\u001b[0m \u001b[32m━━━━━━━━━━━━━━━━━━━━\u001b[0m\u001b[37m\u001b[0m \u001b[1m2s\u001b[0m 12ms/step\n",
      "NMSE médio do módulo dos coeficientes: 0.225607\n",
      "\n",
      "Executando combinação 197/216: {'sequence_length': 40, 'lstm_units': 128, 'dropout_rate': 0.3, 'learning_rate': 0.0001, 'batch_size': 32}\n"
     ]
    },
    {
     "name": "stderr",
     "output_type": "stream",
     "text": [
      "c:\\Users\\FilipeAraujoXimenes\\anaconda3\\Lib\\site-packages\\keras\\src\\layers\\rnn\\rnn.py:204: UserWarning: Do not pass an `input_shape`/`input_dim` argument to a layer. When using Sequential models, prefer using an `Input(shape)` object as the first layer in the model instead.\n",
      "  super().__init__(**kwargs)\n"
     ]
    },
    {
     "name": "stdout",
     "output_type": "stream",
     "text": [
      "\u001b[1m174/174\u001b[0m \u001b[32m━━━━━━━━━━━━━━━━━━━━\u001b[0m\u001b[37m\u001b[0m \u001b[1m2s\u001b[0m 11ms/step\n",
      "NMSE médio do módulo dos coeficientes: 0.506816\n",
      "\n",
      "Executando combinação 198/216: {'sequence_length': 40, 'lstm_units': 128, 'dropout_rate': 0.3, 'learning_rate': 0.0001, 'batch_size': 64}\n"
     ]
    },
    {
     "name": "stderr",
     "output_type": "stream",
     "text": [
      "c:\\Users\\FilipeAraujoXimenes\\anaconda3\\Lib\\site-packages\\keras\\src\\layers\\rnn\\rnn.py:204: UserWarning: Do not pass an `input_shape`/`input_dim` argument to a layer. When using Sequential models, prefer using an `Input(shape)` object as the first layer in the model instead.\n",
      "  super().__init__(**kwargs)\n"
     ]
    },
    {
     "name": "stdout",
     "output_type": "stream",
     "text": [
      "\u001b[1m174/174\u001b[0m \u001b[32m━━━━━━━━━━━━━━━━━━━━\u001b[0m\u001b[37m\u001b[0m \u001b[1m3s\u001b[0m 14ms/step\n",
      "NMSE médio do módulo dos coeficientes: 0.698723\n",
      "\n",
      "Executando combinação 199/216: {'sequence_length': 40, 'lstm_units': 256, 'dropout_rate': 0.1, 'learning_rate': 0.001, 'batch_size': 32}\n"
     ]
    },
    {
     "name": "stderr",
     "output_type": "stream",
     "text": [
      "c:\\Users\\FilipeAraujoXimenes\\anaconda3\\Lib\\site-packages\\keras\\src\\layers\\rnn\\rnn.py:204: UserWarning: Do not pass an `input_shape`/`input_dim` argument to a layer. When using Sequential models, prefer using an `Input(shape)` object as the first layer in the model instead.\n",
      "  super().__init__(**kwargs)\n"
     ]
    },
    {
     "name": "stdout",
     "output_type": "stream",
     "text": [
      "\u001b[1m174/174\u001b[0m \u001b[32m━━━━━━━━━━━━━━━━━━━━\u001b[0m\u001b[37m\u001b[0m \u001b[1m8s\u001b[0m 44ms/step\n",
      "NMSE médio do módulo dos coeficientes: 0.022821\n",
      "\n",
      "Executando combinação 200/216: {'sequence_length': 40, 'lstm_units': 256, 'dropout_rate': 0.1, 'learning_rate': 0.001, 'batch_size': 64}\n"
     ]
    },
    {
     "name": "stderr",
     "output_type": "stream",
     "text": [
      "c:\\Users\\FilipeAraujoXimenes\\anaconda3\\Lib\\site-packages\\keras\\src\\layers\\rnn\\rnn.py:204: UserWarning: Do not pass an `input_shape`/`input_dim` argument to a layer. When using Sequential models, prefer using an `Input(shape)` object as the first layer in the model instead.\n",
      "  super().__init__(**kwargs)\n"
     ]
    },
    {
     "name": "stdout",
     "output_type": "stream",
     "text": [
      "\u001b[1m174/174\u001b[0m \u001b[32m━━━━━━━━━━━━━━━━━━━━\u001b[0m\u001b[37m\u001b[0m \u001b[1m8s\u001b[0m 48ms/step\n",
      "NMSE médio do módulo dos coeficientes: 0.027786\n",
      "\n",
      "Executando combinação 201/216: {'sequence_length': 40, 'lstm_units': 256, 'dropout_rate': 0.1, 'learning_rate': 0.0005, 'batch_size': 32}\n"
     ]
    },
    {
     "name": "stderr",
     "output_type": "stream",
     "text": [
      "c:\\Users\\FilipeAraujoXimenes\\anaconda3\\Lib\\site-packages\\keras\\src\\layers\\rnn\\rnn.py:204: UserWarning: Do not pass an `input_shape`/`input_dim` argument to a layer. When using Sequential models, prefer using an `Input(shape)` object as the first layer in the model instead.\n",
      "  super().__init__(**kwargs)\n"
     ]
    },
    {
     "name": "stdout",
     "output_type": "stream",
     "text": [
      "\u001b[1m174/174\u001b[0m \u001b[32m━━━━━━━━━━━━━━━━━━━━\u001b[0m\u001b[37m\u001b[0m \u001b[1m9s\u001b[0m 50ms/step\n",
      "NMSE médio do módulo dos coeficientes: 0.038942\n",
      "\n",
      "Executando combinação 202/216: {'sequence_length': 40, 'lstm_units': 256, 'dropout_rate': 0.1, 'learning_rate': 0.0005, 'batch_size': 64}\n"
     ]
    },
    {
     "name": "stderr",
     "output_type": "stream",
     "text": [
      "c:\\Users\\FilipeAraujoXimenes\\anaconda3\\Lib\\site-packages\\keras\\src\\layers\\rnn\\rnn.py:204: UserWarning: Do not pass an `input_shape`/`input_dim` argument to a layer. When using Sequential models, prefer using an `Input(shape)` object as the first layer in the model instead.\n",
      "  super().__init__(**kwargs)\n"
     ]
    },
    {
     "name": "stdout",
     "output_type": "stream",
     "text": [
      "\u001b[1m174/174\u001b[0m \u001b[32m━━━━━━━━━━━━━━━━━━━━\u001b[0m\u001b[37m\u001b[0m \u001b[1m6s\u001b[0m 35ms/step\n",
      "NMSE médio do módulo dos coeficientes: 0.067256\n",
      "\n",
      "Executando combinação 203/216: {'sequence_length': 40, 'lstm_units': 256, 'dropout_rate': 0.1, 'learning_rate': 0.0001, 'batch_size': 32}\n"
     ]
    },
    {
     "name": "stderr",
     "output_type": "stream",
     "text": [
      "c:\\Users\\FilipeAraujoXimenes\\anaconda3\\Lib\\site-packages\\keras\\src\\layers\\rnn\\rnn.py:204: UserWarning: Do not pass an `input_shape`/`input_dim` argument to a layer. When using Sequential models, prefer using an `Input(shape)` object as the first layer in the model instead.\n",
      "  super().__init__(**kwargs)\n"
     ]
    },
    {
     "name": "stdout",
     "output_type": "stream",
     "text": [
      "\u001b[1m174/174\u001b[0m \u001b[32m━━━━━━━━━━━━━━━━━━━━\u001b[0m\u001b[37m\u001b[0m \u001b[1m7s\u001b[0m 40ms/step\n",
      "NMSE médio do módulo dos coeficientes: 0.190509\n",
      "\n",
      "Executando combinação 204/216: {'sequence_length': 40, 'lstm_units': 256, 'dropout_rate': 0.1, 'learning_rate': 0.0001, 'batch_size': 64}\n"
     ]
    },
    {
     "name": "stderr",
     "output_type": "stream",
     "text": [
      "c:\\Users\\FilipeAraujoXimenes\\anaconda3\\Lib\\site-packages\\keras\\src\\layers\\rnn\\rnn.py:204: UserWarning: Do not pass an `input_shape`/`input_dim` argument to a layer. When using Sequential models, prefer using an `Input(shape)` object as the first layer in the model instead.\n",
      "  super().__init__(**kwargs)\n"
     ]
    },
    {
     "name": "stdout",
     "output_type": "stream",
     "text": [
      "\u001b[1m174/174\u001b[0m \u001b[32m━━━━━━━━━━━━━━━━━━━━\u001b[0m\u001b[37m\u001b[0m \u001b[1m7s\u001b[0m 40ms/step\n",
      "NMSE médio do módulo dos coeficientes: 0.272360\n",
      "\n",
      "Executando combinação 205/216: {'sequence_length': 40, 'lstm_units': 256, 'dropout_rate': 0.2, 'learning_rate': 0.001, 'batch_size': 32}\n"
     ]
    },
    {
     "name": "stderr",
     "output_type": "stream",
     "text": [
      "c:\\Users\\FilipeAraujoXimenes\\anaconda3\\Lib\\site-packages\\keras\\src\\layers\\rnn\\rnn.py:204: UserWarning: Do not pass an `input_shape`/`input_dim` argument to a layer. When using Sequential models, prefer using an `Input(shape)` object as the first layer in the model instead.\n",
      "  super().__init__(**kwargs)\n"
     ]
    },
    {
     "name": "stdout",
     "output_type": "stream",
     "text": [
      "\u001b[1m174/174\u001b[0m \u001b[32m━━━━━━━━━━━━━━━━━━━━\u001b[0m\u001b[37m\u001b[0m \u001b[1m7s\u001b[0m 37ms/step\n",
      "NMSE médio do módulo dos coeficientes: 0.034679\n",
      "\n",
      "Executando combinação 206/216: {'sequence_length': 40, 'lstm_units': 256, 'dropout_rate': 0.2, 'learning_rate': 0.001, 'batch_size': 64}\n"
     ]
    },
    {
     "name": "stderr",
     "output_type": "stream",
     "text": [
      "c:\\Users\\FilipeAraujoXimenes\\anaconda3\\Lib\\site-packages\\keras\\src\\layers\\rnn\\rnn.py:204: UserWarning: Do not pass an `input_shape`/`input_dim` argument to a layer. When using Sequential models, prefer using an `Input(shape)` object as the first layer in the model instead.\n",
      "  super().__init__(**kwargs)\n"
     ]
    },
    {
     "name": "stdout",
     "output_type": "stream",
     "text": [
      "\u001b[1m174/174\u001b[0m \u001b[32m━━━━━━━━━━━━━━━━━━━━\u001b[0m\u001b[37m\u001b[0m \u001b[1m7s\u001b[0m 39ms/step\n",
      "NMSE médio do módulo dos coeficientes: 0.036655\n",
      "\n",
      "Executando combinação 207/216: {'sequence_length': 40, 'lstm_units': 256, 'dropout_rate': 0.2, 'learning_rate': 0.0005, 'batch_size': 32}\n"
     ]
    },
    {
     "name": "stderr",
     "output_type": "stream",
     "text": [
      "c:\\Users\\FilipeAraujoXimenes\\anaconda3\\Lib\\site-packages\\keras\\src\\layers\\rnn\\rnn.py:204: UserWarning: Do not pass an `input_shape`/`input_dim` argument to a layer. When using Sequential models, prefer using an `Input(shape)` object as the first layer in the model instead.\n",
      "  super().__init__(**kwargs)\n"
     ]
    },
    {
     "name": "stdout",
     "output_type": "stream",
     "text": [
      "\u001b[1m174/174\u001b[0m \u001b[32m━━━━━━━━━━━━━━━━━━━━\u001b[0m\u001b[37m\u001b[0m \u001b[1m9s\u001b[0m 45ms/step\n",
      "NMSE médio do módulo dos coeficientes: 0.042786\n",
      "\n",
      "Executando combinação 208/216: {'sequence_length': 40, 'lstm_units': 256, 'dropout_rate': 0.2, 'learning_rate': 0.0005, 'batch_size': 64}\n"
     ]
    },
    {
     "name": "stderr",
     "output_type": "stream",
     "text": [
      "c:\\Users\\FilipeAraujoXimenes\\anaconda3\\Lib\\site-packages\\keras\\src\\layers\\rnn\\rnn.py:204: UserWarning: Do not pass an `input_shape`/`input_dim` argument to a layer. When using Sequential models, prefer using an `Input(shape)` object as the first layer in the model instead.\n",
      "  super().__init__(**kwargs)\n"
     ]
    },
    {
     "name": "stdout",
     "output_type": "stream",
     "text": [
      "\u001b[1m174/174\u001b[0m \u001b[32m━━━━━━━━━━━━━━━━━━━━\u001b[0m\u001b[37m\u001b[0m \u001b[1m12s\u001b[0m 62ms/step\n",
      "NMSE médio do módulo dos coeficientes: 0.071234\n",
      "\n",
      "Executando combinação 209/216: {'sequence_length': 40, 'lstm_units': 256, 'dropout_rate': 0.2, 'learning_rate': 0.0001, 'batch_size': 32}\n"
     ]
    },
    {
     "name": "stderr",
     "output_type": "stream",
     "text": [
      "c:\\Users\\FilipeAraujoXimenes\\anaconda3\\Lib\\site-packages\\keras\\src\\layers\\rnn\\rnn.py:204: UserWarning: Do not pass an `input_shape`/`input_dim` argument to a layer. When using Sequential models, prefer using an `Input(shape)` object as the first layer in the model instead.\n",
      "  super().__init__(**kwargs)\n"
     ]
    },
    {
     "name": "stdout",
     "output_type": "stream",
     "text": [
      "\u001b[1m174/174\u001b[0m \u001b[32m━━━━━━━━━━━━━━━━━━━━\u001b[0m\u001b[37m\u001b[0m \u001b[1m15s\u001b[0m 84ms/step\n",
      "NMSE médio do módulo dos coeficientes: 0.228903\n",
      "\n",
      "Executando combinação 210/216: {'sequence_length': 40, 'lstm_units': 256, 'dropout_rate': 0.2, 'learning_rate': 0.0001, 'batch_size': 64}\n"
     ]
    },
    {
     "name": "stderr",
     "output_type": "stream",
     "text": [
      "c:\\Users\\FilipeAraujoXimenes\\anaconda3\\Lib\\site-packages\\keras\\src\\layers\\rnn\\rnn.py:204: UserWarning: Do not pass an `input_shape`/`input_dim` argument to a layer. When using Sequential models, prefer using an `Input(shape)` object as the first layer in the model instead.\n",
      "  super().__init__(**kwargs)\n"
     ]
    },
    {
     "name": "stdout",
     "output_type": "stream",
     "text": [
      "\u001b[1m174/174\u001b[0m \u001b[32m━━━━━━━━━━━━━━━━━━━━\u001b[0m\u001b[37m\u001b[0m \u001b[1m14s\u001b[0m 76ms/step\n",
      "NMSE médio do módulo dos coeficientes: 0.339439\n",
      "\n",
      "Executando combinação 211/216: {'sequence_length': 40, 'lstm_units': 256, 'dropout_rate': 0.3, 'learning_rate': 0.001, 'batch_size': 32}\n"
     ]
    },
    {
     "name": "stderr",
     "output_type": "stream",
     "text": [
      "c:\\Users\\FilipeAraujoXimenes\\anaconda3\\Lib\\site-packages\\keras\\src\\layers\\rnn\\rnn.py:204: UserWarning: Do not pass an `input_shape`/`input_dim` argument to a layer. When using Sequential models, prefer using an `Input(shape)` object as the first layer in the model instead.\n",
      "  super().__init__(**kwargs)\n"
     ]
    },
    {
     "name": "stdout",
     "output_type": "stream",
     "text": [
      "\u001b[1m174/174\u001b[0m \u001b[32m━━━━━━━━━━━━━━━━━━━━\u001b[0m\u001b[37m\u001b[0m \u001b[1m14s\u001b[0m 75ms/step\n",
      "NMSE médio do módulo dos coeficientes: 0.053849\n",
      "\n",
      "Executando combinação 212/216: {'sequence_length': 40, 'lstm_units': 256, 'dropout_rate': 0.3, 'learning_rate': 0.001, 'batch_size': 64}\n"
     ]
    },
    {
     "name": "stderr",
     "output_type": "stream",
     "text": [
      "c:\\Users\\FilipeAraujoXimenes\\anaconda3\\Lib\\site-packages\\keras\\src\\layers\\rnn\\rnn.py:204: UserWarning: Do not pass an `input_shape`/`input_dim` argument to a layer. When using Sequential models, prefer using an `Input(shape)` object as the first layer in the model instead.\n",
      "  super().__init__(**kwargs)\n"
     ]
    },
    {
     "name": "stdout",
     "output_type": "stream",
     "text": [
      "\u001b[1m174/174\u001b[0m \u001b[32m━━━━━━━━━━━━━━━━━━━━\u001b[0m\u001b[37m\u001b[0m \u001b[1m10s\u001b[0m 53ms/step\n",
      "NMSE médio do módulo dos coeficientes: 0.060899\n",
      "\n",
      "Executando combinação 213/216: {'sequence_length': 40, 'lstm_units': 256, 'dropout_rate': 0.3, 'learning_rate': 0.0005, 'batch_size': 32}\n"
     ]
    },
    {
     "name": "stderr",
     "output_type": "stream",
     "text": [
      "c:\\Users\\FilipeAraujoXimenes\\anaconda3\\Lib\\site-packages\\keras\\src\\layers\\rnn\\rnn.py:204: UserWarning: Do not pass an `input_shape`/`input_dim` argument to a layer. When using Sequential models, prefer using an `Input(shape)` object as the first layer in the model instead.\n",
      "  super().__init__(**kwargs)\n"
     ]
    },
    {
     "name": "stdout",
     "output_type": "stream",
     "text": [
      "\u001b[1m174/174\u001b[0m \u001b[32m━━━━━━━━━━━━━━━━━━━━\u001b[0m\u001b[37m\u001b[0m \u001b[1m11s\u001b[0m 62ms/step\n",
      "NMSE médio do módulo dos coeficientes: 0.077309\n",
      "\n",
      "Executando combinação 214/216: {'sequence_length': 40, 'lstm_units': 256, 'dropout_rate': 0.3, 'learning_rate': 0.0005, 'batch_size': 64}\n"
     ]
    },
    {
     "name": "stderr",
     "output_type": "stream",
     "text": [
      "c:\\Users\\FilipeAraujoXimenes\\anaconda3\\Lib\\site-packages\\keras\\src\\layers\\rnn\\rnn.py:204: UserWarning: Do not pass an `input_shape`/`input_dim` argument to a layer. When using Sequential models, prefer using an `Input(shape)` object as the first layer in the model instead.\n",
      "  super().__init__(**kwargs)\n"
     ]
    },
    {
     "name": "stdout",
     "output_type": "stream",
     "text": [
      "\u001b[1m174/174\u001b[0m \u001b[32m━━━━━━━━━━━━━━━━━━━━\u001b[0m\u001b[37m\u001b[0m \u001b[1m9s\u001b[0m 51ms/step\n",
      "NMSE médio do módulo dos coeficientes: 0.100958\n",
      "\n",
      "Executando combinação 215/216: {'sequence_length': 40, 'lstm_units': 256, 'dropout_rate': 0.3, 'learning_rate': 0.0001, 'batch_size': 32}\n"
     ]
    },
    {
     "name": "stderr",
     "output_type": "stream",
     "text": [
      "c:\\Users\\FilipeAraujoXimenes\\anaconda3\\Lib\\site-packages\\keras\\src\\layers\\rnn\\rnn.py:204: UserWarning: Do not pass an `input_shape`/`input_dim` argument to a layer. When using Sequential models, prefer using an `Input(shape)` object as the first layer in the model instead.\n",
      "  super().__init__(**kwargs)\n"
     ]
    },
    {
     "name": "stdout",
     "output_type": "stream",
     "text": [
      "\u001b[1m174/174\u001b[0m \u001b[32m━━━━━━━━━━━━━━━━━━━━\u001b[0m\u001b[37m\u001b[0m \u001b[1m9s\u001b[0m 48ms/step\n",
      "NMSE médio do módulo dos coeficientes: 0.290559\n",
      "\n",
      "Executando combinação 216/216: {'sequence_length': 40, 'lstm_units': 256, 'dropout_rate': 0.3, 'learning_rate': 0.0001, 'batch_size': 64}\n"
     ]
    },
    {
     "name": "stderr",
     "output_type": "stream",
     "text": [
      "c:\\Users\\FilipeAraujoXimenes\\anaconda3\\Lib\\site-packages\\keras\\src\\layers\\rnn\\rnn.py:204: UserWarning: Do not pass an `input_shape`/`input_dim` argument to a layer. When using Sequential models, prefer using an `Input(shape)` object as the first layer in the model instead.\n",
      "  super().__init__(**kwargs)\n"
     ]
    },
    {
     "name": "stdout",
     "output_type": "stream",
     "text": [
      "\u001b[1m174/174\u001b[0m \u001b[32m━━━━━━━━━━━━━━━━━━━━\u001b[0m\u001b[37m\u001b[0m \u001b[1m12s\u001b[0m 68ms/step\n",
      "NMSE médio do módulo dos coeficientes: 0.401519\n",
      "\n",
      "Melhores hiperparâmetros: SeqLen:30_Units:256_Dropout:0.1_LR:0.001_Batch:32 com NMSE: 0.022395\n"
     ]
    }
   ],
   "source": [
    "# Grid Search para o modelo LSTM\n",
    "\n",
    "import numpy as np\n",
    "import scipy.io as sio\n",
    "import os\n",
    "from tensorflow.keras.models import Sequential\n",
    "from tensorflow.keras.layers import LSTM, Dense, Dropout\n",
    "from tensorflow.keras.optimizers import Adam\n",
    "from tensorflow.keras.callbacks import EarlyStopping\n",
    "from sklearn.metrics import mean_squared_error\n",
    "from sklearn.preprocessing import MinMaxScaler\n",
    "\n",
    "# Definir os hiperparâmetros a serem testados\n",
    "hyperparams_grid = {\n",
    "    'sequence_length': [10, 20, 30, 40],\n",
    "    'lstm_units': [64, 128, 256],\n",
    "    'dropout_rate': [0.1, 0.2, 0.3],\n",
    "    'learning_rate': [0.001, 0.0005, 0.0001],\n",
    "    'batch_size': [32, 64]\n",
    "}\n",
    "\n",
    "# Carregar os dados\n",
    "file_path_temp_coefs = \"temp_coefs.mat\"\n",
    "file_path_spatial_modes = \"spatial_modes.mat\"\n",
    "file_path_mean_flow = \"mean_flow.mat\"\n",
    "file_path_parameters = \"parameters.mat\"\n",
    "\n",
    "mat_data_temp = sio.loadmat(file_path_temp_coefs)\n",
    "coefs = mat_data_temp['coefs']\n",
    "phi = sio.loadmat(file_path_spatial_modes)['phi']\n",
    "y_positions = sio.loadmat(file_path_mean_flow)['y'].flatten()\n",
    "Xavg = sio.loadmat(file_path_mean_flow)['Xavg'].flatten()\n",
    "nmodos_pod = sio.loadmat(file_path_parameters)['nmodes']\n",
    "\n",
    "# Definir o número de coeficientes a serem utilizados\n",
    "num_coefs = 20  # Usando 20 coeficientes\n",
    "print(f\"Número total de modos utilizados: {num_coefs}\")\n",
    "\n",
    "# Separar os coeficientes em parte real e imaginária\n",
    "real_coefs = np.real(coefs[:num_coefs, :])\n",
    "imag_coefs = np.imag(coefs[:num_coefs, :])\n",
    "\n",
    "# Divisão dos dados\n",
    "first_interval_end = 4801\n",
    "real_coefs_train = real_coefs[:, :first_interval_end:2]\n",
    "imag_coefs_train = imag_coefs[:, :first_interval_end:2]\n",
    "real_coefs_val = real_coefs[:, first_interval_end:]\n",
    "imag_coefs_val = imag_coefs[:, first_interval_end:]\n",
    "\n",
    "# Normalização\n",
    "num_total_coefs = num_coefs * 2\n",
    "scalers = []\n",
    "\n",
    "coefs_train = np.vstack([real_coefs_train, imag_coefs_train])\n",
    "coefs_val = np.vstack([real_coefs_val, imag_coefs_val])\n",
    "coefs_train_normalized = np.zeros_like(coefs_train)\n",
    "coefs_val_normalized = np.zeros_like(coefs_val)\n",
    "\n",
    "for i in range(num_total_coefs):\n",
    "    scaler_coef = MinMaxScaler(feature_range=(-1, 1))\n",
    "    coefs_train_normalized[i, :] = scaler_coef.fit_transform(coefs_train[i, :].reshape(-1, 1)).flatten()\n",
    "    coefs_val_normalized[i, :] = scaler_coef.transform(coefs_val[i, :].reshape(-1, 1)).flatten()\n",
    "    scalers.append(scaler_coef)\n",
    "\n",
    "def create_sequences(real_coefs_norm, imag_coefs_norm, seq_length):\n",
    "    X, y = [], []\n",
    "    num_samples = real_coefs_norm.shape[1] - seq_length\n",
    "    for i in range(num_samples):\n",
    "        X_seq_real = real_coefs_norm[:, i:i+seq_length]\n",
    "        X_seq_imag = imag_coefs_norm[:, i:i+seq_length]\n",
    "        X_seq = np.vstack([X_seq_real, X_seq_imag])\n",
    "        X.append(X_seq)\n",
    "        y_real = real_coefs_norm[:, i+seq_length]\n",
    "        y_imag = imag_coefs_norm[:, i+seq_length]\n",
    "        y_seq = np.hstack([y_real, y_imag])\n",
    "        y.append(y_seq)\n",
    "    X = np.array(X).transpose(0, 2, 1)\n",
    "    y = np.array(y)\n",
    "    return X, y\n",
    "\n",
    "# Dicionário para armazenar os resultados\n",
    "results = {}\n",
    "\n",
    "# Loop pelos hiperparâmetros\n",
    "from itertools import product\n",
    "\n",
    "keys = hyperparams_grid.keys()\n",
    "values = (hyperparams_grid[key] for key in keys)\n",
    "\n",
    "total_combinations = np.prod([len(v) for v in hyperparams_grid.values()])\n",
    "print(f\"Total de combinações de hiperparâmetros: {total_combinations}\")\n",
    "\n",
    "combination_index = 1\n",
    "\n",
    "for hp_values in product(*values):\n",
    "    hyperparams = dict(zip(keys, hp_values))\n",
    "    sequence_length = hyperparams['sequence_length']\n",
    "    lstm_units = hyperparams['lstm_units']\n",
    "    dropout_rate = hyperparams['dropout_rate']\n",
    "    learning_rate = hyperparams['learning_rate']\n",
    "    batch_size = hyperparams['batch_size']\n",
    "\n",
    "    print(f\"\\nExecutando combinação {combination_index}/{total_combinations}: {hyperparams}\")\n",
    "    combination_index += 1\n",
    "\n",
    "    # Criar sequências\n",
    "    X_train, y_train = create_sequences(coefs_train_normalized[:num_coefs, :], coefs_train_normalized[num_coefs:, :], sequence_length)\n",
    "    X_val, y_val = create_sequences(coefs_val_normalized[:num_coefs, :], coefs_val_normalized[num_coefs:, :], sequence_length)\n",
    "\n",
    "    # Verificar se há dados suficientes\n",
    "    if X_train.shape[0] == 0 or X_val.shape[0] == 0:\n",
    "        print(\"Dados insuficientes para a sequência atual. Pulando para a próxima combinação.\")\n",
    "        continue\n",
    "\n",
    "    # Definir o modelo\n",
    "    model = Sequential()\n",
    "    model.add(LSTM(lstm_units, input_shape=(X_train.shape[1], X_train.shape[2])))\n",
    "    model.add(Dropout(dropout_rate))\n",
    "    model.add(Dense(num_total_coefs))\n",
    "    model.compile(optimizer=Adam(learning_rate=learning_rate), loss='mean_squared_error')\n",
    "\n",
    "    # Treinar o modelo\n",
    "    early_stopping = EarlyStopping(monitor='val_loss', patience=5, restore_best_weights=True)\n",
    "    history = model.fit(X_train, y_train, epochs=50, batch_size=batch_size, validation_data=(X_val, y_val),\n",
    "                        callbacks=[early_stopping], verbose=0)\n",
    "\n",
    "    # Previsões\n",
    "    predictions_normalized = model.predict(X_val)\n",
    "    predictions = np.zeros_like(predictions_normalized)\n",
    "    y_val_original = np.zeros_like(y_val)\n",
    "    for i in range(num_total_coefs):\n",
    "        scaler = scalers[i]\n",
    "        predictions[:, i] = scaler.inverse_transform(predictions_normalized[:, i].reshape(-1, 1)).flatten()\n",
    "        y_val_original[:, i] = scaler.inverse_transform(y_val[:, i].reshape(-1, 1)).flatten()\n",
    "\n",
    "    # Separar as partes real e imaginária\n",
    "    pred_real = predictions[:, :num_coefs]\n",
    "    pred_imag = predictions[:, num_coefs:]\n",
    "    actual_real = y_val_original[:, :num_coefs]\n",
    "    actual_imag = y_val_original[:, num_coefs:]\n",
    "\n",
    "    # Cálculo do NMSE\n",
    "    actual_modulus = np.sqrt(actual_real**2 + actual_imag**2)\n",
    "    predicted_modulus = np.sqrt(pred_real**2 + pred_imag**2)\n",
    "\n",
    "    nmse_modulus = []\n",
    "    for c in range(num_coefs):\n",
    "        mse = mean_squared_error(actual_modulus[:, c], predicted_modulus[:, c])\n",
    "        variance = np.var(actual_modulus[:, c])\n",
    "        nmse = mse / variance if variance != 0 else np.nan\n",
    "        nmse_modulus.append(nmse)\n",
    "\n",
    "    average_nmse_modulus = np.nanmean(nmse_modulus)\n",
    "\n",
    "    # Salvar resultados\n",
    "    result_key = f\"SeqLen:{sequence_length}_Units:{lstm_units}_Dropout:{dropout_rate}_LR:{learning_rate}_Batch:{batch_size}\"\n",
    "    results[result_key] = average_nmse_modulus\n",
    "    print(f\"NMSE médio do módulo dos coeficientes: {average_nmse_modulus:.6f}\")\n",
    "\n",
    "# Salvar os resultados em um arquivo\n",
    "import pickle\n",
    "with open('grid_search_results_lstm.pkl', 'wb') as f:\n",
    "    pickle.dump(results, f)\n",
    "\n",
    "# Encontrar a melhor combinação de hiperparâmetros\n",
    "best_params = min(results, key=results.get)\n",
    "print(f\"\\nMelhores hiperparâmetros: {best_params} com NMSE: {results[best_params]:.6f}\")\n"
   ]
  },
  {
   "cell_type": "markdown",
   "metadata": {},
   "source": [
    "Modelo 2: LSTM + CNN"
   ]
  },
  {
   "cell_type": "code",
   "execution_count": 6,
   "metadata": {},
   "outputs": [
    {
     "name": "stdout",
     "output_type": "stream",
     "text": [
      "Número total de modos utilizados: 20\n",
      "Total de combinações de hiperparâmetros: 32\n",
      "\n",
      "Executando combinação 1/32:\n",
      "SeqLen: 20, Units: 64, Filters: [32, 16], Kernel: 3, Dropout: 0.1, LR: 0.001, Batch: 32\n",
      "\u001b[1m175/175\u001b[0m \u001b[32m━━━━━━━━━━━━━━━━━━━━\u001b[0m\u001b[37m\u001b[0m \u001b[1m3s\u001b[0m 11ms/step\n",
      "NMSE médio do módulo dos coeficientes: 0.448197\n",
      "\n",
      "Executando combinação 2/32:\n",
      "SeqLen: 20, Units: 64, Filters: [32, 16], Kernel: 3, Dropout: 0.1, LR: 0.001, Batch: 64\n",
      "\u001b[1m175/175\u001b[0m \u001b[32m━━━━━━━━━━━━━━━━━━━━\u001b[0m\u001b[37m\u001b[0m \u001b[1m3s\u001b[0m 13ms/step\n",
      "NMSE médio do módulo dos coeficientes: 0.569801\n",
      "\n",
      "Executando combinação 3/32:\n",
      "SeqLen: 20, Units: 64, Filters: [32, 16], Kernel: 3, Dropout: 0.1, LR: 0.0005, Batch: 32\n",
      "\u001b[1m175/175\u001b[0m \u001b[32m━━━━━━━━━━━━━━━━━━━━\u001b[0m\u001b[37m\u001b[0m \u001b[1m2s\u001b[0m 11ms/step\n",
      "NMSE médio do módulo dos coeficientes: 0.621619\n",
      "\n",
      "Executando combinação 4/32:\n",
      "SeqLen: 20, Units: 64, Filters: [32, 16], Kernel: 3, Dropout: 0.1, LR: 0.0005, Batch: 64\n",
      "\u001b[1m175/175\u001b[0m \u001b[32m━━━━━━━━━━━━━━━━━━━━\u001b[0m\u001b[37m\u001b[0m \u001b[1m3s\u001b[0m 13ms/step\n",
      "NMSE médio do módulo dos coeficientes: 0.888308\n",
      "\n",
      "Executando combinação 5/32:\n",
      "SeqLen: 20, Units: 64, Filters: [32, 16], Kernel: 3, Dropout: 0.2, LR: 0.001, Batch: 32\n",
      "\u001b[1m175/175\u001b[0m \u001b[32m━━━━━━━━━━━━━━━━━━━━\u001b[0m\u001b[37m\u001b[0m \u001b[1m2s\u001b[0m 8ms/step\n",
      "NMSE médio do módulo dos coeficientes: 0.922356\n",
      "\n",
      "Executando combinação 6/32:\n",
      "SeqLen: 20, Units: 64, Filters: [32, 16], Kernel: 3, Dropout: 0.2, LR: 0.001, Batch: 64\n",
      "\u001b[1m175/175\u001b[0m \u001b[32m━━━━━━━━━━━━━━━━━━━━\u001b[0m\u001b[37m\u001b[0m \u001b[1m3s\u001b[0m 15ms/step\n",
      "NMSE médio do módulo dos coeficientes: 1.051308\n",
      "\n",
      "Executando combinação 7/32:\n",
      "SeqLen: 20, Units: 64, Filters: [32, 16], Kernel: 3, Dropout: 0.2, LR: 0.0005, Batch: 32\n",
      "\u001b[1m175/175\u001b[0m \u001b[32m━━━━━━━━━━━━━━━━━━━━\u001b[0m\u001b[37m\u001b[0m \u001b[1m3s\u001b[0m 14ms/step\n",
      "NMSE médio do módulo dos coeficientes: 1.071818\n",
      "\n",
      "Executando combinação 8/32:\n",
      "SeqLen: 20, Units: 64, Filters: [32, 16], Kernel: 3, Dropout: 0.2, LR: 0.0005, Batch: 64\n",
      "\u001b[1m175/175\u001b[0m \u001b[32m━━━━━━━━━━━━━━━━━━━━\u001b[0m\u001b[37m\u001b[0m \u001b[1m2s\u001b[0m 9ms/step\n",
      "NMSE médio do módulo dos coeficientes: 1.306515\n",
      "\n",
      "Executando combinação 9/32:\n",
      "SeqLen: 20, Units: 128, Filters: [32, 16], Kernel: 3, Dropout: 0.1, LR: 0.001, Batch: 32\n",
      "\u001b[1m175/175\u001b[0m \u001b[32m━━━━━━━━━━━━━━━━━━━━\u001b[0m\u001b[37m\u001b[0m \u001b[1m3s\u001b[0m 16ms/step\n",
      "NMSE médio do módulo dos coeficientes: 0.477658\n",
      "\n",
      "Executando combinação 10/32:\n",
      "SeqLen: 20, Units: 128, Filters: [32, 16], Kernel: 3, Dropout: 0.1, LR: 0.001, Batch: 64\n",
      "\u001b[1m175/175\u001b[0m \u001b[32m━━━━━━━━━━━━━━━━━━━━\u001b[0m\u001b[37m\u001b[0m \u001b[1m3s\u001b[0m 18ms/step\n",
      "NMSE médio do módulo dos coeficientes: 0.540257\n",
      "\n",
      "Executando combinação 11/32:\n",
      "SeqLen: 20, Units: 128, Filters: [32, 16], Kernel: 3, Dropout: 0.1, LR: 0.0005, Batch: 32\n",
      "\u001b[1m175/175\u001b[0m \u001b[32m━━━━━━━━━━━━━━━━━━━━\u001b[0m\u001b[37m\u001b[0m \u001b[1m4s\u001b[0m 19ms/step\n",
      "NMSE médio do módulo dos coeficientes: 0.516460\n",
      "\n",
      "Executando combinação 12/32:\n",
      "SeqLen: 20, Units: 128, Filters: [32, 16], Kernel: 3, Dropout: 0.1, LR: 0.0005, Batch: 64\n",
      "\u001b[1m175/175\u001b[0m \u001b[32m━━━━━━━━━━━━━━━━━━━━\u001b[0m\u001b[37m\u001b[0m \u001b[1m4s\u001b[0m 19ms/step\n",
      "NMSE médio do módulo dos coeficientes: 0.719904\n",
      "\n",
      "Executando combinação 13/32:\n",
      "SeqLen: 20, Units: 128, Filters: [32, 16], Kernel: 3, Dropout: 0.2, LR: 0.001, Batch: 32\n",
      "\u001b[1m175/175\u001b[0m \u001b[32m━━━━━━━━━━━━━━━━━━━━\u001b[0m\u001b[37m\u001b[0m \u001b[1m4s\u001b[0m 20ms/step\n",
      "NMSE médio do módulo dos coeficientes: 0.701404\n",
      "\n",
      "Executando combinação 14/32:\n",
      "SeqLen: 20, Units: 128, Filters: [32, 16], Kernel: 3, Dropout: 0.2, LR: 0.001, Batch: 64\n",
      "\u001b[1m175/175\u001b[0m \u001b[32m━━━━━━━━━━━━━━━━━━━━\u001b[0m\u001b[37m\u001b[0m \u001b[1m3s\u001b[0m 15ms/step\n",
      "NMSE médio do módulo dos coeficientes: 0.796651\n",
      "\n",
      "Executando combinação 15/32:\n",
      "SeqLen: 20, Units: 128, Filters: [32, 16], Kernel: 3, Dropout: 0.2, LR: 0.0005, Batch: 32\n",
      "\u001b[1m175/175\u001b[0m \u001b[32m━━━━━━━━━━━━━━━━━━━━\u001b[0m\u001b[37m\u001b[0m \u001b[1m2s\u001b[0m 11ms/step\n",
      "NMSE médio do módulo dos coeficientes: 0.821172\n",
      "\n",
      "Executando combinação 16/32:\n",
      "SeqLen: 20, Units: 128, Filters: [32, 16], Kernel: 3, Dropout: 0.2, LR: 0.0005, Batch: 64\n",
      "\u001b[1m175/175\u001b[0m \u001b[32m━━━━━━━━━━━━━━━━━━━━\u001b[0m\u001b[37m\u001b[0m \u001b[1m2s\u001b[0m 11ms/step\n",
      "NMSE médio do módulo dos coeficientes: 1.000495\n",
      "\n",
      "Executando combinação 17/32:\n",
      "SeqLen: 30, Units: 64, Filters: [32, 16], Kernel: 3, Dropout: 0.1, LR: 0.001, Batch: 32\n",
      "\u001b[1m175/175\u001b[0m \u001b[32m━━━━━━━━━━━━━━━━━━━━\u001b[0m\u001b[37m\u001b[0m \u001b[1m2s\u001b[0m 9ms/step\n",
      "NMSE médio do módulo dos coeficientes: 0.448962\n",
      "\n",
      "Executando combinação 18/32:\n",
      "SeqLen: 30, Units: 64, Filters: [32, 16], Kernel: 3, Dropout: 0.1, LR: 0.001, Batch: 64\n",
      "\u001b[1m175/175\u001b[0m \u001b[32m━━━━━━━━━━━━━━━━━━━━\u001b[0m\u001b[37m\u001b[0m \u001b[1m3s\u001b[0m 14ms/step\n",
      "NMSE médio do módulo dos coeficientes: 0.620775\n",
      "\n",
      "Executando combinação 19/32:\n",
      "SeqLen: 30, Units: 64, Filters: [32, 16], Kernel: 3, Dropout: 0.1, LR: 0.0005, Batch: 32\n",
      "\u001b[1m175/175\u001b[0m \u001b[32m━━━━━━━━━━━━━━━━━━━━\u001b[0m\u001b[37m\u001b[0m \u001b[1m6s\u001b[0m 29ms/step\n",
      "NMSE médio do módulo dos coeficientes: 0.672044\n",
      "\n",
      "Executando combinação 20/32:\n",
      "SeqLen: 30, Units: 64, Filters: [32, 16], Kernel: 3, Dropout: 0.1, LR: 0.0005, Batch: 64\n",
      "\u001b[1m175/175\u001b[0m \u001b[32m━━━━━━━━━━━━━━━━━━━━\u001b[0m\u001b[37m\u001b[0m \u001b[1m5s\u001b[0m 23ms/step\n",
      "NMSE médio do módulo dos coeficientes: 0.970375\n",
      "\n",
      "Executando combinação 21/32:\n",
      "SeqLen: 30, Units: 64, Filters: [32, 16], Kernel: 3, Dropout: 0.2, LR: 0.001, Batch: 32\n",
      "\u001b[1m175/175\u001b[0m \u001b[32m━━━━━━━━━━━━━━━━━━━━\u001b[0m\u001b[37m\u001b[0m \u001b[1m4s\u001b[0m 18ms/step\n",
      "NMSE médio do módulo dos coeficientes: 0.962150\n",
      "\n",
      "Executando combinação 22/32:\n",
      "SeqLen: 30, Units: 64, Filters: [32, 16], Kernel: 3, Dropout: 0.2, LR: 0.001, Batch: 64\n",
      "\u001b[1m175/175\u001b[0m \u001b[32m━━━━━━━━━━━━━━━━━━━━\u001b[0m\u001b[37m\u001b[0m \u001b[1m3s\u001b[0m 17ms/step\n",
      "NMSE médio do módulo dos coeficientes: 1.103907\n",
      "\n",
      "Executando combinação 23/32:\n",
      "SeqLen: 30, Units: 64, Filters: [32, 16], Kernel: 3, Dropout: 0.2, LR: 0.0005, Batch: 32\n",
      "\u001b[1m175/175\u001b[0m \u001b[32m━━━━━━━━━━━━━━━━━━━━\u001b[0m\u001b[37m\u001b[0m \u001b[1m4s\u001b[0m 15ms/step\n",
      "NMSE médio do módulo dos coeficientes: 1.105160\n",
      "\n",
      "Executando combinação 24/32:\n",
      "SeqLen: 30, Units: 64, Filters: [32, 16], Kernel: 3, Dropout: 0.2, LR: 0.0005, Batch: 64\n",
      "\u001b[1m175/175\u001b[0m \u001b[32m━━━━━━━━━━━━━━━━━━━━\u001b[0m\u001b[37m\u001b[0m \u001b[1m3s\u001b[0m 16ms/step\n",
      "NMSE médio do módulo dos coeficientes: 1.350186\n",
      "\n",
      "Executando combinação 25/32:\n",
      "SeqLen: 30, Units: 128, Filters: [32, 16], Kernel: 3, Dropout: 0.1, LR: 0.001, Batch: 32\n",
      "\u001b[1m175/175\u001b[0m \u001b[32m━━━━━━━━━━━━━━━━━━━━\u001b[0m\u001b[37m\u001b[0m \u001b[1m6s\u001b[0m 31ms/step\n",
      "NMSE médio do módulo dos coeficientes: 0.484566\n",
      "\n",
      "Executando combinação 26/32:\n",
      "SeqLen: 30, Units: 128, Filters: [32, 16], Kernel: 3, Dropout: 0.1, LR: 0.001, Batch: 64\n",
      "\u001b[1m175/175\u001b[0m \u001b[32m━━━━━━━━━━━━━━━━━━━━\u001b[0m\u001b[37m\u001b[0m \u001b[1m4s\u001b[0m 20ms/step\n",
      "NMSE médio do módulo dos coeficientes: 0.570562\n",
      "\n",
      "Executando combinação 27/32:\n",
      "SeqLen: 30, Units: 128, Filters: [32, 16], Kernel: 3, Dropout: 0.1, LR: 0.0005, Batch: 32\n",
      "\u001b[1m175/175\u001b[0m \u001b[32m━━━━━━━━━━━━━━━━━━━━\u001b[0m\u001b[37m\u001b[0m \u001b[1m4s\u001b[0m 19ms/step\n",
      "NMSE médio do módulo dos coeficientes: 0.606108\n",
      "\n",
      "Executando combinação 28/32:\n",
      "SeqLen: 30, Units: 128, Filters: [32, 16], Kernel: 3, Dropout: 0.1, LR: 0.0005, Batch: 64\n",
      "\u001b[1m175/175\u001b[0m \u001b[32m━━━━━━━━━━━━━━━━━━━━\u001b[0m\u001b[37m\u001b[0m \u001b[1m6s\u001b[0m 31ms/step\n",
      "NMSE médio do módulo dos coeficientes: 0.795827\n",
      "\n",
      "Executando combinação 29/32:\n",
      "SeqLen: 30, Units: 128, Filters: [32, 16], Kernel: 3, Dropout: 0.2, LR: 0.001, Batch: 32\n",
      "\u001b[1m175/175\u001b[0m \u001b[32m━━━━━━━━━━━━━━━━━━━━\u001b[0m\u001b[37m\u001b[0m \u001b[1m5s\u001b[0m 26ms/step\n",
      "NMSE médio do módulo dos coeficientes: 0.717661\n",
      "\n",
      "Executando combinação 30/32:\n",
      "SeqLen: 30, Units: 128, Filters: [32, 16], Kernel: 3, Dropout: 0.2, LR: 0.001, Batch: 64\n",
      "\u001b[1m175/175\u001b[0m \u001b[32m━━━━━━━━━━━━━━━━━━━━\u001b[0m\u001b[37m\u001b[0m \u001b[1m5s\u001b[0m 23ms/step\n",
      "NMSE médio do módulo dos coeficientes: 0.840295\n",
      "\n",
      "Executando combinação 31/32:\n",
      "SeqLen: 30, Units: 128, Filters: [32, 16], Kernel: 3, Dropout: 0.2, LR: 0.0005, Batch: 32\n",
      "\u001b[1m175/175\u001b[0m \u001b[32m━━━━━━━━━━━━━━━━━━━━\u001b[0m\u001b[37m\u001b[0m \u001b[1m5s\u001b[0m 22ms/step\n",
      "NMSE médio do módulo dos coeficientes: 0.819355\n",
      "\n",
      "Executando combinação 32/32:\n",
      "SeqLen: 30, Units: 128, Filters: [32, 16], Kernel: 3, Dropout: 0.2, LR: 0.0005, Batch: 64\n",
      "\u001b[1m175/175\u001b[0m \u001b[32m━━━━━━━━━━━━━━━━━━━━\u001b[0m\u001b[37m\u001b[0m \u001b[1m4s\u001b[0m 17ms/step\n",
      "NMSE médio do módulo dos coeficientes: 1.041823\n",
      "\n",
      "Melhores hiperparâmetros: SeqLen:20_Units:64_Filters:[32, 16]_Kernel:3_Dropout:0.1_LR:0.001_Batch:32 com NMSE: 0.448197\n"
     ]
    }
   ],
   "source": [
    "# Grid Search Otimizado para o Modelo LSTM + CNN\n",
    "\n",
    "import numpy as np\n",
    "import scipy.io as sio\n",
    "import os\n",
    "import pickle\n",
    "from itertools import product\n",
    "from tensorflow.keras.models import Model\n",
    "from tensorflow.keras.layers import Input, LSTM, Conv1D, Dense, Dropout, BatchNormalization\n",
    "from tensorflow.keras.optimizers import Adam\n",
    "from tensorflow.keras.callbacks import EarlyStopping\n",
    "from tensorflow.keras.regularizers import l2  # Importação adicionada para 'l2'\n",
    "from sklearn.metrics import mean_squared_error\n",
    "from sklearn.preprocessing import MinMaxScaler\n",
    "\n",
    "# Definir os hiperparâmetros a serem testados\n",
    "hyperparams_grid = {\n",
    "    'sequence_length': [20, 30],                 # 2 opções\n",
    "    'lstm_units': [64, 128],                     # 2 opções\n",
    "    'dropout_rate': [0.1, 0.2],                  # 2 opções\n",
    "    'learning_rate': [0.001, 0.0005],            # 2 opções\n",
    "    'batch_size': [32, 64]                        # 2 opções\n",
    "}\n",
    "\n",
    "# Fixar parâmetros menos impactantes para reduzir combinações\n",
    "fixed_hyperparams = {\n",
    "    'conv_filters': [32, 16],                    # Fixado em duas camadas\n",
    "    'kernel_size': [3]                            # Fixado\n",
    "}\n",
    "\n",
    "# Carregar os dados\n",
    "file_path_temp_coefs = \"temp_coefs.mat\"\n",
    "file_path_spatial_modes = \"spatial_modes.mat\"\n",
    "file_path_mean_flow = \"mean_flow.mat\"\n",
    "file_path_parameters = \"parameters.mat\"\n",
    "\n",
    "# Verificar se os arquivos existem\n",
    "for file_path in [file_path_temp_coefs, file_path_spatial_modes, file_path_mean_flow, file_path_parameters]:\n",
    "    if not os.path.exists(file_path):\n",
    "        raise FileNotFoundError(f\"Arquivo {file_path} não encontrado. Verifique o caminho.\")\n",
    "\n",
    "# Carregar os dados dos arquivos .mat\n",
    "mat_data_temp = sio.loadmat(file_path_temp_coefs)\n",
    "coefs = mat_data_temp['coefs']\n",
    "phi = sio.loadmat(file_path_spatial_modes)['phi']\n",
    "y_positions = sio.loadmat(file_path_mean_flow)['y'].flatten()\n",
    "Xavg = sio.loadmat(file_path_mean_flow)['Xavg'].flatten()\n",
    "nmodos_pod = sio.loadmat(file_path_parameters)['nmodes']\n",
    "\n",
    "# Definir o número de coeficientes a serem utilizados\n",
    "num_coefs = 20  # Usando 20 coeficientes\n",
    "print(f\"Número total de modos utilizados: {num_coefs}\")\n",
    "\n",
    "# Separar os coeficientes em parte real e imaginária\n",
    "real_coefs = np.real(coefs[:num_coefs, :])\n",
    "imag_coefs = np.imag(coefs[:num_coefs, :])\n",
    "\n",
    "# Divisão dos dados\n",
    "first_interval_end = 4801\n",
    "real_coefs_train = real_coefs[:, :first_interval_end:2]\n",
    "imag_coefs_train = imag_coefs[:, :first_interval_end:2]\n",
    "real_coefs_val = real_coefs[:, first_interval_end:]\n",
    "imag_coefs_val = imag_coefs[:, first_interval_end:]\n",
    "\n",
    "# Concatenar as partes real e imaginária para normalização\n",
    "coefs_train = np.vstack([real_coefs_train, imag_coefs_train])  # Dimensão (num_coefs*2, N_train)\n",
    "coefs_val = np.vstack([real_coefs_val, imag_coefs_val])        # Dimensão (num_coefs*2, N_val)\n",
    "\n",
    "# Normalização usando MinMaxScaler\n",
    "num_total_coefs = num_coefs * 2\n",
    "scalers = []\n",
    "\n",
    "coefs_train_normalized = np.zeros_like(coefs_train)\n",
    "coefs_val_normalized = np.zeros_like(coefs_val)\n",
    "\n",
    "for i in range(num_total_coefs):\n",
    "    scaler_coef = MinMaxScaler(feature_range=(-1, 1))\n",
    "    coefs_train_normalized[i, :] = scaler_coef.fit_transform(coefs_train[i, :].reshape(-1, 1)).flatten()\n",
    "    coefs_val_normalized[i, :] = scaler_coef.transform(coefs_val[i, :].reshape(-1, 1)).flatten()\n",
    "    scalers.append(scaler_coef)\n",
    "\n",
    "# Função para criar sequências de entrada e saídas correspondentes (previsão de um passo à frente)\n",
    "def create_sequences(real_coefs_norm, imag_coefs_norm, seq_length):\n",
    "    X = []\n",
    "    y = []\n",
    "    num_samples = real_coefs_norm.shape[1] - seq_length\n",
    "    for i in range(num_samples):\n",
    "        # Sequências das partes real e imaginária\n",
    "        X_seq_real = real_coefs_norm[:, i:i+seq_length]\n",
    "        X_seq_imag = imag_coefs_norm[:, i:i+seq_length]\n",
    "        X_seq = np.vstack([X_seq_real, X_seq_imag])  # Dimensão (num_coefs*2, seq_length)\n",
    "        X.append(X_seq)\n",
    "        # Saídas: próximo coeficiente após a sequência\n",
    "        y_real = real_coefs_norm[:, i+seq_length]\n",
    "        y_imag = imag_coefs_norm[:, i+seq_length]\n",
    "        y_seq = np.hstack([y_real, y_imag])  # Dimensão (num_coefs*2,)\n",
    "        y.append(y_seq)\n",
    "    X = np.array(X)\n",
    "    y = np.array(y)\n",
    "    # Ajustar as dimensões para [samples, timesteps, features]\n",
    "    X = X.transpose(0, 2, 1)  # [samples, timesteps, features]\n",
    "    return X, y\n",
    "\n",
    "# Dicionário para armazenar os resultados\n",
    "results = {}\n",
    "\n",
    "# Gerar todas as combinações possíveis de hiperparâmetros\n",
    "keys = hyperparams_grid.keys()\n",
    "values = (hyperparams_grid[key] for key in keys)\n",
    "total_combinations = np.prod([len(v) for v in hyperparams_grid.values()])\n",
    "print(f\"Total de combinações de hiperparâmetros: {total_combinations}\")\n",
    "\n",
    "combination_index = 1\n",
    "\n",
    "for hp_values in product(*values):\n",
    "    hyperparams = dict(zip(keys, hp_values))\n",
    "    sequence_length = hyperparams['sequence_length']\n",
    "    lstm_units = hyperparams['lstm_units']\n",
    "    dropout_rate = hyperparams['dropout_rate']\n",
    "    learning_rate = hyperparams['learning_rate']\n",
    "    batch_size = hyperparams['batch_size']\n",
    "    \n",
    "    # Fixar os hiperparâmetros fixos (Conv1D)\n",
    "    conv_filters = fixed_hyperparams['conv_filters']\n",
    "    kernel_size = fixed_hyperparams['kernel_size'][0]  # Apenas uma opção\n",
    "\n",
    "    print(f\"\\nExecutando combinação {combination_index}/{total_combinations}:\")\n",
    "    print(f\"SeqLen: {sequence_length}, Units: {lstm_units}, Filters: {conv_filters}, Kernel: {kernel_size}, Dropout: {dropout_rate}, LR: {learning_rate}, Batch: {batch_size}\")\n",
    "    combination_index += 1\n",
    "\n",
    "    # Criar sequências\n",
    "    X_train, y_train = create_sequences(coefs_train_normalized[:num_coefs, :], coefs_train_normalized[num_coefs:, :], sequence_length)\n",
    "    X_val, y_val = create_sequences(coefs_val_normalized[:num_coefs, :], coefs_val_normalized[num_coefs:, :], sequence_length)\n",
    "\n",
    "    # Verificar se há dados suficientes\n",
    "    if X_train.shape[0] == 0 or X_val.shape[0] == 0:\n",
    "        print(\"Dados insuficientes para a sequência atual. Pulando para a próxima combinação.\")\n",
    "        continue\n",
    "\n",
    "    # Definir o modelo com CNN + LSTM e regularização L2\n",
    "    lstm_input = Input(shape=(X_train.shape[1], X_train.shape[2]))\n",
    "    x = lstm_input\n",
    "    x = Conv1D(filters=conv_filters[0], kernel_size=kernel_size, activation='relu', padding='same',\n",
    "               kernel_regularizer=l2(0.0001))(x)\n",
    "    x = BatchNormalization()(x)\n",
    "    x = Conv1D(filters=conv_filters[1], kernel_size=kernel_size, activation='relu', padding='same',\n",
    "               kernel_regularizer=l2(0.0001))(x)\n",
    "    x = BatchNormalization()(x)\n",
    "    x = Dropout(dropout_rate)(x)\n",
    "    x = LSTM(lstm_units, return_sequences=False, activation='tanh',\n",
    "             kernel_regularizer=l2(0.0001),\n",
    "             recurrent_dropout=dropout_rate)(x)\n",
    "    x = Dropout(dropout_rate)(x)\n",
    "    output = Dense(num_total_coefs, activation='linear', kernel_regularizer=l2(0.0001))(x)\n",
    "    model = Model(inputs=lstm_input, outputs=output)\n",
    "    model.compile(optimizer=Adam(learning_rate=learning_rate), loss='mean_squared_error')\n",
    "\n",
    "    # Treinar o modelo\n",
    "    early_stopping = EarlyStopping(monitor='val_loss', patience=5, restore_best_weights=True)\n",
    "    history = model.fit(X_train, y_train, epochs=50, batch_size=batch_size, validation_data=(X_val, y_val),\n",
    "                        callbacks=[early_stopping], verbose=0)\n",
    "\n",
    "    # Previsões\n",
    "    predictions_normalized = model.predict(X_val)\n",
    "    predictions = np.zeros_like(predictions_normalized)\n",
    "    y_val_original = np.zeros_like(y_val)\n",
    "    for i in range(num_total_coefs):\n",
    "        scaler = scalers[i]\n",
    "        predictions[:, i] = scaler.inverse_transform(predictions_normalized[:, i].reshape(-1, 1)).flatten()\n",
    "        y_val_original[:, i] = scaler.inverse_transform(y_val[:, i].reshape(-1, 1)).flatten()\n",
    "\n",
    "    # Separar as partes real e imaginária\n",
    "    pred_real = predictions[:, :num_coefs]\n",
    "    pred_imag = predictions[:, num_coefs:]\n",
    "    actual_real = y_val_original[:, :num_coefs]\n",
    "    actual_imag = y_val_original[:, num_coefs:]\n",
    "\n",
    "    # Calcular o módulo dos coeficientes\n",
    "    actual_modulus = np.sqrt(actual_real**2 + actual_imag**2)\n",
    "    predicted_modulus = np.sqrt(pred_real**2 + pred_imag**2)\n",
    "\n",
    "    # Função para calcular NMSE\n",
    "    def calculate_normalized_mse(actual, predicted):\n",
    "        num_coefs = actual.shape[1]\n",
    "        nmse = np.zeros(num_coefs)\n",
    "        for c in range(num_coefs):\n",
    "            mse = mean_squared_error(actual[:, c], predicted[:, c])\n",
    "            variance = np.var(actual[:, c])\n",
    "            nmse[c] = mse / variance if variance != 0 else np.nan\n",
    "        return nmse\n",
    "\n",
    "    # Calcular NMSE para o módulo\n",
    "    nmse_modulus = calculate_normalized_mse(actual_modulus, predicted_modulus)\n",
    "\n",
    "    # Calcular a média do NMSE, ignorando valores NaN\n",
    "    average_nmse_modulus = np.nanmean(nmse_modulus)\n",
    "\n",
    "    # Salvar resultados\n",
    "    result_key = f\"SeqLen:{sequence_length}_Units:{lstm_units}_Filters:{conv_filters}_Kernel:{kernel_size}_Dropout:{dropout_rate}_LR:{learning_rate}_Batch:{batch_size}\"\n",
    "    results[result_key] = average_nmse_modulus\n",
    "    print(f\"NMSE médio do módulo dos coeficientes: {average_nmse_modulus:.6f}\")\n",
    "\n",
    "# Salvar os resultados em um arquivo\n",
    "with open('grid_search_results_lstm_cnn.pkl', 'wb') as f:\n",
    "    pickle.dump(results, f)\n",
    "\n",
    "# Encontrar a melhor combinação de hiperparâmetros\n",
    "best_params = min(results, key=results.get)\n",
    "print(f\"\\nMelhores hiperparâmetros: {best_params} com NMSE: {results[best_params]:.6f}\")\n"
   ]
  },
  {
   "cell_type": "code",
   "execution_count": 8,
   "metadata": {},
   "outputs": [
    {
     "name": "stdout",
     "output_type": "stream",
     "text": [
      "Número total de modos utilizados: 20\n",
      "Total de combinações de hiperparâmetros: 16\n",
      "\n",
      "Executando combinação 1/16:\n",
      "SeqLen: 20, Units: 64, Filters: 32, Kernel: 3, Dropout: 0.1, LR: 0.001, Batch: 32\n",
      "\u001b[1m175/175\u001b[0m \u001b[32m━━━━━━━━━━━━━━━━━━━━\u001b[0m\u001b[37m\u001b[0m \u001b[1m4s\u001b[0m 16ms/step\n",
      "NMSE médio do módulo dos coeficientes: 0.360347\n",
      "\n",
      "Executando combinação 2/16:\n",
      "SeqLen: 20, Units: 64, Filters: 16, Kernel: 3, Dropout: 0.1, LR: 0.001, Batch: 32\n",
      "\u001b[1m175/175\u001b[0m \u001b[32m━━━━━━━━━━━━━━━━━━━━\u001b[0m\u001b[37m\u001b[0m \u001b[1m3s\u001b[0m 13ms/step\n",
      "NMSE médio do módulo dos coeficientes: 0.667559\n",
      "\n",
      "Executando combinação 3/16:\n",
      "SeqLen: 20, Units: 64, Filters: 32, Kernel: 3, Dropout: 0.2, LR: 0.001, Batch: 32\n",
      "\u001b[1m175/175\u001b[0m \u001b[32m━━━━━━━━━━━━━━━━━━━━\u001b[0m\u001b[37m\u001b[0m \u001b[1m3s\u001b[0m 15ms/step\n",
      "NMSE médio do módulo dos coeficientes: 0.616240\n",
      "\n",
      "Executando combinação 4/16:\n",
      "SeqLen: 20, Units: 64, Filters: 16, Kernel: 3, Dropout: 0.2, LR: 0.001, Batch: 32\n",
      "\u001b[1m175/175\u001b[0m \u001b[32m━━━━━━━━━━━━━━━━━━━━\u001b[0m\u001b[37m\u001b[0m \u001b[1m3s\u001b[0m 13ms/step\n",
      "NMSE médio do módulo dos coeficientes: 1.113294\n",
      "\n",
      "Executando combinação 5/16:\n",
      "SeqLen: 20, Units: 128, Filters: 32, Kernel: 3, Dropout: 0.1, LR: 0.001, Batch: 32\n",
      "\u001b[1m175/175\u001b[0m \u001b[32m━━━━━━━━━━━━━━━━━━━━\u001b[0m\u001b[37m\u001b[0m \u001b[1m3s\u001b[0m 17ms/step\n",
      "NMSE médio do módulo dos coeficientes: 0.304046\n",
      "\n",
      "Executando combinação 6/16:\n",
      "SeqLen: 20, Units: 128, Filters: 16, Kernel: 3, Dropout: 0.1, LR: 0.001, Batch: 32\n",
      "\u001b[1m175/175\u001b[0m \u001b[32m━━━━━━━━━━━━━━━━━━━━\u001b[0m\u001b[37m\u001b[0m \u001b[1m4s\u001b[0m 21ms/step\n",
      "NMSE médio do módulo dos coeficientes: 0.615144\n",
      "\n",
      "Executando combinação 7/16:\n",
      "SeqLen: 20, Units: 128, Filters: 32, Kernel: 3, Dropout: 0.2, LR: 0.001, Batch: 32\n",
      "\u001b[1m175/175\u001b[0m \u001b[32m━━━━━━━━━━━━━━━━━━━━\u001b[0m\u001b[37m\u001b[0m \u001b[1m3s\u001b[0m 11ms/step\n",
      "NMSE médio do módulo dos coeficientes: 0.463235\n",
      "\n",
      "Executando combinação 8/16:\n",
      "SeqLen: 20, Units: 128, Filters: 16, Kernel: 3, Dropout: 0.2, LR: 0.001, Batch: 32\n",
      "\u001b[1m175/175\u001b[0m \u001b[32m━━━━━━━━━━━━━━━━━━━━\u001b[0m\u001b[37m\u001b[0m \u001b[1m3s\u001b[0m 15ms/step\n",
      "NMSE médio do módulo dos coeficientes: 0.873435\n",
      "\n",
      "Executando combinação 9/16:\n",
      "SeqLen: 30, Units: 64, Filters: 32, Kernel: 3, Dropout: 0.1, LR: 0.001, Batch: 32\n",
      "\u001b[1m175/175\u001b[0m \u001b[32m━━━━━━━━━━━━━━━━━━━━\u001b[0m\u001b[37m\u001b[0m \u001b[1m2s\u001b[0m 8ms/step\n",
      "NMSE médio do módulo dos coeficientes: 0.363824\n",
      "\n",
      "Executando combinação 10/16:\n",
      "SeqLen: 30, Units: 64, Filters: 16, Kernel: 3, Dropout: 0.1, LR: 0.001, Batch: 32\n",
      "\u001b[1m175/175\u001b[0m \u001b[32m━━━━━━━━━━━━━━━━━━━━\u001b[0m\u001b[37m\u001b[0m \u001b[1m2s\u001b[0m 9ms/step\n",
      "NMSE médio do módulo dos coeficientes: 0.660245\n",
      "\n",
      "Executando combinação 11/16:\n",
      "SeqLen: 30, Units: 64, Filters: 32, Kernel: 3, Dropout: 0.2, LR: 0.001, Batch: 32\n",
      "\u001b[1m175/175\u001b[0m \u001b[32m━━━━━━━━━━━━━━━━━━━━\u001b[0m\u001b[37m\u001b[0m \u001b[1m2s\u001b[0m 11ms/step\n",
      "NMSE médio do módulo dos coeficientes: 0.620481\n",
      "\n",
      "Executando combinação 12/16:\n",
      "SeqLen: 30, Units: 64, Filters: 16, Kernel: 3, Dropout: 0.2, LR: 0.001, Batch: 32\n",
      "\u001b[1m175/175\u001b[0m \u001b[32m━━━━━━━━━━━━━━━━━━━━\u001b[0m\u001b[37m\u001b[0m \u001b[1m2s\u001b[0m 8ms/step\n",
      "NMSE médio do módulo dos coeficientes: 1.143671\n",
      "\n",
      "Executando combinação 13/16:\n",
      "SeqLen: 30, Units: 128, Filters: 32, Kernel: 3, Dropout: 0.1, LR: 0.001, Batch: 32\n",
      "\u001b[1m175/175\u001b[0m \u001b[32m━━━━━━━━━━━━━━━━━━━━\u001b[0m\u001b[37m\u001b[0m \u001b[1m3s\u001b[0m 18ms/step\n",
      "NMSE médio do módulo dos coeficientes: 0.313281\n",
      "\n",
      "Executando combinação 14/16:\n",
      "SeqLen: 30, Units: 128, Filters: 16, Kernel: 3, Dropout: 0.1, LR: 0.001, Batch: 32\n",
      "\u001b[1m175/175\u001b[0m \u001b[32m━━━━━━━━━━━━━━━━━━━━\u001b[0m\u001b[37m\u001b[0m \u001b[1m3s\u001b[0m 12ms/step\n",
      "NMSE médio do módulo dos coeficientes: 0.623483\n",
      "\n",
      "Executando combinação 15/16:\n",
      "SeqLen: 30, Units: 128, Filters: 32, Kernel: 3, Dropout: 0.2, LR: 0.001, Batch: 32\n",
      "\u001b[1m175/175\u001b[0m \u001b[32m━━━━━━━━━━━━━━━━━━━━\u001b[0m\u001b[37m\u001b[0m \u001b[1m3s\u001b[0m 16ms/step\n",
      "NMSE médio do módulo dos coeficientes: 0.476960\n",
      "\n",
      "Executando combinação 16/16:\n",
      "SeqLen: 30, Units: 128, Filters: 16, Kernel: 3, Dropout: 0.2, LR: 0.001, Batch: 32\n",
      "\u001b[1m175/175\u001b[0m \u001b[32m━━━━━━━━━━━━━━━━━━━━\u001b[0m\u001b[37m\u001b[0m \u001b[1m4s\u001b[0m 18ms/step\n",
      "NMSE médio do módulo dos coeficientes: 0.858752\n",
      "\n",
      "Melhores hiperparâmetros: SeqLen:20_Units:128_Filters:32_Kernel:3_Dropout:0.1_LR:0.001_Batch:32 com NMSE: 0.304046\n"
     ]
    }
   ],
   "source": [
    "# Grid Search Otimizado e Corrigido para o Modelo LSTM + CNN\n",
    "\n",
    "import numpy as np\n",
    "import scipy.io as sio\n",
    "import os\n",
    "import pickle\n",
    "from itertools import product\n",
    "from tensorflow.keras.models import Model\n",
    "from tensorflow.keras.layers import Input, LSTM, Conv1D, Dense, Dropout, BatchNormalization\n",
    "from tensorflow.keras.optimizers import Adam\n",
    "from tensorflow.keras.callbacks import EarlyStopping\n",
    "from tensorflow.keras.regularizers import l2  # Importação adicionada para 'l2'\n",
    "from sklearn.metrics import mean_squared_error\n",
    "from sklearn.preprocessing import MinMaxScaler\n",
    "\n",
    "# Definir os hiperparâmetros a serem testados\n",
    "# Reduzimos o número de hiperparâmetros para acelerar o Grid Search\n",
    "hyperparams_grid = {\n",
    "    'sequence_length': [20, 30],                 # 2 opções\n",
    "    'lstm_units': [64, 128],                     # 2 opções\n",
    "    'dropout_rate': [0.1, 0.2],                  # 2 opções\n",
    "    # Removemos 'learning_rate' e 'batch_size' da grade para fixá-los\n",
    "}\n",
    "\n",
    "# Fixar parâmetros menos impactantes para reduzir combinações\n",
    "fixed_hyperparams = {\n",
    "    'conv_filters': [32, 16],                    # 2 opções para filtros Conv1D\n",
    "    'kernel_size': [3],                           # Fixado em 3\n",
    "    'learning_rate': [0.001],                     # Fixado em 0.001\n",
    "    'batch_size': [32]                             # Fixado em 32\n",
    "}\n",
    "\n",
    "# Carregar os dados\n",
    "file_path_temp_coefs = \"temp_coefs.mat\"\n",
    "file_path_spatial_modes = \"spatial_modes.mat\"\n",
    "file_path_mean_flow = \"mean_flow.mat\"\n",
    "file_path_parameters = \"parameters.mat\"\n",
    "\n",
    "# Verificar se os arquivos existem\n",
    "for file_path in [file_path_temp_coefs, file_path_spatial_modes, file_path_mean_flow, file_path_parameters]:\n",
    "    if not os.path.exists(file_path):\n",
    "        raise FileNotFoundError(f\"Arquivo {file_path} não encontrado. Verifique o caminho.\")\n",
    "\n",
    "# Carregar os dados dos arquivos .mat\n",
    "mat_data_temp = sio.loadmat(file_path_temp_coefs)\n",
    "coefs = mat_data_temp['coefs']\n",
    "phi = sio.loadmat(file_path_spatial_modes)['phi']\n",
    "y_positions = sio.loadmat(file_path_mean_flow)['y'].flatten()\n",
    "Xavg = sio.loadmat(file_path_mean_flow)['Xavg'].flatten()\n",
    "nmodos_pod = sio.loadmat(file_path_parameters)['nmodes']\n",
    "\n",
    "# Definir o número de coeficientes a serem utilizados\n",
    "num_coefs = 20  # Usando 20 coeficientes\n",
    "print(f\"Número total de modos utilizados: {num_coefs}\")\n",
    "\n",
    "# Separar os coeficientes em parte real e imaginária\n",
    "real_coefs = np.real(coefs[:num_coefs, :])\n",
    "imag_coefs = np.imag(coefs[:num_coefs, :])\n",
    "\n",
    "# Divisão dos dados\n",
    "first_interval_end = 4801\n",
    "real_coefs_train = real_coefs[:, :first_interval_end:2]\n",
    "imag_coefs_train = imag_coefs[:, :first_interval_end:2]\n",
    "real_coefs_val = real_coefs[:, first_interval_end:]\n",
    "imag_coefs_val = imag_coefs[:, first_interval_end:]\n",
    "\n",
    "# Concatenar as partes real e imaginária para normalização\n",
    "coefs_train = np.vstack([real_coefs_train, imag_coefs_train])  # Dimensão (num_coefs*2, N_train)\n",
    "coefs_val = np.vstack([real_coefs_val, imag_coefs_val])        # Dimensão (num_coefs*2, N_val)\n",
    "\n",
    "# Normalização usando MinMaxScaler\n",
    "num_total_coefs = num_coefs * 2\n",
    "scalers = []\n",
    "\n",
    "coefs_train_normalized = np.zeros_like(coefs_train)\n",
    "coefs_val_normalized = np.zeros_like(coefs_val)\n",
    "\n",
    "for i in range(num_total_coefs):\n",
    "    scaler_coef = MinMaxScaler(feature_range=(-1, 1))\n",
    "    coefs_train_normalized[i, :] = scaler_coef.fit_transform(coefs_train[i, :].reshape(-1, 1)).flatten()\n",
    "    coefs_val_normalized[i, :] = scaler_coef.transform(coefs_val[i, :].reshape(-1, 1)).flatten()\n",
    "    scalers.append(scaler_coef)\n",
    "\n",
    "# Função para criar sequências de entrada e saídas correspondentes (previsão de um passo à frente)\n",
    "def create_sequences(real_coefs_norm, imag_coefs_norm, seq_length):\n",
    "    X = []\n",
    "    y = []\n",
    "    num_samples = real_coefs_norm.shape[1] - seq_length\n",
    "    for i in range(num_samples):\n",
    "        # Sequências das partes real e imaginária\n",
    "        X_seq_real = real_coefs_norm[:, i:i+seq_length]\n",
    "        X_seq_imag = imag_coefs_norm[:, i:i+seq_length]\n",
    "        X_seq = np.vstack([X_seq_real, X_seq_imag])  # Dimensão (num_coefs*2, seq_length)\n",
    "        X.append(X_seq)\n",
    "        # Saídas: próximo coeficiente após a sequência\n",
    "        y_real = real_coefs_norm[:, i+seq_length]\n",
    "        y_imag = imag_coefs_norm[:, i+seq_length]\n",
    "        y_seq = np.hstack([y_real, y_imag])  # Dimensão (num_coefs*2,)\n",
    "        y.append(y_seq)\n",
    "    X = np.array(X)\n",
    "    y = np.array(y)\n",
    "    # Ajustar as dimensões para [samples, timesteps, features]\n",
    "    X = X.transpose(0, 2, 1)  # [samples, timesteps, features]\n",
    "    return X, y\n",
    "\n",
    "# Dicionário para armazenar os resultados\n",
    "results = {}\n",
    "\n",
    "# Gerar todas as combinações possíveis de hiperparâmetros (reduzido para 2^5 = 32)\n",
    "keys = list(hyperparams_grid.keys()) + list(fixed_hyperparams.keys())\n",
    "values = [hyperparams_grid[key] for key in hyperparams_grid.keys()] + [fixed_hyperparams[key] for key in fixed_hyperparams.keys()]\n",
    "total_combinations = np.prod([len(v) for v in values])\n",
    "print(f\"Total de combinações de hiperparâmetros: {total_combinations}\")\n",
    "\n",
    "combination_index = 1\n",
    "\n",
    "for hp_values in product(*values):\n",
    "    hyperparams = dict(zip(keys, hp_values))\n",
    "    sequence_length = hyperparams['sequence_length']\n",
    "    lstm_units = hyperparams['lstm_units']\n",
    "    dropout_rate = hyperparams['dropout_rate']\n",
    "    learning_rate = hyperparams['learning_rate']\n",
    "    batch_size = hyperparams['batch_size']\n",
    "    conv_filters = hyperparams['conv_filters']\n",
    "    kernel_size = hyperparams['kernel_size']\n",
    "    \n",
    "    print(f\"\\nExecutando combinação {combination_index}/{total_combinations}:\")\n",
    "    print(f\"SeqLen: {sequence_length}, Units: {lstm_units}, Filters: {conv_filters}, Kernel: {kernel_size}, Dropout: {dropout_rate}, LR: {learning_rate}, Batch: {batch_size}\")\n",
    "    combination_index += 1\n",
    "\n",
    "    # Criar sequências\n",
    "    X_train, y_train = create_sequences(coefs_train_normalized[:num_coefs, :], coefs_train_normalized[num_coefs:, :], sequence_length)\n",
    "    X_val, y_val = create_sequences(coefs_val_normalized[:num_coefs, :], coefs_val_normalized[num_coefs:, :], sequence_length)\n",
    "\n",
    "    # Verificar se há dados suficientes\n",
    "    if X_train.shape[0] == 0 or X_val.shape[0] == 0:\n",
    "        print(\"Dados insuficientes para a sequência atual. Pulando para a próxima combinação.\")\n",
    "        continue\n",
    "\n",
    "    # Definir o modelo com uma única camada Conv1D + LSTM e regularização L2\n",
    "    lstm_input = Input(shape=(X_train.shape[1], X_train.shape[2]))\n",
    "    x = lstm_input\n",
    "    # Correção: Usar conv_filters diretamente, já que é um inteiro\n",
    "    x = Conv1D(filters=conv_filters, kernel_size=kernel_size, activation='relu', padding='same',\n",
    "               kernel_regularizer=l2(0.0001))(x)\n",
    "    x = BatchNormalization()(x)\n",
    "    x = Dropout(dropout_rate)(x)\n",
    "    x = LSTM(lstm_units, return_sequences=False, activation='tanh',\n",
    "             kernel_regularizer=l2(0.0001),\n",
    "             recurrent_dropout=dropout_rate)(x)\n",
    "    x = Dropout(dropout_rate)(x)\n",
    "    output = Dense(num_total_coefs, activation='linear', kernel_regularizer=l2(0.0001))(x)\n",
    "    model = Model(inputs=lstm_input, outputs=output)\n",
    "    model.compile(optimizer=Adam(learning_rate=learning_rate), loss='mean_squared_error')\n",
    "\n",
    "    # Treinar o modelo\n",
    "    early_stopping = EarlyStopping(monitor='val_loss', patience=5, restore_best_weights=True)\n",
    "    history = model.fit(X_train, y_train, epochs=30, batch_size=batch_size, validation_data=(X_val, y_val),\n",
    "                        callbacks=[early_stopping], verbose=0)\n",
    "\n",
    "    # Previsões\n",
    "    predictions_normalized = model.predict(X_val)\n",
    "    predictions = np.zeros_like(predictions_normalized)\n",
    "    y_val_original = np.zeros_like(y_val)\n",
    "    for i in range(num_total_coefs):\n",
    "        scaler = scalers[i]\n",
    "        predictions[:, i] = scaler.inverse_transform(predictions_normalized[:, i].reshape(-1, 1)).flatten()\n",
    "        y_val_original[:, i] = scaler.inverse_transform(y_val[:, i].reshape(-1, 1)).flatten()\n",
    "\n",
    "    # Separar as partes real e imaginária\n",
    "    pred_real = predictions[:, :num_coefs]\n",
    "    pred_imag = predictions[:, num_coefs:]\n",
    "    actual_real = y_val_original[:, :num_coefs]\n",
    "    actual_imag = y_val_original[:, num_coefs:]\n",
    "\n",
    "    # Calcular o módulo dos coeficientes\n",
    "    actual_modulus = np.sqrt(actual_real**2 + actual_imag**2)\n",
    "    predicted_modulus = np.sqrt(pred_real**2 + pred_imag**2)\n",
    "\n",
    "    # Função para calcular NMSE\n",
    "    def calculate_normalized_mse(actual, predicted):\n",
    "        num_coefs = actual.shape[1]\n",
    "        nmse = np.zeros(num_coefs)\n",
    "        for c in range(num_coefs):\n",
    "            mse = mean_squared_error(actual[:, c], predicted[:, c])\n",
    "            variance = np.var(actual[:, c])\n",
    "            nmse[c] = mse / variance if variance != 0 else np.nan\n",
    "        return nmse\n",
    "\n",
    "    # Calcular NMSE para o módulo\n",
    "    nmse_modulus = calculate_normalized_mse(actual_modulus, predicted_modulus)\n",
    "\n",
    "    # Calcular a média do NMSE, ignorando valores NaN\n",
    "    average_nmse_modulus = np.nanmean(nmse_modulus)\n",
    "\n",
    "    # Salvar resultados\n",
    "    result_key = f\"SeqLen:{sequence_length}_Units:{lstm_units}_Filters:{conv_filters}_Kernel:{kernel_size}_Dropout:{dropout_rate}_LR:{learning_rate}_Batch:{batch_size}\"\n",
    "    results[result_key] = average_nmse_modulus\n",
    "    print(f\"NMSE médio do módulo dos coeficientes: {average_nmse_modulus:.6f}\")\n",
    "\n",
    "# Salvar os resultados em um arquivo\n",
    "with open('grid_search_results_lstm_cnn.pkl', 'wb') as f:\n",
    "    pickle.dump(results, f)\n",
    "\n",
    "# Encontrar a melhor combinação de hiperparâmetros\n",
    "best_params = min(results, key=results.get)\n",
    "print(f\"\\nMelhores hiperparâmetros: {best_params} com NMSE: {results[best_params]:.6f}\")\n"
   ]
  },
  {
   "cell_type": "code",
   "execution_count": 9,
   "metadata": {},
   "outputs": [
    {
     "name": "stdout",
     "output_type": "stream",
     "text": [
      "Número total de modos utilizados: 20\n",
      "Total de combinações de hiperparâmetros: 16\n",
      "\n",
      "Executando combinação 1/16:\n",
      "SeqLen: 20, Units: 64, Filters: 32, Kernel: 3, Dropout: 0.1, LR: 0.001, Batch: 32\n",
      "\u001b[1m175/175\u001b[0m \u001b[32m━━━━━━━━━━━━━━━━━━━━\u001b[0m\u001b[37m\u001b[0m \u001b[1m3s\u001b[0m 10ms/step\n",
      "NMSE médio do módulo dos coeficientes: 0.401194\n",
      "\n",
      "Executando combinação 2/16:\n",
      "SeqLen: 20, Units: 64, Filters: 16, Kernel: 3, Dropout: 0.1, LR: 0.001, Batch: 32\n",
      "\u001b[1m175/175\u001b[0m \u001b[32m━━━━━━━━━━━━━━━━━━━━\u001b[0m\u001b[37m\u001b[0m \u001b[1m3s\u001b[0m 11ms/step\n",
      "NMSE médio do módulo dos coeficientes: 0.809385\n",
      "\n",
      "Executando combinação 3/16:\n",
      "SeqLen: 20, Units: 64, Filters: 32, Kernel: 3, Dropout: 0.2, LR: 0.001, Batch: 32\n",
      "\u001b[1m175/175\u001b[0m \u001b[32m━━━━━━━━━━━━━━━━━━━━\u001b[0m\u001b[37m\u001b[0m \u001b[1m2s\u001b[0m 9ms/step\n",
      "NMSE médio do módulo dos coeficientes: 0.648186\n",
      "\n",
      "Executando combinação 4/16:\n",
      "SeqLen: 20, Units: 64, Filters: 16, Kernel: 3, Dropout: 0.2, LR: 0.001, Batch: 32\n",
      "\u001b[1m175/175\u001b[0m \u001b[32m━━━━━━━━━━━━━━━━━━━━\u001b[0m\u001b[37m\u001b[0m \u001b[1m4s\u001b[0m 17ms/step\n",
      "NMSE médio do módulo dos coeficientes: 1.165509\n",
      "\n",
      "Executando combinação 5/16:\n",
      "SeqLen: 20, Units: 128, Filters: 32, Kernel: 3, Dropout: 0.1, LR: 0.001, Batch: 32\n",
      "\u001b[1m175/175\u001b[0m \u001b[32m━━━━━━━━━━━━━━━━━━━━\u001b[0m\u001b[37m\u001b[0m \u001b[1m4s\u001b[0m 22ms/step\n",
      "NMSE médio do módulo dos coeficientes: 0.427876\n",
      "\n",
      "Executando combinação 6/16:\n",
      "SeqLen: 20, Units: 128, Filters: 16, Kernel: 3, Dropout: 0.1, LR: 0.001, Batch: 32\n",
      "\u001b[1m175/175\u001b[0m \u001b[32m━━━━━━━━━━━━━━━━━━━━\u001b[0m\u001b[37m\u001b[0m \u001b[1m4s\u001b[0m 21ms/step\n",
      "NMSE médio do módulo dos coeficientes: 0.925870\n",
      "\n",
      "Executando combinação 7/16:\n",
      "SeqLen: 20, Units: 128, Filters: 32, Kernel: 3, Dropout: 0.2, LR: 0.001, Batch: 32\n",
      "\u001b[1m175/175\u001b[0m \u001b[32m━━━━━━━━━━━━━━━━━━━━\u001b[0m\u001b[37m\u001b[0m \u001b[1m3s\u001b[0m 16ms/step\n",
      "NMSE médio do módulo dos coeficientes: 0.537522\n",
      "\n",
      "Executando combinação 8/16:\n",
      "SeqLen: 20, Units: 128, Filters: 16, Kernel: 3, Dropout: 0.2, LR: 0.001, Batch: 32\n",
      "\u001b[1m175/175\u001b[0m \u001b[32m━━━━━━━━━━━━━━━━━━━━\u001b[0m\u001b[37m\u001b[0m \u001b[1m4s\u001b[0m 19ms/step\n",
      "NMSE médio do módulo dos coeficientes: 1.066632\n",
      "\n",
      "Executando combinação 9/16:\n",
      "SeqLen: 30, Units: 64, Filters: 32, Kernel: 3, Dropout: 0.1, LR: 0.001, Batch: 32\n",
      "\u001b[1m175/175\u001b[0m \u001b[32m━━━━━━━━━━━━━━━━━━━━\u001b[0m\u001b[37m\u001b[0m \u001b[1m4s\u001b[0m 17ms/step\n",
      "NMSE médio do módulo dos coeficientes: 0.415731\n",
      "\n",
      "Executando combinação 10/16:\n",
      "SeqLen: 30, Units: 64, Filters: 16, Kernel: 3, Dropout: 0.1, LR: 0.001, Batch: 32\n",
      "\u001b[1m175/175\u001b[0m \u001b[32m━━━━━━━━━━━━━━━━━━━━\u001b[0m\u001b[37m\u001b[0m \u001b[1m4s\u001b[0m 19ms/step\n",
      "NMSE médio do módulo dos coeficientes: 0.853782\n",
      "\n",
      "Executando combinação 11/16:\n",
      "SeqLen: 30, Units: 64, Filters: 32, Kernel: 3, Dropout: 0.2, LR: 0.001, Batch: 32\n",
      "\u001b[1m175/175\u001b[0m \u001b[32m━━━━━━━━━━━━━━━━━━━━\u001b[0m\u001b[37m\u001b[0m \u001b[1m4s\u001b[0m 17ms/step\n",
      "NMSE médio do módulo dos coeficientes: 0.666288\n",
      "\n",
      "Executando combinação 12/16:\n",
      "SeqLen: 30, Units: 64, Filters: 16, Kernel: 3, Dropout: 0.2, LR: 0.001, Batch: 32\n",
      "\u001b[1m175/175\u001b[0m \u001b[32m━━━━━━━━━━━━━━━━━━━━\u001b[0m\u001b[37m\u001b[0m \u001b[1m3s\u001b[0m 16ms/step\n",
      "NMSE médio do módulo dos coeficientes: 1.211176\n",
      "\n",
      "Executando combinação 13/16:\n",
      "SeqLen: 30, Units: 128, Filters: 32, Kernel: 3, Dropout: 0.1, LR: 0.001, Batch: 32\n",
      "\u001b[1m175/175\u001b[0m \u001b[32m━━━━━━━━━━━━━━━━━━━━\u001b[0m\u001b[37m\u001b[0m \u001b[1m4s\u001b[0m 19ms/step\n",
      "NMSE médio do módulo dos coeficientes: 0.418043\n",
      "\n",
      "Executando combinação 14/16:\n",
      "SeqLen: 30, Units: 128, Filters: 16, Kernel: 3, Dropout: 0.1, LR: 0.001, Batch: 32\n",
      "\u001b[1m175/175\u001b[0m \u001b[32m━━━━━━━━━━━━━━━━━━━━\u001b[0m\u001b[37m\u001b[0m \u001b[1m5s\u001b[0m 23ms/step\n",
      "NMSE médio do módulo dos coeficientes: 0.938002\n",
      "\n",
      "Executando combinação 15/16:\n",
      "SeqLen: 30, Units: 128, Filters: 32, Kernel: 3, Dropout: 0.2, LR: 0.001, Batch: 32\n",
      "\u001b[1m175/175\u001b[0m \u001b[32m━━━━━━━━━━━━━━━━━━━━\u001b[0m\u001b[37m\u001b[0m \u001b[1m3s\u001b[0m 17ms/step\n",
      "NMSE médio do módulo dos coeficientes: 0.576458\n",
      "\n",
      "Executando combinação 16/16:\n",
      "SeqLen: 30, Units: 128, Filters: 16, Kernel: 3, Dropout: 0.2, LR: 0.001, Batch: 32\n",
      "\u001b[1m175/175\u001b[0m \u001b[32m━━━━━━━━━━━━━━━━━━━━\u001b[0m\u001b[37m\u001b[0m \u001b[1m5s\u001b[0m 25ms/step\n",
      "NMSE médio do módulo dos coeficientes: 1.063853\n",
      "\n",
      "Melhores hiperparâmetros: SeqLen:20_Units:64_Filters:32_Kernel:3_Dropout:0.1_LR:0.001_Batch:32 com NMSE: 0.401194\n",
      "\n",
      "Top 3 combinações de hiperparâmetros com menor NMSE:\n",
      "SeqLen:20_Units:64_Filters:32_Kernel:3_Dropout:0.1_LR:0.001_Batch:32 => NMSE: 0.401194\n",
      "SeqLen:30_Units:64_Filters:32_Kernel:3_Dropout:0.1_LR:0.001_Batch:32 => NMSE: 0.415731\n",
      "SeqLen:30_Units:128_Filters:32_Kernel:3_Dropout:0.1_LR:0.001_Batch:32 => NMSE: 0.418043\n"
     ]
    }
   ],
   "source": [
    "# Grid Search Otimizado e Corrigido para o Modelo LSTM + CNN com Melhorias na Arquitetura\n",
    "\n",
    "import numpy as np\n",
    "import scipy.io as sio\n",
    "import os\n",
    "import pickle\n",
    "from itertools import product\n",
    "from tensorflow.keras.models import Model\n",
    "from tensorflow.keras.layers import Input, LSTM, Conv1D, Dense, Dropout, BatchNormalization, Add\n",
    "from tensorflow.keras.optimizers import Adam\n",
    "from tensorflow.keras.callbacks import EarlyStopping, ReduceLROnPlateau\n",
    "from tensorflow.keras.regularizers import l2\n",
    "from sklearn.metrics import mean_squared_error\n",
    "from sklearn.preprocessing import MinMaxScaler, StandardScaler\n",
    "from statsmodels.tsa.stattools import adfuller\n",
    "import matplotlib.pyplot as plt\n",
    "\n",
    "# Definir os hiperparâmetros a serem testados\n",
    "hyperparams_grid = {\n",
    "    'sequence_length': [20, 30],                 # 2 opções\n",
    "    'lstm_units': [64, 128],                     # 2 opções\n",
    "    'dropout_rate': [0.1, 0.2],                  # 2 opções\n",
    "}\n",
    "\n",
    "# Fixar parâmetros menos impactantes para reduzir combinações\n",
    "fixed_hyperparams = {\n",
    "    'conv_filters': [32, 16],                    # 2 opções para filtros Conv1D\n",
    "    'kernel_size': [3],                           # Fixado em 3\n",
    "    'learning_rate': [0.001],                     # Fixado em 0.001\n",
    "    'batch_size': [32]                             # Fixado em 32\n",
    "}\n",
    "\n",
    "# Carregar os dados\n",
    "file_path_temp_coefs = \"temp_coefs.mat\"\n",
    "file_path_spatial_modes = \"spatial_modes.mat\"\n",
    "file_path_mean_flow = \"mean_flow.mat\"\n",
    "file_path_parameters = \"parameters.mat\"\n",
    "\n",
    "# Verificar se os arquivos existem\n",
    "for file_path in [file_path_temp_coefs, file_path_spatial_modes, file_path_mean_flow, file_path_parameters]:\n",
    "    if not os.path.exists(file_path):\n",
    "        raise FileNotFoundError(f\"Arquivo {file_path} não encontrado. Verifique o caminho.\")\n",
    "\n",
    "# Carregar os dados dos arquivos .mat\n",
    "mat_data_temp = sio.loadmat(file_path_temp_coefs)\n",
    "coefs = mat_data_temp['coefs']\n",
    "phi = sio.loadmat(file_path_spatial_modes)['phi']\n",
    "y_positions = sio.loadmat(file_path_mean_flow)['y'].flatten()\n",
    "Xavg = sio.loadmat(file_path_mean_flow)['Xavg'].flatten()\n",
    "nmodos_pod = sio.loadmat(file_path_parameters)['nmodes']\n",
    "\n",
    "# Definir o número de coeficientes a serem utilizados\n",
    "num_coefs = 20  # Usando 20 coeficientes\n",
    "print(f\"Número total de modos utilizados: {num_coefs}\")\n",
    "\n",
    "# Separar os coeficientes em parte real e imaginária\n",
    "real_coefs = np.real(coefs[:num_coefs, :])\n",
    "imag_coefs = np.imag(coefs[:num_coefs, :])\n",
    "\n",
    "# Divisão dos dados\n",
    "first_interval_end = 4801\n",
    "real_coefs_train = real_coefs[:, :first_interval_end:2]\n",
    "imag_coefs_train = imag_coefs[:, :first_interval_end:2]\n",
    "real_coefs_val = real_coefs[:, first_interval_end:]\n",
    "imag_coefs_val = imag_coefs[:, first_interval_end:]\n",
    "\n",
    "# Concatenar as partes real e imaginária para normalização\n",
    "coefs_train = np.vstack([real_coefs_train, imag_coefs_train])  # Dimensão (num_coefs*2, N_train)\n",
    "coefs_val = np.vstack([real_coefs_val, imag_coefs_val])        # Dimensão (num_coefs*2, N_val)\n",
    "\n",
    "# Normalização usando StandardScaler\n",
    "num_total_coefs = num_coefs * 2\n",
    "scalers = []\n",
    "\n",
    "coefs_train_normalized = np.zeros_like(coefs_train)\n",
    "coefs_val_normalized = np.zeros_like(coefs_val)\n",
    "\n",
    "for i in range(num_total_coefs):\n",
    "    scaler_coef = StandardScaler()\n",
    "    coefs_train_normalized[i, :] = scaler_coef.fit_transform(coefs_train[i, :].reshape(-1, 1)).flatten()\n",
    "    coefs_val_normalized[i, :] = scaler_coef.transform(coefs_val[i, :].reshape(-1, 1)).flatten()\n",
    "    scalers.append(scaler_coef)\n",
    "\n",
    "# Função para criar sequências de entrada e saídas correspondentes (previsão de um passo à frente)\n",
    "def create_sequences(real_coefs_norm, imag_coefs_norm, seq_length):\n",
    "    X = []\n",
    "    y = []\n",
    "    num_samples = real_coefs_norm.shape[1] - seq_length\n",
    "    for i in range(num_samples):\n",
    "        # Sequências das partes real e imaginária\n",
    "        X_seq_real = real_coefs_norm[:, i:i+seq_length]\n",
    "        X_seq_imag = imag_coefs_norm[:, i:i+seq_length]\n",
    "        X_seq = np.vstack([X_seq_real, X_seq_imag])  # Dimensão (num_coefs*2, seq_length)\n",
    "        X.append(X_seq)\n",
    "        # Saídas: próximo coeficiente após a sequência\n",
    "        y_real = real_coefs_norm[:, i+seq_length]\n",
    "        y_imag = imag_coefs_norm[:, i+seq_length]\n",
    "        y_seq = np.hstack([y_real, y_imag])  # Dimensão (num_coefs*2,)\n",
    "        y.append(y_seq)\n",
    "    X = np.array(X)\n",
    "    y = np.array(y)\n",
    "    # Ajustar as dimensões para [samples, timesteps, features]\n",
    "    X = X.transpose(0, 2, 1)  # [samples, timesteps, features]\n",
    "    return X, y\n",
    "\n",
    "# Dicionário para armazenar os resultados\n",
    "results = {}\n",
    "\n",
    "# Gerar todas as combinações possíveis de hiperparâmetros\n",
    "keys = list(hyperparams_grid.keys()) + list(fixed_hyperparams.keys())\n",
    "values = [hyperparams_grid[key] for key in hyperparams_grid.keys()] + [fixed_hyperparams[key] for key in fixed_hyperparams.keys()]\n",
    "total_combinations = np.prod([len(v) for v in values])\n",
    "print(f\"Total de combinações de hiperparâmetros: {total_combinations}\")\n",
    "\n",
    "combination_index = 1\n",
    "\n",
    "for hp_values in product(*values):\n",
    "    hyperparams = dict(zip(keys, hp_values))\n",
    "    sequence_length = hyperparams['sequence_length']\n",
    "    lstm_units = hyperparams['lstm_units']\n",
    "    dropout_rate = hyperparams['dropout_rate']\n",
    "    learning_rate = hyperparams['learning_rate']\n",
    "    batch_size = hyperparams['batch_size']\n",
    "    conv_filters = hyperparams['conv_filters']\n",
    "    kernel_size = hyperparams['kernel_size']\n",
    "    \n",
    "    print(f\"\\nExecutando combinação {combination_index}/{total_combinations}:\")\n",
    "    print(f\"SeqLen: {sequence_length}, Units: {lstm_units}, Filters: {conv_filters}, Kernel: {kernel_size}, Dropout: {dropout_rate}, LR: {learning_rate}, Batch: {batch_size}\")\n",
    "    combination_index += 1\n",
    "\n",
    "    # Criar sequências\n",
    "    X_train, y_train = create_sequences(coefs_train_normalized[:num_coefs, :], coefs_train_normalized[num_coefs:, :], sequence_length)\n",
    "    X_val, y_val = create_sequences(coefs_val_normalized[:num_coefs, :], coefs_val_normalized[num_coefs:, :], sequence_length)\n",
    "\n",
    "    # Verificar se há dados suficientes\n",
    "    if X_train.shape[0] == 0 or X_val.shape[0] == 0:\n",
    "        print(\"Dados insuficientes para a sequência atual. Pulando para a próxima combinação.\")\n",
    "        continue\n",
    "\n",
    "    # Definir o modelo com uma única camada Conv1D + LSTM e regularização L2\n",
    "    lstm_input = Input(shape=(X_train.shape[1], X_train.shape[2]))\n",
    "    x = lstm_input\n",
    "    # Usar conv_filters diretamente, já que é um inteiro\n",
    "    x = Conv1D(filters=conv_filters, kernel_size=kernel_size, activation='relu', padding='same',\n",
    "               kernel_regularizer=l2(0.0001))(x)\n",
    "    x = BatchNormalization()(x)\n",
    "    x = Dropout(dropout_rate)(x)\n",
    "    x = LSTM(lstm_units, return_sequences=False, activation='tanh',\n",
    "             kernel_regularizer=l2(0.0001),\n",
    "             recurrent_dropout=dropout_rate)(x)\n",
    "    x = Dropout(dropout_rate)(x)\n",
    "    output = Dense(num_total_coefs, activation='linear', kernel_regularizer=l2(0.0001))(x)\n",
    "    model = Model(inputs=lstm_input, outputs=output)\n",
    "    model.compile(optimizer=Adam(learning_rate=learning_rate), loss='mean_squared_error')\n",
    "\n",
    "    # Implementar Learning Rate Scheduler\n",
    "    reduce_lr = ReduceLROnPlateau(monitor='val_loss', factor=0.5,\n",
    "                                  patience=3, min_lr=1e-6)\n",
    "\n",
    "    # Treinar o modelo\n",
    "    early_stopping = EarlyStopping(monitor='val_loss', patience=5, restore_best_weights=True)\n",
    "    history = model.fit(X_train, y_train, epochs=30, batch_size=batch_size, validation_data=(X_val, y_val),\n",
    "                        callbacks=[early_stopping, reduce_lr], verbose=0)\n",
    "\n",
    "    # Previsões\n",
    "    predictions_normalized = model.predict(X_val)\n",
    "    predictions = np.zeros_like(predictions_normalized)\n",
    "    y_val_original = np.zeros_like(y_val)\n",
    "    for i in range(num_total_coefs):\n",
    "        scaler = scalers[i]\n",
    "        predictions[:, i] = scaler.inverse_transform(predictions_normalized[:, i].reshape(-1, 1)).flatten()\n",
    "        y_val_original[:, i] = scaler.inverse_transform(y_val[:, i].reshape(-1, 1)).flatten()\n",
    "\n",
    "    # Separar as partes real e imaginária\n",
    "    pred_real = predictions[:, :num_coefs]\n",
    "    pred_imag = predictions[:, num_coefs:]\n",
    "    actual_real = y_val_original[:, :num_coefs]\n",
    "    actual_imag = y_val_original[:, num_coefs:]\n",
    "\n",
    "    # Calcular o módulo dos coeficientes\n",
    "    actual_modulus = np.sqrt(actual_real**2 + actual_imag**2)\n",
    "    predicted_modulus = np.sqrt(pred_real**2 + pred_imag**2)\n",
    "\n",
    "    # Função para calcular NMSE\n",
    "    def calculate_normalized_mse(actual, predicted):\n",
    "        num_coefs = actual.shape[1]\n",
    "        nmse = np.zeros(num_coefs)\n",
    "        for c in range(num_coefs):\n",
    "            mse = mean_squared_error(actual[:, c], predicted[:, c])\n",
    "            variance = np.var(actual[:, c])\n",
    "            nmse[c] = mse / variance if variance != 0 else np.nan\n",
    "        return nmse\n",
    "\n",
    "    # Calcular NMSE para o módulo\n",
    "    nmse_modulus = calculate_normalized_mse(actual_modulus, predicted_modulus)\n",
    "\n",
    "    # Calcular a média do NMSE, ignorando valores NaN\n",
    "    average_nmse_modulus = np.nanmean(nmse_modulus)\n",
    "\n",
    "    # Salvar resultados\n",
    "    result_key = f\"SeqLen:{sequence_length}_Units:{lstm_units}_Filters:{conv_filters}_Kernel:{kernel_size}_Dropout:{dropout_rate}_LR:{learning_rate}_Batch:{batch_size}\"\n",
    "    results[result_key] = average_nmse_modulus\n",
    "    print(f\"NMSE médio do módulo dos coeficientes: {average_nmse_modulus:.6f}\")\n",
    "\n",
    "# Salvar os resultados em um arquivo\n",
    "with open('grid_search_results_lstm_cnn.pkl', 'wb') as f:\n",
    "    pickle.dump(results, f)\n",
    "\n",
    "# Encontrar a melhor combinação de hiperparâmetros\n",
    "best_params = min(results, key=results.get)\n",
    "print(f\"\\nMelhores hiperparâmetros: {best_params} com NMSE: {results[best_params]:.6f}\")\n",
    "\n",
    "# Carregar e Analisar os Resultados\n",
    "with open('grid_search_results_lstm_cnn.pkl', 'rb') as f:\n",
    "    results = pickle.load(f)\n",
    "\n",
    "# Ordenar as combinações pelo NMSE em ordem crescente\n",
    "sorted_results = sorted(results.items(), key=lambda x: x[1])\n",
    "\n",
    "# Exibir as 3 melhores combinações\n",
    "print(\"\\nTop 3 combinações de hiperparâmetros com menor NMSE:\")\n",
    "for combo, nmse in sorted_results[:3]:\n",
    "    print(f\"{combo} => NMSE: {nmse:.6f}\")\n",
    "\n",
    "# Plotar as curvas de perda da melhor combinação\n",
    "best_key = best_params\n",
    "# Supondo que você tenha armazenado o histórico de treinamento, caso contrário, você precisará reexecutar o treinamento com a melhor combinação e salvar o histórico.\n",
    "# Aqui, apenas exemplifico como plotar (substitua 'history' pelo histórico real do melhor modelo)\n",
    "# plt.figure(figsize=(10,6))\n",
    "# plt.plot(history.history['loss'], label='Loss Treinamento')\n",
    "# plt.plot(history.history['val_loss'], label='Loss Validação')\n",
    "# plt.xlabel('Épocas')\n",
    "# plt.ylabel('Loss')\n",
    "# plt.title('Curvas de Perda de Treinamento e Validação')\n",
    "# plt.legend()\n",
    "# plt.show()\n"
   ]
  },
  {
   "cell_type": "code",
   "execution_count": 10,
   "metadata": {},
   "outputs": [
    {
     "name": "stdout",
     "output_type": "stream",
     "text": [
      "Número total de modos utilizados: 20\n",
      "Total de combinações de hiperparâmetros: 16\n",
      "\n",
      "Executando combinação 1/16:\n",
      "SeqLen: 20, Units: 64, Filters: 32, Kernel: 3, Dropout: 0.1, LR: 0.001, Batch: 32\n",
      "\u001b[1m175/175\u001b[0m \u001b[32m━━━━━━━━━━━━━━━━━━━━\u001b[0m\u001b[37m\u001b[0m \u001b[1m2s\u001b[0m 10ms/step\n",
      "NMSE médio do módulo dos coeficientes: 0.396521\n",
      "\n",
      "Executando combinação 2/16:\n",
      "SeqLen: 20, Units: 64, Filters: 16, Kernel: 3, Dropout: 0.1, LR: 0.001, Batch: 32\n",
      "\u001b[1m175/175\u001b[0m \u001b[32m━━━━━━━━━━━━━━━━━━━━\u001b[0m\u001b[37m\u001b[0m \u001b[1m2s\u001b[0m 11ms/step\n",
      "NMSE médio do módulo dos coeficientes: 0.803682\n",
      "\n",
      "Executando combinação 3/16:\n",
      "SeqLen: 20, Units: 64, Filters: 32, Kernel: 3, Dropout: 0.2, LR: 0.001, Batch: 32\n",
      "\u001b[1m175/175\u001b[0m \u001b[32m━━━━━━━━━━━━━━━━━━━━\u001b[0m\u001b[37m\u001b[0m \u001b[1m3s\u001b[0m 14ms/step\n",
      "NMSE médio do módulo dos coeficientes: 0.667008\n",
      "\n",
      "Executando combinação 4/16:\n",
      "SeqLen: 20, Units: 64, Filters: 16, Kernel: 3, Dropout: 0.2, LR: 0.001, Batch: 32\n",
      "\u001b[1m175/175\u001b[0m \u001b[32m━━━━━━━━━━━━━━━━━━━━\u001b[0m\u001b[37m\u001b[0m \u001b[1m3s\u001b[0m 14ms/step\n",
      "NMSE médio do módulo dos coeficientes: 1.146012\n",
      "\n",
      "Executando combinação 5/16:\n",
      "SeqLen: 20, Units: 128, Filters: 32, Kernel: 3, Dropout: 0.1, LR: 0.001, Batch: 32\n",
      "\u001b[1m175/175\u001b[0m \u001b[32m━━━━━━━━━━━━━━━━━━━━\u001b[0m\u001b[37m\u001b[0m \u001b[1m2s\u001b[0m 12ms/step\n",
      "NMSE médio do módulo dos coeficientes: 0.415948\n",
      "\n",
      "Executando combinação 6/16:\n",
      "SeqLen: 20, Units: 128, Filters: 16, Kernel: 3, Dropout: 0.1, LR: 0.001, Batch: 32\n",
      "\u001b[1m175/175\u001b[0m \u001b[32m━━━━━━━━━━━━━━━━━━━━\u001b[0m\u001b[37m\u001b[0m \u001b[1m4s\u001b[0m 20ms/step\n",
      "NMSE médio do módulo dos coeficientes: 0.951357\n",
      "\n",
      "Executando combinação 7/16:\n",
      "SeqLen: 20, Units: 128, Filters: 32, Kernel: 3, Dropout: 0.2, LR: 0.001, Batch: 32\n",
      "\u001b[1m175/175\u001b[0m \u001b[32m━━━━━━━━━━━━━━━━━━━━\u001b[0m\u001b[37m\u001b[0m \u001b[1m4s\u001b[0m 18ms/step\n",
      "NMSE médio do módulo dos coeficientes: 0.559801\n",
      "\n",
      "Executando combinação 8/16:\n",
      "SeqLen: 20, Units: 128, Filters: 16, Kernel: 3, Dropout: 0.2, LR: 0.001, Batch: 32\n",
      "\u001b[1m175/175\u001b[0m \u001b[32m━━━━━━━━━━━━━━━━━━━━\u001b[0m\u001b[37m\u001b[0m \u001b[1m4s\u001b[0m 19ms/step\n",
      "NMSE médio do módulo dos coeficientes: 1.087789\n",
      "\n",
      "Executando combinação 9/16:\n",
      "SeqLen: 30, Units: 64, Filters: 32, Kernel: 3, Dropout: 0.1, LR: 0.001, Batch: 32\n",
      "\u001b[1m175/175\u001b[0m \u001b[32m━━━━━━━━━━━━━━━━━━━━\u001b[0m\u001b[37m\u001b[0m \u001b[1m3s\u001b[0m 13ms/step\n",
      "NMSE médio do módulo dos coeficientes: 0.409413\n",
      "\n",
      "Executando combinação 10/16:\n",
      "SeqLen: 30, Units: 64, Filters: 16, Kernel: 3, Dropout: 0.1, LR: 0.001, Batch: 32\n",
      "\u001b[1m175/175\u001b[0m \u001b[32m━━━━━━━━━━━━━━━━━━━━\u001b[0m\u001b[37m\u001b[0m \u001b[1m3s\u001b[0m 15ms/step\n",
      "NMSE médio do módulo dos coeficientes: 0.829926\n",
      "\n",
      "Executando combinação 11/16:\n",
      "SeqLen: 30, Units: 64, Filters: 32, Kernel: 3, Dropout: 0.2, LR: 0.001, Batch: 32\n",
      "\u001b[1m175/175\u001b[0m \u001b[32m━━━━━━━━━━━━━━━━━━━━\u001b[0m\u001b[37m\u001b[0m \u001b[1m3s\u001b[0m 15ms/step\n",
      "NMSE médio do módulo dos coeficientes: 0.667794\n",
      "\n",
      "Executando combinação 12/16:\n",
      "SeqLen: 30, Units: 64, Filters: 16, Kernel: 3, Dropout: 0.2, LR: 0.001, Batch: 32\n",
      "\u001b[1m175/175\u001b[0m \u001b[32m━━━━━━━━━━━━━━━━━━━━\u001b[0m\u001b[37m\u001b[0m \u001b[1m2s\u001b[0m 10ms/step\n",
      "NMSE médio do módulo dos coeficientes: 1.219780\n",
      "\n",
      "Executando combinação 13/16:\n",
      "SeqLen: 30, Units: 128, Filters: 32, Kernel: 3, Dropout: 0.1, LR: 0.001, Batch: 32\n",
      "\u001b[1m175/175\u001b[0m \u001b[32m━━━━━━━━━━━━━━━━━━━━\u001b[0m\u001b[37m\u001b[0m \u001b[1m4s\u001b[0m 19ms/step\n",
      "NMSE médio do módulo dos coeficientes: 0.447337\n",
      "\n",
      "Executando combinação 14/16:\n",
      "SeqLen: 30, Units: 128, Filters: 16, Kernel: 3, Dropout: 0.1, LR: 0.001, Batch: 32\n",
      "\u001b[1m175/175\u001b[0m \u001b[32m━━━━━━━━━━━━━━━━━━━━\u001b[0m\u001b[37m\u001b[0m \u001b[1m4s\u001b[0m 21ms/step\n",
      "NMSE médio do módulo dos coeficientes: 0.942387\n",
      "\n",
      "Executando combinação 15/16:\n",
      "SeqLen: 30, Units: 128, Filters: 32, Kernel: 3, Dropout: 0.2, LR: 0.001, Batch: 32\n",
      "\u001b[1m175/175\u001b[0m \u001b[32m━━━━━━━━━━━━━━━━━━━━\u001b[0m\u001b[37m\u001b[0m \u001b[1m4s\u001b[0m 22ms/step\n",
      "NMSE médio do módulo dos coeficientes: 0.563300\n",
      "\n",
      "Executando combinação 16/16:\n",
      "SeqLen: 30, Units: 128, Filters: 16, Kernel: 3, Dropout: 0.2, LR: 0.001, Batch: 32\n",
      "\u001b[1m175/175\u001b[0m \u001b[32m━━━━━━━━━━━━━━━━━━━━\u001b[0m\u001b[37m\u001b[0m \u001b[1m2s\u001b[0m 12ms/step\n",
      "NMSE médio do módulo dos coeficientes: 1.056033\n",
      "\n",
      "Melhores hiperparâmetros: SeqLen:20_Units:64_Filters:32_Kernel:3_Dropout:0.1_LR:0.001_Batch:32 com NMSE: 0.396521\n",
      "\n",
      "Top 3 combinações de hiperparâmetros com menor NMSE:\n",
      "SeqLen:20_Units:64_Filters:32_Kernel:3_Dropout:0.1_LR:0.001_Batch:32 => NMSE: 0.396521\n",
      "SeqLen:30_Units:64_Filters:32_Kernel:3_Dropout:0.1_LR:0.001_Batch:32 => NMSE: 0.409413\n",
      "SeqLen:20_Units:128_Filters:32_Kernel:3_Dropout:0.1_LR:0.001_Batch:32 => NMSE: 0.415948\n",
      "Epoch 1/30\n",
      "\u001b[1m75/75\u001b[0m \u001b[32m━━━━━━━━━━━━━━━━━━━━\u001b[0m\u001b[37m\u001b[0m \u001b[1m5s\u001b[0m 24ms/step - loss: 0.9869 - val_loss: 0.8737 - learning_rate: 0.0010\n",
      "Epoch 2/30\n",
      "\u001b[1m75/75\u001b[0m \u001b[32m━━━━━━━━━━━━━━━━━━━━\u001b[0m\u001b[37m\u001b[0m \u001b[1m4s\u001b[0m 47ms/step - loss: 0.7945 - val_loss: 0.7655 - learning_rate: 0.0010\n",
      "Epoch 3/30\n",
      "\u001b[1m75/75\u001b[0m \u001b[32m━━━━━━━━━━━━━━━━━━━━\u001b[0m\u001b[37m\u001b[0m \u001b[1m2s\u001b[0m 29ms/step - loss: 0.6823 - val_loss: 0.6878 - learning_rate: 0.0010\n",
      "Epoch 4/30\n",
      "\u001b[1m75/75\u001b[0m \u001b[32m━━━━━━━━━━━━━━━━━━━━\u001b[0m\u001b[37m\u001b[0m \u001b[1m2s\u001b[0m 32ms/step - loss: 0.5960 - val_loss: 0.6198 - learning_rate: 0.0010\n",
      "Epoch 5/30\n",
      "\u001b[1m75/75\u001b[0m \u001b[32m━━━━━━━━━━━━━━━━━━━━\u001b[0m\u001b[37m\u001b[0m \u001b[1m3s\u001b[0m 35ms/step - loss: 0.5218 - val_loss: 0.5632 - learning_rate: 0.0010\n",
      "Epoch 6/30\n",
      "\u001b[1m75/75\u001b[0m \u001b[32m━━━━━━━━━━━━━━━━━━━━\u001b[0m\u001b[37m\u001b[0m \u001b[1m3s\u001b[0m 39ms/step - loss: 0.4737 - val_loss: 0.5136 - learning_rate: 0.0010\n",
      "Epoch 7/30\n",
      "\u001b[1m75/75\u001b[0m \u001b[32m━━━━━━━━━━━━━━━━━━━━\u001b[0m\u001b[37m\u001b[0m \u001b[1m2s\u001b[0m 31ms/step - loss: 0.4256 - val_loss: 0.4722 - learning_rate: 0.0010\n",
      "Epoch 8/30\n",
      "\u001b[1m75/75\u001b[0m \u001b[32m━━━━━━━━━━━━━━━━━━━━\u001b[0m\u001b[37m\u001b[0m \u001b[1m2s\u001b[0m 28ms/step - loss: 0.4004 - val_loss: 0.4307 - learning_rate: 0.0010\n",
      "Epoch 9/30\n",
      "\u001b[1m75/75\u001b[0m \u001b[32m━━━━━━━━━━━━━━━━━━━━\u001b[0m\u001b[37m\u001b[0m \u001b[1m3s\u001b[0m 35ms/step - loss: 0.3740 - val_loss: 0.3979 - learning_rate: 0.0010\n",
      "Epoch 10/30\n",
      "\u001b[1m75/75\u001b[0m \u001b[32m━━━━━━━━━━━━━━━━━━━━\u001b[0m\u001b[37m\u001b[0m \u001b[1m3s\u001b[0m 34ms/step - loss: 0.3492 - val_loss: 0.3676 - learning_rate: 0.0010\n",
      "Epoch 11/30\n",
      "\u001b[1m75/75\u001b[0m \u001b[32m━━━━━━━━━━━━━━━━━━━━\u001b[0m\u001b[37m\u001b[0m \u001b[1m2s\u001b[0m 32ms/step - loss: 0.3212 - val_loss: 0.3358 - learning_rate: 0.0010\n",
      "Epoch 12/30\n",
      "\u001b[1m75/75\u001b[0m \u001b[32m━━━━━━━━━━━━━━━━━━━━\u001b[0m\u001b[37m\u001b[0m \u001b[1m4s\u001b[0m 51ms/step - loss: 0.3093 - val_loss: 0.3107 - learning_rate: 0.0010\n",
      "Epoch 13/30\n",
      "\u001b[1m75/75\u001b[0m \u001b[32m━━━━━━━━━━━━━━━━━━━━\u001b[0m\u001b[37m\u001b[0m \u001b[1m2s\u001b[0m 31ms/step - loss: 0.2943 - val_loss: 0.2878 - learning_rate: 0.0010\n",
      "Epoch 14/30\n",
      "\u001b[1m75/75\u001b[0m \u001b[32m━━━━━━━━━━━━━━━━━━━━\u001b[0m\u001b[37m\u001b[0m \u001b[1m3s\u001b[0m 45ms/step - loss: 0.2786 - val_loss: 0.2686 - learning_rate: 0.0010\n",
      "Epoch 15/30\n",
      "\u001b[1m75/75\u001b[0m \u001b[32m━━━━━━━━━━━━━━━━━━━━\u001b[0m\u001b[37m\u001b[0m \u001b[1m3s\u001b[0m 45ms/step - loss: 0.2707 - val_loss: 0.2560 - learning_rate: 0.0010\n",
      "Epoch 16/30\n",
      "\u001b[1m75/75\u001b[0m \u001b[32m━━━━━━━━━━━━━━━━━━━━\u001b[0m\u001b[37m\u001b[0m \u001b[1m3s\u001b[0m 33ms/step - loss: 0.2597 - val_loss: 0.2420 - learning_rate: 0.0010\n",
      "Epoch 17/30\n",
      "\u001b[1m75/75\u001b[0m \u001b[32m━━━━━━━━━━━━━━━━━━━━\u001b[0m\u001b[37m\u001b[0m \u001b[1m4s\u001b[0m 57ms/step - loss: 0.2563 - val_loss: 0.2298 - learning_rate: 0.0010\n",
      "Epoch 18/30\n",
      "\u001b[1m75/75\u001b[0m \u001b[32m━━━━━━━━━━━━━━━━━━━━\u001b[0m\u001b[37m\u001b[0m \u001b[1m2s\u001b[0m 29ms/step - loss: 0.2465 - val_loss: 0.2171 - learning_rate: 0.0010\n",
      "Epoch 19/30\n",
      "\u001b[1m75/75\u001b[0m \u001b[32m━━━━━━━━━━━━━━━━━━━━\u001b[0m\u001b[37m\u001b[0m \u001b[1m3s\u001b[0m 33ms/step - loss: 0.2440 - val_loss: 0.2111 - learning_rate: 0.0010\n",
      "Epoch 20/30\n",
      "\u001b[1m75/75\u001b[0m \u001b[32m━━━━━━━━━━━━━━━━━━━━\u001b[0m\u001b[37m\u001b[0m \u001b[1m2s\u001b[0m 27ms/step - loss: 0.2399 - val_loss: 0.2029 - learning_rate: 0.0010\n",
      "Epoch 21/30\n",
      "\u001b[1m75/75\u001b[0m \u001b[32m━━━━━━━━━━━━━━━━━━━━\u001b[0m\u001b[37m\u001b[0m \u001b[1m3s\u001b[0m 42ms/step - loss: 0.2323 - val_loss: 0.1947 - learning_rate: 0.0010\n",
      "Epoch 22/30\n",
      "\u001b[1m75/75\u001b[0m \u001b[32m━━━━━━━━━━━━━━━━━━━━\u001b[0m\u001b[37m\u001b[0m \u001b[1m3s\u001b[0m 38ms/step - loss: 0.2260 - val_loss: 0.1887 - learning_rate: 0.0010\n",
      "Epoch 23/30\n",
      "\u001b[1m75/75\u001b[0m \u001b[32m━━━━━━━━━━━━━━━━━━━━\u001b[0m\u001b[37m\u001b[0m \u001b[1m2s\u001b[0m 32ms/step - loss: 0.2280 - val_loss: 0.1829 - learning_rate: 0.0010\n",
      "Epoch 24/30\n",
      "\u001b[1m75/75\u001b[0m \u001b[32m━━━━━━━━━━━━━━━━━━━━\u001b[0m\u001b[37m\u001b[0m \u001b[1m2s\u001b[0m 30ms/step - loss: 0.2201 - val_loss: 0.1784 - learning_rate: 0.0010\n",
      "Epoch 25/30\n",
      "\u001b[1m75/75\u001b[0m \u001b[32m━━━━━━━━━━━━━━━━━━━━\u001b[0m\u001b[37m\u001b[0m \u001b[1m4s\u001b[0m 48ms/step - loss: 0.2195 - val_loss: 0.1751 - learning_rate: 0.0010\n",
      "Epoch 26/30\n",
      "\u001b[1m75/75\u001b[0m \u001b[32m━━━━━━━━━━━━━━━━━━━━\u001b[0m\u001b[37m\u001b[0m \u001b[1m3s\u001b[0m 40ms/step - loss: 0.2174 - val_loss: 0.1715 - learning_rate: 0.0010\n",
      "Epoch 27/30\n",
      "\u001b[1m75/75\u001b[0m \u001b[32m━━━━━━━━━━━━━━━━━━━━\u001b[0m\u001b[37m\u001b[0m \u001b[1m4s\u001b[0m 52ms/step - loss: 0.2100 - val_loss: 0.1677 - learning_rate: 0.0010\n",
      "Epoch 28/30\n",
      "\u001b[1m75/75\u001b[0m \u001b[32m━━━━━━━━━━━━━━━━━━━━\u001b[0m\u001b[37m\u001b[0m \u001b[1m2s\u001b[0m 26ms/step - loss: 0.2112 - val_loss: 0.1633 - learning_rate: 0.0010\n",
      "Epoch 29/30\n",
      "\u001b[1m75/75\u001b[0m \u001b[32m━━━━━━━━━━━━━━━━━━━━\u001b[0m\u001b[37m\u001b[0m \u001b[1m2s\u001b[0m 23ms/step - loss: 0.2070 - val_loss: 0.1610 - learning_rate: 0.0010\n",
      "Epoch 30/30\n",
      "\u001b[1m75/75\u001b[0m \u001b[32m━━━━━━━━━━━━━━━━━━━━\u001b[0m\u001b[37m\u001b[0m \u001b[1m4s\u001b[0m 47ms/step - loss: 0.2075 - val_loss: 0.1594 - learning_rate: 0.0010\n"
     ]
    },
    {
     "data": {
      "image/png": "[encoded data removed]",
      "text/plain": [
       "<Figure size 1000x600 with 1 Axes>"
      ]
     },
     "metadata": {},
     "output_type": "display_data"
    }
   ],
   "source": [
    "# Grid Search Otimizado e Corrigido para o Modelo LSTM + CNN (Uma Camada Conv1D)\n",
    "\n",
    "import numpy as np\n",
    "import scipy.io as sio\n",
    "import os\n",
    "import pickle\n",
    "from itertools import product\n",
    "from tensorflow.keras.models import Model\n",
    "from tensorflow.keras.layers import Input, LSTM, Conv1D, Dense, Dropout, BatchNormalization\n",
    "from tensorflow.keras.optimizers import Adam\n",
    "from tensorflow.keras.callbacks import EarlyStopping, ReduceLROnPlateau\n",
    "from tensorflow.keras.regularizers import l2\n",
    "from sklearn.metrics import mean_squared_error\n",
    "from sklearn.preprocessing import StandardScaler\n",
    "import matplotlib.pyplot as plt\n",
    "\n",
    "# Definir os hiperparâmetros a serem testados\n",
    "hyperparams_grid = {\n",
    "    'sequence_length': [20, 30],                 # 2 opções\n",
    "    'lstm_units': [64, 128],                     # 2 opções\n",
    "    'dropout_rate': [0.1, 0.2],                  # 2 opções\n",
    "}\n",
    "\n",
    "# Fixar parâmetros menos impactantes para reduzir combinações\n",
    "fixed_hyperparams = {\n",
    "    'conv_filters': [32, 16],                    # 2 opções para filtros Conv1D\n",
    "    'kernel_size': [3],                           # Fixado em 3\n",
    "    'learning_rate': [0.001],                     # Fixado em 0.001\n",
    "    'batch_size': [32]                             # Fixado em 32\n",
    "}\n",
    "\n",
    "# Carregar os dados\n",
    "file_path_temp_coefs = \"temp_coefs.mat\"\n",
    "file_path_spatial_modes = \"spatial_modes.mat\"\n",
    "file_path_mean_flow = \"mean_flow.mat\"\n",
    "file_path_parameters = \"parameters.mat\"\n",
    "\n",
    "# Verificar se os arquivos existem\n",
    "for file_path in [file_path_temp_coefs, file_path_spatial_modes, file_path_mean_flow, file_path_parameters]:\n",
    "    if not os.path.exists(file_path):\n",
    "        raise FileNotFoundError(f\"Arquivo {file_path} não encontrado. Verifique o caminho.\")\n",
    "\n",
    "# Carregar os dados dos arquivos .mat\n",
    "mat_data_temp = sio.loadmat(file_path_temp_coefs)\n",
    "coefs = mat_data_temp['coefs']\n",
    "phi = sio.loadmat(file_path_spatial_modes)['phi']\n",
    "y_positions = sio.loadmat(file_path_mean_flow)['y'].flatten()\n",
    "Xavg = sio.loadmat(file_path_mean_flow)['Xavg'].flatten()\n",
    "nmodos_pod = sio.loadmat(file_path_parameters)['nmodes']\n",
    "\n",
    "# Definir o número de coeficientes a serem utilizados\n",
    "num_coefs = 20  # Usando 20 coeficientes\n",
    "print(f\"Número total de modos utilizados: {num_coefs}\")\n",
    "\n",
    "# Separar os coeficientes em parte real e imaginária\n",
    "real_coefs = np.real(coefs[:num_coefs, :])\n",
    "imag_coefs = np.imag(coefs[:num_coefs, :])\n",
    "\n",
    "# Divisão dos dados\n",
    "first_interval_end = 4801\n",
    "real_coefs_train = real_coefs[:, :first_interval_end:2]\n",
    "imag_coefs_train = imag_coefs[:, :first_interval_end:2]\n",
    "real_coefs_val = real_coefs[:, first_interval_end:]\n",
    "imag_coefs_val = imag_coefs[:, first_interval_end:]\n",
    "\n",
    "# Concatenar as partes real e imaginária para normalização\n",
    "coefs_train = np.vstack([real_coefs_train, imag_coefs_train])  # Dimensão (num_coefs*2, N_train)\n",
    "coefs_val = np.vstack([real_coefs_val, imag_coefs_val])        # Dimensão (num_coefs*2, N_val)\n",
    "\n",
    "# Normalização usando StandardScaler\n",
    "num_total_coefs = num_coefs * 2\n",
    "scalers = []\n",
    "\n",
    "coefs_train_normalized = np.zeros_like(coefs_train)\n",
    "coefs_val_normalized = np.zeros_like(coefs_val)\n",
    "\n",
    "for i in range(num_total_coefs):\n",
    "    scaler_coef = StandardScaler()\n",
    "    coefs_train_normalized[i, :] = scaler_coef.fit_transform(coefs_train[i, :].reshape(-1, 1)).flatten()\n",
    "    coefs_val_normalized[i, :] = scaler_coef.transform(coefs_val[i, :].reshape(-1, 1)).flatten()\n",
    "    scalers.append(scaler_coef)\n",
    "\n",
    "# Função para criar sequências de entrada e saídas correspondentes (previsão de um passo à frente)\n",
    "def create_sequences(real_coefs_norm, imag_coefs_norm, seq_length):\n",
    "    X = []\n",
    "    y = []\n",
    "    num_samples = real_coefs_norm.shape[1] - seq_length\n",
    "    for i in range(num_samples):\n",
    "        # Sequências das partes real e imaginária\n",
    "        X_seq_real = real_coefs_norm[:, i:i+seq_length]\n",
    "        X_seq_imag = imag_coefs_norm[:, i:i+seq_length]\n",
    "        X_seq = np.vstack([X_seq_real, X_seq_imag])  # Dimensão (num_coefs*2, seq_length)\n",
    "        X.append(X_seq)\n",
    "        # Saídas: próximo coeficiente após a sequência\n",
    "        y_real = real_coefs_norm[:, i+seq_length]\n",
    "        y_imag = imag_coefs_norm[:, i+seq_length]\n",
    "        y_seq = np.hstack([y_real, y_imag])  # Dimensão (num_coefs*2,)\n",
    "        y.append(y_seq)\n",
    "    X = np.array(X)\n",
    "    y = np.array(y)\n",
    "    # Ajustar as dimensões para [samples, timesteps, features]\n",
    "    X = X.transpose(0, 2, 1)  # [samples, timesteps, features]\n",
    "    return X, y\n",
    "\n",
    "# Dicionário para armazenar os resultados\n",
    "results = {}\n",
    "\n",
    "# Gerar todas as combinações possíveis de hiperparâmetros\n",
    "keys = list(hyperparams_grid.keys()) + list(fixed_hyperparams.keys())\n",
    "values = [hyperparams_grid[key] for key in hyperparams_grid.keys()] + [fixed_hyperparams[key] for key in fixed_hyperparams.keys()]\n",
    "total_combinations = np.prod([len(v) for v in values])\n",
    "print(f\"Total de combinações de hiperparâmetros: {total_combinations}\")\n",
    "\n",
    "combination_index = 1\n",
    "\n",
    "for hp_values in product(*values):\n",
    "    hyperparams = dict(zip(keys, hp_values))\n",
    "    sequence_length = hyperparams['sequence_length']\n",
    "    lstm_units = hyperparams['lstm_units']\n",
    "    dropout_rate = hyperparams['dropout_rate']\n",
    "    learning_rate = hyperparams['learning_rate']\n",
    "    batch_size = hyperparams['batch_size']\n",
    "    conv_filters = hyperparams['conv_filters']\n",
    "    kernel_size = hyperparams['kernel_size']\n",
    "    \n",
    "    print(f\"\\nExecutando combinação {combination_index}/{total_combinations}:\")\n",
    "    print(f\"SeqLen: {sequence_length}, Units: {lstm_units}, Filters: {conv_filters}, Kernel: {kernel_size}, Dropout: {dropout_rate}, LR: {learning_rate}, Batch: {batch_size}\")\n",
    "    combination_index += 1\n",
    "\n",
    "    # Criar sequências\n",
    "    X_train, y_train = create_sequences(coefs_train_normalized[:num_coefs, :], coefs_train_normalized[num_coefs:, :], sequence_length)\n",
    "    X_val, y_val = create_sequences(coefs_val_normalized[:num_coefs, :], coefs_val_normalized[num_coefs:, :], sequence_length)\n",
    "\n",
    "    # Verificar se há dados suficientes\n",
    "    if X_train.shape[0] == 0 or X_val.shape[0] == 0:\n",
    "        print(\"Dados insuficientes para a sequência atual. Pulando para a próxima combinação.\")\n",
    "        continue\n",
    "\n",
    "    # Definir o modelo com uma única camada Conv1D + LSTM e regularização L2\n",
    "    lstm_input = Input(shape=(X_train.shape[1], X_train.shape[2]))\n",
    "    x = lstm_input\n",
    "    # Usar conv_filters diretamente, já que é um inteiro\n",
    "    x = Conv1D(filters=conv_filters, kernel_size=kernel_size, activation='relu', padding='same',\n",
    "               kernel_regularizer=l2(0.0001))(x)\n",
    "    x = BatchNormalization()(x)\n",
    "    x = Dropout(dropout_rate)(x)\n",
    "    x = LSTM(lstm_units, return_sequences=False, activation='tanh',\n",
    "             kernel_regularizer=l2(0.0001),\n",
    "             recurrent_dropout=dropout_rate)(x)\n",
    "    x = Dropout(dropout_rate)(x)\n",
    "    output = Dense(num_total_coefs, activation='linear', kernel_regularizer=l2(0.0001))(x)\n",
    "    model = Model(inputs=lstm_input, outputs=output)\n",
    "    model.compile(optimizer=Adam(learning_rate=learning_rate), loss='mean_squared_error')\n",
    "\n",
    "    # Implementar Learning Rate Scheduler\n",
    "    reduce_lr = ReduceLROnPlateau(monitor='val_loss', factor=0.5,\n",
    "                                  patience=3, min_lr=1e-6)\n",
    "\n",
    "    # Treinar o modelo\n",
    "    early_stopping = EarlyStopping(monitor='val_loss', patience=5, restore_best_weights=True)\n",
    "    history = model.fit(X_train, y_train, epochs=30, batch_size=batch_size, validation_data=(X_val, y_val),\n",
    "                        callbacks=[early_stopping, reduce_lr], verbose=0)\n",
    "\n",
    "    # Previsões\n",
    "    predictions_normalized = model.predict(X_val)\n",
    "    predictions = np.zeros_like(predictions_normalized)\n",
    "    y_val_original = np.zeros_like(y_val)\n",
    "    for i in range(num_total_coefs):\n",
    "        scaler = scalers[i]\n",
    "        predictions[:, i] = scaler.inverse_transform(predictions_normalized[:, i].reshape(-1, 1)).flatten()\n",
    "        y_val_original[:, i] = scaler.inverse_transform(y_val[:, i].reshape(-1, 1)).flatten()\n",
    "\n",
    "    # Separar as partes real e imaginária\n",
    "    pred_real = predictions[:, :num_coefs]\n",
    "    pred_imag = predictions[:, num_coefs:]\n",
    "    actual_real = y_val_original[:, :num_coefs]\n",
    "    actual_imag = y_val_original[:, num_coefs:]\n",
    "\n",
    "    # Calcular o módulo dos coeficientes\n",
    "    actual_modulus = np.sqrt(actual_real**2 + actual_imag**2)\n",
    "    predicted_modulus = np.sqrt(pred_real**2 + pred_imag**2)\n",
    "\n",
    "    # Função para calcular NMSE\n",
    "    def calculate_normalized_mse(actual, predicted):\n",
    "        num_coefs = actual.shape[1]\n",
    "        nmse = np.zeros(num_coefs)\n",
    "        for c in range(num_coefs):\n",
    "            mse = mean_squared_error(actual[:, c], predicted[:, c])\n",
    "            variance = np.var(actual[:, c])\n",
    "            nmse[c] = mse / variance if variance != 0 else np.nan\n",
    "        return nmse\n",
    "\n",
    "    # Calcular NMSE para o módulo\n",
    "    nmse_modulus = calculate_normalized_mse(actual_modulus, predicted_modulus)\n",
    "\n",
    "    # Calcular a média do NMSE, ignorando valores NaN\n",
    "    average_nmse_modulus = np.nanmean(nmse_modulus)\n",
    "\n",
    "    # Salvar resultados\n",
    "    result_key = f\"SeqLen:{sequence_length}_Units:{lstm_units}_Filters:{conv_filters}_Kernel:{kernel_size}_Dropout:{dropout_rate}_LR:{learning_rate}_Batch:{batch_size}\"\n",
    "    results[result_key] = average_nmse_modulus\n",
    "    print(f\"NMSE médio do módulo dos coeficientes: {average_nmse_modulus:.6f}\")\n",
    "\n",
    "# Salvar os resultados em um arquivo\n",
    "with open('grid_search_results_lstm_cnn_one_conv_layer.pkl', 'wb') as f:\n",
    "    pickle.dump(results, f)\n",
    "\n",
    "# Encontrar a melhor combinação de hiperparâmetros\n",
    "best_params = min(results, key=results.get)\n",
    "print(f\"\\nMelhores hiperparâmetros: {best_params} com NMSE: {results[best_params]:.6f}\")\n",
    "\n",
    "# Carregar e Analisar os Resultados\n",
    "with open('grid_search_results_lstm_cnn_one_conv_layer.pkl', 'rb') as f:\n",
    "    results = pickle.load(f)\n",
    "\n",
    "# Ordenar as combinações pelo NMSE em ordem crescente\n",
    "sorted_results = sorted(results.items(), key=lambda x: x[1])\n",
    "\n",
    "# Exibir as 3 melhores combinações\n",
    "print(\"\\nTop 3 combinações de hiperparâmetros com menor NMSE:\")\n",
    "for combo, nmse in sorted_results[:3]:\n",
    "    print(f\"{combo} => NMSE: {nmse:.6f}\")\n",
    "\n",
    "# Plotar as curvas de perda da melhor combinação\n",
    "# Para isso, você precisará armazenar o histórico de treinamento (history) durante o Grid Search\n",
    "# Uma abordagem é salvar o histórico para cada combinação, mas isso aumentaria o uso de memória\n",
    "# Alternativamente, você pode re-treinar o modelo com a melhor combinação e salvar o histórico\n",
    "\n",
    "# Exemplo de como re-treinar o melhor modelo e plotar as curvas de perda:\n",
    "best_hyperparams = best_params.split(\"_\")\n",
    "best_hyperparams_dict = {}\n",
    "for param in best_hyperparams:\n",
    "    key, value = param.split(\":\")\n",
    "    if key == \"Filters\":\n",
    "        value = int(value)\n",
    "    elif key in [\"SeqLen\", \"Units\", \"Kernel\", \"Batch\"]:\n",
    "        value = int(value)\n",
    "    elif key == \"Dropout\":\n",
    "        value = float(value)\n",
    "    elif key == \"LR\":\n",
    "        value = float(value)\n",
    "    best_hyperparams_dict[key] = value\n",
    "\n",
    "sequence_length = best_hyperparams_dict['SeqLen']\n",
    "lstm_units = best_hyperparams_dict['Units']\n",
    "conv_filters = best_hyperparams_dict['Filters']\n",
    "kernel_size = best_hyperparams_dict['Kernel']\n",
    "dropout_rate = best_hyperparams_dict['Dropout']\n",
    "learning_rate = best_hyperparams_dict['LR']\n",
    "batch_size = best_hyperparams_dict['Batch']\n",
    "\n",
    "# Criar sequências para o melhor modelo\n",
    "X_train_best, y_train_best = create_sequences(coefs_train_normalized[:num_coefs, :], coefs_train_normalized[num_coefs:, :], sequence_length)\n",
    "X_val_best, y_val_best = create_sequences(coefs_val_normalized[:num_coefs, :], coefs_val_normalized[num_coefs:, :], sequence_length)\n",
    "\n",
    "# Definir o modelo com uma única camada Conv1D + LSTM\n",
    "lstm_input = Input(shape=(X_train_best.shape[1], X_train_best.shape[2]))\n",
    "x = lstm_input\n",
    "x = Conv1D(filters=conv_filters, kernel_size=kernel_size, activation='relu', padding='same',\n",
    "           kernel_regularizer=l2(0.0001))(x)\n",
    "x = BatchNormalization()(x)\n",
    "x = Dropout(dropout_rate)(x)\n",
    "x = LSTM(lstm_units, return_sequences=False, activation='tanh',\n",
    "         kernel_regularizer=l2(0.0001),\n",
    "         recurrent_dropout=dropout_rate)(x)\n",
    "x = Dropout(dropout_rate)(x)\n",
    "output = Dense(num_total_coefs, activation='linear', kernel_regularizer=l2(0.0001))(x)\n",
    "model_best = Model(inputs=lstm_input, outputs=output)\n",
    "model_best.compile(optimizer=Adam(learning_rate=learning_rate), loss='mean_squared_error')\n",
    "\n",
    "# Implementar Learning Rate Scheduler\n",
    "reduce_lr = ReduceLROnPlateau(monitor='val_loss', factor=0.5,\n",
    "                              patience=3, min_lr=1e-6)\n",
    "\n",
    "# Treinar o melhor modelo e salvar o histórico\n",
    "early_stopping = EarlyStopping(monitor='val_loss', patience=5, restore_best_weights=True)\n",
    "history_best = model_best.fit(X_train_best, y_train_best, epochs=30, batch_size=batch_size, validation_data=(X_val_best, y_val_best),\n",
    "                              callbacks=[early_stopping, reduce_lr], verbose=1)\n",
    "\n",
    "# Plotar as curvas de perda\n",
    "plt.figure(figsize=(10,6))\n",
    "plt.plot(history_best.history['loss'], label='Loss Treinamento')\n",
    "plt.plot(history_best.history['val_loss'], label='Loss Validação')\n",
    "plt.xlabel('Épocas')\n",
    "plt.ylabel('Loss')\n",
    "plt.title('Curvas de Perda de Treinamento e Validação (Melhor Modelo)')\n",
    "plt.legend()\n",
    "plt.show()\n"
   ]
  },
  {
   "cell_type": "code",
   "execution_count": 3,
   "metadata": {},
   "outputs": [
    {
     "name": "stdout",
     "output_type": "stream",
     "text": [
      "Número total de modos utilizados: 20\n",
      "Total de combinações de hiperparâmetros: 32\n",
      "\n",
      "Executando combinação 1/32:\n",
      "SeqLen: 20, Units: 128, Conv Filters: 32, Dropout: 0.2, LR: 0.001, L2 Reg: 0.0001\n"
     ]
    },
    {
     "name": "stderr",
     "output_type": "stream",
     "text": [
      "c:\\Users\\FilipeAraujoXimenes\\anaconda3\\Lib\\site-packages\\keras\\src\\layers\\convolutional\\base_conv.py:107: UserWarning: Do not pass an `input_shape`/`input_dim` argument to a layer. When using Sequential models, prefer using an `Input(shape)` object as the first layer in the model instead.\n",
      "  super().__init__(activity_regularizer=activity_regularizer, **kwargs)\n"
     ]
    },
    {
     "name": "stdout",
     "output_type": "stream",
     "text": [
      "\u001b[1m175/175\u001b[0m \u001b[32m━━━━━━━━━━━━━━━━━━━━\u001b[0m\u001b[37m\u001b[0m \u001b[1m5s\u001b[0m 22ms/step\n",
      "Métricas para a parte real:\n",
      "MSE: 0.000000\n",
      "MAE: 0.000263\n",
      "Métricas para a parte imaginária:\n",
      "MSE: 0.000000\n",
      "MAE: 0.000254\n",
      "Média do NMSE para a parte real: 0.207695\n",
      "Média do NMSE para a parte imaginária: 0.208612\n",
      "Média do NMSE para o módulo dos coeficientes: 0.640324\n",
      "NMSE médio do módulo dos coeficientes: 0.640324\n",
      "\n",
      "Executando combinação 2/32:\n",
      "SeqLen: 20, Units: 128, Conv Filters: 32, Dropout: 0.2, LR: 0.0005, L2 Reg: 0.0001\n"
     ]
    },
    {
     "name": "stderr",
     "output_type": "stream",
     "text": [
      "c:\\Users\\FilipeAraujoXimenes\\anaconda3\\Lib\\site-packages\\keras\\src\\layers\\convolutional\\base_conv.py:107: UserWarning: Do not pass an `input_shape`/`input_dim` argument to a layer. When using Sequential models, prefer using an `Input(shape)` object as the first layer in the model instead.\n",
      "  super().__init__(activity_regularizer=activity_regularizer, **kwargs)\n"
     ]
    },
    {
     "name": "stdout",
     "output_type": "stream",
     "text": [
      "\u001b[1m175/175\u001b[0m \u001b[32m━━━━━━━━━━━━━━━━━━━━\u001b[0m\u001b[37m\u001b[0m \u001b[1m3s\u001b[0m 15ms/step\n",
      "Métricas para a parte real:\n",
      "MSE: 0.000000\n",
      "MAE: 0.000249\n",
      "Métricas para a parte imaginária:\n",
      "MSE: 0.000000\n",
      "MAE: 0.000246\n",
      "Média do NMSE para a parte real: 0.184672\n",
      "Média do NMSE para a parte imaginária: 0.191650\n",
      "Média do NMSE para o módulo dos coeficientes: 0.602576\n",
      "NMSE médio do módulo dos coeficientes: 0.602576\n",
      "\n",
      "Executando combinação 3/32:\n",
      "SeqLen: 20, Units: 128, Conv Filters: 32, Dropout: 0.3, LR: 0.001, L2 Reg: 0.0001\n"
     ]
    },
    {
     "name": "stderr",
     "output_type": "stream",
     "text": [
      "c:\\Users\\FilipeAraujoXimenes\\anaconda3\\Lib\\site-packages\\keras\\src\\layers\\convolutional\\base_conv.py:107: UserWarning: Do not pass an `input_shape`/`input_dim` argument to a layer. When using Sequential models, prefer using an `Input(shape)` object as the first layer in the model instead.\n",
      "  super().__init__(activity_regularizer=activity_regularizer, **kwargs)\n"
     ]
    },
    {
     "name": "stdout",
     "output_type": "stream",
     "text": [
      "\u001b[1m175/175\u001b[0m \u001b[32m━━━━━━━━━━━━━━━━━━━━\u001b[0m\u001b[37m\u001b[0m \u001b[1m4s\u001b[0m 18ms/step\n",
      "Métricas para a parte real:\n",
      "MSE: 0.000000\n",
      "MAE: 0.000298\n",
      "Métricas para a parte imaginária:\n",
      "MSE: 0.000000\n",
      "MAE: 0.000285\n",
      "Média do NMSE para a parte real: 0.269848\n",
      "Média do NMSE para a parte imaginária: 0.274385\n",
      "Média do NMSE para o módulo dos coeficientes: 0.917153\n",
      "NMSE médio do módulo dos coeficientes: 0.917153\n",
      "\n",
      "Executando combinação 4/32:\n",
      "SeqLen: 20, Units: 128, Conv Filters: 32, Dropout: 0.3, LR: 0.0005, L2 Reg: 0.0001\n"
     ]
    },
    {
     "name": "stderr",
     "output_type": "stream",
     "text": [
      "c:\\Users\\FilipeAraujoXimenes\\anaconda3\\Lib\\site-packages\\keras\\src\\layers\\convolutional\\base_conv.py:107: UserWarning: Do not pass an `input_shape`/`input_dim` argument to a layer. When using Sequential models, prefer using an `Input(shape)` object as the first layer in the model instead.\n",
      "  super().__init__(activity_regularizer=activity_regularizer, **kwargs)\n"
     ]
    },
    {
     "name": "stdout",
     "output_type": "stream",
     "text": [
      "\u001b[1m175/175\u001b[0m \u001b[32m━━━━━━━━━━━━━━━━━━━━\u001b[0m\u001b[37m\u001b[0m \u001b[1m4s\u001b[0m 18ms/step\n",
      "Métricas para a parte real:\n",
      "MSE: 0.000000\n",
      "MAE: 0.000286\n",
      "Métricas para a parte imaginária:\n",
      "MSE: 0.000000\n",
      "MAE: 0.000272\n",
      "Média do NMSE para a parte real: 0.246004\n",
      "Média do NMSE para a parte imaginária: 0.246707\n",
      "Média do NMSE para o módulo dos coeficientes: 0.852466\n",
      "NMSE médio do módulo dos coeficientes: 0.852466\n",
      "\n",
      "Executando combinação 5/32:\n",
      "SeqLen: 20, Units: 128, Conv Filters: 64, Dropout: 0.2, LR: 0.001, L2 Reg: 0.0001\n"
     ]
    },
    {
     "name": "stderr",
     "output_type": "stream",
     "text": [
      "c:\\Users\\FilipeAraujoXimenes\\anaconda3\\Lib\\site-packages\\keras\\src\\layers\\convolutional\\base_conv.py:107: UserWarning: Do not pass an `input_shape`/`input_dim` argument to a layer. When using Sequential models, prefer using an `Input(shape)` object as the first layer in the model instead.\n",
      "  super().__init__(activity_regularizer=activity_regularizer, **kwargs)\n"
     ]
    },
    {
     "name": "stdout",
     "output_type": "stream",
     "text": [
      "\u001b[1m175/175\u001b[0m \u001b[32m━━━━━━━━━━━━━━━━━━━━\u001b[0m\u001b[37m\u001b[0m \u001b[1m4s\u001b[0m 19ms/step\n",
      "Métricas para a parte real:\n",
      "MSE: 0.000000\n",
      "MAE: 0.000214\n",
      "Métricas para a parte imaginária:\n",
      "MSE: 0.000000\n",
      "MAE: 0.000212\n",
      "Média do NMSE para a parte real: 0.142917\n",
      "Média do NMSE para a parte imaginária: 0.145494\n",
      "Média do NMSE para o módulo dos coeficientes: 0.442198\n",
      "NMSE médio do módulo dos coeficientes: 0.442198\n",
      "\n",
      "Executando combinação 6/32:\n",
      "SeqLen: 20, Units: 128, Conv Filters: 64, Dropout: 0.2, LR: 0.0005, L2 Reg: 0.0001\n"
     ]
    },
    {
     "name": "stderr",
     "output_type": "stream",
     "text": [
      "c:\\Users\\FilipeAraujoXimenes\\anaconda3\\Lib\\site-packages\\keras\\src\\layers\\convolutional\\base_conv.py:107: UserWarning: Do not pass an `input_shape`/`input_dim` argument to a layer. When using Sequential models, prefer using an `Input(shape)` object as the first layer in the model instead.\n",
      "  super().__init__(activity_regularizer=activity_regularizer, **kwargs)\n"
     ]
    },
    {
     "name": "stdout",
     "output_type": "stream",
     "text": [
      "\u001b[1m175/175\u001b[0m \u001b[32m━━━━━━━━━━━━━━━━━━━━\u001b[0m\u001b[37m\u001b[0m \u001b[1m4s\u001b[0m 18ms/step\n",
      "Métricas para a parte real:\n",
      "MSE: 0.000000\n",
      "MAE: 0.000191\n",
      "Métricas para a parte imaginária:\n",
      "MSE: 0.000000\n",
      "MAE: 0.000187\n",
      "Média do NMSE para a parte real: 0.116387\n",
      "Média do NMSE para a parte imaginária: 0.115766\n",
      "Média do NMSE para o módulo dos coeficientes: 0.374425\n",
      "NMSE médio do módulo dos coeficientes: 0.374425\n",
      "\n",
      "Executando combinação 7/32:\n",
      "SeqLen: 20, Units: 128, Conv Filters: 64, Dropout: 0.3, LR: 0.001, L2 Reg: 0.0001\n"
     ]
    },
    {
     "name": "stderr",
     "output_type": "stream",
     "text": [
      "c:\\Users\\FilipeAraujoXimenes\\anaconda3\\Lib\\site-packages\\keras\\src\\layers\\convolutional\\base_conv.py:107: UserWarning: Do not pass an `input_shape`/`input_dim` argument to a layer. When using Sequential models, prefer using an `Input(shape)` object as the first layer in the model instead.\n",
      "  super().__init__(activity_regularizer=activity_regularizer, **kwargs)\n"
     ]
    },
    {
     "name": "stdout",
     "output_type": "stream",
     "text": [
      "\u001b[1m175/175\u001b[0m \u001b[32m━━━━━━━━━━━━━━━━━━━━\u001b[0m\u001b[37m\u001b[0m \u001b[1m2s\u001b[0m 10ms/step\n",
      "Métricas para a parte real:\n",
      "MSE: 0.000000\n",
      "MAE: 0.000238\n",
      "Métricas para a parte imaginária:\n",
      "MSE: 0.000000\n",
      "MAE: 0.000234\n",
      "Média do NMSE para a parte real: 0.181397\n",
      "Média do NMSE para a parte imaginária: 0.181362\n",
      "Média do NMSE para o módulo dos coeficientes: 0.613649\n",
      "NMSE médio do módulo dos coeficientes: 0.613649\n",
      "\n",
      "Executando combinação 8/32:\n",
      "SeqLen: 20, Units: 128, Conv Filters: 64, Dropout: 0.3, LR: 0.0005, L2 Reg: 0.0001\n"
     ]
    },
    {
     "name": "stderr",
     "output_type": "stream",
     "text": [
      "c:\\Users\\FilipeAraujoXimenes\\anaconda3\\Lib\\site-packages\\keras\\src\\layers\\convolutional\\base_conv.py:107: UserWarning: Do not pass an `input_shape`/`input_dim` argument to a layer. When using Sequential models, prefer using an `Input(shape)` object as the first layer in the model instead.\n",
      "  super().__init__(activity_regularizer=activity_regularizer, **kwargs)\n"
     ]
    },
    {
     "name": "stdout",
     "output_type": "stream",
     "text": [
      "\u001b[1m175/175\u001b[0m \u001b[32m━━━━━━━━━━━━━━━━━━━━\u001b[0m\u001b[37m\u001b[0m \u001b[1m2s\u001b[0m 8ms/step\n",
      "Métricas para a parte real:\n",
      "MSE: 0.000000\n",
      "MAE: 0.000221\n",
      "Métricas para a parte imaginária:\n",
      "MSE: 0.000000\n",
      "MAE: 0.000217\n",
      "Média do NMSE para a parte real: 0.156423\n",
      "Média do NMSE para a parte imaginária: 0.153584\n",
      "Média do NMSE para o módulo dos coeficientes: 0.540092\n",
      "NMSE médio do módulo dos coeficientes: 0.540092\n",
      "\n",
      "Executando combinação 9/32:\n",
      "SeqLen: 20, Units: 256, Conv Filters: 32, Dropout: 0.2, LR: 0.001, L2 Reg: 0.0001\n"
     ]
    },
    {
     "name": "stderr",
     "output_type": "stream",
     "text": [
      "c:\\Users\\FilipeAraujoXimenes\\anaconda3\\Lib\\site-packages\\keras\\src\\layers\\convolutional\\base_conv.py:107: UserWarning: Do not pass an `input_shape`/`input_dim` argument to a layer. When using Sequential models, prefer using an `Input(shape)` object as the first layer in the model instead.\n",
      "  super().__init__(activity_regularizer=activity_regularizer, **kwargs)\n"
     ]
    },
    {
     "name": "stdout",
     "output_type": "stream",
     "text": [
      "\u001b[1m175/175\u001b[0m \u001b[32m━━━━━━━━━━━━━━━━━━━━\u001b[0m\u001b[37m\u001b[0m \u001b[1m6s\u001b[0m 32ms/step\n",
      "Métricas para a parte real:\n",
      "MSE: 0.000000\n",
      "MAE: 0.000308\n",
      "Métricas para a parte imaginária:\n",
      "MSE: 0.000000\n",
      "MAE: 0.000305\n",
      "Média do NMSE para a parte real: 0.290701\n",
      "Média do NMSE para a parte imaginária: 0.293550\n",
      "Média do NMSE para o módulo dos coeficientes: 0.858279\n",
      "NMSE médio do módulo dos coeficientes: 0.858279\n",
      "\n",
      "Executando combinação 10/32:\n",
      "SeqLen: 20, Units: 256, Conv Filters: 32, Dropout: 0.2, LR: 0.0005, L2 Reg: 0.0001\n"
     ]
    },
    {
     "name": "stderr",
     "output_type": "stream",
     "text": [
      "c:\\Users\\FilipeAraujoXimenes\\anaconda3\\Lib\\site-packages\\keras\\src\\layers\\convolutional\\base_conv.py:107: UserWarning: Do not pass an `input_shape`/`input_dim` argument to a layer. When using Sequential models, prefer using an `Input(shape)` object as the first layer in the model instead.\n",
      "  super().__init__(activity_regularizer=activity_regularizer, **kwargs)\n"
     ]
    },
    {
     "name": "stdout",
     "output_type": "stream",
     "text": [
      "\u001b[1m175/175\u001b[0m \u001b[32m━━━━━━━━━━━━━━━━━━━━\u001b[0m\u001b[37m\u001b[0m \u001b[1m6s\u001b[0m 32ms/step\n",
      "Métricas para a parte real:\n",
      "MSE: 0.000000\n",
      "MAE: 0.000306\n",
      "Métricas para a parte imaginária:\n",
      "MSE: 0.000000\n",
      "MAE: 0.000300\n",
      "Média do NMSE para a parte real: 0.282099\n",
      "Média do NMSE para a parte imaginária: 0.290834\n",
      "Média do NMSE para o módulo dos coeficientes: 0.814051\n",
      "NMSE médio do módulo dos coeficientes: 0.814051\n",
      "\n",
      "Executando combinação 11/32:\n",
      "SeqLen: 20, Units: 256, Conv Filters: 32, Dropout: 0.3, LR: 0.001, L2 Reg: 0.0001\n"
     ]
    },
    {
     "name": "stderr",
     "output_type": "stream",
     "text": [
      "c:\\Users\\FilipeAraujoXimenes\\anaconda3\\Lib\\site-packages\\keras\\src\\layers\\convolutional\\base_conv.py:107: UserWarning: Do not pass an `input_shape`/`input_dim` argument to a layer. When using Sequential models, prefer using an `Input(shape)` object as the first layer in the model instead.\n",
      "  super().__init__(activity_regularizer=activity_regularizer, **kwargs)\n"
     ]
    },
    {
     "name": "stdout",
     "output_type": "stream",
     "text": [
      "\u001b[1m175/175\u001b[0m \u001b[32m━━━━━━━━━━━━━━━━━━━━\u001b[0m\u001b[37m\u001b[0m \u001b[1m5s\u001b[0m 27ms/step\n",
      "Métricas para a parte real:\n",
      "MSE: 0.000000\n",
      "MAE: 0.000329\n",
      "Métricas para a parte imaginária:\n",
      "MSE: 0.000000\n",
      "MAE: 0.000321\n",
      "Média do NMSE para a parte real: 0.330526\n",
      "Média do NMSE para a parte imaginária: 0.331518\n",
      "Média do NMSE para o módulo dos coeficientes: 1.020851\n",
      "NMSE médio do módulo dos coeficientes: 1.020851\n",
      "\n",
      "Executando combinação 12/32:\n",
      "SeqLen: 20, Units: 256, Conv Filters: 32, Dropout: 0.3, LR: 0.0005, L2 Reg: 0.0001\n"
     ]
    },
    {
     "name": "stderr",
     "output_type": "stream",
     "text": [
      "c:\\Users\\FilipeAraujoXimenes\\anaconda3\\Lib\\site-packages\\keras\\src\\layers\\convolutional\\base_conv.py:107: UserWarning: Do not pass an `input_shape`/`input_dim` argument to a layer. When using Sequential models, prefer using an `Input(shape)` object as the first layer in the model instead.\n",
      "  super().__init__(activity_regularizer=activity_regularizer, **kwargs)\n"
     ]
    },
    {
     "name": "stdout",
     "output_type": "stream",
     "text": [
      "\u001b[1m175/175\u001b[0m \u001b[32m━━━━━━━━━━━━━━━━━━━━\u001b[0m\u001b[37m\u001b[0m \u001b[1m8s\u001b[0m 40ms/step\n",
      "Métricas para a parte real:\n",
      "MSE: 0.000000\n",
      "MAE: 0.000321\n",
      "Métricas para a parte imaginária:\n",
      "MSE: 0.000000\n",
      "MAE: 0.000302\n",
      "Média do NMSE para a parte real: 0.312275\n",
      "Média do NMSE para a parte imaginária: 0.298790\n",
      "Média do NMSE para o módulo dos coeficientes: 0.950417\n",
      "NMSE médio do módulo dos coeficientes: 0.950417\n",
      "\n",
      "Executando combinação 13/32:\n",
      "SeqLen: 20, Units: 256, Conv Filters: 64, Dropout: 0.2, LR: 0.001, L2 Reg: 0.0001\n"
     ]
    },
    {
     "name": "stderr",
     "output_type": "stream",
     "text": [
      "c:\\Users\\FilipeAraujoXimenes\\anaconda3\\Lib\\site-packages\\keras\\src\\layers\\convolutional\\base_conv.py:107: UserWarning: Do not pass an `input_shape`/`input_dim` argument to a layer. When using Sequential models, prefer using an `Input(shape)` object as the first layer in the model instead.\n",
      "  super().__init__(activity_regularizer=activity_regularizer, **kwargs)\n"
     ]
    },
    {
     "name": "stdout",
     "output_type": "stream",
     "text": [
      "\u001b[1m175/175\u001b[0m \u001b[32m━━━━━━━━━━━━━━━━━━━━\u001b[0m\u001b[37m\u001b[0m \u001b[1m7s\u001b[0m 38ms/step\n",
      "Métricas para a parte real:\n",
      "MSE: 0.000000\n",
      "MAE: 0.000249\n",
      "Métricas para a parte imaginária:\n",
      "MSE: 0.000000\n",
      "MAE: 0.000247\n",
      "Média do NMSE para a parte real: 0.186411\n",
      "Média do NMSE para a parte imaginária: 0.189685\n",
      "Média do NMSE para o módulo dos coeficientes: 0.552743\n",
      "NMSE médio do módulo dos coeficientes: 0.552743\n",
      "\n",
      "Executando combinação 14/32:\n",
      "SeqLen: 20, Units: 256, Conv Filters: 64, Dropout: 0.2, LR: 0.0005, L2 Reg: 0.0001\n"
     ]
    },
    {
     "name": "stderr",
     "output_type": "stream",
     "text": [
      "c:\\Users\\FilipeAraujoXimenes\\anaconda3\\Lib\\site-packages\\keras\\src\\layers\\convolutional\\base_conv.py:107: UserWarning: Do not pass an `input_shape`/`input_dim` argument to a layer. When using Sequential models, prefer using an `Input(shape)` object as the first layer in the model instead.\n",
      "  super().__init__(activity_regularizer=activity_regularizer, **kwargs)\n"
     ]
    },
    {
     "name": "stdout",
     "output_type": "stream",
     "text": [
      "\u001b[1m175/175\u001b[0m \u001b[32m━━━━━━━━━━━━━━━━━━━━\u001b[0m\u001b[37m\u001b[0m \u001b[1m7s\u001b[0m 34ms/step\n",
      "Métricas para a parte real:\n",
      "MSE: 0.000000\n",
      "MAE: 0.000233\n",
      "Métricas para a parte imaginária:\n",
      "MSE: 0.000000\n",
      "MAE: 0.000224\n",
      "Média do NMSE para a parte real: 0.161277\n",
      "Média do NMSE para a parte imaginária: 0.159001\n",
      "Média do NMSE para o módulo dos coeficientes: 0.479065\n",
      "NMSE médio do módulo dos coeficientes: 0.479065\n",
      "\n",
      "Executando combinação 15/32:\n",
      "SeqLen: 20, Units: 256, Conv Filters: 64, Dropout: 0.3, LR: 0.001, L2 Reg: 0.0001\n"
     ]
    },
    {
     "name": "stderr",
     "output_type": "stream",
     "text": [
      "c:\\Users\\FilipeAraujoXimenes\\anaconda3\\Lib\\site-packages\\keras\\src\\layers\\convolutional\\base_conv.py:107: UserWarning: Do not pass an `input_shape`/`input_dim` argument to a layer. When using Sequential models, prefer using an `Input(shape)` object as the first layer in the model instead.\n",
      "  super().__init__(activity_regularizer=activity_regularizer, **kwargs)\n"
     ]
    },
    {
     "name": "stdout",
     "output_type": "stream",
     "text": [
      "\u001b[1m175/175\u001b[0m \u001b[32m━━━━━━━━━━━━━━━━━━━━\u001b[0m\u001b[37m\u001b[0m \u001b[1m7s\u001b[0m 36ms/step\n",
      "Métricas para a parte real:\n",
      "MSE: 0.000000\n",
      "MAE: 0.000261\n",
      "Métricas para a parte imaginária:\n",
      "MSE: 0.000000\n",
      "MAE: 0.000256\n",
      "Média do NMSE para a parte real: 0.206420\n",
      "Média do NMSE para a parte imaginária: 0.209051\n",
      "Média do NMSE para o módulo dos coeficientes: 0.639201\n",
      "NMSE médio do módulo dos coeficientes: 0.639201\n",
      "\n",
      "Executando combinação 16/32:\n",
      "SeqLen: 20, Units: 256, Conv Filters: 64, Dropout: 0.3, LR: 0.0005, L2 Reg: 0.0001\n"
     ]
    },
    {
     "name": "stderr",
     "output_type": "stream",
     "text": [
      "c:\\Users\\FilipeAraujoXimenes\\anaconda3\\Lib\\site-packages\\keras\\src\\layers\\convolutional\\base_conv.py:107: UserWarning: Do not pass an `input_shape`/`input_dim` argument to a layer. When using Sequential models, prefer using an `Input(shape)` object as the first layer in the model instead.\n",
      "  super().__init__(activity_regularizer=activity_regularizer, **kwargs)\n"
     ]
    },
    {
     "name": "stdout",
     "output_type": "stream",
     "text": [
      "\u001b[1m175/175\u001b[0m \u001b[32m━━━━━━━━━━━━━━━━━━━━\u001b[0m\u001b[37m\u001b[0m \u001b[1m6s\u001b[0m 28ms/step\n",
      "Métricas para a parte real:\n",
      "MSE: 0.000000\n",
      "MAE: 0.000239\n",
      "Métricas para a parte imaginária:\n",
      "MSE: 0.000000\n",
      "MAE: 0.000237\n",
      "Média do NMSE para a parte real: 0.174596\n",
      "Média do NMSE para a parte imaginária: 0.175107\n",
      "Média do NMSE para o módulo dos coeficientes: 0.565689\n",
      "NMSE médio do módulo dos coeficientes: 0.565689\n",
      "\n",
      "Executando combinação 17/32:\n",
      "SeqLen: 30, Units: 128, Conv Filters: 32, Dropout: 0.2, LR: 0.001, L2 Reg: 0.0001\n"
     ]
    },
    {
     "name": "stderr",
     "output_type": "stream",
     "text": [
      "c:\\Users\\FilipeAraujoXimenes\\anaconda3\\Lib\\site-packages\\keras\\src\\layers\\convolutional\\base_conv.py:107: UserWarning: Do not pass an `input_shape`/`input_dim` argument to a layer. When using Sequential models, prefer using an `Input(shape)` object as the first layer in the model instead.\n",
      "  super().__init__(activity_regularizer=activity_regularizer, **kwargs)\n"
     ]
    },
    {
     "name": "stdout",
     "output_type": "stream",
     "text": [
      "\u001b[1m175/175\u001b[0m \u001b[32m━━━━━━━━━━━━━━━━━━━━\u001b[0m\u001b[37m\u001b[0m \u001b[1m5s\u001b[0m 23ms/step\n",
      "Métricas para a parte real:\n",
      "MSE: 0.000000\n",
      "MAE: 0.000266\n",
      "Métricas para a parte imaginária:\n",
      "MSE: 0.000000\n",
      "MAE: 0.000256\n",
      "Média do NMSE para a parte real: 0.210529\n",
      "Média do NMSE para a parte imaginária: 0.206404\n",
      "Média do NMSE para o módulo dos coeficientes: 0.652432\n",
      "NMSE médio do módulo dos coeficientes: 0.652432\n",
      "\n",
      "Executando combinação 18/32:\n",
      "SeqLen: 30, Units: 128, Conv Filters: 32, Dropout: 0.2, LR: 0.0005, L2 Reg: 0.0001\n"
     ]
    },
    {
     "name": "stderr",
     "output_type": "stream",
     "text": [
      "c:\\Users\\FilipeAraujoXimenes\\anaconda3\\Lib\\site-packages\\keras\\src\\layers\\convolutional\\base_conv.py:107: UserWarning: Do not pass an `input_shape`/`input_dim` argument to a layer. When using Sequential models, prefer using an `Input(shape)` object as the first layer in the model instead.\n",
      "  super().__init__(activity_regularizer=activity_regularizer, **kwargs)\n"
     ]
    },
    {
     "name": "stdout",
     "output_type": "stream",
     "text": [
      "\u001b[1m175/175\u001b[0m \u001b[32m━━━━━━━━━━━━━━━━━━━━\u001b[0m\u001b[37m\u001b[0m \u001b[1m5s\u001b[0m 24ms/step\n",
      "Métricas para a parte real:\n",
      "MSE: 0.000000\n",
      "MAE: 0.000249\n",
      "Métricas para a parte imaginária:\n",
      "MSE: 0.000000\n",
      "MAE: 0.000241\n",
      "Média do NMSE para a parte real: 0.184373\n",
      "Média do NMSE para a parte imaginária: 0.191480\n",
      "Média do NMSE para o módulo dos coeficientes: 0.600248\n",
      "NMSE médio do módulo dos coeficientes: 0.600248\n",
      "\n",
      "Executando combinação 19/32:\n",
      "SeqLen: 30, Units: 128, Conv Filters: 32, Dropout: 0.3, LR: 0.001, L2 Reg: 0.0001\n"
     ]
    },
    {
     "name": "stderr",
     "output_type": "stream",
     "text": [
      "c:\\Users\\FilipeAraujoXimenes\\anaconda3\\Lib\\site-packages\\keras\\src\\layers\\convolutional\\base_conv.py:107: UserWarning: Do not pass an `input_shape`/`input_dim` argument to a layer. When using Sequential models, prefer using an `Input(shape)` object as the first layer in the model instead.\n",
      "  super().__init__(activity_regularizer=activity_regularizer, **kwargs)\n"
     ]
    },
    {
     "name": "stdout",
     "output_type": "stream",
     "text": [
      "\u001b[1m175/175\u001b[0m \u001b[32m━━━━━━━━━━━━━━━━━━━━\u001b[0m\u001b[37m\u001b[0m \u001b[1m5s\u001b[0m 24ms/step\n",
      "Métricas para a parte real:\n",
      "MSE: 0.000000\n",
      "MAE: 0.000297\n",
      "Métricas para a parte imaginária:\n",
      "MSE: 0.000000\n",
      "MAE: 0.000285\n",
      "Média do NMSE para a parte real: 0.271003\n",
      "Média do NMSE para a parte imaginária: 0.273923\n",
      "Média do NMSE para o módulo dos coeficientes: 0.911869\n",
      "NMSE médio do módulo dos coeficientes: 0.911869\n",
      "\n",
      "Executando combinação 20/32:\n",
      "SeqLen: 30, Units: 128, Conv Filters: 32, Dropout: 0.3, LR: 0.0005, L2 Reg: 0.0001\n"
     ]
    },
    {
     "name": "stderr",
     "output_type": "stream",
     "text": [
      "c:\\Users\\FilipeAraujoXimenes\\anaconda3\\Lib\\site-packages\\keras\\src\\layers\\convolutional\\base_conv.py:107: UserWarning: Do not pass an `input_shape`/`input_dim` argument to a layer. When using Sequential models, prefer using an `Input(shape)` object as the first layer in the model instead.\n",
      "  super().__init__(activity_regularizer=activity_regularizer, **kwargs)\n"
     ]
    },
    {
     "name": "stdout",
     "output_type": "stream",
     "text": [
      "\u001b[1m175/175\u001b[0m \u001b[32m━━━━━━━━━━━━━━━━━━━━\u001b[0m\u001b[37m\u001b[0m \u001b[1m4s\u001b[0m 23ms/step\n",
      "Métricas para a parte real:\n",
      "MSE: 0.000000\n",
      "MAE: 0.000282\n",
      "Métricas para a parte imaginária:\n",
      "MSE: 0.000000\n",
      "MAE: 0.000283\n",
      "Média do NMSE para a parte real: 0.247157\n",
      "Média do NMSE para a parte imaginária: 0.259303\n",
      "Média do NMSE para o módulo dos coeficientes: 0.879937\n",
      "NMSE médio do módulo dos coeficientes: 0.879937\n",
      "\n",
      "Executando combinação 21/32:\n",
      "SeqLen: 30, Units: 128, Conv Filters: 64, Dropout: 0.2, LR: 0.001, L2 Reg: 0.0001\n"
     ]
    },
    {
     "name": "stderr",
     "output_type": "stream",
     "text": [
      "c:\\Users\\FilipeAraujoXimenes\\anaconda3\\Lib\\site-packages\\keras\\src\\layers\\convolutional\\base_conv.py:107: UserWarning: Do not pass an `input_shape`/`input_dim` argument to a layer. When using Sequential models, prefer using an `Input(shape)` object as the first layer in the model instead.\n",
      "  super().__init__(activity_regularizer=activity_regularizer, **kwargs)\n"
     ]
    },
    {
     "name": "stdout",
     "output_type": "stream",
     "text": [
      "\u001b[1m175/175\u001b[0m \u001b[32m━━━━━━━━━━━━━━━━━━━━\u001b[0m\u001b[37m\u001b[0m \u001b[1m3s\u001b[0m 14ms/step\n",
      "Métricas para a parte real:\n",
      "MSE: 0.000000\n",
      "MAE: 0.000220\n",
      "Métricas para a parte imaginária:\n",
      "MSE: 0.000000\n",
      "MAE: 0.000215\n",
      "Média do NMSE para a parte real: 0.146296\n",
      "Média do NMSE para a parte imaginária: 0.148751\n",
      "Média do NMSE para o módulo dos coeficientes: 0.459767\n",
      "NMSE médio do módulo dos coeficientes: 0.459767\n",
      "\n",
      "Executando combinação 22/32:\n",
      "SeqLen: 30, Units: 128, Conv Filters: 64, Dropout: 0.2, LR: 0.0005, L2 Reg: 0.0001\n"
     ]
    },
    {
     "name": "stderr",
     "output_type": "stream",
     "text": [
      "c:\\Users\\FilipeAraujoXimenes\\anaconda3\\Lib\\site-packages\\keras\\src\\layers\\convolutional\\base_conv.py:107: UserWarning: Do not pass an `input_shape`/`input_dim` argument to a layer. When using Sequential models, prefer using an `Input(shape)` object as the first layer in the model instead.\n",
      "  super().__init__(activity_regularizer=activity_regularizer, **kwargs)\n"
     ]
    },
    {
     "name": "stdout",
     "output_type": "stream",
     "text": [
      "\u001b[1m175/175\u001b[0m \u001b[32m━━━━━━━━━━━━━━━━━━━━\u001b[0m\u001b[37m\u001b[0m \u001b[1m4s\u001b[0m 18ms/step\n",
      "Métricas para a parte real:\n",
      "MSE: 0.000000\n",
      "MAE: 0.000191\n",
      "Métricas para a parte imaginária:\n",
      "MSE: 0.000000\n",
      "MAE: 0.000193\n",
      "Média do NMSE para a parte real: 0.118406\n",
      "Média do NMSE para a parte imaginária: 0.120030\n",
      "Média do NMSE para o módulo dos coeficientes: 0.383285\n",
      "NMSE médio do módulo dos coeficientes: 0.383285\n",
      "\n",
      "Executando combinação 23/32:\n",
      "SeqLen: 30, Units: 128, Conv Filters: 64, Dropout: 0.3, LR: 0.001, L2 Reg: 0.0001\n"
     ]
    },
    {
     "name": "stderr",
     "output_type": "stream",
     "text": [
      "c:\\Users\\FilipeAraujoXimenes\\anaconda3\\Lib\\site-packages\\keras\\src\\layers\\convolutional\\base_conv.py:107: UserWarning: Do not pass an `input_shape`/`input_dim` argument to a layer. When using Sequential models, prefer using an `Input(shape)` object as the first layer in the model instead.\n",
      "  super().__init__(activity_regularizer=activity_regularizer, **kwargs)\n"
     ]
    },
    {
     "name": "stdout",
     "output_type": "stream",
     "text": [
      "\u001b[1m175/175\u001b[0m \u001b[32m━━━━━━━━━━━━━━━━━━━━\u001b[0m\u001b[37m\u001b[0m \u001b[1m4s\u001b[0m 19ms/step\n",
      "Métricas para a parte real:\n",
      "MSE: 0.000000\n",
      "MAE: 0.000240\n",
      "Métricas para a parte imaginária:\n",
      "MSE: 0.000000\n",
      "MAE: 0.000237\n",
      "Média do NMSE para a parte real: 0.183274\n",
      "Média do NMSE para a parte imaginária: 0.187397\n",
      "Média do NMSE para o módulo dos coeficientes: 0.630797\n",
      "NMSE médio do módulo dos coeficientes: 0.630797\n",
      "\n",
      "Executando combinação 24/32:\n",
      "SeqLen: 30, Units: 128, Conv Filters: 64, Dropout: 0.3, LR: 0.0005, L2 Reg: 0.0001\n"
     ]
    },
    {
     "name": "stderr",
     "output_type": "stream",
     "text": [
      "c:\\Users\\FilipeAraujoXimenes\\anaconda3\\Lib\\site-packages\\keras\\src\\layers\\convolutional\\base_conv.py:107: UserWarning: Do not pass an `input_shape`/`input_dim` argument to a layer. When using Sequential models, prefer using an `Input(shape)` object as the first layer in the model instead.\n",
      "  super().__init__(activity_regularizer=activity_regularizer, **kwargs)\n"
     ]
    },
    {
     "name": "stdout",
     "output_type": "stream",
     "text": [
      "\u001b[1m175/175\u001b[0m \u001b[32m━━━━━━━━━━━━━━━━━━━━\u001b[0m\u001b[37m\u001b[0m \u001b[1m4s\u001b[0m 18ms/step\n",
      "Métricas para a parte real:\n",
      "MSE: 0.000000\n",
      "MAE: 0.000223\n",
      "Métricas para a parte imaginária:\n",
      "MSE: 0.000000\n",
      "MAE: 0.000218\n",
      "Média do NMSE para a parte real: 0.157511\n",
      "Média do NMSE para a parte imaginária: 0.157410\n",
      "Média do NMSE para o módulo dos coeficientes: 0.557630\n",
      "NMSE médio do módulo dos coeficientes: 0.557630\n",
      "\n",
      "Executando combinação 25/32:\n",
      "SeqLen: 30, Units: 256, Conv Filters: 32, Dropout: 0.2, LR: 0.001, L2 Reg: 0.0001\n"
     ]
    },
    {
     "name": "stderr",
     "output_type": "stream",
     "text": [
      "c:\\Users\\FilipeAraujoXimenes\\anaconda3\\Lib\\site-packages\\keras\\src\\layers\\convolutional\\base_conv.py:107: UserWarning: Do not pass an `input_shape`/`input_dim` argument to a layer. When using Sequential models, prefer using an `Input(shape)` object as the first layer in the model instead.\n",
      "  super().__init__(activity_regularizer=activity_regularizer, **kwargs)\n"
     ]
    },
    {
     "name": "stdout",
     "output_type": "stream",
     "text": [
      "\u001b[1m175/175\u001b[0m \u001b[32m━━━━━━━━━━━━━━━━━━━━\u001b[0m\u001b[37m\u001b[0m \u001b[1m6s\u001b[0m 31ms/step\n",
      "Métricas para a parte real:\n",
      "MSE: 0.000000\n",
      "MAE: 0.000318\n",
      "Métricas para a parte imaginária:\n",
      "MSE: 0.000000\n",
      "MAE: 0.000313\n",
      "Média do NMSE para a parte real: 0.306075\n",
      "Média do NMSE para a parte imaginária: 0.301411\n",
      "Média do NMSE para o módulo dos coeficientes: 0.873686\n",
      "NMSE médio do módulo dos coeficientes: 0.873686\n",
      "\n",
      "Executando combinação 26/32:\n",
      "SeqLen: 30, Units: 256, Conv Filters: 32, Dropout: 0.2, LR: 0.0005, L2 Reg: 0.0001\n"
     ]
    },
    {
     "name": "stderr",
     "output_type": "stream",
     "text": [
      "c:\\Users\\FilipeAraujoXimenes\\anaconda3\\Lib\\site-packages\\keras\\src\\layers\\convolutional\\base_conv.py:107: UserWarning: Do not pass an `input_shape`/`input_dim` argument to a layer. When using Sequential models, prefer using an `Input(shape)` object as the first layer in the model instead.\n",
      "  super().__init__(activity_regularizer=activity_regularizer, **kwargs)\n"
     ]
    },
    {
     "name": "stdout",
     "output_type": "stream",
     "text": [
      "\u001b[1m175/175\u001b[0m \u001b[32m━━━━━━━━━━━━━━━━━━━━\u001b[0m\u001b[37m\u001b[0m \u001b[1m11s\u001b[0m 56ms/step\n",
      "Métricas para a parte real:\n",
      "MSE: 0.000000\n",
      "MAE: 0.000314\n",
      "Métricas para a parte imaginária:\n",
      "MSE: 0.000000\n",
      "MAE: 0.000303\n",
      "Média do NMSE para a parte real: 0.292340\n",
      "Média do NMSE para a parte imaginária: 0.285596\n",
      "Média do NMSE para o módulo dos coeficientes: 0.834309\n",
      "NMSE médio do módulo dos coeficientes: 0.834309\n",
      "\n",
      "Executando combinação 27/32:\n",
      "SeqLen: 30, Units: 256, Conv Filters: 32, Dropout: 0.3, LR: 0.001, L2 Reg: 0.0001\n"
     ]
    },
    {
     "name": "stderr",
     "output_type": "stream",
     "text": [
      "c:\\Users\\FilipeAraujoXimenes\\anaconda3\\Lib\\site-packages\\keras\\src\\layers\\convolutional\\base_conv.py:107: UserWarning: Do not pass an `input_shape`/`input_dim` argument to a layer. When using Sequential models, prefer using an `Input(shape)` object as the first layer in the model instead.\n",
      "  super().__init__(activity_regularizer=activity_regularizer, **kwargs)\n"
     ]
    },
    {
     "name": "stdout",
     "output_type": "stream",
     "text": [
      "\u001b[1m175/175\u001b[0m \u001b[32m━━━━━━━━━━━━━━━━━━━━\u001b[0m\u001b[37m\u001b[0m \u001b[1m8s\u001b[0m 38ms/step\n",
      "Métricas para a parte real:\n",
      "MSE: 0.000000\n",
      "MAE: 0.000329\n",
      "Métricas para a parte imaginária:\n",
      "MSE: 0.000000\n",
      "MAE: 0.000326\n",
      "Média do NMSE para a parte real: 0.331268\n",
      "Média do NMSE para a parte imaginária: 0.338770\n",
      "Média do NMSE para o módulo dos coeficientes: 1.036877\n",
      "NMSE médio do módulo dos coeficientes: 1.036877\n",
      "\n",
      "Executando combinação 28/32:\n",
      "SeqLen: 30, Units: 256, Conv Filters: 32, Dropout: 0.3, LR: 0.0005, L2 Reg: 0.0001\n"
     ]
    },
    {
     "name": "stderr",
     "output_type": "stream",
     "text": [
      "c:\\Users\\FilipeAraujoXimenes\\anaconda3\\Lib\\site-packages\\keras\\src\\layers\\convolutional\\base_conv.py:107: UserWarning: Do not pass an `input_shape`/`input_dim` argument to a layer. When using Sequential models, prefer using an `Input(shape)` object as the first layer in the model instead.\n",
      "  super().__init__(activity_regularizer=activity_regularizer, **kwargs)\n"
     ]
    },
    {
     "name": "stdout",
     "output_type": "stream",
     "text": [
      "\u001b[1m175/175\u001b[0m \u001b[32m━━━━━━━━━━━━━━━━━━━━\u001b[0m\u001b[37m\u001b[0m \u001b[1m8s\u001b[0m 42ms/step\n",
      "Métricas para a parte real:\n",
      "MSE: 0.000000\n",
      "MAE: 0.000320\n",
      "Métricas para a parte imaginária:\n",
      "MSE: 0.000000\n",
      "MAE: 0.000309\n",
      "Média do NMSE para a parte real: 0.306259\n",
      "Média do NMSE para a parte imaginária: 0.310621\n",
      "Média do NMSE para o módulo dos coeficientes: 0.960107\n",
      "NMSE médio do módulo dos coeficientes: 0.960107\n",
      "\n",
      "Executando combinação 29/32:\n",
      "SeqLen: 30, Units: 256, Conv Filters: 64, Dropout: 0.2, LR: 0.001, L2 Reg: 0.0001\n"
     ]
    },
    {
     "name": "stderr",
     "output_type": "stream",
     "text": [
      "c:\\Users\\FilipeAraujoXimenes\\anaconda3\\Lib\\site-packages\\keras\\src\\layers\\convolutional\\base_conv.py:107: UserWarning: Do not pass an `input_shape`/`input_dim` argument to a layer. When using Sequential models, prefer using an `Input(shape)` object as the first layer in the model instead.\n",
      "  super().__init__(activity_regularizer=activity_regularizer, **kwargs)\n"
     ]
    },
    {
     "name": "stdout",
     "output_type": "stream",
     "text": [
      "\u001b[1m175/175\u001b[0m \u001b[32m━━━━━━━━━━━━━━━━━━━━\u001b[0m\u001b[37m\u001b[0m \u001b[1m10s\u001b[0m 52ms/step\n",
      "Métricas para a parte real:\n",
      "MSE: 0.000000\n",
      "MAE: 0.000256\n",
      "Métricas para a parte imaginária:\n",
      "MSE: 0.000000\n",
      "MAE: 0.000251\n",
      "Média do NMSE para a parte real: 0.197565\n",
      "Média do NMSE para a parte imaginária: 0.199006\n",
      "Média do NMSE para o módulo dos coeficientes: 0.575593\n",
      "NMSE médio do módulo dos coeficientes: 0.575593\n",
      "\n",
      "Executando combinação 30/32:\n",
      "SeqLen: 30, Units: 256, Conv Filters: 64, Dropout: 0.2, LR: 0.0005, L2 Reg: 0.0001\n"
     ]
    },
    {
     "name": "stderr",
     "output_type": "stream",
     "text": [
      "c:\\Users\\FilipeAraujoXimenes\\anaconda3\\Lib\\site-packages\\keras\\src\\layers\\convolutional\\base_conv.py:107: UserWarning: Do not pass an `input_shape`/`input_dim` argument to a layer. When using Sequential models, prefer using an `Input(shape)` object as the first layer in the model instead.\n",
      "  super().__init__(activity_regularizer=activity_regularizer, **kwargs)\n"
     ]
    },
    {
     "name": "stdout",
     "output_type": "stream",
     "text": [
      "\u001b[1m175/175\u001b[0m \u001b[32m━━━━━━━━━━━━━━━━━━━━\u001b[0m\u001b[37m\u001b[0m \u001b[1m9s\u001b[0m 44ms/step\n",
      "Métricas para a parte real:\n",
      "MSE: 0.000000\n",
      "MAE: 0.000232\n",
      "Métricas para a parte imaginária:\n",
      "MSE: 0.000000\n",
      "MAE: 0.000226\n",
      "Média do NMSE para a parte real: 0.162634\n",
      "Média do NMSE para a parte imaginária: 0.160647\n",
      "Média do NMSE para o módulo dos coeficientes: 0.486744\n",
      "NMSE médio do módulo dos coeficientes: 0.486744\n",
      "\n",
      "Executando combinação 31/32:\n",
      "SeqLen: 30, Units: 256, Conv Filters: 64, Dropout: 0.3, LR: 0.001, L2 Reg: 0.0001\n"
     ]
    },
    {
     "name": "stderr",
     "output_type": "stream",
     "text": [
      "c:\\Users\\FilipeAraujoXimenes\\anaconda3\\Lib\\site-packages\\keras\\src\\layers\\convolutional\\base_conv.py:107: UserWarning: Do not pass an `input_shape`/`input_dim` argument to a layer. When using Sequential models, prefer using an `Input(shape)` object as the first layer in the model instead.\n",
      "  super().__init__(activity_regularizer=activity_regularizer, **kwargs)\n"
     ]
    },
    {
     "name": "stdout",
     "output_type": "stream",
     "text": [
      "\u001b[1m175/175\u001b[0m \u001b[32m━━━━━━━━━━━━━━━━━━━━\u001b[0m\u001b[37m\u001b[0m \u001b[1m12s\u001b[0m 63ms/step\n",
      "Métricas para a parte real:\n",
      "MSE: 0.000000\n",
      "MAE: 0.000264\n",
      "Métricas para a parte imaginária:\n",
      "MSE: 0.000000\n",
      "MAE: 0.000258\n",
      "Média do NMSE para a parte real: 0.211364\n",
      "Média do NMSE para a parte imaginária: 0.208394\n",
      "Média do NMSE para o módulo dos coeficientes: 0.657959\n",
      "NMSE médio do módulo dos coeficientes: 0.657959\n",
      "\n",
      "Executando combinação 32/32:\n",
      "SeqLen: 30, Units: 256, Conv Filters: 64, Dropout: 0.3, LR: 0.0005, L2 Reg: 0.0001\n"
     ]
    },
    {
     "name": "stderr",
     "output_type": "stream",
     "text": [
      "c:\\Users\\FilipeAraujoXimenes\\anaconda3\\Lib\\site-packages\\keras\\src\\layers\\convolutional\\base_conv.py:107: UserWarning: Do not pass an `input_shape`/`input_dim` argument to a layer. When using Sequential models, prefer using an `Input(shape)` object as the first layer in the model instead.\n",
      "  super().__init__(activity_regularizer=activity_regularizer, **kwargs)\n"
     ]
    },
    {
     "name": "stdout",
     "output_type": "stream",
     "text": [
      "\u001b[1m175/175\u001b[0m \u001b[32m━━━━━━━━━━━━━━━━━━━━\u001b[0m\u001b[37m\u001b[0m \u001b[1m8s\u001b[0m 43ms/step\n",
      "Métricas para a parte real:\n",
      "MSE: 0.000000\n",
      "MAE: 0.000242\n",
      "Métricas para a parte imaginária:\n",
      "MSE: 0.000000\n",
      "MAE: 0.000237\n",
      "Média do NMSE para a parte real: 0.179164\n",
      "Média do NMSE para a parte imaginária: 0.179623\n",
      "Média do NMSE para o módulo dos coeficientes: 0.580937\n",
      "NMSE médio do módulo dos coeficientes: 0.580937\n",
      "\n",
      "Melhores hiperparâmetros: SeqLen20_Units128_ConvFilt64_Dropout0.2_LR0.0005_L2Reg0.0001 com NMSE: 0.374425\n",
      "\n",
      "Top 3 combinações de hiperparâmetros com menor NMSE:\n",
      "SeqLen20_Units128_ConvFilt64_Dropout0.2_LR0.0005_L2Reg0.0001 => NMSE: 0.374425\n",
      "SeqLen30_Units128_ConvFilt64_Dropout0.2_LR0.0005_L2Reg0.0001 => NMSE: 0.383285\n",
      "SeqLen20_Units128_ConvFilt64_Dropout0.2_LR0.001_L2Reg0.0001 => NMSE: 0.442198\n"
     ]
    },
    {
     "ename": "ValueError",
     "evalue": "not enough values to unpack (expected 2, got 1)",
     "output_type": "error",
     "traceback": [
      "\u001b[1;31m---------------------------------------------------------------------------\u001b[0m",
      "\u001b[1;31mValueError\u001b[0m                                Traceback (most recent call last)",
      "Cell \u001b[1;32mIn[3], line 338\u001b[0m\n\u001b[0;32m    336\u001b[0m best_hyperparams_dict \u001b[38;5;241m=\u001b[39m {}\n\u001b[0;32m    337\u001b[0m \u001b[38;5;28;01mfor\u001b[39;00m param \u001b[38;5;129;01min\u001b[39;00m best_hyperparams:\n\u001b[1;32m--> 338\u001b[0m     key, value \u001b[38;5;241m=\u001b[39m param\u001b[38;5;241m.\u001b[39msplit(\u001b[38;5;124m\"\u001b[39m\u001b[38;5;124m:\u001b[39m\u001b[38;5;124m\"\u001b[39m) \u001b[38;5;28;01mif\u001b[39;00m \u001b[38;5;124m\"\u001b[39m\u001b[38;5;124m:\u001b[39m\u001b[38;5;124m\"\u001b[39m \u001b[38;5;129;01min\u001b[39;00m param \u001b[38;5;28;01melse\u001b[39;00m param\u001b[38;5;241m.\u001b[39msplit()\n\u001b[0;32m    339\u001b[0m     \u001b[38;5;28;01mif\u001b[39;00m key\u001b[38;5;241m.\u001b[39mstartswith(\u001b[38;5;124m\"\u001b[39m\u001b[38;5;124mSeqLen\u001b[39m\u001b[38;5;124m\"\u001b[39m):\n\u001b[0;32m    340\u001b[0m         best_hyperparams_dict[\u001b[38;5;124m'\u001b[39m\u001b[38;5;124mSeqLen\u001b[39m\u001b[38;5;124m'\u001b[39m] \u001b[38;5;241m=\u001b[39m \u001b[38;5;28mint\u001b[39m(value\u001b[38;5;241m.\u001b[39msplit(\u001b[38;5;124m'\u001b[39m\u001b[38;5;124mSeqLen\u001b[39m\u001b[38;5;124m'\u001b[39m)[\u001b[38;5;241m1\u001b[39m]) \u001b[38;5;28;01mif\u001b[39;00m \u001b[38;5;124m\"\u001b[39m\u001b[38;5;124mSeqLen\u001b[39m\u001b[38;5;124m\"\u001b[39m \u001b[38;5;129;01min\u001b[39;00m key \u001b[38;5;28;01melse\u001b[39;00m \u001b[38;5;28mint\u001b[39m(value)\n",
      "\u001b[1;31mValueError\u001b[0m: not enough values to unpack (expected 2, got 1)"
     ]
    }
   ],
   "source": [
    "import numpy as np\n",
    "import scipy.io as sio\n",
    "import matplotlib.pyplot as plt\n",
    "import os\n",
    "import pickle\n",
    "from itertools import product\n",
    "from tensorflow.keras.models import Model, load_model, Sequential\n",
    "from tensorflow.keras.layers import Input, LSTM, Conv1D, Dense, Dropout, BatchNormalization\n",
    "from tensorflow.keras.optimizers import Adam\n",
    "from tensorflow.keras.callbacks import EarlyStopping, ModelCheckpoint\n",
    "from tensorflow.keras.regularizers import l2\n",
    "from sklearn.metrics import mean_squared_error, mean_absolute_error\n",
    "from sklearn.preprocessing import MinMaxScaler\n",
    "\n",
    "# Definir os hiperparâmetros para o Grid Search\n",
    "hyperparams_grid = {\n",
    "    'sequence_length': [20, 30],        # 2 opções\n",
    "    'lstm_units': [128, 256],           # 2 opções\n",
    "    'conv_filters': [32, 64],           # 2 opções\n",
    "    'dropout_rate': [0.2, 0.3],         # 2 opções\n",
    "    'learning_rate': [0.001, 0.0005],   # 2 opções\n",
    "    'l2_regularization': [0.0001]       # 1 opção (fixo)\n",
    "}\n",
    "\n",
    "# Caminho para salvar os resultados da busca em grade\n",
    "results_path = 'grid_search_results_cnn_lstm.pkl'\n",
    "\n",
    "# Diretório para salvar os modelos treinados\n",
    "models_dir = 'trained_models'\n",
    "if not os.path.exists(models_dir):\n",
    "    os.makedirs(models_dir)\n",
    "\n",
    "# Carregar os arquivos .mat fornecidos\n",
    "file_path_temp_coefs = \"temp_coefs.mat\"\n",
    "file_path_spatial_modes = \"spatial_modes.mat\"\n",
    "file_path_mean_flow = \"mean_flow.mat\"\n",
    "file_path_parameters = \"parameters.mat\"\n",
    "\n",
    "# Carregar os coeficientes temporais\n",
    "mat_data_temp = sio.loadmat(file_path_temp_coefs)\n",
    "ts = mat_data_temp['ts'].flatten()  # Vetor de tempo\n",
    "coefs = mat_data_temp['coefs']      # Matriz de coeficientes complexos\n",
    "\n",
    "# Carregar os modos espaciais\n",
    "mat_data_spatial = sio.loadmat(file_path_spatial_modes)\n",
    "phi = mat_data_spatial['phi']       # Matriz de modos espaciais\n",
    "\n",
    "# Carregar o vetor y e a média Xavg\n",
    "mat_data_mean_flow = sio.loadmat(file_path_mean_flow)\n",
    "y_positions = mat_data_mean_flow['y'].flatten()  # Vetor de posições espaciais y\n",
    "Xavg = mat_data_mean_flow['Xavg'].flatten()      # Média do fluxo\n",
    "\n",
    "# Carregar os modos usados no POD\n",
    "mat_data_parameters = sio.loadmat(file_path_parameters)\n",
    "nmodos_pod = mat_data_parameters['nmodes']       # Modos usados no POD\n",
    "\n",
    "# Definir o número de coeficientes a serem utilizados\n",
    "num_coefs = 20  # Atualizado para 20\n",
    "print(f\"Número total de modos utilizados: {num_coefs}\")\n",
    "\n",
    "# Separar os coeficientes em parte real e imaginária\n",
    "real_coefs = np.real(coefs[:num_coefs, :])\n",
    "imag_coefs = np.imag(coefs[:num_coefs, :])\n",
    "\n",
    "# Definir o limite do primeiro intervalo\n",
    "first_interval_end = 4801  # Posição correspondente ao tempo 1300\n",
    "\n",
    "# Subamostragem do primeiro intervalo para taxa de 0.5 (pegando a cada 2 pontos)\n",
    "real_coefs_train = real_coefs[:, :first_interval_end:2]\n",
    "imag_coefs_train = imag_coefs[:, :first_interval_end:2]\n",
    "\n",
    "# Segundo intervalo (já na taxa de 0.5)\n",
    "real_coefs_val = real_coefs[:, first_interval_end:]\n",
    "imag_coefs_val = imag_coefs[:, first_interval_end:]\n",
    "\n",
    "# Concatenar as partes real e imaginária para normalização\n",
    "coefs_train = np.vstack([real_coefs_train, imag_coefs_train])  # Dimensão (num_coefs*2, N_train)\n",
    "coefs_val = np.vstack([real_coefs_val, imag_coefs_val])        # Dimensão (num_coefs*2, N_val)\n",
    "\n",
    "# Normalizar os dados de treinamento individualmente para cada coeficiente usando MinMaxScaler\n",
    "num_total_coefs = num_coefs * 2\n",
    "scalers = []\n",
    "\n",
    "coefs_train_normalized = np.zeros_like(coefs_train)\n",
    "coefs_val_normalized = np.zeros_like(coefs_val)\n",
    "\n",
    "for i in range(num_total_coefs):\n",
    "    scaler_coef = MinMaxScaler(feature_range=(-1, 1))\n",
    "    coefs_train_normalized[i, :] = scaler_coef.fit_transform(coefs_train[i, :].reshape(-1, 1)).flatten()\n",
    "    coefs_val_normalized[i, :] = scaler_coef.transform(coefs_val[i, :].reshape(-1, 1)).flatten()\n",
    "    scalers.append(scaler_coef)\n",
    "\n",
    "# Separar novamente as partes real e imaginária normalizadas\n",
    "real_coefs_train_normalized = coefs_train_normalized[:num_coefs, :]\n",
    "imag_coefs_train_normalized = coefs_train_normalized[num_coefs:, :]\n",
    "real_coefs_val_normalized = coefs_val_normalized[:num_coefs, :]\n",
    "imag_coefs_val_normalized = coefs_val_normalized[num_coefs:, :]\n",
    "\n",
    "# Função para criar sequências de entrada e saídas correspondentes (previsão de um passo à frente)\n",
    "def create_sequences_variable(real_coefs_norm, imag_coefs_norm, seq_length):\n",
    "    X = []\n",
    "    y = []\n",
    "    num_samples = real_coefs_norm.shape[1] - seq_length\n",
    "    for i in range(num_samples):\n",
    "        # Sequências das partes real e imaginária\n",
    "        X_seq_real = real_coefs_norm[:, i:i+seq_length]\n",
    "        X_seq_imag = imag_coefs_norm[:, i:i+seq_length]\n",
    "        X_seq = np.vstack([X_seq_real, X_seq_imag])  # Dimensão (num_coefs*2, seq_length)\n",
    "        X.append(X_seq)\n",
    "        # Saídas: próximo coeficiente após a sequência\n",
    "        y_real = real_coefs_norm[:, i+seq_length]\n",
    "        y_imag = imag_coefs_norm[:, i+seq_length]\n",
    "        y_seq = np.hstack([y_real, y_imag])  # Dimensão (num_coefs*2,)\n",
    "        y.append(y_seq)\n",
    "    X = np.array(X)\n",
    "    y = np.array(y)\n",
    "    # Ajustar as dimensões para [samples, timesteps, features]\n",
    "    X = X.transpose(0, 2, 1)  # [samples, timesteps, features]\n",
    "    return X, y\n",
    "\n",
    "# Inicializar dicionário para armazenar resultados\n",
    "results = {}\n",
    "\n",
    "# Gerar todas as combinações possíveis de hiperparâmetros\n",
    "keys = list(hyperparams_grid.keys())\n",
    "values = [hyperparams_grid[key] for key in keys]\n",
    "\n",
    "total_combinations = np.prod([len(v) for v in values])\n",
    "print(f\"Total de combinações de hiperparâmetros: {total_combinations}\")\n",
    "\n",
    "combination_index = 1\n",
    "\n",
    "for hp_values in product(*values):\n",
    "    hyperparams_current = dict(zip(keys, hp_values))\n",
    "    sequence_length = hyperparams_current['sequence_length']\n",
    "    lstm_units = hyperparams_current['lstm_units']\n",
    "    conv_filters = hyperparams_current['conv_filters']\n",
    "    dropout_rate = hyperparams_current['dropout_rate']\n",
    "    learning_rate = hyperparams_current['learning_rate']\n",
    "    l2_reg = hyperparams_current['l2_regularization']  # Incluído na grade\n",
    "    \n",
    "    # Gerar um nome único para a combinação de hiperparâmetros\n",
    "    combo_name = f\"SeqLen{sequence_length}_Units{lstm_units}_ConvFilt{conv_filters}_Dropout{dropout_rate}_LR{learning_rate}_L2Reg{l2_reg}\"\n",
    "    model_filename = f\"{combo_name}.keras\"\n",
    "    model_filepath = os.path.join(models_dir, model_filename)\n",
    "    \n",
    "    print(f\"\\nExecutando combinação {combination_index}/{total_combinations}:\")\n",
    "    print(f\"SeqLen: {sequence_length}, Units: {lstm_units}, Conv Filters: {conv_filters}, Dropout: {dropout_rate}, LR: {learning_rate}, L2 Reg: {l2_reg}\")\n",
    "    combination_index += 1\n",
    "    \n",
    "    # Verificar se o modelo já foi treinado e salvo\n",
    "    if os.path.exists(model_filepath):\n",
    "        print(f\"Modelo para a combinação {combo_name} já existe. Pulando treinamento.\")\n",
    "        # Carregar o modelo salvo\n",
    "        best_model = load_model(model_filepath)\n",
    "    else:\n",
    "        # Criar sequências para a combinação atual\n",
    "        X_train_current, y_train_current = create_sequences_variable(real_coefs_train_normalized, imag_coefs_train_normalized, sequence_length)\n",
    "        X_val_current, y_val_current = create_sequences_variable(real_coefs_val_normalized, imag_coefs_val_normalized, sequence_length)\n",
    "        \n",
    "        # Verificar se há dados suficientes\n",
    "        if X_train_current.shape[0] == 0 or X_val_current.shape[0] == 0:\n",
    "            print(\"Dados insuficientes para a sequência atual. Pulando para a próxima combinação.\")\n",
    "            continue\n",
    "        \n",
    "        # Definir o modelo CNN+LSTM com regularização\n",
    "        model = Sequential()\n",
    "        model.add(Conv1D(filters=conv_filters,\n",
    "                         kernel_size=3,  # Mantido fixo ou pode ser ajustado conforme necessidade\n",
    "                         activation='relu',\n",
    "                         padding='same',\n",
    "                         kernel_regularizer=l2(l2_reg),\n",
    "                         input_shape=(sequence_length, num_total_coefs)))\n",
    "        model.add(BatchNormalization())\n",
    "        model.add(Dropout(dropout_rate))\n",
    "        \n",
    "        # Segunda camada Conv1D para profundidade adicional\n",
    "        model.add(Conv1D(filters=conv_filters,\n",
    "                         kernel_size=3,  # Mantido fixo ou pode ser ajustado\n",
    "                         activation='relu',\n",
    "                         padding='same',\n",
    "                         kernel_regularizer=l2(l2_reg)))\n",
    "        model.add(BatchNormalization())\n",
    "        model.add(Dropout(dropout_rate))\n",
    "        \n",
    "        # Camada LSTM\n",
    "        model.add(LSTM(units=lstm_units,\n",
    "                       activation='tanh',\n",
    "                       kernel_regularizer=l2(l2_reg),\n",
    "                       recurrent_dropout=dropout_rate))\n",
    "        model.add(Dropout(dropout_rate))\n",
    "        \n",
    "        # Camada de saída\n",
    "        model.add(Dense(num_coefs * 2, activation='linear',\n",
    "                        kernel_regularizer=l2(l2_reg)))\n",
    "        \n",
    "        # Compilar o modelo\n",
    "        model.compile(optimizer=Adam(learning_rate=learning_rate), loss='mean_squared_error')\n",
    "        \n",
    "        # Definir callbacks\n",
    "        early_stopping = EarlyStopping(monitor='val_loss', patience=10,\n",
    "                                       restore_best_weights=True, verbose=0)\n",
    "        checkpoint = ModelCheckpoint(model_filepath, monitor='val_loss', save_best_only=True, mode='min', verbose=0)\n",
    "        \n",
    "        # Treinar o modelo\n",
    "        history = model.fit(X_train_current, y_train_current,\n",
    "                            epochs=200,          # Fixo conforme seu código anterior\n",
    "                            batch_size=64,       # Fixo conforme seu código anterior\n",
    "                            validation_data=(X_val_current, y_val_current),\n",
    "                            callbacks=[early_stopping, checkpoint],\n",
    "                            verbose=0)\n",
    "        \n",
    "        # Carregar o melhor modelo salvo pelo checkpoint\n",
    "        best_model = load_model(model_filepath)\n",
    "    \n",
    "    # Fazer previsões no conjunto de validação\n",
    "    predictions_normalized = best_model.predict(X_val_current if 'X_val_current' in locals() else X_val_best)\n",
    "    \n",
    "    # Reverter a normalização para cada coeficiente\n",
    "    predictions = np.zeros_like(predictions_normalized)\n",
    "    y_val_original = np.zeros_like(y_val_current if 'y_val_current' in locals() else y_val_best)\n",
    "    for i in range(num_total_coefs):\n",
    "        scaler = scalers[i]\n",
    "        predictions[:, i] = scaler.inverse_transform(predictions_normalized[:, i].reshape(-1, 1)).flatten()\n",
    "        y_val_original[:, i] = scaler.inverse_transform(y_val_current[:, i].reshape(-1, 1)).flatten() if 'y_val_current' in locals() else scaler.inverse_transform(y_val_best[:, i].reshape(-1, 1)).flatten()\n",
    "    \n",
    "    # Separar as partes real e imaginária\n",
    "    pred_real = predictions[:, :num_coefs]\n",
    "    pred_imag = predictions[:, num_coefs:]\n",
    "    actual_real = y_val_original[:, :num_coefs]\n",
    "    actual_imag = y_val_original[:, num_coefs:]\n",
    "    \n",
    "    # Reconstruir os coeficientes complexos preditos e reais\n",
    "    predicted_coefs = pred_real + 1j * pred_imag\n",
    "    actual_coefs = actual_real + 1j * actual_imag\n",
    "    \n",
    "    # Reconstruir X a partir dos coeficientes preditos e dos modos espaciais\n",
    "    phi_reduced = phi[:, :num_coefs]  # Dimensão (387, num_coefs)\n",
    "    Xavg_flat = Xavg.flatten()          # Dimensão (387,)\n",
    "    \n",
    "    X_rec_list = []\n",
    "    X_actual_list = []\n",
    "    \n",
    "    for i in range(predicted_coefs.shape[0]):\n",
    "        # Reconstrução predita\n",
    "        X_rec = Xavg_flat + phi_reduced @ predicted_coefs[i]\n",
    "        X_rec_list.append(X_rec)\n",
    "        # Reconstrução real\n",
    "        X_actual = Xavg_flat + phi_reduced @ actual_coefs[i]\n",
    "        X_actual_list.append(X_actual)\n",
    "    \n",
    "    # Converter as listas em arrays e transpor\n",
    "    X_rec_array = np.array(X_rec_list).T        # Forma (387, num_samples)\n",
    "    X_actual_array = np.array(X_actual_list).T  # Forma (387, num_samples)\n",
    "    \n",
    "    # Número de pontos em y\n",
    "    ny = y_positions.shape[0]  # Deve ser 129\n",
    "    \n",
    "    # Calcular as métricas de erro separadamente para as partes real e imaginária\n",
    "    mse_real = mean_squared_error(actual_real.flatten(), pred_real.flatten())\n",
    "    mae_real = mean_absolute_error(actual_real.flatten(), pred_real.flatten())\n",
    "    mse_imag = mean_squared_error(actual_imag.flatten(), pred_imag.flatten())\n",
    "    mae_imag = mean_absolute_error(actual_imag.flatten(), pred_imag.flatten())\n",
    "    \n",
    "    print(f\"Métricas para a parte real:\")\n",
    "    print(f\"MSE: {mse_real:.6f}\")\n",
    "    print(f\"MAE: {mae_real:.6f}\")\n",
    "    \n",
    "    print(f\"Métricas para a parte imaginária:\")\n",
    "    print(f\"MSE: {mse_imag:.6f}\")\n",
    "    print(f\"MAE: {mae_imag:.6f}\")\n",
    "    \n",
    "    # Função para calcular NMSE por coeficiente\n",
    "    def calculate_normalized_mse(actual, predicted):\n",
    "        num_coefs = actual.shape[1]\n",
    "        nmse = np.zeros(num_coefs)\n",
    "        for c in range(num_coefs):\n",
    "            mse = mean_squared_error(actual[:, c], predicted[:, c])\n",
    "            variance = np.var(actual[:, c])\n",
    "            # Evitar divisão por zero\n",
    "            if variance != 0:\n",
    "                nmse[c] = mse / variance\n",
    "            else:\n",
    "                nmse[c] = np.nan  # ou trate conforme apropriado\n",
    "        return nmse\n",
    "    \n",
    "    # Calcular NMSE para a parte real\n",
    "    nmse_real = calculate_normalized_mse(actual_real, pred_real)\n",
    "    \n",
    "    # Calcular NMSE para a parte imaginária\n",
    "    nmse_imag = calculate_normalized_mse(actual_imag, pred_imag)\n",
    "    \n",
    "    # Calcular NMSE para o módulo dos coeficientes\n",
    "    actual_modulus = np.sqrt(actual_real**2 + actual_imag**2)\n",
    "    predicted_modulus = np.sqrt(pred_real**2 + pred_imag**2)\n",
    "    nmse_modulus = calculate_normalized_mse(actual_modulus, predicted_modulus)\n",
    "    \n",
    "    # Calcular a média do NMSE sobre todos os coeficientes\n",
    "    average_nmse_real = np.nanmean(nmse_real)\n",
    "    average_nmse_imag = np.nanmean(nmse_imag)\n",
    "    average_nmse_modulus = np.nanmean(nmse_modulus)\n",
    "    \n",
    "    print(f\"Média do NMSE para a parte real: {average_nmse_real:.6f}\")\n",
    "    print(f\"Média do NMSE para a parte imaginária: {average_nmse_imag:.6f}\")\n",
    "    print(f\"Média do NMSE para o módulo dos coeficientes: {average_nmse_modulus:.6f}\")\n",
    "    \n",
    "    # Salvar resultados\n",
    "    result_key = f\"SeqLen{sequence_length}_Units{lstm_units}_ConvFilt{conv_filters}_Dropout{dropout_rate}_LR{learning_rate}_L2Reg{l2_reg}\"\n",
    "    results[result_key] = average_nmse_modulus\n",
    "    print(f\"NMSE médio do módulo dos coeficientes: {average_nmse_modulus:.6f}\")\n",
    "\n",
    "# Salvar os resultados em um arquivo\n",
    "with open(results_path, 'wb') as f:\n",
    "    pickle.dump(results, f)\n",
    "\n",
    "# Encontrar a melhor combinação de hiperparâmetros\n",
    "best_params = min(results, key=results.get)\n",
    "print(f\"\\nMelhores hiperparâmetros: {best_params} com NMSE: {results[best_params]:.6f}\")\n",
    "\n",
    "# Carregar e Analisar os Resultados\n",
    "with open(results_path, 'rb') as f:\n",
    "    results = pickle.load(f)\n",
    "\n",
    "# Ordenar as combinações pelo NMSE em ordem crescente\n",
    "sorted_results = sorted(results.items(), key=lambda x: x[1])\n",
    "\n",
    "# Exibir as 3 melhores combinações\n",
    "print(\"\\nTop 3 combinações de hiperparâmetros com menor NMSE:\")\n",
    "for combo, nmse in sorted_results[:3]:\n",
    "    print(f\"{combo} => NMSE: {nmse:.6f}\")\n",
    "\n",
    "# Opcional: Re-treinar o melhor modelo para salvar o histórico de treinamento e plotar as curvas de perda\n",
    "\n",
    "# Extrair os hiperparâmetros do melhor modelo\n",
    "best_hyperparams = best_params.split(\"_\")\n",
    "best_hyperparams_dict = {}\n",
    "for param in best_hyperparams:\n",
    "    key, value = param.split(\":\") if \":\" in param else param.split()\n",
    "    if key.startswith(\"SeqLen\"):\n",
    "        best_hyperparams_dict['SeqLen'] = int(value.split('SeqLen')[1]) if \"SeqLen\" in key else int(value)\n",
    "    elif key.startswith(\"Units\"):\n",
    "        best_hyperparams_dict['Units'] = int(value.split('Units')[1]) if \"Units\" in key else int(value)\n",
    "    elif key.startswith(\"ConvFilt\"):\n",
    "        best_hyperparams_dict['ConvFilters'] = int(value.split('ConvFilt')[1]) if \"ConvFilt\" in key else int(value)\n",
    "    elif key.startswith(\"Dropout\"):\n",
    "        best_hyperparams_dict['Dropout'] = float(value.split('Dropout')[1]) if \"Dropout\" in key else float(value)\n",
    "    elif key.startswith(\"LR\"):\n",
    "        best_hyperparams_dict['LR'] = float(value.split('LR')[1]) if \"LR\" in key else float(value)\n",
    "    elif key.startswith(\"L2Reg\"):\n",
    "        best_hyperparams_dict['L2Reg'] = float(value.split('L2Reg')[1]) if \"L2Reg\" in key else float(value)\n",
    "\n",
    "# Atribuir os hiperparâmetros\n",
    "sequence_length = best_hyperparams_dict['SeqLen']\n",
    "lstm_units = best_hyperparams_dict['Units']\n",
    "conv_filters = best_hyperparams_dict['ConvFilters']\n",
    "dropout_rate = best_hyperparams_dict['Dropout']\n",
    "learning_rate = best_hyperparams_dict['LR']\n",
    "l2_reg = best_hyperparams_dict['L2Reg']\n",
    "\n",
    "print(f\"\\nRe-treinando o melhor modelo com hiperparâmetros:\")\n",
    "print(f\"SeqLen: {sequence_length}, Units: {lstm_units}, ConvFilters: {conv_filters}, Dropout: {dropout_rate}, LR: {learning_rate}, L2Reg: {l2_reg}\")\n",
    "\n",
    "# Criar sequências para o melhor modelo\n",
    "X_train_best, y_train_best = create_sequences_variable(real_coefs_train_normalized, imag_coefs_train_normalized, sequence_length)\n",
    "X_val_best, y_val_best = create_sequences_variable(real_coefs_val_normalized, imag_coefs_val_normalized, sequence_length)\n",
    "\n",
    "# Definir o modelo CNN+LSTM com os melhores hiperparâmetros\n",
    "model_best = Sequential()\n",
    "model_best.add(Conv1D(filters=conv_filters,\n",
    "                      kernel_size=3,  # Pode ser ajustado se necessário\n",
    "                      activation='relu',\n",
    "                      padding='same',\n",
    "                      kernel_regularizer=l2(l2_reg),\n",
    "                      input_shape=(sequence_length, num_total_coefs)))\n",
    "model_best.add(BatchNormalization())\n",
    "model_best.add(Dropout(dropout_rate))\n",
    "\n",
    "model_best.add(Conv1D(filters=conv_filters,\n",
    "                      kernel_size=3,  # Pode ser ajustado se necessário\n",
    "                      activation='relu',\n",
    "                      padding='same',\n",
    "                      kernel_regularizer=l2(l2_reg)))\n",
    "model_best.add(BatchNormalization())\n",
    "model_best.add(Dropout(dropout_rate))\n",
    "\n",
    "model_best.add(LSTM(units=lstm_units,\n",
    "                    activation='tanh',\n",
    "                    kernel_regularizer=l2(l2_reg),\n",
    "                    recurrent_dropout=dropout_rate))\n",
    "model_best.add(Dropout(dropout_rate))\n",
    "\n",
    "model_best.add(Dense(num_coefs * 2, activation='linear',\n",
    "                     kernel_regularizer=l2(l2_reg)))\n",
    "\n",
    "# Compilar o modelo\n",
    "model_best.compile(optimizer=Adam(learning_rate=learning_rate), loss='mean_squared_error')\n",
    "\n",
    "# Definir callbacks\n",
    "early_stopping = EarlyStopping(monitor='val_loss', patience=10,\n",
    "                               restore_best_weights=True, verbose=1)\n",
    "checkpoint = ModelCheckpoint('best_model_final.keras', monitor='val_loss', save_best_only=True, mode='min', verbose=1)\n",
    "\n",
    "# Treinar o melhor modelo e salvar o histórico\n",
    "history_best = model_best.fit(X_train_best, y_train_best,\n",
    "                              epochs=200,          # Fixo conforme seu código anterior\n",
    "                              batch_size=64,       # Fixo conforme seu código anterior\n",
    "                              validation_data=(X_val_best, y_val_best),\n",
    "                              callbacks=[early_stopping, checkpoint],\n",
    "                              verbose=1)\n",
    "\n",
    "# Salvar o melhor modelo\n",
    "model_best.save('best_model_final.keras')\n",
    "\n",
    "# Plotar as curvas de perda\n",
    "plt.figure(figsize=(10, 6))\n",
    "plt.plot(history_best.history['loss'], label='Perda de Treinamento')\n",
    "plt.plot(history_best.history['val_loss'], label='Perda de Validação')\n",
    "plt.title('Função de Perda ao Longo das Épocas (Melhor Modelo CNN+LSTM)')\n",
    "plt.xlabel('Épocas')\n",
    "plt.ylabel('Loss (MSE)')\n",
    "plt.legend()\n",
    "plt.grid(True)\n",
    "plt.show()\n",
    "\n",
    "# Avaliar o modelo final no conjunto de validação\n",
    "predictions_normalized = model_best.predict(X_val_best)\n",
    "\n",
    "# Reverter a normalização para cada coeficiente\n",
    "predictions = np.zeros_like(predictions_normalized)\n",
    "y_val_original = np.zeros_like(y_val_best)\n",
    "for i in range(num_total_coefs):\n",
    "    scaler = scalers[i]\n",
    "    predictions[:, i] = scaler.inverse_transform(predictions_normalized[:, i].reshape(-1, 1)).flatten()\n",
    "    y_val_original[:, i] = scaler.inverse_transform(y_val_best[:, i].reshape(-1, 1)).flatten()\n",
    "\n",
    "# Separar as partes real e imaginária\n",
    "pred_real = predictions[:, :num_coefs]\n",
    "pred_imag = predictions[:, num_coefs:]\n",
    "actual_real = y_val_original[:, :num_coefs]\n",
    "actual_imag = y_val_original[:, num_coefs:]\n",
    "\n",
    "# Reconstruir os coeficientes complexos preditos e reais\n",
    "predicted_coefs = pred_real + 1j * pred_imag\n",
    "actual_coefs = actual_real + 1j * actual_imag\n",
    "\n",
    "# Reconstruir X a partir dos coeficientes preditos e dos modos espaciais\n",
    "phi_reduced = phi[:, :num_coefs]  # Dimensão (387, num_coefs)\n",
    "Xavg_flat = Xavg.flatten()          # Dimensão (387,)\n",
    "\n",
    "X_rec_list = []\n",
    "X_actual_list = []\n",
    "\n",
    "for i in range(predicted_coefs.shape[0]):\n",
    "    # Reconstrução predita\n",
    "    X_rec = Xavg_flat + phi_reduced @ predicted_coefs[i]\n",
    "    X_rec_list.append(X_rec)\n",
    "    # Reconstrução real\n",
    "    X_actual = Xavg_flat + phi_reduced @ actual_coefs[i]\n",
    "    X_actual_list.append(X_actual)\n",
    "\n",
    "# Converter as listas em arrays e transpor\n",
    "X_rec_array = np.array(X_rec_list).T        # Forma (387, num_samples)\n",
    "X_actual_array = np.array(X_actual_list).T  # Forma (387, num_samples)\n",
    "\n",
    "# Número de pontos em y\n",
    "ny = y_positions.shape[0]  # Deve ser 129\n",
    "\n",
    "# Plotar a comparação entre os perfis originais e reconstruídos de |u|\n",
    "step = 10  # Número de subplots (ajuste conforme necessário)\n",
    "\n",
    "plt.figure(figsize=(16, 12))\n",
    "plt.clf()\n",
    "for i in range(step):\n",
    "    plt.subplot(4, 5, i + 1)\n",
    "    # Índice do tempo\n",
    "    idx = i * (X_rec_array.shape[1] // step)\n",
    "    plt.plot(np.abs(X_actual_array[:ny, idx]), y_positions, label='Original')\n",
    "    plt.plot(np.abs(X_rec_array[:ny, idx]), y_positions, label='Reconstruído', linestyle='--')\n",
    "    plt.xlabel('|u|')\n",
    "    plt.ylabel('y')\n",
    "    plt.title(f'Amostra {idx}')\n",
    "    plt.grid(True)\n",
    "    if i == 0:\n",
    "        plt.legend()\n",
    "plt.suptitle('Comparação de |u| Original e Reconstruído (Validação)')\n",
    "plt.tight_layout(rect=[0, 0.03, 1, 0.95])\n",
    "plt.show()\n",
    "\n",
    "# Calcular as métricas de erro separadamente para as partes real e imaginária\n",
    "mse_real = mean_squared_error(actual_real.flatten(), pred_real.flatten())\n",
    "mae_real = mean_absolute_error(actual_real.flatten(), pred_real.flatten())\n",
    "mse_imag = mean_squared_error(actual_imag.flatten(), pred_imag.flatten())\n",
    "mae_imag = mean_absolute_error(actual_imag.flatten(), pred_imag.flatten())\n",
    "\n",
    "print(f\"Métricas para a parte real:\")\n",
    "print(f\"MSE: {mse_real:.6f}\")\n",
    "print(f\"MAE: {mae_real:.6f}\")\n",
    "\n",
    "print(f\"Métricas para a parte imaginária:\")\n",
    "print(f\"MSE: {mse_imag:.6f}\")\n",
    "print(f\"MAE: {mae_imag:.6f}\")\n",
    "\n",
    "# Função para calcular NMSE por coeficiente\n",
    "def calculate_normalized_mse(actual, predicted):\n",
    "    num_coefs = actual.shape[1]\n",
    "    nmse = np.zeros(num_coefs)\n",
    "    for c in range(num_coefs):\n",
    "        mse = mean_squared_error(actual[:, c], predicted[:, c])\n",
    "        variance = np.var(actual[:, c])\n",
    "        # Evitar divisão por zero\n",
    "        if variance != 0:\n",
    "            nmse[c] = mse / variance\n",
    "        else:\n",
    "            nmse[c] = np.nan  # ou trate conforme apropriado\n",
    "    return nmse\n",
    "\n",
    "# Calcular NMSE para a parte real\n",
    "nmse_real = calculate_normalized_mse(actual_real, pred_real)\n",
    "\n",
    "# Calcular NMSE para a parte imaginária\n",
    "nmse_imag = calculate_normalized_mse(actual_imag, pred_imag)\n",
    "\n",
    "# Calcular NMSE para o módulo dos coeficientes\n",
    "actual_modulus = np.sqrt(actual_real**2 + actual_imag**2)\n",
    "predicted_modulus = np.sqrt(pred_real**2 + pred_imag**2)\n",
    "nmse_modulus = calculate_normalized_mse(actual_modulus, predicted_modulus)\n",
    "\n",
    "# Calcular a média do NMSE sobre todos os coeficientes\n",
    "average_nmse_real = np.nanmean(nmse_real)\n",
    "average_nmse_imag = np.nanmean(nmse_imag)\n",
    "average_nmse_modulus = np.nanmean(nmse_modulus)\n",
    "\n",
    "print(f\"Média do NMSE para a parte real: {average_nmse_real:.6f}\")\n",
    "print(f\"Média do NMSE para a parte imaginária: {average_nmse_imag:.6f}\")\n",
    "print(f\"Média do NMSE para o módulo dos coeficientes: {average_nmse_modulus:.6f}\")\n",
    "\n",
    "# Salvar os resultados em um arquivo\n",
    "with open(results_path, 'wb') as f:\n",
    "    pickle.dump(results, f)\n",
    "\n",
    "# Plotar NMSE do Módulo por coeficiente\n",
    "coefficients = np.arange(1, num_coefs + 1)\n",
    "\n",
    "plt.figure(figsize=(12, 6))\n",
    "plt.bar(coefficients, nmse_modulus, width=0.6, label='Módulo', color='blue')\n",
    "plt.xlabel('Índice do Coeficiente')\n",
    "plt.ylabel('NMSE')\n",
    "plt.title('NMSE por Coeficiente (Módulo)')\n",
    "plt.legend()\n",
    "plt.grid(True)\n",
    "plt.show()\n",
    "\n",
    "# Plotar coeficientes aleatórios em subplots\n",
    "num_plots = 4  # Número de coeficientes a serem plotados\n",
    "random_indices = np.random.choice(num_coefs, num_plots, replace=False)\n",
    "\n",
    "plt.figure(figsize=(15, 10))\n",
    "for idx, coef_index in enumerate(random_indices):\n",
    "    plt.subplot(2, 2, idx + 1)\n",
    "    plt.plot(actual_real[:, coef_index], label=f'Parte Real - Coeficiente {coef_index+1} (Real)')\n",
    "    plt.plot(pred_real[:, coef_index], label=f'Parte Real - Coeficiente {coef_index+1} (Predito)', linestyle='--')\n",
    "    plt.title(f'Comparação da Parte Real do Coeficiente {coef_index+1} (Validação)')\n",
    "    plt.xlabel('Amostra de Tempo')\n",
    "    plt.ylabel('Valor')\n",
    "    plt.legend()\n",
    "    plt.grid(True)\n",
    "plt.tight_layout()\n",
    "plt.show()\n",
    "\n",
    "plt.figure(figsize=(15, 10))\n",
    "for idx, coef_index in enumerate(random_indices):\n",
    "    plt.subplot(2, 2, idx + 1)\n",
    "    plt.plot(actual_imag[:, coef_index], label=f'Parte Imaginária - Coeficiente {coef_index+1} (Real)')\n",
    "    plt.plot(pred_imag[:, coef_index], label=f'Parte Imaginária - Coeficiente {coef_index+1} (Predito)', linestyle='--')\n",
    "    plt.title(f'Comparação da Parte Imaginária do Coeficiente {coef_index+1} (Validação)')\n",
    "    plt.xlabel('Amostra de Tempo')\n",
    "    plt.ylabel('Valor')\n",
    "    plt.legend()\n",
    "    plt.grid(True)\n",
    "plt.tight_layout()\n",
    "plt.show()\n"
   ]
  },
  {
   "cell_type": "code",
   "execution_count": 1,
   "metadata": {},
   "outputs": [
    {
     "name": "stdout",
     "output_type": "stream",
     "text": [
      "Número total de modos utilizados: 20\n",
      "Total de combinações de hiperparâmetros: 32\n",
      "\n",
      "Executando combinação 1/32:\n",
      "SeqLen: 20, Units: 128, Conv Filters: 32, Dropout: 0.2, LR: 0.001, L2 Reg: 0.0001\n",
      "Modelo para a combinação SeqLen20_Units128_ConvFilt32_Dropout0.2_LR0.001_L2Reg0.0001 já existe. Pulando treinamento.\n",
      "\u001b[1m175/175\u001b[0m \u001b[32m━━━━━━━━━━━━━━━━━━━━\u001b[0m\u001b[37m\u001b[0m \u001b[1m2s\u001b[0m 12ms/step\n",
      "Métricas para a parte real:\n",
      "MSE: 0.000000\n",
      "MAE: 0.000263\n",
      "Métricas para a parte imaginária:\n",
      "MSE: 0.000000\n",
      "MAE: 0.000254\n",
      "Média do NMSE para a parte real: 0.207628\n",
      "Média do NMSE para a parte imaginária: 0.208628\n",
      "Média do NMSE para o módulo dos coeficientes: 0.640462\n",
      "NMSE médio do módulo dos coeficientes: 0.640462\n",
      "\n",
      "Executando combinação 2/32:\n",
      "SeqLen: 20, Units: 128, Conv Filters: 32, Dropout: 0.2, LR: 0.0005, L2 Reg: 0.0001\n",
      "Modelo para a combinação SeqLen20_Units128_ConvFilt32_Dropout0.2_LR0.0005_L2Reg0.0001 já existe. Pulando treinamento.\n",
      "\u001b[1m175/175\u001b[0m \u001b[32m━━━━━━━━━━━━━━━━━━━━\u001b[0m\u001b[37m\u001b[0m \u001b[1m2s\u001b[0m 12ms/step\n",
      "Métricas para a parte real:\n",
      "MSE: 0.000000\n",
      "MAE: 0.000249\n",
      "Métricas para a parte imaginária:\n",
      "MSE: 0.000000\n",
      "MAE: 0.000246\n",
      "Média do NMSE para a parte real: 0.184664\n",
      "Média do NMSE para a parte imaginária: 0.191676\n",
      "Média do NMSE para o módulo dos coeficientes: 0.602837\n",
      "NMSE médio do módulo dos coeficientes: 0.602837\n",
      "\n",
      "Executando combinação 3/32:\n",
      "SeqLen: 20, Units: 128, Conv Filters: 32, Dropout: 0.3, LR: 0.001, L2 Reg: 0.0001\n",
      "Modelo para a combinação SeqLen20_Units128_ConvFilt32_Dropout0.3_LR0.001_L2Reg0.0001 já existe. Pulando treinamento.\n",
      "\u001b[1m175/175\u001b[0m \u001b[32m━━━━━━━━━━━━━━━━━━━━\u001b[0m\u001b[37m\u001b[0m \u001b[1m2s\u001b[0m 12ms/step\n",
      "Métricas para a parte real:\n",
      "MSE: 0.000000\n",
      "MAE: 0.000298\n",
      "Métricas para a parte imaginária:\n",
      "MSE: 0.000000\n",
      "MAE: 0.000285\n",
      "Média do NMSE para a parte real: 0.269859\n",
      "Média do NMSE para a parte imaginária: 0.274389\n",
      "Média do NMSE para o módulo dos coeficientes: 0.917383\n",
      "NMSE médio do módulo dos coeficientes: 0.917383\n",
      "\n",
      "Executando combinação 4/32:\n",
      "SeqLen: 20, Units: 128, Conv Filters: 32, Dropout: 0.3, LR: 0.0005, L2 Reg: 0.0001\n",
      "Modelo para a combinação SeqLen20_Units128_ConvFilt32_Dropout0.3_LR0.0005_L2Reg0.0001 já existe. Pulando treinamento.\n",
      "\u001b[1m175/175\u001b[0m \u001b[32m━━━━━━━━━━━━━━━━━━━━\u001b[0m\u001b[37m\u001b[0m \u001b[1m3s\u001b[0m 14ms/step\n",
      "Métricas para a parte real:\n",
      "MSE: 0.000000\n",
      "MAE: 0.000286\n",
      "Métricas para a parte imaginária:\n",
      "MSE: 0.000000\n",
      "MAE: 0.000272\n",
      "Média do NMSE para a parte real: 0.246043\n",
      "Média do NMSE para a parte imaginária: 0.246756\n",
      "Média do NMSE para o módulo dos coeficientes: 0.852742\n",
      "NMSE médio do módulo dos coeficientes: 0.852742\n",
      "\n",
      "Executando combinação 5/32:\n",
      "SeqLen: 20, Units: 128, Conv Filters: 64, Dropout: 0.2, LR: 0.001, L2 Reg: 0.0001\n",
      "Modelo para a combinação SeqLen20_Units128_ConvFilt64_Dropout0.2_LR0.001_L2Reg0.0001 já existe. Pulando treinamento.\n",
      "\u001b[1m175/175\u001b[0m \u001b[32m━━━━━━━━━━━━━━━━━━━━\u001b[0m\u001b[37m\u001b[0m \u001b[1m2s\u001b[0m 11ms/step\n",
      "Métricas para a parte real:\n",
      "MSE: 0.000000\n",
      "MAE: 0.000214\n",
      "Métricas para a parte imaginária:\n",
      "MSE: 0.000000\n",
      "MAE: 0.000212\n",
      "Média do NMSE para a parte real: 0.142938\n",
      "Média do NMSE para a parte imaginária: 0.145531\n",
      "Média do NMSE para o módulo dos coeficientes: 0.442288\n",
      "NMSE médio do módulo dos coeficientes: 0.442288\n",
      "\n",
      "Executando combinação 6/32:\n",
      "SeqLen: 20, Units: 128, Conv Filters: 64, Dropout: 0.2, LR: 0.0005, L2 Reg: 0.0001\n",
      "Modelo para a combinação SeqLen20_Units128_ConvFilt64_Dropout0.2_LR0.0005_L2Reg0.0001 já existe. Pulando treinamento.\n",
      "\u001b[1m175/175\u001b[0m \u001b[32m━━━━━━━━━━━━━━━━━━━━\u001b[0m\u001b[37m\u001b[0m \u001b[1m3s\u001b[0m 15ms/step\n",
      "Métricas para a parte real:\n",
      "MSE: 0.000000\n",
      "MAE: 0.000191\n",
      "Métricas para a parte imaginária:\n",
      "MSE: 0.000000\n",
      "MAE: 0.000187\n",
      "Média do NMSE para a parte real: 0.116390\n",
      "Média do NMSE para a parte imaginária: 0.115808\n",
      "Média do NMSE para o módulo dos coeficientes: 0.374562\n",
      "NMSE médio do módulo dos coeficientes: 0.374562\n",
      "\n",
      "Executando combinação 7/32:\n",
      "SeqLen: 20, Units: 128, Conv Filters: 64, Dropout: 0.3, LR: 0.001, L2 Reg: 0.0001\n",
      "Modelo para a combinação SeqLen20_Units128_ConvFilt64_Dropout0.3_LR0.001_L2Reg0.0001 já existe. Pulando treinamento.\n",
      "\u001b[1m175/175\u001b[0m \u001b[32m━━━━━━━━━━━━━━━━━━━━\u001b[0m\u001b[37m\u001b[0m \u001b[1m3s\u001b[0m 16ms/step\n",
      "Métricas para a parte real:\n",
      "MSE: 0.000000\n",
      "MAE: 0.000238\n",
      "Métricas para a parte imaginária:\n",
      "MSE: 0.000000\n",
      "MAE: 0.000234\n",
      "Média do NMSE para a parte real: 0.181433\n",
      "Média do NMSE para a parte imaginária: 0.181363\n",
      "Média do NMSE para o módulo dos coeficientes: 0.613762\n",
      "NMSE médio do módulo dos coeficientes: 0.613762\n",
      "\n",
      "Executando combinação 8/32:\n",
      "SeqLen: 20, Units: 128, Conv Filters: 64, Dropout: 0.3, LR: 0.0005, L2 Reg: 0.0001\n",
      "Modelo para a combinação SeqLen20_Units128_ConvFilt64_Dropout0.3_LR0.0005_L2Reg0.0001 já existe. Pulando treinamento.\n",
      "\u001b[1m175/175\u001b[0m \u001b[32m━━━━━━━━━━━━━━━━━━━━\u001b[0m\u001b[37m\u001b[0m \u001b[1m3s\u001b[0m 16ms/step\n",
      "Métricas para a parte real:\n",
      "MSE: 0.000000\n",
      "MAE: 0.000221\n",
      "Métricas para a parte imaginária:\n",
      "MSE: 0.000000\n",
      "MAE: 0.000217\n",
      "Média do NMSE para a parte real: 0.156414\n",
      "Média do NMSE para a parte imaginária: 0.153554\n",
      "Média do NMSE para o módulo dos coeficientes: 0.540155\n",
      "NMSE médio do módulo dos coeficientes: 0.540155\n",
      "\n",
      "Executando combinação 9/32:\n",
      "SeqLen: 20, Units: 256, Conv Filters: 32, Dropout: 0.2, LR: 0.001, L2 Reg: 0.0001\n",
      "Modelo para a combinação SeqLen20_Units256_ConvFilt32_Dropout0.2_LR0.001_L2Reg0.0001 já existe. Pulando treinamento.\n",
      "\u001b[1m175/175\u001b[0m \u001b[32m━━━━━━━━━━━━━━━━━━━━\u001b[0m\u001b[37m\u001b[0m \u001b[1m5s\u001b[0m 27ms/step\n",
      "Métricas para a parte real:\n",
      "MSE: 0.000000\n",
      "MAE: 0.000309\n",
      "Métricas para a parte imaginária:\n",
      "MSE: 0.000000\n",
      "MAE: 0.000305\n",
      "Média do NMSE para a parte real: 0.290775\n",
      "Média do NMSE para a parte imaginária: 0.293587\n",
      "Média do NMSE para o módulo dos coeficientes: 0.858463\n",
      "NMSE médio do módulo dos coeficientes: 0.858463\n",
      "\n",
      "Executando combinação 10/32:\n",
      "SeqLen: 20, Units: 256, Conv Filters: 32, Dropout: 0.2, LR: 0.0005, L2 Reg: 0.0001\n",
      "Modelo para a combinação SeqLen20_Units256_ConvFilt32_Dropout0.2_LR0.0005_L2Reg0.0001 já existe. Pulando treinamento.\n",
      "\u001b[1m175/175\u001b[0m \u001b[32m━━━━━━━━━━━━━━━━━━━━\u001b[0m\u001b[37m\u001b[0m \u001b[1m6s\u001b[0m 31ms/step\n",
      "Métricas para a parte real:\n",
      "MSE: 0.000000\n",
      "MAE: 0.000306\n",
      "Métricas para a parte imaginária:\n",
      "MSE: 0.000000\n",
      "MAE: 0.000300\n",
      "Média do NMSE para a parte real: 0.282241\n",
      "Média do NMSE para a parte imaginária: 0.291081\n",
      "Média do NMSE para o módulo dos coeficientes: 0.814860\n",
      "NMSE médio do módulo dos coeficientes: 0.814860\n",
      "\n",
      "Executando combinação 11/32:\n",
      "SeqLen: 20, Units: 256, Conv Filters: 32, Dropout: 0.3, LR: 0.001, L2 Reg: 0.0001\n",
      "Modelo para a combinação SeqLen20_Units256_ConvFilt32_Dropout0.3_LR0.001_L2Reg0.0001 já existe. Pulando treinamento.\n",
      "\u001b[1m175/175\u001b[0m \u001b[32m━━━━━━━━━━━━━━━━━━━━\u001b[0m\u001b[37m\u001b[0m \u001b[1m5s\u001b[0m 29ms/step\n",
      "Métricas para a parte real:\n",
      "MSE: 0.000000\n",
      "MAE: 0.000330\n",
      "Métricas para a parte imaginária:\n",
      "MSE: 0.000000\n",
      "MAE: 0.000321\n",
      "Média do NMSE para a parte real: 0.330572\n",
      "Média do NMSE para a parte imaginária: 0.331638\n",
      "Média do NMSE para o módulo dos coeficientes: 1.021253\n",
      "NMSE médio do módulo dos coeficientes: 1.021253\n",
      "\n",
      "Executando combinação 12/32:\n",
      "SeqLen: 20, Units: 256, Conv Filters: 32, Dropout: 0.3, LR: 0.0005, L2 Reg: 0.0001\n",
      "Modelo para a combinação SeqLen20_Units256_ConvFilt32_Dropout0.3_LR0.0005_L2Reg0.0001 já existe. Pulando treinamento.\n",
      "\u001b[1m175/175\u001b[0m \u001b[32m━━━━━━━━━━━━━━━━━━━━\u001b[0m\u001b[37m\u001b[0m \u001b[1m6s\u001b[0m 33ms/step\n",
      "Métricas para a parte real:\n",
      "MSE: 0.000000\n",
      "MAE: 0.000321\n",
      "Métricas para a parte imaginária:\n",
      "MSE: 0.000000\n",
      "MAE: 0.000302\n",
      "Média do NMSE para a parte real: 0.312311\n",
      "Média do NMSE para a parte imaginária: 0.298953\n",
      "Média do NMSE para o módulo dos coeficientes: 0.950892\n",
      "NMSE médio do módulo dos coeficientes: 0.950892\n",
      "\n",
      "Executando combinação 13/32:\n",
      "SeqLen: 20, Units: 256, Conv Filters: 64, Dropout: 0.2, LR: 0.001, L2 Reg: 0.0001\n",
      "Modelo para a combinação SeqLen20_Units256_ConvFilt64_Dropout0.2_LR0.001_L2Reg0.0001 já existe. Pulando treinamento.\n",
      "\u001b[1m175/175\u001b[0m \u001b[32m━━━━━━━━━━━━━━━━━━━━\u001b[0m\u001b[37m\u001b[0m \u001b[1m5s\u001b[0m 30ms/step\n",
      "Métricas para a parte real:\n",
      "MSE: 0.000000\n",
      "MAE: 0.000249\n",
      "Métricas para a parte imaginária:\n",
      "MSE: 0.000000\n",
      "MAE: 0.000247\n",
      "Média do NMSE para a parte real: 0.186473\n",
      "Média do NMSE para a parte imaginária: 0.189710\n",
      "Média do NMSE para o módulo dos coeficientes: 0.553033\n",
      "NMSE médio do módulo dos coeficientes: 0.553033\n",
      "\n",
      "Executando combinação 14/32:\n",
      "SeqLen: 20, Units: 256, Conv Filters: 64, Dropout: 0.2, LR: 0.0005, L2 Reg: 0.0001\n",
      "Modelo para a combinação SeqLen20_Units256_ConvFilt64_Dropout0.2_LR0.0005_L2Reg0.0001 já existe. Pulando treinamento.\n",
      "\u001b[1m175/175\u001b[0m \u001b[32m━━━━━━━━━━━━━━━━━━━━\u001b[0m\u001b[37m\u001b[0m \u001b[1m6s\u001b[0m 34ms/step\n",
      "Métricas para a parte real:\n",
      "MSE: 0.000000\n",
      "MAE: 0.000233\n",
      "Métricas para a parte imaginária:\n",
      "MSE: 0.000000\n",
      "MAE: 0.000224\n",
      "Média do NMSE para a parte real: 0.161323\n",
      "Média do NMSE para a parte imaginária: 0.158981\n",
      "Média do NMSE para o módulo dos coeficientes: 0.479371\n",
      "NMSE médio do módulo dos coeficientes: 0.479371\n",
      "\n",
      "Executando combinação 15/32:\n",
      "SeqLen: 20, Units: 256, Conv Filters: 64, Dropout: 0.3, LR: 0.001, L2 Reg: 0.0001\n",
      "Modelo para a combinação SeqLen20_Units256_ConvFilt64_Dropout0.3_LR0.001_L2Reg0.0001 já existe. Pulando treinamento.\n",
      "\u001b[1m175/175\u001b[0m \u001b[32m━━━━━━━━━━━━━━━━━━━━\u001b[0m\u001b[37m\u001b[0m \u001b[1m6s\u001b[0m 31ms/step\n",
      "Métricas para a parte real:\n",
      "MSE: 0.000000\n",
      "MAE: 0.000261\n",
      "Métricas para a parte imaginária:\n",
      "MSE: 0.000000\n",
      "MAE: 0.000256\n",
      "Média do NMSE para a parte real: 0.206420\n",
      "Média do NMSE para a parte imaginária: 0.209038\n",
      "Média do NMSE para o módulo dos coeficientes: 0.639492\n",
      "NMSE médio do módulo dos coeficientes: 0.639492\n",
      "\n",
      "Executando combinação 16/32:\n",
      "SeqLen: 20, Units: 256, Conv Filters: 64, Dropout: 0.3, LR: 0.0005, L2 Reg: 0.0001\n",
      "Modelo para a combinação SeqLen20_Units256_ConvFilt64_Dropout0.3_LR0.0005_L2Reg0.0001 já existe. Pulando treinamento.\n",
      "\u001b[1m175/175\u001b[0m \u001b[32m━━━━━━━━━━━━━━━━━━━━\u001b[0m\u001b[37m\u001b[0m \u001b[1m5s\u001b[0m 28ms/step\n",
      "Métricas para a parte real:\n",
      "MSE: 0.000000\n",
      "MAE: 0.000239\n",
      "Métricas para a parte imaginária:\n",
      "MSE: 0.000000\n",
      "MAE: 0.000237\n",
      "Média do NMSE para a parte real: 0.174632\n",
      "Média do NMSE para a parte imaginária: 0.175160\n",
      "Média do NMSE para o módulo dos coeficientes: 0.565921\n",
      "NMSE médio do módulo dos coeficientes: 0.565921\n",
      "\n",
      "Executando combinação 17/32:\n",
      "SeqLen: 30, Units: 128, Conv Filters: 32, Dropout: 0.2, LR: 0.001, L2 Reg: 0.0001\n",
      "Modelo para a combinação SeqLen30_Units128_ConvFilt32_Dropout0.2_LR0.001_L2Reg0.0001 já existe. Pulando treinamento.\n",
      "\u001b[1m175/175\u001b[0m \u001b[32m━━━━━━━━━━━━━━━━━━━━\u001b[0m\u001b[37m\u001b[0m \u001b[1m2s\u001b[0m 11ms/step\n",
      "Métricas para a parte real:\n",
      "MSE: 0.000000\n",
      "MAE: 0.000266\n",
      "Métricas para a parte imaginária:\n",
      "MSE: 0.000000\n",
      "MAE: 0.000256\n",
      "Média do NMSE para a parte real: 0.210529\n",
      "Média do NMSE para a parte imaginária: 0.206404\n",
      "Média do NMSE para o módulo dos coeficientes: 0.652432\n",
      "NMSE médio do módulo dos coeficientes: 0.652432\n",
      "\n",
      "Executando combinação 18/32:\n",
      "SeqLen: 30, Units: 128, Conv Filters: 32, Dropout: 0.2, LR: 0.0005, L2 Reg: 0.0001\n",
      "Modelo para a combinação SeqLen30_Units128_ConvFilt32_Dropout0.2_LR0.0005_L2Reg0.0001 já existe. Pulando treinamento.\n",
      "\u001b[1m175/175\u001b[0m \u001b[32m━━━━━━━━━━━━━━━━━━━━\u001b[0m\u001b[37m\u001b[0m \u001b[1m2s\u001b[0m 11ms/step\n",
      "Métricas para a parte real:\n",
      "MSE: 0.000000\n",
      "MAE: 0.000249\n",
      "Métricas para a parte imaginária:\n",
      "MSE: 0.000000\n",
      "MAE: 0.000241\n",
      "Média do NMSE para a parte real: 0.184373\n",
      "Média do NMSE para a parte imaginária: 0.191480\n",
      "Média do NMSE para o módulo dos coeficientes: 0.600248\n",
      "NMSE médio do módulo dos coeficientes: 0.600248\n",
      "\n",
      "Executando combinação 19/32:\n",
      "SeqLen: 30, Units: 128, Conv Filters: 32, Dropout: 0.3, LR: 0.001, L2 Reg: 0.0001\n",
      "Modelo para a combinação SeqLen30_Units128_ConvFilt32_Dropout0.3_LR0.001_L2Reg0.0001 já existe. Pulando treinamento.\n",
      "\u001b[1m175/175\u001b[0m \u001b[32m━━━━━━━━━━━━━━━━━━━━\u001b[0m\u001b[37m\u001b[0m \u001b[1m2s\u001b[0m 11ms/step\n",
      "Métricas para a parte real:\n",
      "MSE: 0.000000\n",
      "MAE: 0.000297\n",
      "Métricas para a parte imaginária:\n",
      "MSE: 0.000000\n",
      "MAE: 0.000285\n",
      "Média do NMSE para a parte real: 0.271003\n",
      "Média do NMSE para a parte imaginária: 0.273923\n",
      "Média do NMSE para o módulo dos coeficientes: 0.911869\n",
      "NMSE médio do módulo dos coeficientes: 0.911869\n",
      "\n",
      "Executando combinação 20/32:\n",
      "SeqLen: 30, Units: 128, Conv Filters: 32, Dropout: 0.3, LR: 0.0005, L2 Reg: 0.0001\n",
      "Modelo para a combinação SeqLen30_Units128_ConvFilt32_Dropout0.3_LR0.0005_L2Reg0.0001 já existe. Pulando treinamento.\n",
      "\u001b[1m175/175\u001b[0m \u001b[32m━━━━━━━━━━━━━━━━━━━━\u001b[0m\u001b[37m\u001b[0m \u001b[1m2s\u001b[0m 11ms/step\n",
      "Métricas para a parte real:\n",
      "MSE: 0.000000\n",
      "MAE: 0.000282\n",
      "Métricas para a parte imaginária:\n",
      "MSE: 0.000000\n",
      "MAE: 0.000283\n",
      "Média do NMSE para a parte real: 0.247157\n",
      "Média do NMSE para a parte imaginária: 0.259303\n",
      "Média do NMSE para o módulo dos coeficientes: 0.879937\n",
      "NMSE médio do módulo dos coeficientes: 0.879937\n",
      "\n",
      "Executando combinação 21/32:\n",
      "SeqLen: 30, Units: 128, Conv Filters: 64, Dropout: 0.2, LR: 0.001, L2 Reg: 0.0001\n",
      "Modelo para a combinação SeqLen30_Units128_ConvFilt64_Dropout0.2_LR0.001_L2Reg0.0001 já existe. Pulando treinamento.\n",
      "\u001b[1m175/175\u001b[0m \u001b[32m━━━━━━━━━━━━━━━━━━━━\u001b[0m\u001b[37m\u001b[0m \u001b[1m2s\u001b[0m 12ms/step\n",
      "Métricas para a parte real:\n",
      "MSE: 0.000000\n",
      "MAE: 0.000220\n",
      "Métricas para a parte imaginária:\n",
      "MSE: 0.000000\n",
      "MAE: 0.000215\n",
      "Média do NMSE para a parte real: 0.146296\n",
      "Média do NMSE para a parte imaginária: 0.148751\n",
      "Média do NMSE para o módulo dos coeficientes: 0.459767\n",
      "NMSE médio do módulo dos coeficientes: 0.459767\n",
      "\n",
      "Executando combinação 22/32:\n",
      "SeqLen: 30, Units: 128, Conv Filters: 64, Dropout: 0.2, LR: 0.0005, L2 Reg: 0.0001\n",
      "Modelo para a combinação SeqLen30_Units128_ConvFilt64_Dropout0.2_LR0.0005_L2Reg0.0001 já existe. Pulando treinamento.\n",
      "\u001b[1m175/175\u001b[0m \u001b[32m━━━━━━━━━━━━━━━━━━━━\u001b[0m\u001b[37m\u001b[0m \u001b[1m3s\u001b[0m 16ms/step\n",
      "Métricas para a parte real:\n",
      "MSE: 0.000000\n",
      "MAE: 0.000191\n",
      "Métricas para a parte imaginária:\n",
      "MSE: 0.000000\n",
      "MAE: 0.000193\n",
      "Média do NMSE para a parte real: 0.118406\n",
      "Média do NMSE para a parte imaginária: 0.120030\n",
      "Média do NMSE para o módulo dos coeficientes: 0.383285\n",
      "NMSE médio do módulo dos coeficientes: 0.383285\n",
      "\n",
      "Executando combinação 23/32:\n",
      "SeqLen: 30, Units: 128, Conv Filters: 64, Dropout: 0.3, LR: 0.001, L2 Reg: 0.0001\n",
      "Modelo para a combinação SeqLen30_Units128_ConvFilt64_Dropout0.3_LR0.001_L2Reg0.0001 já existe. Pulando treinamento.\n",
      "\u001b[1m175/175\u001b[0m \u001b[32m━━━━━━━━━━━━━━━━━━━━\u001b[0m\u001b[37m\u001b[0m \u001b[1m2s\u001b[0m 12ms/step\n",
      "Métricas para a parte real:\n",
      "MSE: 0.000000\n",
      "MAE: 0.000240\n",
      "Métricas para a parte imaginária:\n",
      "MSE: 0.000000\n",
      "MAE: 0.000237\n",
      "Média do NMSE para a parte real: 0.183274\n",
      "Média do NMSE para a parte imaginária: 0.187397\n",
      "Média do NMSE para o módulo dos coeficientes: 0.630797\n",
      "NMSE médio do módulo dos coeficientes: 0.630797\n",
      "\n",
      "Executando combinação 24/32:\n",
      "SeqLen: 30, Units: 128, Conv Filters: 64, Dropout: 0.3, LR: 0.0005, L2 Reg: 0.0001\n",
      "Modelo para a combinação SeqLen30_Units128_ConvFilt64_Dropout0.3_LR0.0005_L2Reg0.0001 já existe. Pulando treinamento.\n",
      "\u001b[1m175/175\u001b[0m \u001b[32m━━━━━━━━━━━━━━━━━━━━\u001b[0m\u001b[37m\u001b[0m \u001b[1m2s\u001b[0m 10ms/step\n",
      "Métricas para a parte real:\n",
      "MSE: 0.000000\n",
      "MAE: 0.000223\n",
      "Métricas para a parte imaginária:\n",
      "MSE: 0.000000\n",
      "MAE: 0.000218\n",
      "Média do NMSE para a parte real: 0.157511\n",
      "Média do NMSE para a parte imaginária: 0.157410\n",
      "Média do NMSE para o módulo dos coeficientes: 0.557630\n",
      "NMSE médio do módulo dos coeficientes: 0.557630\n",
      "\n",
      "Executando combinação 25/32:\n",
      "SeqLen: 30, Units: 256, Conv Filters: 32, Dropout: 0.2, LR: 0.001, L2 Reg: 0.0001\n",
      "Modelo para a combinação SeqLen30_Units256_ConvFilt32_Dropout0.2_LR0.001_L2Reg0.0001 já existe. Pulando treinamento.\n",
      "\u001b[1m175/175\u001b[0m \u001b[32m━━━━━━━━━━━━━━━━━━━━\u001b[0m\u001b[37m\u001b[0m \u001b[1m5s\u001b[0m 30ms/step\n",
      "Métricas para a parte real:\n",
      "MSE: 0.000000\n",
      "MAE: 0.000318\n",
      "Métricas para a parte imaginária:\n",
      "MSE: 0.000000\n",
      "MAE: 0.000313\n",
      "Média do NMSE para a parte real: 0.306075\n",
      "Média do NMSE para a parte imaginária: 0.301411\n",
      "Média do NMSE para o módulo dos coeficientes: 0.873686\n",
      "NMSE médio do módulo dos coeficientes: 0.873686\n",
      "\n",
      "Executando combinação 26/32:\n",
      "SeqLen: 30, Units: 256, Conv Filters: 32, Dropout: 0.2, LR: 0.0005, L2 Reg: 0.0001\n",
      "Modelo para a combinação SeqLen30_Units256_ConvFilt32_Dropout0.2_LR0.0005_L2Reg0.0001 já existe. Pulando treinamento.\n",
      "\u001b[1m175/175\u001b[0m \u001b[32m━━━━━━━━━━━━━━━━━━━━\u001b[0m\u001b[37m\u001b[0m \u001b[1m6s\u001b[0m 32ms/step\n",
      "Métricas para a parte real:\n",
      "MSE: 0.000000\n",
      "MAE: 0.000314\n",
      "Métricas para a parte imaginária:\n",
      "MSE: 0.000000\n",
      "MAE: 0.000303\n",
      "Média do NMSE para a parte real: 0.292340\n",
      "Média do NMSE para a parte imaginária: 0.285596\n",
      "Média do NMSE para o módulo dos coeficientes: 0.834309\n",
      "NMSE médio do módulo dos coeficientes: 0.834309\n",
      "\n",
      "Executando combinação 27/32:\n",
      "SeqLen: 30, Units: 256, Conv Filters: 32, Dropout: 0.3, LR: 0.001, L2 Reg: 0.0001\n",
      "Modelo para a combinação SeqLen30_Units256_ConvFilt32_Dropout0.3_LR0.001_L2Reg0.0001 já existe. Pulando treinamento.\n",
      "\u001b[1m175/175\u001b[0m \u001b[32m━━━━━━━━━━━━━━━━━━━━\u001b[0m\u001b[37m\u001b[0m \u001b[1m6s\u001b[0m 32ms/step\n",
      "Métricas para a parte real:\n",
      "MSE: 0.000000\n",
      "MAE: 0.000329\n",
      "Métricas para a parte imaginária:\n",
      "MSE: 0.000000\n",
      "MAE: 0.000326\n",
      "Média do NMSE para a parte real: 0.331268\n",
      "Média do NMSE para a parte imaginária: 0.338770\n",
      "Média do NMSE para o módulo dos coeficientes: 1.036877\n",
      "NMSE médio do módulo dos coeficientes: 1.036877\n",
      "\n",
      "Executando combinação 28/32:\n",
      "SeqLen: 30, Units: 256, Conv Filters: 32, Dropout: 0.3, LR: 0.0005, L2 Reg: 0.0001\n",
      "Modelo para a combinação SeqLen30_Units256_ConvFilt32_Dropout0.3_LR0.0005_L2Reg0.0001 já existe. Pulando treinamento.\n",
      "\u001b[1m175/175\u001b[0m \u001b[32m━━━━━━━━━━━━━━━━━━━━\u001b[0m\u001b[37m\u001b[0m \u001b[1m5s\u001b[0m 29ms/step\n",
      "Métricas para a parte real:\n",
      "MSE: 0.000000\n",
      "MAE: 0.000320\n",
      "Métricas para a parte imaginária:\n",
      "MSE: 0.000000\n",
      "MAE: 0.000309\n",
      "Média do NMSE para a parte real: 0.306259\n",
      "Média do NMSE para a parte imaginária: 0.310621\n",
      "Média do NMSE para o módulo dos coeficientes: 0.960107\n",
      "NMSE médio do módulo dos coeficientes: 0.960107\n",
      "\n",
      "Executando combinação 29/32:\n",
      "SeqLen: 30, Units: 256, Conv Filters: 64, Dropout: 0.2, LR: 0.001, L2 Reg: 0.0001\n",
      "Modelo para a combinação SeqLen30_Units256_ConvFilt64_Dropout0.2_LR0.001_L2Reg0.0001 já existe. Pulando treinamento.\n",
      "\u001b[1m175/175\u001b[0m \u001b[32m━━━━━━━━━━━━━━━━━━━━\u001b[0m\u001b[37m\u001b[0m \u001b[1m5s\u001b[0m 26ms/step\n",
      "Métricas para a parte real:\n",
      "MSE: 0.000000\n",
      "MAE: 0.000256\n",
      "Métricas para a parte imaginária:\n",
      "MSE: 0.000000\n",
      "MAE: 0.000251\n",
      "Média do NMSE para a parte real: 0.197565\n",
      "Média do NMSE para a parte imaginária: 0.199006\n",
      "Média do NMSE para o módulo dos coeficientes: 0.575593\n",
      "NMSE médio do módulo dos coeficientes: 0.575593\n",
      "\n",
      "Executando combinação 30/32:\n",
      "SeqLen: 30, Units: 256, Conv Filters: 64, Dropout: 0.2, LR: 0.0005, L2 Reg: 0.0001\n",
      "Modelo para a combinação SeqLen30_Units256_ConvFilt64_Dropout0.2_LR0.0005_L2Reg0.0001 já existe. Pulando treinamento.\n",
      "\u001b[1m175/175\u001b[0m \u001b[32m━━━━━━━━━━━━━━━━━━━━\u001b[0m\u001b[37m\u001b[0m \u001b[1m5s\u001b[0m 26ms/step\n",
      "Métricas para a parte real:\n",
      "MSE: 0.000000\n",
      "MAE: 0.000232\n",
      "Métricas para a parte imaginária:\n",
      "MSE: 0.000000\n",
      "MAE: 0.000226\n",
      "Média do NMSE para a parte real: 0.162634\n",
      "Média do NMSE para a parte imaginária: 0.160647\n",
      "Média do NMSE para o módulo dos coeficientes: 0.486744\n",
      "NMSE médio do módulo dos coeficientes: 0.486744\n",
      "\n",
      "Executando combinação 31/32:\n",
      "SeqLen: 30, Units: 256, Conv Filters: 64, Dropout: 0.3, LR: 0.001, L2 Reg: 0.0001\n",
      "Modelo para a combinação SeqLen30_Units256_ConvFilt64_Dropout0.3_LR0.001_L2Reg0.0001 já existe. Pulando treinamento.\n",
      "\u001b[1m175/175\u001b[0m \u001b[32m━━━━━━━━━━━━━━━━━━━━\u001b[0m\u001b[37m\u001b[0m \u001b[1m6s\u001b[0m 32ms/step\n",
      "Métricas para a parte real:\n",
      "MSE: 0.000000\n",
      "MAE: 0.000264\n",
      "Métricas para a parte imaginária:\n",
      "MSE: 0.000000\n",
      "MAE: 0.000258\n",
      "Média do NMSE para a parte real: 0.211364\n",
      "Média do NMSE para a parte imaginária: 0.208394\n",
      "Média do NMSE para o módulo dos coeficientes: 0.657959\n",
      "NMSE médio do módulo dos coeficientes: 0.657959\n",
      "\n",
      "Executando combinação 32/32:\n",
      "SeqLen: 30, Units: 256, Conv Filters: 64, Dropout: 0.3, LR: 0.0005, L2 Reg: 0.0001\n",
      "Modelo para a combinação SeqLen30_Units256_ConvFilt64_Dropout0.3_LR0.0005_L2Reg0.0001 já existe. Pulando treinamento.\n",
      "\u001b[1m175/175\u001b[0m \u001b[32m━━━━━━━━━━━━━━━━━━━━\u001b[0m\u001b[37m\u001b[0m \u001b[1m5s\u001b[0m 27ms/step\n",
      "Métricas para a parte real:\n",
      "MSE: 0.000000\n",
      "MAE: 0.000242\n",
      "Métricas para a parte imaginária:\n",
      "MSE: 0.000000\n",
      "MAE: 0.000237\n",
      "Média do NMSE para a parte real: 0.179164\n",
      "Média do NMSE para a parte imaginária: 0.179623\n",
      "Média do NMSE para o módulo dos coeficientes: 0.580937\n",
      "NMSE médio do módulo dos coeficientes: 0.580937\n",
      "\n",
      "Melhores hiperparâmetros: SeqLen20_Units128_ConvFilt64_Dropout0.2_LR0.0005_L2Reg0.0001 com NMSE: 0.374562\n",
      "\n",
      "Top 3 combinações de hiperparâmetros com menor NMSE:\n",
      "SeqLen20_Units128_ConvFilt64_Dropout0.2_LR0.0005_L2Reg0.0001 => NMSE: 0.374562\n",
      "SeqLen30_Units128_ConvFilt64_Dropout0.2_LR0.0005_L2Reg0.0001 => NMSE: 0.383285\n",
      "SeqLen20_Units128_ConvFilt64_Dropout0.2_LR0.001_L2Reg0.0001 => NMSE: 0.442288\n"
     ]
    },
    {
     "ename": "ValueError",
     "evalue": "not enough values to unpack (expected 2, got 1)",
     "output_type": "error",
     "traceback": [
      "\u001b[1;31m---------------------------------------------------------------------------\u001b[0m",
      "\u001b[1;31mValueError\u001b[0m                                Traceback (most recent call last)",
      "Cell \u001b[1;32mIn[1], line 369\u001b[0m\n\u001b[0;32m    367\u001b[0m best_hyperparams_dict \u001b[38;5;241m=\u001b[39m {}\n\u001b[0;32m    368\u001b[0m \u001b[38;5;28;01mfor\u001b[39;00m param \u001b[38;5;129;01min\u001b[39;00m best_hyperparams:\n\u001b[1;32m--> 369\u001b[0m     key, value \u001b[38;5;241m=\u001b[39m param\u001b[38;5;241m.\u001b[39msplit(\u001b[38;5;124m\"\u001b[39m\u001b[38;5;124m:\u001b[39m\u001b[38;5;124m\"\u001b[39m, \u001b[38;5;241m1\u001b[39m) \u001b[38;5;28;01mif\u001b[39;00m \u001b[38;5;124m\"\u001b[39m\u001b[38;5;124m:\u001b[39m\u001b[38;5;124m\"\u001b[39m \u001b[38;5;129;01min\u001b[39;00m param \u001b[38;5;28;01melse\u001b[39;00m param\u001b[38;5;241m.\u001b[39msplit()\n\u001b[0;32m    370\u001b[0m     \u001b[38;5;28;01mif\u001b[39;00m key\u001b[38;5;241m.\u001b[39mstartswith(\u001b[38;5;124m\"\u001b[39m\u001b[38;5;124mSeqLen\u001b[39m\u001b[38;5;124m\"\u001b[39m):\n\u001b[0;32m    371\u001b[0m         best_hyperparams_dict[\u001b[38;5;124m'\u001b[39m\u001b[38;5;124mSeqLen\u001b[39m\u001b[38;5;124m'\u001b[39m] \u001b[38;5;241m=\u001b[39m \u001b[38;5;28mint\u001b[39m(value\u001b[38;5;241m.\u001b[39msplit(\u001b[38;5;124m'\u001b[39m\u001b[38;5;124mSeqLen\u001b[39m\u001b[38;5;124m'\u001b[39m)[\u001b[38;5;241m1\u001b[39m]) \u001b[38;5;28;01mif\u001b[39;00m \u001b[38;5;124m\"\u001b[39m\u001b[38;5;124mSeqLen\u001b[39m\u001b[38;5;124m\"\u001b[39m \u001b[38;5;129;01min\u001b[39;00m key \u001b[38;5;28;01melse\u001b[39;00m \u001b[38;5;28mint\u001b[39m(value)\n",
      "\u001b[1;31mValueError\u001b[0m: not enough values to unpack (expected 2, got 1)"
     ]
    }
   ],
   "source": [
    "import numpy as np\n",
    "import scipy.io as sio\n",
    "import matplotlib.pyplot as plt\n",
    "import os\n",
    "import pickle\n",
    "import time\n",
    "from itertools import product\n",
    "from tensorflow.keras.models import load_model, Sequential\n",
    "from tensorflow.keras.layers import Input, LSTM, Conv1D, Dense, Dropout, BatchNormalization\n",
    "from tensorflow.keras.optimizers import Adam\n",
    "from tensorflow.keras.callbacks import EarlyStopping, ModelCheckpoint\n",
    "from tensorflow.keras.regularizers import l2\n",
    "from sklearn.metrics import mean_squared_error, mean_absolute_error\n",
    "from sklearn.preprocessing import MinMaxScaler\n",
    "\n",
    "# ------------- Configurações de Hiperparâmetros -------------\n",
    "# Definir os hiperparâmetros para o Grid Search\n",
    "hyperparams_grid = {\n",
    "    'sequence_length': [20, 30],        # 2 opções\n",
    "    'lstm_units': [128, 256],           # 2 opções\n",
    "    'conv_filters': [32, 64],           # 2 opções\n",
    "    'dropout_rate': [0.2, 0.3],         # 2 opções\n",
    "    'learning_rate': [0.001, 0.0005],   # 2 opções\n",
    "    'l2_regularization': [0.0001]       # 1 opção (fixo)\n",
    "}\n",
    "\n",
    "# Caminho para salvar os resultados da busca em grade\n",
    "results_path = 'grid_search_results_cnn_lstm.pkl'\n",
    "\n",
    "# Diretório para salvar os modelos treinados\n",
    "models_dir = 'trained_models'\n",
    "if not os.path.exists(models_dir):\n",
    "    os.makedirs(models_dir)\n",
    "\n",
    "# Definir o tempo máximo de execução (em segundos)\n",
    "max_time_seconds = 5 * 3600  # 5 horas\n",
    "\n",
    "# Iniciar o timer\n",
    "start_time = time.time()\n",
    "\n",
    "# ------------- Carregamento dos Dados -------------\n",
    "# Carregar os arquivos .mat fornecidos\n",
    "file_path_temp_coefs = \"temp_coefs.mat\"\n",
    "file_path_spatial_modes = \"spatial_modes.mat\"\n",
    "file_path_mean_flow = \"mean_flow.mat\"\n",
    "file_path_parameters = \"parameters.mat\"\n",
    "\n",
    "# Carregar os coeficientes temporais\n",
    "mat_data_temp = sio.loadmat(file_path_temp_coefs)\n",
    "ts = mat_data_temp['ts'].flatten()  # Vetor de tempo\n",
    "coefs = mat_data_temp['coefs']      # Matriz de coeficientes complexos\n",
    "\n",
    "# Carregar os modos espaciais\n",
    "mat_data_spatial = sio.loadmat(file_path_spatial_modes)\n",
    "phi = mat_data_spatial['phi']       # Matriz de modos espaciais\n",
    "\n",
    "# Carregar o vetor y e a média Xavg\n",
    "mat_data_mean_flow = sio.loadmat(file_path_mean_flow)\n",
    "y_positions = mat_data_mean_flow['y'].flatten()  # Vetor de posições espaciais y\n",
    "Xavg = mat_data_mean_flow['Xavg'].flatten()      # Média do fluxo\n",
    "\n",
    "# Carregar os modos usados no POD\n",
    "mat_data_parameters = sio.loadmat(file_path_parameters)\n",
    "nmodos_pod = mat_data_parameters['nmodes']       # Modos usados no POD\n",
    "\n",
    "# Definir o número de coeficientes a serem utilizados\n",
    "num_coefs = 20\n",
    "print(f\"Número total de modos utilizados: {num_coefs}\")\n",
    "\n",
    "# Separar os coeficientes em parte real e imaginária\n",
    "real_coefs = np.real(coefs[:num_coefs, :])\n",
    "imag_coefs = np.imag(coefs[:num_coefs, :])\n",
    "\n",
    "# Definir o limite do primeiro intervalo\n",
    "first_interval_end = 4801  # Posição correspondente ao tempo 1300\n",
    "\n",
    "# Subamostragem do primeiro intervalo para taxa de 0.5 (pegando a cada 2 pontos)\n",
    "real_coefs_train = real_coefs[:, :first_interval_end:2]\n",
    "imag_coefs_train = imag_coefs[:, :first_interval_end:2]\n",
    "\n",
    "# Segundo intervalo (já na taxa de 0.5)\n",
    "real_coefs_val = real_coefs[:, first_interval_end:]\n",
    "imag_coefs_val = imag_coefs[:, first_interval_end:]\n",
    "\n",
    "# Concatenar as partes real e imaginária para normalização\n",
    "coefs_train = np.vstack([real_coefs_train, imag_coefs_train])  # Dimensão (num_coefs*2, N_train)\n",
    "coefs_val = np.vstack([real_coefs_val, imag_coefs_val])        # Dimensão (num_coefs*2, N_val)\n",
    "\n",
    "# Normalizar os dados de treinamento individualmente para cada coeficiente usando MinMaxScaler\n",
    "num_total_coefs = num_coefs * 2\n",
    "scalers = []\n",
    "\n",
    "coefs_train_normalized = np.zeros_like(coefs_train)\n",
    "coefs_val_normalized = np.zeros_like(coefs_val)\n",
    "\n",
    "for i in range(num_total_coefs):\n",
    "    scaler_coef = MinMaxScaler(feature_range=(-1, 1))\n",
    "    coefs_train_normalized[i, :] = scaler_coef.fit_transform(coefs_train[i, :].reshape(-1, 1)).flatten()\n",
    "    coefs_val_normalized[i, :] = scaler_coef.transform(coefs_val[i, :].reshape(-1, 1)).flatten()\n",
    "    scalers.append(scaler_coef)\n",
    "\n",
    "# Separar novamente as partes real e imaginária normalizadas\n",
    "real_coefs_train_normalized = coefs_train_normalized[:num_coefs, :]\n",
    "imag_coefs_train_normalized = coefs_train_normalized[num_coefs:, :]\n",
    "real_coefs_val_normalized = coefs_val_normalized[:num_coefs, :]\n",
    "imag_coefs_val_normalized = coefs_val_normalized[num_coefs:, :]\n",
    "\n",
    "# ------------- Preparação das Sequências -------------\n",
    "# Função para criar sequências de entrada e saídas correspondentes (previsão de um passo à frente)\n",
    "def create_sequences(real_coefs_norm, imag_coefs_norm, seq_length):\n",
    "    X = []\n",
    "    y = []\n",
    "    num_samples = real_coefs_norm.shape[1] - seq_length\n",
    "    for i in range(num_samples):\n",
    "        # Sequências das partes real e imaginária\n",
    "        X_seq_real = real_coefs_norm[:, i:i+seq_length]\n",
    "        X_seq_imag = imag_coefs_norm[:, i:i+seq_length]\n",
    "        X_seq = np.vstack([X_seq_real, X_seq_imag])  # Dimensão (num_coefs*2, seq_length)\n",
    "        X.append(X_seq)\n",
    "        # Saídas: próximo coeficiente após a sequência\n",
    "        y_real = real_coefs_norm[:, i+seq_length]\n",
    "        y_imag = imag_coefs_norm[:, i+seq_length]\n",
    "        y_seq = np.hstack([y_real, y_imag])  # Dimensão (num_coefs*2,)\n",
    "        y.append(y_seq)\n",
    "    X = np.array(X)\n",
    "    y = np.array(y)\n",
    "    # Ajustar as dimensões para [samples, timesteps, features]\n",
    "    X = X.transpose(0, 2, 1)  # [samples, timesteps, features]\n",
    "    return X, y\n",
    "\n",
    "# Preparar os dados de treinamento\n",
    "X_train, y_train = create_sequences(real_coefs_train_normalized, imag_coefs_train_normalized, hyperparams_grid['sequence_length'][-1])\n",
    "\n",
    "# Preparar os dados de validação\n",
    "X_val, y_val = create_sequences(real_coefs_val_normalized, imag_coefs_val_normalized, hyperparams_grid['sequence_length'][-1])\n",
    "\n",
    "# ------------- Inicialização dos Resultados -------------\n",
    "# Inicializar dicionário para armazenar resultados\n",
    "results = {}\n",
    "\n",
    "# Gerar todas as combinações possíveis de hiperparâmetros\n",
    "keys = list(hyperparams_grid.keys())\n",
    "values = [hyperparams_grid[key] for key in keys]\n",
    "\n",
    "total_combinations = np.prod([len(v) for v in values])\n",
    "print(f\"Total de combinações de hiperparâmetros: {total_combinations}\")\n",
    "\n",
    "combination_index = 1\n",
    "\n",
    "# ------------- Loop de Grid Search com Limite de Tempo -------------\n",
    "for hp_values in product(*values):\n",
    "    hyperparams_current = dict(zip(keys, hp_values))\n",
    "    sequence_length = hyperparams_current['sequence_length']\n",
    "    lstm_units = hyperparams_current['lstm_units']\n",
    "    conv_filters = hyperparams_current['conv_filters']\n",
    "    dropout_rate = hyperparams_current['dropout_rate']\n",
    "    learning_rate = hyperparams_current['learning_rate']\n",
    "    l2_reg = hyperparams_current['l2_regularization']  # Incluído na grade\n",
    "    \n",
    "    # Gerar um nome único para a combinação de hiperparâmetros\n",
    "    combo_name = f\"SeqLen{sequence_length}_Units{lstm_units}_ConvFilt{conv_filters}_Dropout{dropout_rate}_LR{learning_rate}_L2Reg{l2_reg}\"\n",
    "    model_filename = f\"{combo_name}.keras\"\n",
    "    model_filepath = os.path.join(models_dir, model_filename)\n",
    "    \n",
    "    print(f\"\\nExecutando combinação {combination_index}/{total_combinations}:\")\n",
    "    print(f\"SeqLen: {sequence_length}, Units: {lstm_units}, Conv Filters: {conv_filters}, Dropout: {dropout_rate}, LR: {learning_rate}, L2 Reg: {l2_reg}\")\n",
    "    combination_index += 1\n",
    "    \n",
    "    # Verificar se o modelo já foi treinado e salvo\n",
    "    if os.path.exists(model_filepath):\n",
    "        print(f\"Modelo para a combinação {combo_name} já existe. Pulando treinamento.\")\n",
    "        # Carregar o modelo salvo\n",
    "        best_model = load_model(model_filepath)\n",
    "    else:\n",
    "        # Criar sequências para a combinação atual com o comprimento específico\n",
    "        X_train_current, y_train_current = create_sequences(real_coefs_train_normalized, imag_coefs_train_normalized, sequence_length)\n",
    "        X_val_current, y_val_current = create_sequences(real_coefs_val_normalized, imag_coefs_val_normalized, sequence_length)\n",
    "        \n",
    "        # Verificar se há dados suficientes\n",
    "        if X_train_current.shape[0] == 0 or X_val_current.shape[0] == 0:\n",
    "            print(\"Dados insuficientes para a sequência atual. Pulando para a próxima combinação.\")\n",
    "            continue\n",
    "        \n",
    "        # Definir o modelo CNN+LSTM com regularização\n",
    "        model = Sequential()\n",
    "        model.add(Conv1D(filters=conv_filters,\n",
    "                         kernel_size=3,  # Pode ajustar conforme necessidade\n",
    "                         activation='relu',\n",
    "                         padding='same',\n",
    "                         kernel_regularizer=l2(l2_reg),\n",
    "                         input_shape=(sequence_length, num_total_coefs)))\n",
    "        model.add(BatchNormalization())\n",
    "        model.add(Dropout(dropout_rate))\n",
    "        \n",
    "        # Segunda camada Conv1D para profundidade adicional\n",
    "        model.add(Conv1D(filters=conv_filters,\n",
    "                         kernel_size=3,  # Pode ajustar conforme necessidade\n",
    "                         activation='relu',\n",
    "                         padding='same',\n",
    "                         kernel_regularizer=l2(l2_reg)))\n",
    "        model.add(BatchNormalization())\n",
    "        model.add(Dropout(dropout_rate))\n",
    "        \n",
    "        # Camada LSTM\n",
    "        model.add(LSTM(units=lstm_units,\n",
    "                       activation='tanh',\n",
    "                       kernel_regularizer=l2(l2_reg),\n",
    "                       recurrent_dropout=dropout_rate))\n",
    "        model.add(Dropout(dropout_rate))\n",
    "        \n",
    "        # Camada de saída\n",
    "        model.add(Dense(num_coefs * 2, activation='linear',\n",
    "                        kernel_regularizer=l2(l2_reg)))\n",
    "        \n",
    "        # Compilar o modelo\n",
    "        model.compile(optimizer=Adam(learning_rate=learning_rate), loss='mean_squared_error')\n",
    "        \n",
    "        # Definir callbacks\n",
    "        early_stopping = EarlyStopping(monitor='val_loss', patience=hyperparams_grid['early_stopping_patience'],\n",
    "                                       restore_best_weights=True, verbose=1)\n",
    "        checkpoint = ModelCheckpoint(model_filepath, monitor='val_loss', save_best_only=True, mode='min', verbose=1)\n",
    "        \n",
    "        # Treinar o modelo\n",
    "        history = model.fit(X_train_current, y_train_current,\n",
    "                            epochs=hyperparams_grid['epochs'],\n",
    "                            batch_size=hyperparams_grid['batch_size'],\n",
    "                            validation_data=(X_val_current, y_val_current),\n",
    "                            callbacks=[early_stopping, checkpoint],\n",
    "                            verbose=1)\n",
    "        \n",
    "        # Carregar o melhor modelo salvo pelo checkpoint\n",
    "        best_model = load_model(model_filepath)\n",
    "    \n",
    "    # Fazer previsões no conjunto de validação\n",
    "    if os.path.exists(model_filepath):\n",
    "        predictions_normalized = best_model.predict(X_val_current if 'X_val_current' in locals() else X_val)\n",
    "    else:\n",
    "        predictions_normalized = best_model.predict(X_val)\n",
    "    \n",
    "    # Reverter a normalização para cada coeficiente\n",
    "    predictions = np.zeros_like(predictions_normalized)\n",
    "    y_val_original = np.zeros_like(y_val_current if 'y_val_current' in locals() else y_val)\n",
    "    for i in range(num_total_coefs):\n",
    "        scaler = scalers[i]\n",
    "        predictions[:, i] = scaler.inverse_transform(predictions_normalized[:, i].reshape(-1, 1)).flatten()\n",
    "        y_val_original[:, i] = scaler.inverse_transform(y_val_current[:, i].reshape(-1, 1)).flatten() if 'y_val_current' in locals() else scaler.inverse_transform(y_val[:, i].reshape(-1, 1)).flatten()\n",
    "    \n",
    "    # Separar as partes real e imaginária\n",
    "    pred_real = predictions[:, :num_coefs]\n",
    "    pred_imag = predictions[:, num_coefs:]\n",
    "    actual_real = y_val_original[:, :num_coefs]\n",
    "    actual_imag = y_val_original[:, num_coefs:]\n",
    "    \n",
    "    # Reconstruir os coeficientes complexos preditos e reais\n",
    "    predicted_coefs = pred_real + 1j * pred_imag\n",
    "    actual_coefs = actual_real + 1j * actual_imag\n",
    "    \n",
    "    # Reconstruir X a partir dos coeficientes preditos e dos modos espaciais\n",
    "    phi_reduced = phi[:, :num_coefs]  # Dimensão (387, num_coefs)\n",
    "    Xavg_flat = Xavg.flatten()          # Dimensão (387,)\n",
    "    \n",
    "    X_rec_list = []\n",
    "    X_actual_list = []\n",
    "    \n",
    "    for i in range(predicted_coefs.shape[0]):\n",
    "        # Reconstrução predita\n",
    "        X_rec = Xavg_flat + phi_reduced @ predicted_coefs[i]\n",
    "        X_rec_list.append(X_rec)\n",
    "        # Reconstrução real\n",
    "        X_actual = Xavg_flat + phi_reduced @ actual_coefs[i]\n",
    "        X_actual_list.append(X_actual)\n",
    "    \n",
    "    # Converter as listas em arrays e transpor\n",
    "    X_rec_array = np.array(X_rec_list).T        # Forma (387, num_samples)\n",
    "    X_actual_array = np.array(X_actual_list).T  # Forma (387, num_samples)\n",
    "    \n",
    "    # Número de pontos em y\n",
    "    ny = y_positions.shape[0]  # Deve ser 129\n",
    "    \n",
    "    # Calcular as métricas de erro separadamente para as partes real e imaginária\n",
    "    mse_real = mean_squared_error(actual_real.flatten(), pred_real.flatten())\n",
    "    mae_real = mean_absolute_error(actual_real.flatten(), pred_real.flatten())\n",
    "    mse_imag = mean_squared_error(actual_imag.flatten(), pred_imag.flatten())\n",
    "    mae_imag = mean_absolute_error(actual_imag.flatten(), pred_imag.flatten())\n",
    "    \n",
    "    print(f\"Métricas para a parte real:\")\n",
    "    print(f\"MSE: {mse_real:.6f}\")\n",
    "    print(f\"MAE: {mae_real:.6f}\")\n",
    "    \n",
    "    print(f\"Métricas para a parte imaginária:\")\n",
    "    print(f\"MSE: {mse_imag:.6f}\")\n",
    "    print(f\"MAE: {mae_imag:.6f}\")\n",
    "    \n",
    "    # Função para calcular NMSE por coeficiente\n",
    "    def calculate_normalized_mse(actual, predicted):\n",
    "        num_coefs = actual.shape[1]\n",
    "        nmse = np.zeros(num_coefs)\n",
    "        for c in range(num_coefs):\n",
    "            mse = mean_squared_error(actual[:, c], predicted[:, c])\n",
    "            variance = np.var(actual[:, c])\n",
    "            # Evitar divisão por zero\n",
    "            if variance != 0:\n",
    "                nmse[c] = mse / variance\n",
    "            else:\n",
    "                nmse[c] = np.nan  # ou trate conforme apropriado\n",
    "        return nmse\n",
    "    \n",
    "    # Calcular NMSE para a parte real\n",
    "    nmse_real = calculate_normalized_mse(actual_real, pred_real)\n",
    "    \n",
    "    # Calcular NMSE para a parte imaginária\n",
    "    nmse_imag = calculate_normalized_mse(actual_imag, pred_imag)\n",
    "    \n",
    "    # Calcular NMSE para o módulo dos coeficientes\n",
    "    actual_modulus = np.sqrt(actual_real**2 + actual_imag**2)\n",
    "    predicted_modulus = np.sqrt(pred_real**2 + pred_imag**2)\n",
    "    nmse_modulus = calculate_normalized_mse(actual_modulus, predicted_modulus)\n",
    "    \n",
    "    # Calcular a média do NMSE sobre todos os coeficientes\n",
    "    average_nmse_real = np.nanmean(nmse_real)\n",
    "    average_nmse_imag = np.nanmean(nmse_imag)\n",
    "    average_nmse_modulus = np.nanmean(nmse_modulus)\n",
    "    \n",
    "    print(f\"Média do NMSE para a parte real: {average_nmse_real:.6f}\")\n",
    "    print(f\"Média do NMSE para a parte imaginária: {average_nmse_imag:.6f}\")\n",
    "    print(f\"Média do NMSE para o módulo dos coeficientes: {average_nmse_modulus:.6f}\")\n",
    "    \n",
    "    # Salvar resultados\n",
    "    result_key = f\"SeqLen{sequence_length}_Units{lstm_units}_ConvFilt{conv_filters}_Dropout{dropout_rate}_LR{learning_rate}_L2Reg{l2_reg}\"\n",
    "    results[result_key] = average_nmse_modulus\n",
    "    print(f\"NMSE médio do módulo dos coeficientes: {average_nmse_modulus:.6f}\")\n",
    "    \n",
    "    # Verificar se o tempo limite foi atingido\n",
    "    elapsed_time = time.time() - start_time\n",
    "    if elapsed_time > max_time_seconds:\n",
    "        print(\"Tempo máximo de execução atingido. Encerrando o Grid Search.\")\n",
    "        break\n",
    "\n",
    "# ------------- Salvar os Resultados -------------\n",
    "# Salvar os resultados em um arquivo\n",
    "with open(results_path, 'wb') as f:\n",
    "    pickle.dump(results, f)\n",
    "\n",
    "# Encontrar a melhor combinação de hiperparâmetros\n",
    "if results:\n",
    "    best_params = min(results, key=results.get)\n",
    "    print(f\"\\nMelhores hiperparâmetros: {best_params} com NMSE: {results[best_params]:.6f}\")\n",
    "else:\n",
    "    print(\"Nenhuma combinação de hiperparâmetros foi treinada.\")\n",
    "\n",
    "# Carregar e Analisar os Resultados\n",
    "with open(results_path, 'rb') as f:\n",
    "    results = pickle.load(f)\n",
    "\n",
    "# Ordenar as combinações pelo NMSE em ordem crescente\n",
    "sorted_results = sorted(results.items(), key=lambda x: x[1])\n",
    "\n",
    "# Exibir as 3 melhores combinações\n",
    "print(\"\\nTop 3 combinações de hiperparâmetros com menor NMSE:\")\n",
    "for combo, nmse in sorted_results[:3]:\n",
    "    print(f\"{combo} => NMSE: {nmse:.6f}\")\n",
    "\n",
    "# ------------- Retreinamento do Melhor Modelo (Opcional) -------------\n",
    "if 'best_params' in locals():\n",
    "    # Extrair os hiperparâmetros do melhor modelo\n",
    "    best_hyperparams = best_params.split(\"_\")\n",
    "    best_hyperparams_dict = {}\n",
    "    for param in best_hyperparams:\n",
    "        key, value = param.split(\":\", 1) if \":\" in param else param.split()\n",
    "        if key.startswith(\"SeqLen\"):\n",
    "            best_hyperparams_dict['SeqLen'] = int(value.split('SeqLen')[1]) if \"SeqLen\" in key else int(value)\n",
    "        elif key.startswith(\"Units\"):\n",
    "            best_hyperparams_dict['Units'] = int(value.split('Units')[1]) if \"Units\" in key else int(value)\n",
    "        elif key.startswith(\"ConvFilt\"):\n",
    "            best_hyperparams_dict['ConvFilters'] = int(value.split('ConvFilt')[1]) if \"ConvFilt\" in key else int(value)\n",
    "        elif key.startswith(\"Dropout\"):\n",
    "            best_hyperparams_dict['Dropout'] = float(value.split('Dropout')[1]) if \"Dropout\" in key else float(value)\n",
    "        elif key.startswith(\"LR\"):\n",
    "            best_hyperparams_dict['LR'] = float(value.split('LR')[1]) if \"LR\" in key else float(value)\n",
    "        elif key.startswith(\"L2Reg\"):\n",
    "            best_hyperparams_dict['L2Reg'] = float(value.split('L2Reg')[1]) if \"L2Reg\" in key else float(value)\n",
    "    \n",
    "    # Atribuir os hiperparâmetros\n",
    "    sequence_length = best_hyperparams_dict.get('SeqLen', hyperparams_grid['sequence_length'][-1])\n",
    "    lstm_units = best_hyperparams_dict.get('Units', hyperparams_grid['lstm_units'][0])\n",
    "    conv_filters = best_hyperparams_dict.get('ConvFilters', hyperparams_grid['conv_filters'][0])\n",
    "    dropout_rate = best_hyperparams_dict.get('Dropout', hyperparams_grid['dropout_rate'][0])\n",
    "    learning_rate = best_hyperparams_dict.get('LR', hyperparams_grid['learning_rate'][0])\n",
    "    l2_reg = best_hyperparams_dict.get('L2Reg', hyperparams_grid['l2_regularization'][0])\n",
    "    \n",
    "    print(f\"\\nRe-treinando o melhor modelo com hiperparâmetros:\")\n",
    "    print(f\"SeqLen: {sequence_length}, Units: {lstm_units}, ConvFilters: {conv_filters}, Dropout: {dropout_rate}, LR: {learning_rate}, L2Reg: {l2_reg}\")\n",
    "    \n",
    "    # Preparar os dados de treinamento com o melhor comprimento de sequência\n",
    "    X_train_best, y_train_best = create_sequences(real_coefs_train_normalized, imag_coefs_train_normalized, sequence_length)\n",
    "    X_val_best, y_val_best = create_sequences(real_coefs_val_normalized, imag_coefs_val_normalized, sequence_length)\n",
    "    \n",
    "    # Definir o modelo CNN+LSTM com os melhores hiperparâmetros\n",
    "    model_best = Sequential()\n",
    "    model_best.add(Conv1D(filters=conv_filters,\n",
    "                          kernel_size=3,  # Pode ajustar conforme necessário\n",
    "                          activation='relu',\n",
    "                          padding='same',\n",
    "                          kernel_regularizer=l2(l2_reg),\n",
    "                          input_shape=(sequence_length, num_total_coefs)))\n",
    "    model_best.add(BatchNormalization())\n",
    "    model_best.add(Dropout(dropout_rate))\n",
    "    \n",
    "    model_best.add(Conv1D(filters=conv_filters,\n",
    "                          kernel_size=3,  # Pode ajustar conforme necessário\n",
    "                          activation='relu',\n",
    "                          padding='same',\n",
    "                          kernel_regularizer=l2(l2_reg)))\n",
    "    model_best.add(BatchNormalization())\n",
    "    model_best.add(Dropout(dropout_rate))\n",
    "    \n",
    "    model_best.add(LSTM(units=lstm_units,\n",
    "                        activation='tanh',\n",
    "                        kernel_regularizer=l2(l2_reg),\n",
    "                        recurrent_dropout=dropout_rate))\n",
    "    model_best.add(Dropout(dropout_rate))\n",
    "    \n",
    "    model_best.add(Dense(num_coefs * 2, activation='linear',\n",
    "                         kernel_regularizer=l2(l2_reg)))\n",
    "    \n",
    "    # Compilar o modelo\n",
    "    model_best.compile(optimizer=Adam(learning_rate=learning_rate), loss='mean_squared_error')\n",
    "    \n",
    "    # Definir callbacks\n",
    "    early_stopping = EarlyStopping(monitor='val_loss', patience=10,\n",
    "                                   restore_best_weights=True, verbose=1)\n",
    "    checkpoint = ModelCheckpoint('best_model_final.keras', monitor='val_loss', save_best_only=True, mode='min', verbose=1)\n",
    "    \n",
    "    # Treinar o melhor modelo e salvar o histórico\n",
    "    history_best = model_best.fit(X_train_best, y_train_best,\n",
    "                                  epochs=hyperparams_grid['epochs'],\n",
    "                                  batch_size=hyperparams_grid['batch_size'],\n",
    "                                  validation_data=(X_val_best, y_val_best),\n",
    "                                  callbacks=[early_stopping, checkpoint],\n",
    "                                  verbose=1)\n",
    "    \n",
    "    # Salvar o melhor modelo\n",
    "    model_best.save('best_model_final.keras')\n",
    "    \n",
    "    # Plotar as curvas de perda\n",
    "    plt.figure(figsize=(10, 6))\n",
    "    plt.plot(history_best.history['loss'], label='Perda de Treinamento')\n",
    "    plt.plot(history_best.history['val_loss'], label='Perda de Validação')\n",
    "    plt.title('Função de Perda ao Longo das Épocas (Melhor Modelo CNN+LSTM)')\n",
    "    plt.xlabel('Épocas')\n",
    "    plt.ylabel('Loss (MSE)')\n",
    "    plt.legend()\n",
    "    plt.grid(True)\n",
    "    plt.show()\n",
    "    \n",
    "    # Fazer previsões no conjunto de validação\n",
    "    predictions_normalized_best = model_best.predict(X_val_best)\n",
    "    \n",
    "    # Reverter a normalização para cada coeficiente\n",
    "    predictions_best = np.zeros_like(predictions_normalized_best)\n",
    "    y_val_original_best = np.zeros_like(y_val_best)\n",
    "    for i in range(num_total_coefs):\n",
    "        scaler = scalers[i]\n",
    "        predictions_best[:, i] = scaler.inverse_transform(predictions_normalized_best[:, i].reshape(-1, 1)).flatten()\n",
    "        y_val_original_best[:, i] = scaler.inverse_transform(y_val_best[:, i].reshape(-1, 1)).flatten()\n",
    "    \n",
    "    # Separar as partes real e imaginária\n",
    "    pred_real_best = predictions_best[:, :num_coefs]\n",
    "    pred_imag_best = predictions_best[:, num_coefs:]\n",
    "    actual_real_best = y_val_original_best[:, :num_coefs]\n",
    "    actual_imag_best = y_val_original_best[:, num_coefs:]\n",
    "    \n",
    "    # Reconstruir os coeficientes complexos preditos e reais\n",
    "    predicted_coefs_best = pred_real_best + 1j * pred_imag_best\n",
    "    actual_coefs_best = actual_real_best + 1j * actual_imag_best\n",
    "    \n",
    "    # Reconstruir X a partir dos coeficientes preditos e dos modos espaciais\n",
    "    X_rec_list_best = []\n",
    "    X_actual_list_best = []\n",
    "    \n",
    "    for i in range(predicted_coefs_best.shape[0]):\n",
    "        # Reconstrução predita\n",
    "        X_rec = Xavg_flat + phi_reduced @ predicted_coefs_best[i]\n",
    "        X_rec_list_best.append(X_rec)\n",
    "        # Reconstrução real\n",
    "        X_actual = Xavg_flat + phi_reduced @ actual_coefs_best[i]\n",
    "        X_actual_list_best.append(X_actual)\n",
    "    \n",
    "    # Converter as listas em arrays e transpor\n",
    "    X_rec_array_best = np.array(X_rec_list_best).T        # Forma (387, num_samples)\n",
    "    X_actual_array_best = np.array(X_actual_list_best).T  # Forma (387, num_samples)\n",
    "    \n",
    "    # Plotar a comparação entre os perfis originais e reconstruídos de |u|\n",
    "    step = 10  # Número de subplots (ajuste conforme necessário)\n",
    "    \n",
    "    plt.figure(figsize=(16, 12))\n",
    "    plt.clf()\n",
    "    for i in range(step):\n",
    "        plt.subplot(4, 5, i + 1)\n",
    "        # Índice do tempo\n",
    "        idx = i * (X_rec_array_best.shape[1] // step)\n",
    "        if idx >= X_rec_array_best.shape[1]:\n",
    "            idx = X_rec_array_best.shape[1] - 1  # Evitar índice fora do range\n",
    "        plt.plot(np.abs(X_actual_array_best[:ny, idx]), y_positions, label='Original')\n",
    "        plt.plot(np.abs(X_rec_array_best[:ny, idx]), y_positions, label='Reconstruído', linestyle='--')\n",
    "        plt.xlabel('|u|')\n",
    "        plt.ylabel('y')\n",
    "        plt.title(f'Amostra {idx}')\n",
    "        plt.grid(True)\n",
    "        if i == 0:\n",
    "            plt.legend()\n",
    "    plt.suptitle('Comparação de |u| Original e Reconstruído (Validação)')\n",
    "    plt.tight_layout(rect=[0, 0.03, 1, 0.95])\n",
    "    plt.show()\n",
    "    \n",
    "    # Calcular as métricas de erro separadamente para as partes real e imaginária\n",
    "    mse_real_best = mean_squared_error(actual_real_best.flatten(), pred_real_best.flatten())\n",
    "    mae_real_best = mean_absolute_error(actual_real_best.flatten(), pred_real_best.flatten())\n",
    "    mse_imag_best = mean_squared_error(actual_imag_best.flatten(), pred_imag_best.flatten())\n",
    "    mae_imag_best = mean_absolute_error(actual_imag_best.flatten(), pred_imag_best.flatten())\n",
    "    \n",
    "    print(f\"Métricas para a parte real (Melhor Modelo):\")\n",
    "    print(f\"MSE: {mse_real_best:.6f}\")\n",
    "    print(f\"MAE: {mae_real_best:.6f}\")\n",
    "    \n",
    "    print(f\"Métricas para a parte imaginária (Melhor Modelo):\")\n",
    "    print(f\"MSE: {mse_imag_best:.6f}\")\n",
    "    print(f\"MAE: {mae_imag_best:.6f}\")\n",
    "    \n",
    "    # Calcular NMSE para o melhor modelo\n",
    "    nmse_real_best = calculate_normalized_mse(actual_real_best, pred_real_best)\n",
    "    nmse_imag_best = calculate_normalized_mse(actual_imag_best, pred_imag_best)\n",
    "    actual_modulus_best = np.sqrt(actual_real_best**2 + actual_imag_best**2)\n",
    "    predicted_modulus_best = np.sqrt(pred_real_best**2 + pred_imag_best**2)\n",
    "    nmse_modulus_best = calculate_normalized_mse(actual_modulus_best, predicted_modulus_best)\n",
    "    \n",
    "    average_nmse_real_best = np.nanmean(nmse_real_best)\n",
    "    average_nmse_imag_best = np.nanmean(nmse_imag_best)\n",
    "    average_nmse_modulus_best = np.nanmean(nmse_modulus_best)\n",
    "    \n",
    "    print(f\"Média do NMSE para a parte real (Melhor Modelo): {average_nmse_real_best:.6f}\")\n",
    "    print(f\"Média do NMSE para a parte imaginária (Melhor Modelo): {average_nmse_imag_best:.6f}\")\n",
    "    print(f\"Média do NMSE para o módulo dos coeficientes (Melhor Modelo): {average_nmse_modulus_best:.6f}\")\n",
    "    \n",
    "    # Plotar NMSE do Módulo por coeficiente para o melhor modelo\n",
    "    coefficients = np.arange(1, num_coefs + 1)\n",
    "    \n",
    "    plt.figure(figsize=(12, 6))\n",
    "    plt.bar(coefficients, nmse_modulus_best, width=0.6, label='Módulo', color='green')\n",
    "    plt.xlabel('Índice do Coeficiente')\n",
    "    plt.ylabel('NMSE')\n",
    "    plt.title('NMSE por Coeficiente (Módulo) - Melhor Modelo')\n",
    "    plt.legend()\n",
    "    plt.grid(True)\n",
    "    plt.show()\n",
    "    \n",
    "    # Plotar coeficientes aleatórios em subplots para o melhor modelo\n",
    "    num_plots = 4  # Número de coeficientes a serem plotados\n",
    "    random_indices = np.random.choice(num_coefs, num_plots, replace=False)\n",
    "    \n",
    "    plt.figure(figsize=(15, 10))\n",
    "    for idx, coef_index in enumerate(random_indices):\n",
    "        plt.subplot(2, 2, idx + 1)\n",
    "        plt.plot(actual_real_best[:, coef_index], label=f'Parte Real - Coeficiente {coef_index+1} (Real)')\n",
    "        plt.plot(pred_real_best[:, coef_index], label=f'Parte Real - Coeficiente {coef_index+1} (Predito)', linestyle='--')\n",
    "        plt.title(f'Comparação da Parte Real do Coeficiente {coef_index+1} (Melhor Modelo)')\n",
    "        plt.xlabel('Amostra de Tempo')\n",
    "        plt.ylabel('Valor')\n",
    "        plt.legend()\n",
    "        plt.grid(True)\n",
    "    plt.tight_layout()\n",
    "    plt.show()\n",
    "    \n",
    "    plt.figure(figsize=(15, 10))\n",
    "    for idx, coef_index in enumerate(random_indices):\n",
    "        plt.subplot(2, 2, idx + 1)\n",
    "        plt.plot(actual_imag_best[:, coef_index], label=f'Parte Imaginária - Coeficiente {coef_index+1} (Real)')\n",
    "        plt.plot(pred_imag_best[:, coef_index], label=f'Parte Imaginária - Coeficiente {coef_index+1} (Predito)', linestyle='--')\n",
    "        plt.title(f'Comparação da Parte Imaginária do Coeficiente {coef_index+1} (Melhor Modelo)')\n",
    "        plt.xlabel('Amostra de Tempo')\n",
    "        plt.ylabel('Valor')\n",
    "        plt.legend()\n",
    "        plt.grid(True)\n",
    "    plt.tight_layout()\n",
    "    plt.show()\n"
   ]
  }
 ],
 "metadata": {
  "kernelspec": {
   "display_name": "base",
   "language": "python",
   "name": "python3"
  },
  "language_info": {
   "codemirror_mode": {
    "name": "ipython",
    "version": 3
   },
   "file_extension": ".py",
   "mimetype": "text/x-python",
   "name": "python",
   "nbconvert_exporter": "python",
   "pygments_lexer": "ipython3",
   "version": "3.11.5"
  }
 },
 "nbformat": 4,
 "nbformat_minor": 2
}
