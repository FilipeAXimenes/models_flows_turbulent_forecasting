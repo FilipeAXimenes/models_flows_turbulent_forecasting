{
 "cells": [
  {
   "cell_type": "markdown",
   "metadata": {},
   "source": [
    "Modelo 3: LSTM + VAR"
   ]
  },
  {
   "cell_type": "code",
   "execution_count": 1,
   "metadata": {},
   "outputs": [
    {
     "name": "stdout",
     "output_type": "stream",
     "text": [
      "Número total de modos utilizados: 20\n",
      "Total de combinações de hiperparâmetros: 96\n",
      "\n",
      "Executando combinação 1/96: {'sequence_length': 10, 'lstm_units': 64, 'dropout_rate': 0.1, 'learning_rate': 0.001, 'batch_size': 32, 'maxlags_var': 5}\n"
     ]
    },
    {
     "name": "stderr",
     "output_type": "stream",
     "text": [
      "c:\\Users\\FilipeAraujoXimenes\\anaconda3\\Lib\\site-packages\\keras\\src\\layers\\rnn\\rnn.py:204: UserWarning: Do not pass an `input_shape`/`input_dim` argument to a layer. When using Sequential models, prefer using an `Input(shape)` object as the first layer in the model instead.\n",
      "  super().__init__(**kwargs)\n"
     ]
    },
    {
     "name": "stdout",
     "output_type": "stream",
     "text": [
      "\u001b[1m175/175\u001b[0m \u001b[32m━━━━━━━━━━━━━━━━━━━━\u001b[0m\u001b[37m\u001b[0m \u001b[1m2s\u001b[0m 8ms/step\n",
      "NMSE médio do módulo dos coeficientes: 1.912344\n",
      "\n",
      "Executando combinação 2/96: {'sequence_length': 10, 'lstm_units': 64, 'dropout_rate': 0.1, 'learning_rate': 0.001, 'batch_size': 32, 'maxlags_var': 10}\n"
     ]
    },
    {
     "name": "stderr",
     "output_type": "stream",
     "text": [
      "c:\\Users\\FilipeAraujoXimenes\\anaconda3\\Lib\\site-packages\\keras\\src\\layers\\rnn\\rnn.py:204: UserWarning: Do not pass an `input_shape`/`input_dim` argument to a layer. When using Sequential models, prefer using an `Input(shape)` object as the first layer in the model instead.\n",
      "  super().__init__(**kwargs)\n"
     ]
    },
    {
     "name": "stdout",
     "output_type": "stream",
     "text": [
      "\u001b[1m175/175\u001b[0m \u001b[32m━━━━━━━━━━━━━━━━━━━━\u001b[0m\u001b[37m\u001b[0m \u001b[1m2s\u001b[0m 8ms/step\n",
      "NMSE médio do módulo dos coeficientes: 1.914233\n",
      "\n",
      "Executando combinação 3/96: {'sequence_length': 10, 'lstm_units': 64, 'dropout_rate': 0.1, 'learning_rate': 0.001, 'batch_size': 64, 'maxlags_var': 5}\n"
     ]
    },
    {
     "name": "stderr",
     "output_type": "stream",
     "text": [
      "c:\\Users\\FilipeAraujoXimenes\\anaconda3\\Lib\\site-packages\\keras\\src\\layers\\rnn\\rnn.py:204: UserWarning: Do not pass an `input_shape`/`input_dim` argument to a layer. When using Sequential models, prefer using an `Input(shape)` object as the first layer in the model instead.\n",
      "  super().__init__(**kwargs)\n"
     ]
    },
    {
     "name": "stdout",
     "output_type": "stream",
     "text": [
      "\u001b[1m175/175\u001b[0m \u001b[32m━━━━━━━━━━━━━━━━━━━━\u001b[0m\u001b[37m\u001b[0m \u001b[1m1s\u001b[0m 4ms/step\n",
      "NMSE médio do módulo dos coeficientes: 1.913436\n",
      "\n",
      "Executando combinação 4/96: {'sequence_length': 10, 'lstm_units': 64, 'dropout_rate': 0.1, 'learning_rate': 0.001, 'batch_size': 64, 'maxlags_var': 10}\n"
     ]
    },
    {
     "name": "stderr",
     "output_type": "stream",
     "text": [
      "c:\\Users\\FilipeAraujoXimenes\\anaconda3\\Lib\\site-packages\\keras\\src\\layers\\rnn\\rnn.py:204: UserWarning: Do not pass an `input_shape`/`input_dim` argument to a layer. When using Sequential models, prefer using an `Input(shape)` object as the first layer in the model instead.\n",
      "  super().__init__(**kwargs)\n"
     ]
    },
    {
     "name": "stdout",
     "output_type": "stream",
     "text": [
      "\u001b[1m175/175\u001b[0m \u001b[32m━━━━━━━━━━━━━━━━━━━━\u001b[0m\u001b[37m\u001b[0m \u001b[1m1s\u001b[0m 6ms/step\n",
      "NMSE médio do módulo dos coeficientes: 1.914741\n",
      "\n",
      "Executando combinação 5/96: {'sequence_length': 10, 'lstm_units': 64, 'dropout_rate': 0.1, 'learning_rate': 0.0005, 'batch_size': 32, 'maxlags_var': 5}\n"
     ]
    },
    {
     "name": "stderr",
     "output_type": "stream",
     "text": [
      "c:\\Users\\FilipeAraujoXimenes\\anaconda3\\Lib\\site-packages\\keras\\src\\layers\\rnn\\rnn.py:204: UserWarning: Do not pass an `input_shape`/`input_dim` argument to a layer. When using Sequential models, prefer using an `Input(shape)` object as the first layer in the model instead.\n",
      "  super().__init__(**kwargs)\n"
     ]
    },
    {
     "name": "stdout",
     "output_type": "stream",
     "text": [
      "\u001b[1m175/175\u001b[0m \u001b[32m━━━━━━━━━━━━━━━━━━━━\u001b[0m\u001b[37m\u001b[0m \u001b[1m1s\u001b[0m 8ms/step\n",
      "NMSE médio do módulo dos coeficientes: 1.913755\n",
      "\n",
      "Executando combinação 6/96: {'sequence_length': 10, 'lstm_units': 64, 'dropout_rate': 0.1, 'learning_rate': 0.0005, 'batch_size': 32, 'maxlags_var': 10}\n"
     ]
    },
    {
     "name": "stderr",
     "output_type": "stream",
     "text": [
      "c:\\Users\\FilipeAraujoXimenes\\anaconda3\\Lib\\site-packages\\keras\\src\\layers\\rnn\\rnn.py:204: UserWarning: Do not pass an `input_shape`/`input_dim` argument to a layer. When using Sequential models, prefer using an `Input(shape)` object as the first layer in the model instead.\n",
      "  super().__init__(**kwargs)\n"
     ]
    },
    {
     "name": "stdout",
     "output_type": "stream",
     "text": [
      "\u001b[1m175/175\u001b[0m \u001b[32m━━━━━━━━━━━━━━━━━━━━\u001b[0m\u001b[37m\u001b[0m \u001b[1m1s\u001b[0m 5ms/step\n",
      "NMSE médio do módulo dos coeficientes: 1.914764\n",
      "\n",
      "Executando combinação 7/96: {'sequence_length': 10, 'lstm_units': 64, 'dropout_rate': 0.1, 'learning_rate': 0.0005, 'batch_size': 64, 'maxlags_var': 5}\n"
     ]
    },
    {
     "name": "stderr",
     "output_type": "stream",
     "text": [
      "c:\\Users\\FilipeAraujoXimenes\\anaconda3\\Lib\\site-packages\\keras\\src\\layers\\rnn\\rnn.py:204: UserWarning: Do not pass an `input_shape`/`input_dim` argument to a layer. When using Sequential models, prefer using an `Input(shape)` object as the first layer in the model instead.\n",
      "  super().__init__(**kwargs)\n"
     ]
    },
    {
     "name": "stdout",
     "output_type": "stream",
     "text": [
      "\u001b[1m175/175\u001b[0m \u001b[32m━━━━━━━━━━━━━━━━━━━━\u001b[0m\u001b[37m\u001b[0m \u001b[1m1s\u001b[0m 3ms/step\n",
      "NMSE médio do módulo dos coeficientes: 1.914736\n",
      "\n",
      "Executando combinação 8/96: {'sequence_length': 10, 'lstm_units': 64, 'dropout_rate': 0.1, 'learning_rate': 0.0005, 'batch_size': 64, 'maxlags_var': 10}\n"
     ]
    },
    {
     "name": "stderr",
     "output_type": "stream",
     "text": [
      "c:\\Users\\FilipeAraujoXimenes\\anaconda3\\Lib\\site-packages\\keras\\src\\layers\\rnn\\rnn.py:204: UserWarning: Do not pass an `input_shape`/`input_dim` argument to a layer. When using Sequential models, prefer using an `Input(shape)` object as the first layer in the model instead.\n",
      "  super().__init__(**kwargs)\n"
     ]
    },
    {
     "name": "stdout",
     "output_type": "stream",
     "text": [
      "\u001b[1m175/175\u001b[0m \u001b[32m━━━━━━━━━━━━━━━━━━━━\u001b[0m\u001b[37m\u001b[0m \u001b[1m1s\u001b[0m 4ms/step\n",
      "NMSE médio do módulo dos coeficientes: 1.915381\n",
      "\n",
      "Executando combinação 9/96: {'sequence_length': 10, 'lstm_units': 64, 'dropout_rate': 0.2, 'learning_rate': 0.001, 'batch_size': 32, 'maxlags_var': 5}\n"
     ]
    },
    {
     "name": "stderr",
     "output_type": "stream",
     "text": [
      "c:\\Users\\FilipeAraujoXimenes\\anaconda3\\Lib\\site-packages\\keras\\src\\layers\\rnn\\rnn.py:204: UserWarning: Do not pass an `input_shape`/`input_dim` argument to a layer. When using Sequential models, prefer using an `Input(shape)` object as the first layer in the model instead.\n",
      "  super().__init__(**kwargs)\n"
     ]
    },
    {
     "name": "stdout",
     "output_type": "stream",
     "text": [
      "\u001b[1m175/175\u001b[0m \u001b[32m━━━━━━━━━━━━━━━━━━━━\u001b[0m\u001b[37m\u001b[0m \u001b[1m1s\u001b[0m 7ms/step\n",
      "NMSE médio do módulo dos coeficientes: 1.913863\n",
      "\n",
      "Executando combinação 10/96: {'sequence_length': 10, 'lstm_units': 64, 'dropout_rate': 0.2, 'learning_rate': 0.001, 'batch_size': 32, 'maxlags_var': 10}\n"
     ]
    },
    {
     "name": "stderr",
     "output_type": "stream",
     "text": [
      "c:\\Users\\FilipeAraujoXimenes\\anaconda3\\Lib\\site-packages\\keras\\src\\layers\\rnn\\rnn.py:204: UserWarning: Do not pass an `input_shape`/`input_dim` argument to a layer. When using Sequential models, prefer using an `Input(shape)` object as the first layer in the model instead.\n",
      "  super().__init__(**kwargs)\n"
     ]
    },
    {
     "name": "stdout",
     "output_type": "stream",
     "text": [
      "\u001b[1m175/175\u001b[0m \u001b[32m━━━━━━━━━━━━━━━━━━━━\u001b[0m\u001b[37m\u001b[0m \u001b[1m1s\u001b[0m 4ms/step\n",
      "NMSE médio do módulo dos coeficientes: 1.914357\n",
      "\n",
      "Executando combinação 11/96: {'sequence_length': 10, 'lstm_units': 64, 'dropout_rate': 0.2, 'learning_rate': 0.001, 'batch_size': 64, 'maxlags_var': 5}\n"
     ]
    },
    {
     "name": "stderr",
     "output_type": "stream",
     "text": [
      "c:\\Users\\FilipeAraujoXimenes\\anaconda3\\Lib\\site-packages\\keras\\src\\layers\\rnn\\rnn.py:204: UserWarning: Do not pass an `input_shape`/`input_dim` argument to a layer. When using Sequential models, prefer using an `Input(shape)` object as the first layer in the model instead.\n",
      "  super().__init__(**kwargs)\n"
     ]
    },
    {
     "name": "stdout",
     "output_type": "stream",
     "text": [
      "\u001b[1m175/175\u001b[0m \u001b[32m━━━━━━━━━━━━━━━━━━━━\u001b[0m\u001b[37m\u001b[0m \u001b[1m2s\u001b[0m 5ms/step\n",
      "NMSE médio do módulo dos coeficientes: 1.912871\n",
      "\n",
      "Executando combinação 12/96: {'sequence_length': 10, 'lstm_units': 64, 'dropout_rate': 0.2, 'learning_rate': 0.001, 'batch_size': 64, 'maxlags_var': 10}\n"
     ]
    },
    {
     "name": "stderr",
     "output_type": "stream",
     "text": [
      "c:\\Users\\FilipeAraujoXimenes\\anaconda3\\Lib\\site-packages\\keras\\src\\layers\\rnn\\rnn.py:204: UserWarning: Do not pass an `input_shape`/`input_dim` argument to a layer. When using Sequential models, prefer using an `Input(shape)` object as the first layer in the model instead.\n",
      "  super().__init__(**kwargs)\n"
     ]
    },
    {
     "name": "stdout",
     "output_type": "stream",
     "text": [
      "\u001b[1m175/175\u001b[0m \u001b[32m━━━━━━━━━━━━━━━━━━━━\u001b[0m\u001b[37m\u001b[0m \u001b[1m1s\u001b[0m 4ms/step\n",
      "NMSE médio do módulo dos coeficientes: 1.914242\n",
      "\n",
      "Executando combinação 13/96: {'sequence_length': 10, 'lstm_units': 64, 'dropout_rate': 0.2, 'learning_rate': 0.0005, 'batch_size': 32, 'maxlags_var': 5}\n"
     ]
    },
    {
     "name": "stderr",
     "output_type": "stream",
     "text": [
      "c:\\Users\\FilipeAraujoXimenes\\anaconda3\\Lib\\site-packages\\keras\\src\\layers\\rnn\\rnn.py:204: UserWarning: Do not pass an `input_shape`/`input_dim` argument to a layer. When using Sequential models, prefer using an `Input(shape)` object as the first layer in the model instead.\n",
      "  super().__init__(**kwargs)\n"
     ]
    },
    {
     "name": "stdout",
     "output_type": "stream",
     "text": [
      "\u001b[1m175/175\u001b[0m \u001b[32m━━━━━━━━━━━━━━━━━━━━\u001b[0m\u001b[37m\u001b[0m \u001b[1m2s\u001b[0m 9ms/step\n",
      "NMSE médio do módulo dos coeficientes: 1.913156\n",
      "\n",
      "Executando combinação 14/96: {'sequence_length': 10, 'lstm_units': 64, 'dropout_rate': 0.2, 'learning_rate': 0.0005, 'batch_size': 32, 'maxlags_var': 10}\n"
     ]
    },
    {
     "name": "stderr",
     "output_type": "stream",
     "text": [
      "c:\\Users\\FilipeAraujoXimenes\\anaconda3\\Lib\\site-packages\\keras\\src\\layers\\rnn\\rnn.py:204: UserWarning: Do not pass an `input_shape`/`input_dim` argument to a layer. When using Sequential models, prefer using an `Input(shape)` object as the first layer in the model instead.\n",
      "  super().__init__(**kwargs)\n"
     ]
    },
    {
     "name": "stdout",
     "output_type": "stream",
     "text": [
      "\u001b[1m175/175\u001b[0m \u001b[32m━━━━━━━━━━━━━━━━━━━━\u001b[0m\u001b[37m\u001b[0m \u001b[1m1s\u001b[0m 4ms/step\n",
      "NMSE médio do módulo dos coeficientes: 1.913854\n",
      "\n",
      "Executando combinação 15/96: {'sequence_length': 10, 'lstm_units': 64, 'dropout_rate': 0.2, 'learning_rate': 0.0005, 'batch_size': 64, 'maxlags_var': 5}\n"
     ]
    },
    {
     "name": "stderr",
     "output_type": "stream",
     "text": [
      "c:\\Users\\FilipeAraujoXimenes\\anaconda3\\Lib\\site-packages\\keras\\src\\layers\\rnn\\rnn.py:204: UserWarning: Do not pass an `input_shape`/`input_dim` argument to a layer. When using Sequential models, prefer using an `Input(shape)` object as the first layer in the model instead.\n",
      "  super().__init__(**kwargs)\n"
     ]
    },
    {
     "name": "stdout",
     "output_type": "stream",
     "text": [
      "\u001b[1m175/175\u001b[0m \u001b[32m━━━━━━━━━━━━━━━━━━━━\u001b[0m\u001b[37m\u001b[0m \u001b[1m1s\u001b[0m 4ms/step\n",
      "NMSE médio do módulo dos coeficientes: 1.913846\n",
      "\n",
      "Executando combinação 16/96: {'sequence_length': 10, 'lstm_units': 64, 'dropout_rate': 0.2, 'learning_rate': 0.0005, 'batch_size': 64, 'maxlags_var': 10}\n"
     ]
    },
    {
     "name": "stderr",
     "output_type": "stream",
     "text": [
      "c:\\Users\\FilipeAraujoXimenes\\anaconda3\\Lib\\site-packages\\keras\\src\\layers\\rnn\\rnn.py:204: UserWarning: Do not pass an `input_shape`/`input_dim` argument to a layer. When using Sequential models, prefer using an `Input(shape)` object as the first layer in the model instead.\n",
      "  super().__init__(**kwargs)\n"
     ]
    },
    {
     "name": "stdout",
     "output_type": "stream",
     "text": [
      "\u001b[1m175/175\u001b[0m \u001b[32m━━━━━━━━━━━━━━━━━━━━\u001b[0m\u001b[37m\u001b[0m \u001b[1m2s\u001b[0m 8ms/step\n",
      "NMSE médio do módulo dos coeficientes: 1.914086\n",
      "\n",
      "Executando combinação 17/96: {'sequence_length': 10, 'lstm_units': 128, 'dropout_rate': 0.1, 'learning_rate': 0.001, 'batch_size': 32, 'maxlags_var': 5}\n"
     ]
    },
    {
     "name": "stderr",
     "output_type": "stream",
     "text": [
      "c:\\Users\\FilipeAraujoXimenes\\anaconda3\\Lib\\site-packages\\keras\\src\\layers\\rnn\\rnn.py:204: UserWarning: Do not pass an `input_shape`/`input_dim` argument to a layer. When using Sequential models, prefer using an `Input(shape)` object as the first layer in the model instead.\n",
      "  super().__init__(**kwargs)\n"
     ]
    },
    {
     "name": "stdout",
     "output_type": "stream",
     "text": [
      "\u001b[1m175/175\u001b[0m \u001b[32m━━━━━━━━━━━━━━━━━━━━\u001b[0m\u001b[37m\u001b[0m \u001b[1m2s\u001b[0m 10ms/step\n",
      "NMSE médio do módulo dos coeficientes: 1.913888\n",
      "\n",
      "Executando combinação 18/96: {'sequence_length': 10, 'lstm_units': 128, 'dropout_rate': 0.1, 'learning_rate': 0.001, 'batch_size': 32, 'maxlags_var': 10}\n"
     ]
    },
    {
     "name": "stderr",
     "output_type": "stream",
     "text": [
      "c:\\Users\\FilipeAraujoXimenes\\anaconda3\\Lib\\site-packages\\keras\\src\\layers\\rnn\\rnn.py:204: UserWarning: Do not pass an `input_shape`/`input_dim` argument to a layer. When using Sequential models, prefer using an `Input(shape)` object as the first layer in the model instead.\n",
      "  super().__init__(**kwargs)\n"
     ]
    },
    {
     "name": "stdout",
     "output_type": "stream",
     "text": [
      "\u001b[1m175/175\u001b[0m \u001b[32m━━━━━━━━━━━━━━━━━━━━\u001b[0m\u001b[37m\u001b[0m \u001b[1m1s\u001b[0m 5ms/step\n",
      "NMSE médio do módulo dos coeficientes: 1.914175\n",
      "\n",
      "Executando combinação 19/96: {'sequence_length': 10, 'lstm_units': 128, 'dropout_rate': 0.1, 'learning_rate': 0.001, 'batch_size': 64, 'maxlags_var': 5}\n"
     ]
    },
    {
     "name": "stderr",
     "output_type": "stream",
     "text": [
      "c:\\Users\\FilipeAraujoXimenes\\anaconda3\\Lib\\site-packages\\keras\\src\\layers\\rnn\\rnn.py:204: UserWarning: Do not pass an `input_shape`/`input_dim` argument to a layer. When using Sequential models, prefer using an `Input(shape)` object as the first layer in the model instead.\n",
      "  super().__init__(**kwargs)\n"
     ]
    },
    {
     "name": "stdout",
     "output_type": "stream",
     "text": [
      "\u001b[1m175/175\u001b[0m \u001b[32m━━━━━━━━━━━━━━━━━━━━\u001b[0m\u001b[37m\u001b[0m \u001b[1m1s\u001b[0m 5ms/step\n",
      "NMSE médio do módulo dos coeficientes: 1.914261\n",
      "\n",
      "Executando combinação 20/96: {'sequence_length': 10, 'lstm_units': 128, 'dropout_rate': 0.1, 'learning_rate': 0.001, 'batch_size': 64, 'maxlags_var': 10}\n"
     ]
    },
    {
     "name": "stderr",
     "output_type": "stream",
     "text": [
      "c:\\Users\\FilipeAraujoXimenes\\anaconda3\\Lib\\site-packages\\keras\\src\\layers\\rnn\\rnn.py:204: UserWarning: Do not pass an `input_shape`/`input_dim` argument to a layer. When using Sequential models, prefer using an `Input(shape)` object as the first layer in the model instead.\n",
      "  super().__init__(**kwargs)\n"
     ]
    },
    {
     "name": "stdout",
     "output_type": "stream",
     "text": [
      "\u001b[1m175/175\u001b[0m \u001b[32m━━━━━━━━━━━━━━━━━━━━\u001b[0m\u001b[37m\u001b[0m \u001b[1m2s\u001b[0m 8ms/step\n",
      "NMSE médio do módulo dos coeficientes: 1.914835\n",
      "\n",
      "Executando combinação 21/96: {'sequence_length': 10, 'lstm_units': 128, 'dropout_rate': 0.1, 'learning_rate': 0.0005, 'batch_size': 32, 'maxlags_var': 5}\n"
     ]
    },
    {
     "name": "stderr",
     "output_type": "stream",
     "text": [
      "c:\\Users\\FilipeAraujoXimenes\\anaconda3\\Lib\\site-packages\\keras\\src\\layers\\rnn\\rnn.py:204: UserWarning: Do not pass an `input_shape`/`input_dim` argument to a layer. When using Sequential models, prefer using an `Input(shape)` object as the first layer in the model instead.\n",
      "  super().__init__(**kwargs)\n"
     ]
    },
    {
     "name": "stdout",
     "output_type": "stream",
     "text": [
      "\u001b[1m175/175\u001b[0m \u001b[32m━━━━━━━━━━━━━━━━━━━━\u001b[0m\u001b[37m\u001b[0m \u001b[1m2s\u001b[0m 9ms/step\n",
      "NMSE médio do módulo dos coeficientes: 1.914994\n",
      "\n",
      "Executando combinação 22/96: {'sequence_length': 10, 'lstm_units': 128, 'dropout_rate': 0.1, 'learning_rate': 0.0005, 'batch_size': 32, 'maxlags_var': 10}\n"
     ]
    },
    {
     "name": "stderr",
     "output_type": "stream",
     "text": [
      "c:\\Users\\FilipeAraujoXimenes\\anaconda3\\Lib\\site-packages\\keras\\src\\layers\\rnn\\rnn.py:204: UserWarning: Do not pass an `input_shape`/`input_dim` argument to a layer. When using Sequential models, prefer using an `Input(shape)` object as the first layer in the model instead.\n",
      "  super().__init__(**kwargs)\n"
     ]
    },
    {
     "name": "stdout",
     "output_type": "stream",
     "text": [
      "\u001b[1m175/175\u001b[0m \u001b[32m━━━━━━━━━━━━━━━━━━━━\u001b[0m\u001b[37m\u001b[0m \u001b[1m1s\u001b[0m 5ms/step\n",
      "NMSE médio do módulo dos coeficientes: 1.915160\n",
      "\n",
      "Executando combinação 23/96: {'sequence_length': 10, 'lstm_units': 128, 'dropout_rate': 0.1, 'learning_rate': 0.0005, 'batch_size': 64, 'maxlags_var': 5}\n"
     ]
    },
    {
     "name": "stderr",
     "output_type": "stream",
     "text": [
      "c:\\Users\\FilipeAraujoXimenes\\anaconda3\\Lib\\site-packages\\keras\\src\\layers\\rnn\\rnn.py:204: UserWarning: Do not pass an `input_shape`/`input_dim` argument to a layer. When using Sequential models, prefer using an `Input(shape)` object as the first layer in the model instead.\n",
      "  super().__init__(**kwargs)\n"
     ]
    },
    {
     "name": "stdout",
     "output_type": "stream",
     "text": [
      "\u001b[1m175/175\u001b[0m \u001b[32m━━━━━━━━━━━━━━━━━━━━\u001b[0m\u001b[37m\u001b[0m \u001b[1m2s\u001b[0m 7ms/step\n",
      "NMSE médio do módulo dos coeficientes: 1.915484\n",
      "\n",
      "Executando combinação 24/96: {'sequence_length': 10, 'lstm_units': 128, 'dropout_rate': 0.1, 'learning_rate': 0.0005, 'batch_size': 64, 'maxlags_var': 10}\n"
     ]
    },
    {
     "name": "stderr",
     "output_type": "stream",
     "text": [
      "c:\\Users\\FilipeAraujoXimenes\\anaconda3\\Lib\\site-packages\\keras\\src\\layers\\rnn\\rnn.py:204: UserWarning: Do not pass an `input_shape`/`input_dim` argument to a layer. When using Sequential models, prefer using an `Input(shape)` object as the first layer in the model instead.\n",
      "  super().__init__(**kwargs)\n"
     ]
    },
    {
     "name": "stdout",
     "output_type": "stream",
     "text": [
      "\u001b[1m175/175\u001b[0m \u001b[32m━━━━━━━━━━━━━━━━━━━━\u001b[0m\u001b[37m\u001b[0m \u001b[1m1s\u001b[0m 6ms/step\n",
      "NMSE médio do módulo dos coeficientes: 1.915540\n",
      "\n",
      "Executando combinação 25/96: {'sequence_length': 10, 'lstm_units': 128, 'dropout_rate': 0.2, 'learning_rate': 0.001, 'batch_size': 32, 'maxlags_var': 5}\n"
     ]
    },
    {
     "name": "stderr",
     "output_type": "stream",
     "text": [
      "c:\\Users\\FilipeAraujoXimenes\\anaconda3\\Lib\\site-packages\\keras\\src\\layers\\rnn\\rnn.py:204: UserWarning: Do not pass an `input_shape`/`input_dim` argument to a layer. When using Sequential models, prefer using an `Input(shape)` object as the first layer in the model instead.\n",
      "  super().__init__(**kwargs)\n"
     ]
    },
    {
     "name": "stdout",
     "output_type": "stream",
     "text": [
      "\u001b[1m175/175\u001b[0m \u001b[32m━━━━━━━━━━━━━━━━━━━━\u001b[0m\u001b[37m\u001b[0m \u001b[1m1s\u001b[0m 4ms/step\n",
      "NMSE médio do módulo dos coeficientes: 1.913635\n",
      "\n",
      "Executando combinação 26/96: {'sequence_length': 10, 'lstm_units': 128, 'dropout_rate': 0.2, 'learning_rate': 0.001, 'batch_size': 32, 'maxlags_var': 10}\n"
     ]
    },
    {
     "name": "stderr",
     "output_type": "stream",
     "text": [
      "c:\\Users\\FilipeAraujoXimenes\\anaconda3\\Lib\\site-packages\\keras\\src\\layers\\rnn\\rnn.py:204: UserWarning: Do not pass an `input_shape`/`input_dim` argument to a layer. When using Sequential models, prefer using an `Input(shape)` object as the first layer in the model instead.\n",
      "  super().__init__(**kwargs)\n"
     ]
    },
    {
     "name": "stdout",
     "output_type": "stream",
     "text": [
      "\u001b[1m175/175\u001b[0m \u001b[32m━━━━━━━━━━━━━━━━━━━━\u001b[0m\u001b[37m\u001b[0m \u001b[1m1s\u001b[0m 6ms/step\n",
      "NMSE médio do módulo dos coeficientes: 1.913921\n",
      "\n",
      "Executando combinação 27/96: {'sequence_length': 10, 'lstm_units': 128, 'dropout_rate': 0.2, 'learning_rate': 0.001, 'batch_size': 64, 'maxlags_var': 5}\n"
     ]
    },
    {
     "name": "stderr",
     "output_type": "stream",
     "text": [
      "c:\\Users\\FilipeAraujoXimenes\\anaconda3\\Lib\\site-packages\\keras\\src\\layers\\rnn\\rnn.py:204: UserWarning: Do not pass an `input_shape`/`input_dim` argument to a layer. When using Sequential models, prefer using an `Input(shape)` object as the first layer in the model instead.\n",
      "  super().__init__(**kwargs)\n"
     ]
    },
    {
     "name": "stdout",
     "output_type": "stream",
     "text": [
      "\u001b[1m175/175\u001b[0m \u001b[32m━━━━━━━━━━━━━━━━━━━━\u001b[0m\u001b[37m\u001b[0m \u001b[1m2s\u001b[0m 8ms/step\n",
      "NMSE médio do módulo dos coeficientes: 1.913420\n",
      "\n",
      "Executando combinação 28/96: {'sequence_length': 10, 'lstm_units': 128, 'dropout_rate': 0.2, 'learning_rate': 0.001, 'batch_size': 64, 'maxlags_var': 10}\n"
     ]
    },
    {
     "name": "stderr",
     "output_type": "stream",
     "text": [
      "c:\\Users\\FilipeAraujoXimenes\\anaconda3\\Lib\\site-packages\\keras\\src\\layers\\rnn\\rnn.py:204: UserWarning: Do not pass an `input_shape`/`input_dim` argument to a layer. When using Sequential models, prefer using an `Input(shape)` object as the first layer in the model instead.\n",
      "  super().__init__(**kwargs)\n"
     ]
    },
    {
     "name": "stdout",
     "output_type": "stream",
     "text": [
      "\u001b[1m175/175\u001b[0m \u001b[32m━━━━━━━━━━━━━━━━━━━━\u001b[0m\u001b[37m\u001b[0m \u001b[1m2s\u001b[0m 9ms/step\n",
      "NMSE médio do módulo dos coeficientes: 1.914686\n",
      "\n",
      "Executando combinação 29/96: {'sequence_length': 10, 'lstm_units': 128, 'dropout_rate': 0.2, 'learning_rate': 0.0005, 'batch_size': 32, 'maxlags_var': 5}\n"
     ]
    },
    {
     "name": "stderr",
     "output_type": "stream",
     "text": [
      "c:\\Users\\FilipeAraujoXimenes\\anaconda3\\Lib\\site-packages\\keras\\src\\layers\\rnn\\rnn.py:204: UserWarning: Do not pass an `input_shape`/`input_dim` argument to a layer. When using Sequential models, prefer using an `Input(shape)` object as the first layer in the model instead.\n",
      "  super().__init__(**kwargs)\n"
     ]
    },
    {
     "name": "stdout",
     "output_type": "stream",
     "text": [
      "\u001b[1m175/175\u001b[0m \u001b[32m━━━━━━━━━━━━━━━━━━━━\u001b[0m\u001b[37m\u001b[0m \u001b[1m1s\u001b[0m 7ms/step\n",
      "NMSE médio do módulo dos coeficientes: 1.913970\n",
      "\n",
      "Executando combinação 30/96: {'sequence_length': 10, 'lstm_units': 128, 'dropout_rate': 0.2, 'learning_rate': 0.0005, 'batch_size': 32, 'maxlags_var': 10}\n"
     ]
    },
    {
     "name": "stderr",
     "output_type": "stream",
     "text": [
      "c:\\Users\\FilipeAraujoXimenes\\anaconda3\\Lib\\site-packages\\keras\\src\\layers\\rnn\\rnn.py:204: UserWarning: Do not pass an `input_shape`/`input_dim` argument to a layer. When using Sequential models, prefer using an `Input(shape)` object as the first layer in the model instead.\n",
      "  super().__init__(**kwargs)\n"
     ]
    },
    {
     "name": "stdout",
     "output_type": "stream",
     "text": [
      "\u001b[1m175/175\u001b[0m \u001b[32m━━━━━━━━━━━━━━━━━━━━\u001b[0m\u001b[37m\u001b[0m \u001b[1m2s\u001b[0m 10ms/step\n",
      "NMSE médio do módulo dos coeficientes: 1.914887\n",
      "\n",
      "Executando combinação 31/96: {'sequence_length': 10, 'lstm_units': 128, 'dropout_rate': 0.2, 'learning_rate': 0.0005, 'batch_size': 64, 'maxlags_var': 5}\n"
     ]
    },
    {
     "name": "stderr",
     "output_type": "stream",
     "text": [
      "c:\\Users\\FilipeAraujoXimenes\\anaconda3\\Lib\\site-packages\\keras\\src\\layers\\rnn\\rnn.py:204: UserWarning: Do not pass an `input_shape`/`input_dim` argument to a layer. When using Sequential models, prefer using an `Input(shape)` object as the first layer in the model instead.\n",
      "  super().__init__(**kwargs)\n"
     ]
    },
    {
     "name": "stdout",
     "output_type": "stream",
     "text": [
      "\u001b[1m175/175\u001b[0m \u001b[32m━━━━━━━━━━━━━━━━━━━━\u001b[0m\u001b[37m\u001b[0m \u001b[1m2s\u001b[0m 8ms/step\n",
      "NMSE médio do módulo dos coeficientes: 1.914890\n",
      "\n",
      "Executando combinação 32/96: {'sequence_length': 10, 'lstm_units': 128, 'dropout_rate': 0.2, 'learning_rate': 0.0005, 'batch_size': 64, 'maxlags_var': 10}\n"
     ]
    },
    {
     "name": "stderr",
     "output_type": "stream",
     "text": [
      "c:\\Users\\FilipeAraujoXimenes\\anaconda3\\Lib\\site-packages\\keras\\src\\layers\\rnn\\rnn.py:204: UserWarning: Do not pass an `input_shape`/`input_dim` argument to a layer. When using Sequential models, prefer using an `Input(shape)` object as the first layer in the model instead.\n",
      "  super().__init__(**kwargs)\n"
     ]
    },
    {
     "name": "stdout",
     "output_type": "stream",
     "text": [
      "\u001b[1m175/175\u001b[0m \u001b[32m━━━━━━━━━━━━━━━━━━━━\u001b[0m\u001b[37m\u001b[0m \u001b[1m2s\u001b[0m 10ms/step\n",
      "NMSE médio do módulo dos coeficientes: 1.914923\n",
      "\n",
      "Executando combinação 33/96: {'sequence_length': 20, 'lstm_units': 64, 'dropout_rate': 0.1, 'learning_rate': 0.001, 'batch_size': 32, 'maxlags_var': 5}\n"
     ]
    },
    {
     "name": "stderr",
     "output_type": "stream",
     "text": [
      "c:\\Users\\FilipeAraujoXimenes\\anaconda3\\Lib\\site-packages\\keras\\src\\layers\\rnn\\rnn.py:204: UserWarning: Do not pass an `input_shape`/`input_dim` argument to a layer. When using Sequential models, prefer using an `Input(shape)` object as the first layer in the model instead.\n",
      "  super().__init__(**kwargs)\n"
     ]
    },
    {
     "name": "stdout",
     "output_type": "stream",
     "text": [
      "\u001b[1m175/175\u001b[0m \u001b[32m━━━━━━━━━━━━━━━━━━━━\u001b[0m\u001b[37m\u001b[0m \u001b[1m2s\u001b[0m 6ms/step\n",
      "NMSE médio do módulo dos coeficientes: 1.984673\n",
      "\n",
      "Executando combinação 34/96: {'sequence_length': 20, 'lstm_units': 64, 'dropout_rate': 0.1, 'learning_rate': 0.001, 'batch_size': 32, 'maxlags_var': 10}\n"
     ]
    },
    {
     "name": "stderr",
     "output_type": "stream",
     "text": [
      "c:\\Users\\FilipeAraujoXimenes\\anaconda3\\Lib\\site-packages\\keras\\src\\layers\\rnn\\rnn.py:204: UserWarning: Do not pass an `input_shape`/`input_dim` argument to a layer. When using Sequential models, prefer using an `Input(shape)` object as the first layer in the model instead.\n",
      "  super().__init__(**kwargs)\n"
     ]
    },
    {
     "name": "stdout",
     "output_type": "stream",
     "text": [
      "\u001b[1m175/175\u001b[0m \u001b[32m━━━━━━━━━━━━━━━━━━━━\u001b[0m\u001b[37m\u001b[0m \u001b[1m2s\u001b[0m 7ms/step\n",
      "NMSE médio do módulo dos coeficientes: 1.985697\n",
      "\n",
      "Executando combinação 35/96: {'sequence_length': 20, 'lstm_units': 64, 'dropout_rate': 0.1, 'learning_rate': 0.001, 'batch_size': 64, 'maxlags_var': 5}\n"
     ]
    },
    {
     "name": "stderr",
     "output_type": "stream",
     "text": [
      "c:\\Users\\FilipeAraujoXimenes\\anaconda3\\Lib\\site-packages\\keras\\src\\layers\\rnn\\rnn.py:204: UserWarning: Do not pass an `input_shape`/`input_dim` argument to a layer. When using Sequential models, prefer using an `Input(shape)` object as the first layer in the model instead.\n",
      "  super().__init__(**kwargs)\n"
     ]
    },
    {
     "name": "stdout",
     "output_type": "stream",
     "text": [
      "\u001b[1m175/175\u001b[0m \u001b[32m━━━━━━━━━━━━━━━━━━━━\u001b[0m\u001b[37m\u001b[0m \u001b[1m1s\u001b[0m 7ms/step\n",
      "NMSE médio do módulo dos coeficientes: 1.984802\n",
      "\n",
      "Executando combinação 36/96: {'sequence_length': 20, 'lstm_units': 64, 'dropout_rate': 0.1, 'learning_rate': 0.001, 'batch_size': 64, 'maxlags_var': 10}\n"
     ]
    },
    {
     "name": "stderr",
     "output_type": "stream",
     "text": [
      "c:\\Users\\FilipeAraujoXimenes\\anaconda3\\Lib\\site-packages\\keras\\src\\layers\\rnn\\rnn.py:204: UserWarning: Do not pass an `input_shape`/`input_dim` argument to a layer. When using Sequential models, prefer using an `Input(shape)` object as the first layer in the model instead.\n",
      "  super().__init__(**kwargs)\n"
     ]
    },
    {
     "name": "stdout",
     "output_type": "stream",
     "text": [
      "\u001b[1m175/175\u001b[0m \u001b[32m━━━━━━━━━━━━━━━━━━━━\u001b[0m\u001b[37m\u001b[0m \u001b[1m2s\u001b[0m 8ms/step\n",
      "NMSE médio do módulo dos coeficientes: 1.985187\n",
      "\n",
      "Executando combinação 37/96: {'sequence_length': 20, 'lstm_units': 64, 'dropout_rate': 0.1, 'learning_rate': 0.0005, 'batch_size': 32, 'maxlags_var': 5}\n"
     ]
    },
    {
     "name": "stderr",
     "output_type": "stream",
     "text": [
      "c:\\Users\\FilipeAraujoXimenes\\anaconda3\\Lib\\site-packages\\keras\\src\\layers\\rnn\\rnn.py:204: UserWarning: Do not pass an `input_shape`/`input_dim` argument to a layer. When using Sequential models, prefer using an `Input(shape)` object as the first layer in the model instead.\n",
      "  super().__init__(**kwargs)\n"
     ]
    },
    {
     "name": "stdout",
     "output_type": "stream",
     "text": [
      "\u001b[1m175/175\u001b[0m \u001b[32m━━━━━━━━━━━━━━━━━━━━\u001b[0m\u001b[37m\u001b[0m \u001b[1m2s\u001b[0m 9ms/step\n",
      "NMSE médio do módulo dos coeficientes: 1.984289\n",
      "\n",
      "Executando combinação 38/96: {'sequence_length': 20, 'lstm_units': 64, 'dropout_rate': 0.1, 'learning_rate': 0.0005, 'batch_size': 32, 'maxlags_var': 10}\n"
     ]
    },
    {
     "name": "stderr",
     "output_type": "stream",
     "text": [
      "c:\\Users\\FilipeAraujoXimenes\\anaconda3\\Lib\\site-packages\\keras\\src\\layers\\rnn\\rnn.py:204: UserWarning: Do not pass an `input_shape`/`input_dim` argument to a layer. When using Sequential models, prefer using an `Input(shape)` object as the first layer in the model instead.\n",
      "  super().__init__(**kwargs)\n"
     ]
    },
    {
     "name": "stdout",
     "output_type": "stream",
     "text": [
      "\u001b[1m175/175\u001b[0m \u001b[32m━━━━━━━━━━━━━━━━━━━━\u001b[0m\u001b[37m\u001b[0m \u001b[1m1s\u001b[0m 6ms/step\n",
      "NMSE médio do módulo dos coeficientes: 1.985285\n",
      "\n",
      "Executando combinação 39/96: {'sequence_length': 20, 'lstm_units': 64, 'dropout_rate': 0.1, 'learning_rate': 0.0005, 'batch_size': 64, 'maxlags_var': 5}\n"
     ]
    },
    {
     "name": "stderr",
     "output_type": "stream",
     "text": [
      "c:\\Users\\FilipeAraujoXimenes\\anaconda3\\Lib\\site-packages\\keras\\src\\layers\\rnn\\rnn.py:204: UserWarning: Do not pass an `input_shape`/`input_dim` argument to a layer. When using Sequential models, prefer using an `Input(shape)` object as the first layer in the model instead.\n",
      "  super().__init__(**kwargs)\n"
     ]
    },
    {
     "name": "stdout",
     "output_type": "stream",
     "text": [
      "\u001b[1m175/175\u001b[0m \u001b[32m━━━━━━━━━━━━━━━━━━━━\u001b[0m\u001b[37m\u001b[0m \u001b[1m2s\u001b[0m 9ms/step\n",
      "NMSE médio do módulo dos coeficientes: 1.984897\n",
      "\n",
      "Executando combinação 40/96: {'sequence_length': 20, 'lstm_units': 64, 'dropout_rate': 0.1, 'learning_rate': 0.0005, 'batch_size': 64, 'maxlags_var': 10}\n"
     ]
    },
    {
     "name": "stderr",
     "output_type": "stream",
     "text": [
      "c:\\Users\\FilipeAraujoXimenes\\anaconda3\\Lib\\site-packages\\keras\\src\\layers\\rnn\\rnn.py:204: UserWarning: Do not pass an `input_shape`/`input_dim` argument to a layer. When using Sequential models, prefer using an `Input(shape)` object as the first layer in the model instead.\n",
      "  super().__init__(**kwargs)\n"
     ]
    },
    {
     "name": "stdout",
     "output_type": "stream",
     "text": [
      "\u001b[1m175/175\u001b[0m \u001b[32m━━━━━━━━━━━━━━━━━━━━\u001b[0m\u001b[37m\u001b[0m \u001b[1m2s\u001b[0m 8ms/step\n",
      "NMSE médio do módulo dos coeficientes: 1.985155\n",
      "\n",
      "Executando combinação 41/96: {'sequence_length': 20, 'lstm_units': 64, 'dropout_rate': 0.2, 'learning_rate': 0.001, 'batch_size': 32, 'maxlags_var': 5}\n"
     ]
    },
    {
     "name": "stderr",
     "output_type": "stream",
     "text": [
      "c:\\Users\\FilipeAraujoXimenes\\anaconda3\\Lib\\site-packages\\keras\\src\\layers\\rnn\\rnn.py:204: UserWarning: Do not pass an `input_shape`/`input_dim` argument to a layer. When using Sequential models, prefer using an `Input(shape)` object as the first layer in the model instead.\n",
      "  super().__init__(**kwargs)\n"
     ]
    },
    {
     "name": "stdout",
     "output_type": "stream",
     "text": [
      "\u001b[1m175/175\u001b[0m \u001b[32m━━━━━━━━━━━━━━━━━━━━\u001b[0m\u001b[37m\u001b[0m \u001b[1m2s\u001b[0m 12ms/step\n",
      "NMSE médio do módulo dos coeficientes: 1.985121\n",
      "\n",
      "Executando combinação 42/96: {'sequence_length': 20, 'lstm_units': 64, 'dropout_rate': 0.2, 'learning_rate': 0.001, 'batch_size': 32, 'maxlags_var': 10}\n"
     ]
    },
    {
     "name": "stderr",
     "output_type": "stream",
     "text": [
      "c:\\Users\\FilipeAraujoXimenes\\anaconda3\\Lib\\site-packages\\keras\\src\\layers\\rnn\\rnn.py:204: UserWarning: Do not pass an `input_shape`/`input_dim` argument to a layer. When using Sequential models, prefer using an `Input(shape)` object as the first layer in the model instead.\n",
      "  super().__init__(**kwargs)\n"
     ]
    },
    {
     "name": "stdout",
     "output_type": "stream",
     "text": [
      "\u001b[1m175/175\u001b[0m \u001b[32m━━━━━━━━━━━━━━━━━━━━\u001b[0m\u001b[37m\u001b[0m \u001b[1m2s\u001b[0m 9ms/step\n",
      "NMSE médio do módulo dos coeficientes: 1.985061\n",
      "\n",
      "Executando combinação 43/96: {'sequence_length': 20, 'lstm_units': 64, 'dropout_rate': 0.2, 'learning_rate': 0.001, 'batch_size': 64, 'maxlags_var': 5}\n"
     ]
    },
    {
     "name": "stderr",
     "output_type": "stream",
     "text": [
      "c:\\Users\\FilipeAraujoXimenes\\anaconda3\\Lib\\site-packages\\keras\\src\\layers\\rnn\\rnn.py:204: UserWarning: Do not pass an `input_shape`/`input_dim` argument to a layer. When using Sequential models, prefer using an `Input(shape)` object as the first layer in the model instead.\n",
      "  super().__init__(**kwargs)\n"
     ]
    },
    {
     "name": "stdout",
     "output_type": "stream",
     "text": [
      "\u001b[1m175/175\u001b[0m \u001b[32m━━━━━━━━━━━━━━━━━━━━\u001b[0m\u001b[37m\u001b[0m \u001b[1m2s\u001b[0m 9ms/step\n",
      "NMSE médio do módulo dos coeficientes: 1.984119\n",
      "\n",
      "Executando combinação 44/96: {'sequence_length': 20, 'lstm_units': 64, 'dropout_rate': 0.2, 'learning_rate': 0.001, 'batch_size': 64, 'maxlags_var': 10}\n"
     ]
    },
    {
     "name": "stderr",
     "output_type": "stream",
     "text": [
      "c:\\Users\\FilipeAraujoXimenes\\anaconda3\\Lib\\site-packages\\keras\\src\\layers\\rnn\\rnn.py:204: UserWarning: Do not pass an `input_shape`/`input_dim` argument to a layer. When using Sequential models, prefer using an `Input(shape)` object as the first layer in the model instead.\n",
      "  super().__init__(**kwargs)\n"
     ]
    },
    {
     "name": "stdout",
     "output_type": "stream",
     "text": [
      "\u001b[1m175/175\u001b[0m \u001b[32m━━━━━━━━━━━━━━━━━━━━\u001b[0m\u001b[37m\u001b[0m \u001b[1m1s\u001b[0m 6ms/step\n",
      "NMSE médio do módulo dos coeficientes: 1.984748\n",
      "\n",
      "Executando combinação 45/96: {'sequence_length': 20, 'lstm_units': 64, 'dropout_rate': 0.2, 'learning_rate': 0.0005, 'batch_size': 32, 'maxlags_var': 5}\n"
     ]
    },
    {
     "name": "stderr",
     "output_type": "stream",
     "text": [
      "c:\\Users\\FilipeAraujoXimenes\\anaconda3\\Lib\\site-packages\\keras\\src\\layers\\rnn\\rnn.py:204: UserWarning: Do not pass an `input_shape`/`input_dim` argument to a layer. When using Sequential models, prefer using an `Input(shape)` object as the first layer in the model instead.\n",
      "  super().__init__(**kwargs)\n"
     ]
    },
    {
     "name": "stdout",
     "output_type": "stream",
     "text": [
      "\u001b[1m175/175\u001b[0m \u001b[32m━━━━━━━━━━━━━━━━━━━━\u001b[0m\u001b[37m\u001b[0m \u001b[1m1s\u001b[0m 7ms/step\n",
      "NMSE médio do módulo dos coeficientes: 1.984078\n",
      "\n",
      "Executando combinação 46/96: {'sequence_length': 20, 'lstm_units': 64, 'dropout_rate': 0.2, 'learning_rate': 0.0005, 'batch_size': 32, 'maxlags_var': 10}\n"
     ]
    },
    {
     "name": "stderr",
     "output_type": "stream",
     "text": [
      "c:\\Users\\FilipeAraujoXimenes\\anaconda3\\Lib\\site-packages\\keras\\src\\layers\\rnn\\rnn.py:204: UserWarning: Do not pass an `input_shape`/`input_dim` argument to a layer. When using Sequential models, prefer using an `Input(shape)` object as the first layer in the model instead.\n",
      "  super().__init__(**kwargs)\n"
     ]
    },
    {
     "name": "stdout",
     "output_type": "stream",
     "text": [
      "\u001b[1m175/175\u001b[0m \u001b[32m━━━━━━━━━━━━━━━━━━━━\u001b[0m\u001b[37m\u001b[0m \u001b[1m2s\u001b[0m 7ms/step\n",
      "NMSE médio do módulo dos coeficientes: 1.984902\n",
      "\n",
      "Executando combinação 47/96: {'sequence_length': 20, 'lstm_units': 64, 'dropout_rate': 0.2, 'learning_rate': 0.0005, 'batch_size': 64, 'maxlags_var': 5}\n"
     ]
    },
    {
     "name": "stderr",
     "output_type": "stream",
     "text": [
      "c:\\Users\\FilipeAraujoXimenes\\anaconda3\\Lib\\site-packages\\keras\\src\\layers\\rnn\\rnn.py:204: UserWarning: Do not pass an `input_shape`/`input_dim` argument to a layer. When using Sequential models, prefer using an `Input(shape)` object as the first layer in the model instead.\n",
      "  super().__init__(**kwargs)\n"
     ]
    },
    {
     "name": "stdout",
     "output_type": "stream",
     "text": [
      "\u001b[1m175/175\u001b[0m \u001b[32m━━━━━━━━━━━━━━━━━━━━\u001b[0m\u001b[37m\u001b[0m \u001b[1m1s\u001b[0m 5ms/step\n",
      "NMSE médio do módulo dos coeficientes: 1.983854\n",
      "\n",
      "Executando combinação 48/96: {'sequence_length': 20, 'lstm_units': 64, 'dropout_rate': 0.2, 'learning_rate': 0.0005, 'batch_size': 64, 'maxlags_var': 10}\n"
     ]
    },
    {
     "name": "stderr",
     "output_type": "stream",
     "text": [
      "c:\\Users\\FilipeAraujoXimenes\\anaconda3\\Lib\\site-packages\\keras\\src\\layers\\rnn\\rnn.py:204: UserWarning: Do not pass an `input_shape`/`input_dim` argument to a layer. When using Sequential models, prefer using an `Input(shape)` object as the first layer in the model instead.\n",
      "  super().__init__(**kwargs)\n"
     ]
    },
    {
     "name": "stdout",
     "output_type": "stream",
     "text": [
      "\u001b[1m175/175\u001b[0m \u001b[32m━━━━━━━━━━━━━━━━━━━━\u001b[0m\u001b[37m\u001b[0m \u001b[1m2s\u001b[0m 11ms/step\n",
      "NMSE médio do módulo dos coeficientes: 1.984539\n",
      "\n",
      "Executando combinação 49/96: {'sequence_length': 20, 'lstm_units': 128, 'dropout_rate': 0.1, 'learning_rate': 0.001, 'batch_size': 32, 'maxlags_var': 5}\n"
     ]
    },
    {
     "name": "stderr",
     "output_type": "stream",
     "text": [
      "c:\\Users\\FilipeAraujoXimenes\\anaconda3\\Lib\\site-packages\\keras\\src\\layers\\rnn\\rnn.py:204: UserWarning: Do not pass an `input_shape`/`input_dim` argument to a layer. When using Sequential models, prefer using an `Input(shape)` object as the first layer in the model instead.\n",
      "  super().__init__(**kwargs)\n"
     ]
    },
    {
     "name": "stdout",
     "output_type": "stream",
     "text": [
      "\u001b[1m175/175\u001b[0m \u001b[32m━━━━━━━━━━━━━━━━━━━━\u001b[0m\u001b[37m\u001b[0m \u001b[1m2s\u001b[0m 10ms/step\n",
      "NMSE médio do módulo dos coeficientes: 1.986430\n",
      "\n",
      "Executando combinação 50/96: {'sequence_length': 20, 'lstm_units': 128, 'dropout_rate': 0.1, 'learning_rate': 0.001, 'batch_size': 32, 'maxlags_var': 10}\n"
     ]
    },
    {
     "name": "stderr",
     "output_type": "stream",
     "text": [
      "c:\\Users\\FilipeAraujoXimenes\\anaconda3\\Lib\\site-packages\\keras\\src\\layers\\rnn\\rnn.py:204: UserWarning: Do not pass an `input_shape`/`input_dim` argument to a layer. When using Sequential models, prefer using an `Input(shape)` object as the first layer in the model instead.\n",
      "  super().__init__(**kwargs)\n"
     ]
    },
    {
     "name": "stdout",
     "output_type": "stream",
     "text": [
      "\u001b[1m175/175\u001b[0m \u001b[32m━━━━━━━━━━━━━━━━━━━━\u001b[0m\u001b[37m\u001b[0m \u001b[1m2s\u001b[0m 10ms/step\n",
      "NMSE médio do módulo dos coeficientes: 1.986778\n",
      "\n",
      "Executando combinação 51/96: {'sequence_length': 20, 'lstm_units': 128, 'dropout_rate': 0.1, 'learning_rate': 0.001, 'batch_size': 64, 'maxlags_var': 5}\n"
     ]
    },
    {
     "name": "stderr",
     "output_type": "stream",
     "text": [
      "c:\\Users\\FilipeAraujoXimenes\\anaconda3\\Lib\\site-packages\\keras\\src\\layers\\rnn\\rnn.py:204: UserWarning: Do not pass an `input_shape`/`input_dim` argument to a layer. When using Sequential models, prefer using an `Input(shape)` object as the first layer in the model instead.\n",
      "  super().__init__(**kwargs)\n"
     ]
    },
    {
     "name": "stdout",
     "output_type": "stream",
     "text": [
      "\u001b[1m175/175\u001b[0m \u001b[32m━━━━━━━━━━━━━━━━━━━━\u001b[0m\u001b[37m\u001b[0m \u001b[1m2s\u001b[0m 13ms/step\n",
      "NMSE médio do módulo dos coeficientes: 1.986584\n",
      "\n",
      "Executando combinação 52/96: {'sequence_length': 20, 'lstm_units': 128, 'dropout_rate': 0.1, 'learning_rate': 0.001, 'batch_size': 64, 'maxlags_var': 10}\n"
     ]
    },
    {
     "name": "stderr",
     "output_type": "stream",
     "text": [
      "c:\\Users\\FilipeAraujoXimenes\\anaconda3\\Lib\\site-packages\\keras\\src\\layers\\rnn\\rnn.py:204: UserWarning: Do not pass an `input_shape`/`input_dim` argument to a layer. When using Sequential models, prefer using an `Input(shape)` object as the first layer in the model instead.\n",
      "  super().__init__(**kwargs)\n"
     ]
    },
    {
     "name": "stdout",
     "output_type": "stream",
     "text": [
      "\u001b[1m175/175\u001b[0m \u001b[32m━━━━━━━━━━━━━━━━━━━━\u001b[0m\u001b[37m\u001b[0m \u001b[1m2s\u001b[0m 13ms/step\n",
      "NMSE médio do módulo dos coeficientes: 1.986213\n",
      "\n",
      "Executando combinação 53/96: {'sequence_length': 20, 'lstm_units': 128, 'dropout_rate': 0.1, 'learning_rate': 0.0005, 'batch_size': 32, 'maxlags_var': 5}\n"
     ]
    },
    {
     "name": "stderr",
     "output_type": "stream",
     "text": [
      "c:\\Users\\FilipeAraujoXimenes\\anaconda3\\Lib\\site-packages\\keras\\src\\layers\\rnn\\rnn.py:204: UserWarning: Do not pass an `input_shape`/`input_dim` argument to a layer. When using Sequential models, prefer using an `Input(shape)` object as the first layer in the model instead.\n",
      "  super().__init__(**kwargs)\n"
     ]
    },
    {
     "name": "stdout",
     "output_type": "stream",
     "text": [
      "\u001b[1m175/175\u001b[0m \u001b[32m━━━━━━━━━━━━━━━━━━━━\u001b[0m\u001b[37m\u001b[0m \u001b[1m2s\u001b[0m 11ms/step\n",
      "NMSE médio do módulo dos coeficientes: 1.986559\n",
      "\n",
      "Executando combinação 54/96: {'sequence_length': 20, 'lstm_units': 128, 'dropout_rate': 0.1, 'learning_rate': 0.0005, 'batch_size': 32, 'maxlags_var': 10}\n"
     ]
    },
    {
     "name": "stderr",
     "output_type": "stream",
     "text": [
      "c:\\Users\\FilipeAraujoXimenes\\anaconda3\\Lib\\site-packages\\keras\\src\\layers\\rnn\\rnn.py:204: UserWarning: Do not pass an `input_shape`/`input_dim` argument to a layer. When using Sequential models, prefer using an `Input(shape)` object as the first layer in the model instead.\n",
      "  super().__init__(**kwargs)\n"
     ]
    },
    {
     "name": "stdout",
     "output_type": "stream",
     "text": [
      "\u001b[1m175/175\u001b[0m \u001b[32m━━━━━━━━━━━━━━━━━━━━\u001b[0m\u001b[37m\u001b[0m \u001b[1m3s\u001b[0m 15ms/step\n",
      "NMSE médio do módulo dos coeficientes: 1.986378\n",
      "\n",
      "Executando combinação 55/96: {'sequence_length': 20, 'lstm_units': 128, 'dropout_rate': 0.1, 'learning_rate': 0.0005, 'batch_size': 64, 'maxlags_var': 5}\n"
     ]
    },
    {
     "name": "stderr",
     "output_type": "stream",
     "text": [
      "c:\\Users\\FilipeAraujoXimenes\\anaconda3\\Lib\\site-packages\\keras\\src\\layers\\rnn\\rnn.py:204: UserWarning: Do not pass an `input_shape`/`input_dim` argument to a layer. When using Sequential models, prefer using an `Input(shape)` object as the first layer in the model instead.\n",
      "  super().__init__(**kwargs)\n"
     ]
    },
    {
     "name": "stdout",
     "output_type": "stream",
     "text": [
      "\u001b[1m175/175\u001b[0m \u001b[32m━━━━━━━━━━━━━━━━━━━━\u001b[0m\u001b[37m\u001b[0m \u001b[1m2s\u001b[0m 8ms/step\n",
      "NMSE médio do módulo dos coeficientes: 1.987245\n",
      "\n",
      "Executando combinação 56/96: {'sequence_length': 20, 'lstm_units': 128, 'dropout_rate': 0.1, 'learning_rate': 0.0005, 'batch_size': 64, 'maxlags_var': 10}\n"
     ]
    },
    {
     "name": "stderr",
     "output_type": "stream",
     "text": [
      "c:\\Users\\FilipeAraujoXimenes\\anaconda3\\Lib\\site-packages\\keras\\src\\layers\\rnn\\rnn.py:204: UserWarning: Do not pass an `input_shape`/`input_dim` argument to a layer. When using Sequential models, prefer using an `Input(shape)` object as the first layer in the model instead.\n",
      "  super().__init__(**kwargs)\n"
     ]
    },
    {
     "name": "stdout",
     "output_type": "stream",
     "text": [
      "\u001b[1m175/175\u001b[0m \u001b[32m━━━━━━━━━━━━━━━━━━━━\u001b[0m\u001b[37m\u001b[0m \u001b[1m2s\u001b[0m 9ms/step\n",
      "NMSE médio do módulo dos coeficientes: 1.986775\n",
      "\n",
      "Executando combinação 57/96: {'sequence_length': 20, 'lstm_units': 128, 'dropout_rate': 0.2, 'learning_rate': 0.001, 'batch_size': 32, 'maxlags_var': 5}\n"
     ]
    },
    {
     "name": "stderr",
     "output_type": "stream",
     "text": [
      "c:\\Users\\FilipeAraujoXimenes\\anaconda3\\Lib\\site-packages\\keras\\src\\layers\\rnn\\rnn.py:204: UserWarning: Do not pass an `input_shape`/`input_dim` argument to a layer. When using Sequential models, prefer using an `Input(shape)` object as the first layer in the model instead.\n",
      "  super().__init__(**kwargs)\n"
     ]
    },
    {
     "name": "stdout",
     "output_type": "stream",
     "text": [
      "\u001b[1m175/175\u001b[0m \u001b[32m━━━━━━━━━━━━━━━━━━━━\u001b[0m\u001b[37m\u001b[0m \u001b[1m3s\u001b[0m 13ms/step\n",
      "NMSE médio do módulo dos coeficientes: 1.985718\n",
      "\n",
      "Executando combinação 58/96: {'sequence_length': 20, 'lstm_units': 128, 'dropout_rate': 0.2, 'learning_rate': 0.001, 'batch_size': 32, 'maxlags_var': 10}\n"
     ]
    },
    {
     "name": "stderr",
     "output_type": "stream",
     "text": [
      "c:\\Users\\FilipeAraujoXimenes\\anaconda3\\Lib\\site-packages\\keras\\src\\layers\\rnn\\rnn.py:204: UserWarning: Do not pass an `input_shape`/`input_dim` argument to a layer. When using Sequential models, prefer using an `Input(shape)` object as the first layer in the model instead.\n",
      "  super().__init__(**kwargs)\n"
     ]
    },
    {
     "name": "stdout",
     "output_type": "stream",
     "text": [
      "\u001b[1m175/175\u001b[0m \u001b[32m━━━━━━━━━━━━━━━━━━━━\u001b[0m\u001b[37m\u001b[0m \u001b[1m2s\u001b[0m 8ms/step\n",
      "NMSE médio do módulo dos coeficientes: 1.985976\n",
      "\n",
      "Executando combinação 59/96: {'sequence_length': 20, 'lstm_units': 128, 'dropout_rate': 0.2, 'learning_rate': 0.001, 'batch_size': 64, 'maxlags_var': 5}\n"
     ]
    },
    {
     "name": "stderr",
     "output_type": "stream",
     "text": [
      "c:\\Users\\FilipeAraujoXimenes\\anaconda3\\Lib\\site-packages\\keras\\src\\layers\\rnn\\rnn.py:204: UserWarning: Do not pass an `input_shape`/`input_dim` argument to a layer. When using Sequential models, prefer using an `Input(shape)` object as the first layer in the model instead.\n",
      "  super().__init__(**kwargs)\n"
     ]
    },
    {
     "name": "stdout",
     "output_type": "stream",
     "text": [
      "\u001b[1m175/175\u001b[0m \u001b[32m━━━━━━━━━━━━━━━━━━━━\u001b[0m\u001b[37m\u001b[0m \u001b[1m2s\u001b[0m 13ms/step\n",
      "NMSE médio do módulo dos coeficientes: 1.986055\n",
      "\n",
      "Executando combinação 60/96: {'sequence_length': 20, 'lstm_units': 128, 'dropout_rate': 0.2, 'learning_rate': 0.001, 'batch_size': 64, 'maxlags_var': 10}\n"
     ]
    },
    {
     "name": "stderr",
     "output_type": "stream",
     "text": [
      "c:\\Users\\FilipeAraujoXimenes\\anaconda3\\Lib\\site-packages\\keras\\src\\layers\\rnn\\rnn.py:204: UserWarning: Do not pass an `input_shape`/`input_dim` argument to a layer. When using Sequential models, prefer using an `Input(shape)` object as the first layer in the model instead.\n",
      "  super().__init__(**kwargs)\n"
     ]
    },
    {
     "name": "stdout",
     "output_type": "stream",
     "text": [
      "\u001b[1m175/175\u001b[0m \u001b[32m━━━━━━━━━━━━━━━━━━━━\u001b[0m\u001b[37m\u001b[0m \u001b[1m2s\u001b[0m 8ms/step\n",
      "NMSE médio do módulo dos coeficientes: 1.985945\n",
      "\n",
      "Executando combinação 61/96: {'sequence_length': 20, 'lstm_units': 128, 'dropout_rate': 0.2, 'learning_rate': 0.0005, 'batch_size': 32, 'maxlags_var': 5}\n"
     ]
    },
    {
     "name": "stderr",
     "output_type": "stream",
     "text": [
      "c:\\Users\\FilipeAraujoXimenes\\anaconda3\\Lib\\site-packages\\keras\\src\\layers\\rnn\\rnn.py:204: UserWarning: Do not pass an `input_shape`/`input_dim` argument to a layer. When using Sequential models, prefer using an `Input(shape)` object as the first layer in the model instead.\n",
      "  super().__init__(**kwargs)\n"
     ]
    },
    {
     "name": "stdout",
     "output_type": "stream",
     "text": [
      "\u001b[1m175/175\u001b[0m \u001b[32m━━━━━━━━━━━━━━━━━━━━\u001b[0m\u001b[37m\u001b[0m \u001b[1m3s\u001b[0m 16ms/step\n",
      "NMSE médio do módulo dos coeficientes: 1.985536\n",
      "\n",
      "Executando combinação 62/96: {'sequence_length': 20, 'lstm_units': 128, 'dropout_rate': 0.2, 'learning_rate': 0.0005, 'batch_size': 32, 'maxlags_var': 10}\n"
     ]
    },
    {
     "name": "stderr",
     "output_type": "stream",
     "text": [
      "c:\\Users\\FilipeAraujoXimenes\\anaconda3\\Lib\\site-packages\\keras\\src\\layers\\rnn\\rnn.py:204: UserWarning: Do not pass an `input_shape`/`input_dim` argument to a layer. When using Sequential models, prefer using an `Input(shape)` object as the first layer in the model instead.\n",
      "  super().__init__(**kwargs)\n"
     ]
    },
    {
     "name": "stdout",
     "output_type": "stream",
     "text": [
      "\u001b[1m175/175\u001b[0m \u001b[32m━━━━━━━━━━━━━━━━━━━━\u001b[0m\u001b[37m\u001b[0m \u001b[1m2s\u001b[0m 10ms/step\n",
      "NMSE médio do módulo dos coeficientes: 1.985880\n",
      "\n",
      "Executando combinação 63/96: {'sequence_length': 20, 'lstm_units': 128, 'dropout_rate': 0.2, 'learning_rate': 0.0005, 'batch_size': 64, 'maxlags_var': 5}\n"
     ]
    },
    {
     "name": "stderr",
     "output_type": "stream",
     "text": [
      "c:\\Users\\FilipeAraujoXimenes\\anaconda3\\Lib\\site-packages\\keras\\src\\layers\\rnn\\rnn.py:204: UserWarning: Do not pass an `input_shape`/`input_dim` argument to a layer. When using Sequential models, prefer using an `Input(shape)` object as the first layer in the model instead.\n",
      "  super().__init__(**kwargs)\n"
     ]
    },
    {
     "name": "stdout",
     "output_type": "stream",
     "text": [
      "\u001b[1m175/175\u001b[0m \u001b[32m━━━━━━━━━━━━━━━━━━━━\u001b[0m\u001b[37m\u001b[0m \u001b[1m2s\u001b[0m 13ms/step\n",
      "NMSE médio do módulo dos coeficientes: 1.985535\n",
      "\n",
      "Executando combinação 64/96: {'sequence_length': 20, 'lstm_units': 128, 'dropout_rate': 0.2, 'learning_rate': 0.0005, 'batch_size': 64, 'maxlags_var': 10}\n"
     ]
    },
    {
     "name": "stderr",
     "output_type": "stream",
     "text": [
      "c:\\Users\\FilipeAraujoXimenes\\anaconda3\\Lib\\site-packages\\keras\\src\\layers\\rnn\\rnn.py:204: UserWarning: Do not pass an `input_shape`/`input_dim` argument to a layer. When using Sequential models, prefer using an `Input(shape)` object as the first layer in the model instead.\n",
      "  super().__init__(**kwargs)\n"
     ]
    },
    {
     "name": "stdout",
     "output_type": "stream",
     "text": [
      "\u001b[1m175/175\u001b[0m \u001b[32m━━━━━━━━━━━━━━━━━━━━\u001b[0m\u001b[37m\u001b[0m \u001b[1m2s\u001b[0m 8ms/step\n",
      "NMSE médio do módulo dos coeficientes: 1.986069\n",
      "\n",
      "Executando combinação 65/96: {'sequence_length': 30, 'lstm_units': 64, 'dropout_rate': 0.1, 'learning_rate': 0.001, 'batch_size': 32, 'maxlags_var': 5}\n"
     ]
    },
    {
     "name": "stderr",
     "output_type": "stream",
     "text": [
      "c:\\Users\\FilipeAraujoXimenes\\anaconda3\\Lib\\site-packages\\keras\\src\\layers\\rnn\\rnn.py:204: UserWarning: Do not pass an `input_shape`/`input_dim` argument to a layer. When using Sequential models, prefer using an `Input(shape)` object as the first layer in the model instead.\n",
      "  super().__init__(**kwargs)\n"
     ]
    },
    {
     "name": "stdout",
     "output_type": "stream",
     "text": [
      "\u001b[1m175/175\u001b[0m \u001b[32m━━━━━━━━━━━━━━━━━━━━\u001b[0m\u001b[37m\u001b[0m \u001b[1m3s\u001b[0m 11ms/step\n",
      "NMSE médio do módulo dos coeficientes: 2.001440\n",
      "\n",
      "Executando combinação 66/96: {'sequence_length': 30, 'lstm_units': 64, 'dropout_rate': 0.1, 'learning_rate': 0.001, 'batch_size': 32, 'maxlags_var': 10}\n"
     ]
    },
    {
     "name": "stderr",
     "output_type": "stream",
     "text": [
      "c:\\Users\\FilipeAraujoXimenes\\anaconda3\\Lib\\site-packages\\keras\\src\\layers\\rnn\\rnn.py:204: UserWarning: Do not pass an `input_shape`/`input_dim` argument to a layer. When using Sequential models, prefer using an `Input(shape)` object as the first layer in the model instead.\n",
      "  super().__init__(**kwargs)\n"
     ]
    },
    {
     "name": "stdout",
     "output_type": "stream",
     "text": [
      "\u001b[1m175/175\u001b[0m \u001b[32m━━━━━━━━━━━━━━━━━━━━\u001b[0m\u001b[37m\u001b[0m \u001b[1m2s\u001b[0m 9ms/step\n",
      "NMSE médio do módulo dos coeficientes: 2.001149\n",
      "\n",
      "Executando combinação 67/96: {'sequence_length': 30, 'lstm_units': 64, 'dropout_rate': 0.1, 'learning_rate': 0.001, 'batch_size': 64, 'maxlags_var': 5}\n"
     ]
    },
    {
     "name": "stderr",
     "output_type": "stream",
     "text": [
      "c:\\Users\\FilipeAraujoXimenes\\anaconda3\\Lib\\site-packages\\keras\\src\\layers\\rnn\\rnn.py:204: UserWarning: Do not pass an `input_shape`/`input_dim` argument to a layer. When using Sequential models, prefer using an `Input(shape)` object as the first layer in the model instead.\n",
      "  super().__init__(**kwargs)\n"
     ]
    },
    {
     "name": "stdout",
     "output_type": "stream",
     "text": [
      "\u001b[1m175/175\u001b[0m \u001b[32m━━━━━━━━━━━━━━━━━━━━\u001b[0m\u001b[37m\u001b[0m \u001b[1m3s\u001b[0m 13ms/step\n",
      "NMSE médio do módulo dos coeficientes: 2.000903\n",
      "\n",
      "Executando combinação 68/96: {'sequence_length': 30, 'lstm_units': 64, 'dropout_rate': 0.1, 'learning_rate': 0.001, 'batch_size': 64, 'maxlags_var': 10}\n"
     ]
    },
    {
     "name": "stderr",
     "output_type": "stream",
     "text": [
      "c:\\Users\\FilipeAraujoXimenes\\anaconda3\\Lib\\site-packages\\keras\\src\\layers\\rnn\\rnn.py:204: UserWarning: Do not pass an `input_shape`/`input_dim` argument to a layer. When using Sequential models, prefer using an `Input(shape)` object as the first layer in the model instead.\n",
      "  super().__init__(**kwargs)\n"
     ]
    },
    {
     "name": "stdout",
     "output_type": "stream",
     "text": [
      "\u001b[1m175/175\u001b[0m \u001b[32m━━━━━━━━━━━━━━━━━━━━\u001b[0m\u001b[37m\u001b[0m \u001b[1m2s\u001b[0m 9ms/step\n",
      "NMSE médio do módulo dos coeficientes: 2.000772\n",
      "\n",
      "Executando combinação 69/96: {'sequence_length': 30, 'lstm_units': 64, 'dropout_rate': 0.1, 'learning_rate': 0.0005, 'batch_size': 32, 'maxlags_var': 5}\n"
     ]
    },
    {
     "name": "stderr",
     "output_type": "stream",
     "text": [
      "c:\\Users\\FilipeAraujoXimenes\\anaconda3\\Lib\\site-packages\\keras\\src\\layers\\rnn\\rnn.py:204: UserWarning: Do not pass an `input_shape`/`input_dim` argument to a layer. When using Sequential models, prefer using an `Input(shape)` object as the first layer in the model instead.\n",
      "  super().__init__(**kwargs)\n"
     ]
    },
    {
     "name": "stdout",
     "output_type": "stream",
     "text": [
      "\u001b[1m175/175\u001b[0m \u001b[32m━━━━━━━━━━━━━━━━━━━━\u001b[0m\u001b[37m\u001b[0m \u001b[1m2s\u001b[0m 10ms/step\n",
      "NMSE médio do módulo dos coeficientes: 2.001094\n",
      "\n",
      "Executando combinação 70/96: {'sequence_length': 30, 'lstm_units': 64, 'dropout_rate': 0.1, 'learning_rate': 0.0005, 'batch_size': 32, 'maxlags_var': 10}\n"
     ]
    },
    {
     "name": "stderr",
     "output_type": "stream",
     "text": [
      "c:\\Users\\FilipeAraujoXimenes\\anaconda3\\Lib\\site-packages\\keras\\src\\layers\\rnn\\rnn.py:204: UserWarning: Do not pass an `input_shape`/`input_dim` argument to a layer. When using Sequential models, prefer using an `Input(shape)` object as the first layer in the model instead.\n",
      "  super().__init__(**kwargs)\n"
     ]
    },
    {
     "name": "stdout",
     "output_type": "stream",
     "text": [
      "\u001b[1m175/175\u001b[0m \u001b[32m━━━━━━━━━━━━━━━━━━━━\u001b[0m\u001b[37m\u001b[0m \u001b[1m2s\u001b[0m 10ms/step\n",
      "NMSE médio do módulo dos coeficientes: 2.000869\n",
      "\n",
      "Executando combinação 71/96: {'sequence_length': 30, 'lstm_units': 64, 'dropout_rate': 0.1, 'learning_rate': 0.0005, 'batch_size': 64, 'maxlags_var': 5}\n"
     ]
    },
    {
     "name": "stderr",
     "output_type": "stream",
     "text": [
      "c:\\Users\\FilipeAraujoXimenes\\anaconda3\\Lib\\site-packages\\keras\\src\\layers\\rnn\\rnn.py:204: UserWarning: Do not pass an `input_shape`/`input_dim` argument to a layer. When using Sequential models, prefer using an `Input(shape)` object as the first layer in the model instead.\n",
      "  super().__init__(**kwargs)\n"
     ]
    },
    {
     "name": "stdout",
     "output_type": "stream",
     "text": [
      "\u001b[1m175/175\u001b[0m \u001b[32m━━━━━━━━━━━━━━━━━━━━\u001b[0m\u001b[37m\u001b[0m \u001b[1m2s\u001b[0m 9ms/step\n",
      "NMSE médio do módulo dos coeficientes: 2.001481\n",
      "\n",
      "Executando combinação 72/96: {'sequence_length': 30, 'lstm_units': 64, 'dropout_rate': 0.1, 'learning_rate': 0.0005, 'batch_size': 64, 'maxlags_var': 10}\n"
     ]
    },
    {
     "name": "stderr",
     "output_type": "stream",
     "text": [
      "c:\\Users\\FilipeAraujoXimenes\\anaconda3\\Lib\\site-packages\\keras\\src\\layers\\rnn\\rnn.py:204: UserWarning: Do not pass an `input_shape`/`input_dim` argument to a layer. When using Sequential models, prefer using an `Input(shape)` object as the first layer in the model instead.\n",
      "  super().__init__(**kwargs)\n"
     ]
    },
    {
     "name": "stdout",
     "output_type": "stream",
     "text": [
      "\u001b[1m175/175\u001b[0m \u001b[32m━━━━━━━━━━━━━━━━━━━━\u001b[0m\u001b[37m\u001b[0m \u001b[1m1s\u001b[0m 7ms/step\n",
      "NMSE médio do módulo dos coeficientes: 2.000724\n",
      "\n",
      "Executando combinação 73/96: {'sequence_length': 30, 'lstm_units': 64, 'dropout_rate': 0.2, 'learning_rate': 0.001, 'batch_size': 32, 'maxlags_var': 5}\n"
     ]
    },
    {
     "name": "stderr",
     "output_type": "stream",
     "text": [
      "c:\\Users\\FilipeAraujoXimenes\\anaconda3\\Lib\\site-packages\\keras\\src\\layers\\rnn\\rnn.py:204: UserWarning: Do not pass an `input_shape`/`input_dim` argument to a layer. When using Sequential models, prefer using an `Input(shape)` object as the first layer in the model instead.\n",
      "  super().__init__(**kwargs)\n"
     ]
    },
    {
     "name": "stdout",
     "output_type": "stream",
     "text": [
      "\u001b[1m175/175\u001b[0m \u001b[32m━━━━━━━━━━━━━━━━━━━━\u001b[0m\u001b[37m\u001b[0m \u001b[1m2s\u001b[0m 9ms/step\n",
      "NMSE médio do módulo dos coeficientes: 2.000881\n",
      "\n",
      "Executando combinação 74/96: {'sequence_length': 30, 'lstm_units': 64, 'dropout_rate': 0.2, 'learning_rate': 0.001, 'batch_size': 32, 'maxlags_var': 10}\n"
     ]
    },
    {
     "name": "stderr",
     "output_type": "stream",
     "text": [
      "c:\\Users\\FilipeAraujoXimenes\\anaconda3\\Lib\\site-packages\\keras\\src\\layers\\rnn\\rnn.py:204: UserWarning: Do not pass an `input_shape`/`input_dim` argument to a layer. When using Sequential models, prefer using an `Input(shape)` object as the first layer in the model instead.\n",
      "  super().__init__(**kwargs)\n"
     ]
    },
    {
     "name": "stdout",
     "output_type": "stream",
     "text": [
      "\u001b[1m175/175\u001b[0m \u001b[32m━━━━━━━━━━━━━━━━━━━━\u001b[0m\u001b[37m\u001b[0m \u001b[1m2s\u001b[0m 8ms/step\n",
      "NMSE médio do módulo dos coeficientes: 2.001131\n",
      "\n",
      "Executando combinação 75/96: {'sequence_length': 30, 'lstm_units': 64, 'dropout_rate': 0.2, 'learning_rate': 0.001, 'batch_size': 64, 'maxlags_var': 5}\n"
     ]
    },
    {
     "name": "stderr",
     "output_type": "stream",
     "text": [
      "c:\\Users\\FilipeAraujoXimenes\\anaconda3\\Lib\\site-packages\\keras\\src\\layers\\rnn\\rnn.py:204: UserWarning: Do not pass an `input_shape`/`input_dim` argument to a layer. When using Sequential models, prefer using an `Input(shape)` object as the first layer in the model instead.\n",
      "  super().__init__(**kwargs)\n"
     ]
    },
    {
     "name": "stdout",
     "output_type": "stream",
     "text": [
      "\u001b[1m175/175\u001b[0m \u001b[32m━━━━━━━━━━━━━━━━━━━━\u001b[0m\u001b[37m\u001b[0m \u001b[1m2s\u001b[0m 9ms/step\n",
      "NMSE médio do módulo dos coeficientes: 2.000763\n",
      "\n",
      "Executando combinação 76/96: {'sequence_length': 30, 'lstm_units': 64, 'dropout_rate': 0.2, 'learning_rate': 0.001, 'batch_size': 64, 'maxlags_var': 10}\n"
     ]
    },
    {
     "name": "stderr",
     "output_type": "stream",
     "text": [
      "c:\\Users\\FilipeAraujoXimenes\\anaconda3\\Lib\\site-packages\\keras\\src\\layers\\rnn\\rnn.py:204: UserWarning: Do not pass an `input_shape`/`input_dim` argument to a layer. When using Sequential models, prefer using an `Input(shape)` object as the first layer in the model instead.\n",
      "  super().__init__(**kwargs)\n"
     ]
    },
    {
     "name": "stdout",
     "output_type": "stream",
     "text": [
      "\u001b[1m175/175\u001b[0m \u001b[32m━━━━━━━━━━━━━━━━━━━━\u001b[0m\u001b[37m\u001b[0m \u001b[1m2s\u001b[0m 11ms/step\n",
      "NMSE médio do módulo dos coeficientes: 1.999864\n",
      "\n",
      "Executando combinação 77/96: {'sequence_length': 30, 'lstm_units': 64, 'dropout_rate': 0.2, 'learning_rate': 0.0005, 'batch_size': 32, 'maxlags_var': 5}\n"
     ]
    },
    {
     "name": "stderr",
     "output_type": "stream",
     "text": [
      "c:\\Users\\FilipeAraujoXimenes\\anaconda3\\Lib\\site-packages\\keras\\src\\layers\\rnn\\rnn.py:204: UserWarning: Do not pass an `input_shape`/`input_dim` argument to a layer. When using Sequential models, prefer using an `Input(shape)` object as the first layer in the model instead.\n",
      "  super().__init__(**kwargs)\n"
     ]
    },
    {
     "name": "stdout",
     "output_type": "stream",
     "text": [
      "\u001b[1m175/175\u001b[0m \u001b[32m━━━━━━━━━━━━━━━━━━━━\u001b[0m\u001b[37m\u001b[0m \u001b[1m2s\u001b[0m 10ms/step\n",
      "NMSE médio do módulo dos coeficientes: 1.999875\n",
      "\n",
      "Executando combinação 78/96: {'sequence_length': 30, 'lstm_units': 64, 'dropout_rate': 0.2, 'learning_rate': 0.0005, 'batch_size': 32, 'maxlags_var': 10}\n"
     ]
    },
    {
     "name": "stderr",
     "output_type": "stream",
     "text": [
      "c:\\Users\\FilipeAraujoXimenes\\anaconda3\\Lib\\site-packages\\keras\\src\\layers\\rnn\\rnn.py:204: UserWarning: Do not pass an `input_shape`/`input_dim` argument to a layer. When using Sequential models, prefer using an `Input(shape)` object as the first layer in the model instead.\n",
      "  super().__init__(**kwargs)\n"
     ]
    },
    {
     "name": "stdout",
     "output_type": "stream",
     "text": [
      "\u001b[1m175/175\u001b[0m \u001b[32m━━━━━━━━━━━━━━━━━━━━\u001b[0m\u001b[37m\u001b[0m \u001b[1m2s\u001b[0m 10ms/step\n",
      "NMSE médio do módulo dos coeficientes: 1.999746\n",
      "\n",
      "Executando combinação 79/96: {'sequence_length': 30, 'lstm_units': 64, 'dropout_rate': 0.2, 'learning_rate': 0.0005, 'batch_size': 64, 'maxlags_var': 5}\n"
     ]
    },
    {
     "name": "stderr",
     "output_type": "stream",
     "text": [
      "c:\\Users\\FilipeAraujoXimenes\\anaconda3\\Lib\\site-packages\\keras\\src\\layers\\rnn\\rnn.py:204: UserWarning: Do not pass an `input_shape`/`input_dim` argument to a layer. When using Sequential models, prefer using an `Input(shape)` object as the first layer in the model instead.\n",
      "  super().__init__(**kwargs)\n"
     ]
    },
    {
     "name": "stdout",
     "output_type": "stream",
     "text": [
      "\u001b[1m175/175\u001b[0m \u001b[32m━━━━━━━━━━━━━━━━━━━━\u001b[0m\u001b[37m\u001b[0m \u001b[1m2s\u001b[0m 10ms/step\n",
      "NMSE médio do módulo dos coeficientes: 2.000168\n",
      "\n",
      "Executando combinação 80/96: {'sequence_length': 30, 'lstm_units': 64, 'dropout_rate': 0.2, 'learning_rate': 0.0005, 'batch_size': 64, 'maxlags_var': 10}\n"
     ]
    },
    {
     "name": "stderr",
     "output_type": "stream",
     "text": [
      "c:\\Users\\FilipeAraujoXimenes\\anaconda3\\Lib\\site-packages\\keras\\src\\layers\\rnn\\rnn.py:204: UserWarning: Do not pass an `input_shape`/`input_dim` argument to a layer. When using Sequential models, prefer using an `Input(shape)` object as the first layer in the model instead.\n",
      "  super().__init__(**kwargs)\n"
     ]
    },
    {
     "name": "stdout",
     "output_type": "stream",
     "text": [
      "\u001b[1m175/175\u001b[0m \u001b[32m━━━━━━━━━━━━━━━━━━━━\u001b[0m\u001b[37m\u001b[0m \u001b[1m1s\u001b[0m 7ms/step\n",
      "NMSE médio do módulo dos coeficientes: 1.999660\n",
      "\n",
      "Executando combinação 81/96: {'sequence_length': 30, 'lstm_units': 128, 'dropout_rate': 0.1, 'learning_rate': 0.001, 'batch_size': 32, 'maxlags_var': 5}\n"
     ]
    },
    {
     "name": "stderr",
     "output_type": "stream",
     "text": [
      "c:\\Users\\FilipeAraujoXimenes\\anaconda3\\Lib\\site-packages\\keras\\src\\layers\\rnn\\rnn.py:204: UserWarning: Do not pass an `input_shape`/`input_dim` argument to a layer. When using Sequential models, prefer using an `Input(shape)` object as the first layer in the model instead.\n",
      "  super().__init__(**kwargs)\n"
     ]
    },
    {
     "name": "stdout",
     "output_type": "stream",
     "text": [
      "\u001b[1m175/175\u001b[0m \u001b[32m━━━━━━━━━━━━━━━━━━━━\u001b[0m\u001b[37m\u001b[0m \u001b[1m3s\u001b[0m 13ms/step\n",
      "NMSE médio do módulo dos coeficientes: 2.002154\n",
      "\n",
      "Executando combinação 82/96: {'sequence_length': 30, 'lstm_units': 128, 'dropout_rate': 0.1, 'learning_rate': 0.001, 'batch_size': 32, 'maxlags_var': 10}\n"
     ]
    },
    {
     "name": "stderr",
     "output_type": "stream",
     "text": [
      "c:\\Users\\FilipeAraujoXimenes\\anaconda3\\Lib\\site-packages\\keras\\src\\layers\\rnn\\rnn.py:204: UserWarning: Do not pass an `input_shape`/`input_dim` argument to a layer. When using Sequential models, prefer using an `Input(shape)` object as the first layer in the model instead.\n",
      "  super().__init__(**kwargs)\n"
     ]
    },
    {
     "name": "stdout",
     "output_type": "stream",
     "text": [
      "\u001b[1m175/175\u001b[0m \u001b[32m━━━━━━━━━━━━━━━━━━━━\u001b[0m\u001b[37m\u001b[0m \u001b[1m2s\u001b[0m 12ms/step\n",
      "NMSE médio do módulo dos coeficientes: 2.001847\n",
      "\n",
      "Executando combinação 83/96: {'sequence_length': 30, 'lstm_units': 128, 'dropout_rate': 0.1, 'learning_rate': 0.001, 'batch_size': 64, 'maxlags_var': 5}\n"
     ]
    },
    {
     "name": "stderr",
     "output_type": "stream",
     "text": [
      "c:\\Users\\FilipeAraujoXimenes\\anaconda3\\Lib\\site-packages\\keras\\src\\layers\\rnn\\rnn.py:204: UserWarning: Do not pass an `input_shape`/`input_dim` argument to a layer. When using Sequential models, prefer using an `Input(shape)` object as the first layer in the model instead.\n",
      "  super().__init__(**kwargs)\n"
     ]
    },
    {
     "name": "stdout",
     "output_type": "stream",
     "text": [
      "\u001b[1m175/175\u001b[0m \u001b[32m━━━━━━━━━━━━━━━━━━━━\u001b[0m\u001b[37m\u001b[0m \u001b[1m4s\u001b[0m 18ms/step\n",
      "NMSE médio do módulo dos coeficientes: 2.002477\n",
      "\n",
      "Executando combinação 84/96: {'sequence_length': 30, 'lstm_units': 128, 'dropout_rate': 0.1, 'learning_rate': 0.001, 'batch_size': 64, 'maxlags_var': 10}\n"
     ]
    },
    {
     "name": "stderr",
     "output_type": "stream",
     "text": [
      "c:\\Users\\FilipeAraujoXimenes\\anaconda3\\Lib\\site-packages\\keras\\src\\layers\\rnn\\rnn.py:204: UserWarning: Do not pass an `input_shape`/`input_dim` argument to a layer. When using Sequential models, prefer using an `Input(shape)` object as the first layer in the model instead.\n",
      "  super().__init__(**kwargs)\n"
     ]
    },
    {
     "name": "stdout",
     "output_type": "stream",
     "text": [
      "\u001b[1m175/175\u001b[0m \u001b[32m━━━━━━━━━━━━━━━━━━━━\u001b[0m\u001b[37m\u001b[0m \u001b[1m3s\u001b[0m 16ms/step\n",
      "NMSE médio do módulo dos coeficientes: 2.001890\n",
      "\n",
      "Executando combinação 85/96: {'sequence_length': 30, 'lstm_units': 128, 'dropout_rate': 0.1, 'learning_rate': 0.0005, 'batch_size': 32, 'maxlags_var': 5}\n"
     ]
    },
    {
     "name": "stderr",
     "output_type": "stream",
     "text": [
      "c:\\Users\\FilipeAraujoXimenes\\anaconda3\\Lib\\site-packages\\keras\\src\\layers\\rnn\\rnn.py:204: UserWarning: Do not pass an `input_shape`/`input_dim` argument to a layer. When using Sequential models, prefer using an `Input(shape)` object as the first layer in the model instead.\n",
      "  super().__init__(**kwargs)\n"
     ]
    },
    {
     "name": "stdout",
     "output_type": "stream",
     "text": [
      "\u001b[1m175/175\u001b[0m \u001b[32m━━━━━━━━━━━━━━━━━━━━\u001b[0m\u001b[37m\u001b[0m \u001b[1m3s\u001b[0m 18ms/step\n",
      "NMSE médio do módulo dos coeficientes: 2.002899\n",
      "\n",
      "Executando combinação 86/96: {'sequence_length': 30, 'lstm_units': 128, 'dropout_rate': 0.1, 'learning_rate': 0.0005, 'batch_size': 32, 'maxlags_var': 10}\n"
     ]
    },
    {
     "name": "stderr",
     "output_type": "stream",
     "text": [
      "c:\\Users\\FilipeAraujoXimenes\\anaconda3\\Lib\\site-packages\\keras\\src\\layers\\rnn\\rnn.py:204: UserWarning: Do not pass an `input_shape`/`input_dim` argument to a layer. When using Sequential models, prefer using an `Input(shape)` object as the first layer in the model instead.\n",
      "  super().__init__(**kwargs)\n"
     ]
    },
    {
     "name": "stdout",
     "output_type": "stream",
     "text": [
      "\u001b[1m175/175\u001b[0m \u001b[32m━━━━━━━━━━━━━━━━━━━━\u001b[0m\u001b[37m\u001b[0m \u001b[1m3s\u001b[0m 18ms/step\n",
      "NMSE médio do módulo dos coeficientes: 2.001844\n",
      "\n",
      "Executando combinação 87/96: {'sequence_length': 30, 'lstm_units': 128, 'dropout_rate': 0.1, 'learning_rate': 0.0005, 'batch_size': 64, 'maxlags_var': 5}\n"
     ]
    },
    {
     "name": "stderr",
     "output_type": "stream",
     "text": [
      "c:\\Users\\FilipeAraujoXimenes\\anaconda3\\Lib\\site-packages\\keras\\src\\layers\\rnn\\rnn.py:204: UserWarning: Do not pass an `input_shape`/`input_dim` argument to a layer. When using Sequential models, prefer using an `Input(shape)` object as the first layer in the model instead.\n",
      "  super().__init__(**kwargs)\n"
     ]
    },
    {
     "name": "stdout",
     "output_type": "stream",
     "text": [
      "\u001b[1m175/175\u001b[0m \u001b[32m━━━━━━━━━━━━━━━━━━━━\u001b[0m\u001b[37m\u001b[0m \u001b[1m2s\u001b[0m 11ms/step\n",
      "NMSE médio do módulo dos coeficientes: 2.002710\n",
      "\n",
      "Executando combinação 88/96: {'sequence_length': 30, 'lstm_units': 128, 'dropout_rate': 0.1, 'learning_rate': 0.0005, 'batch_size': 64, 'maxlags_var': 10}\n"
     ]
    },
    {
     "name": "stderr",
     "output_type": "stream",
     "text": [
      "c:\\Users\\FilipeAraujoXimenes\\anaconda3\\Lib\\site-packages\\keras\\src\\layers\\rnn\\rnn.py:204: UserWarning: Do not pass an `input_shape`/`input_dim` argument to a layer. When using Sequential models, prefer using an `Input(shape)` object as the first layer in the model instead.\n",
      "  super().__init__(**kwargs)\n"
     ]
    },
    {
     "name": "stdout",
     "output_type": "stream",
     "text": [
      "\u001b[1m175/175\u001b[0m \u001b[32m━━━━━━━━━━━━━━━━━━━━\u001b[0m\u001b[37m\u001b[0m \u001b[1m2s\u001b[0m 12ms/step\n",
      "NMSE médio do módulo dos coeficientes: 2.001338\n",
      "\n",
      "Executando combinação 89/96: {'sequence_length': 30, 'lstm_units': 128, 'dropout_rate': 0.2, 'learning_rate': 0.001, 'batch_size': 32, 'maxlags_var': 5}\n"
     ]
    },
    {
     "name": "stderr",
     "output_type": "stream",
     "text": [
      "c:\\Users\\FilipeAraujoXimenes\\anaconda3\\Lib\\site-packages\\keras\\src\\layers\\rnn\\rnn.py:204: UserWarning: Do not pass an `input_shape`/`input_dim` argument to a layer. When using Sequential models, prefer using an `Input(shape)` object as the first layer in the model instead.\n",
      "  super().__init__(**kwargs)\n"
     ]
    },
    {
     "name": "stdout",
     "output_type": "stream",
     "text": [
      "\u001b[1m175/175\u001b[0m \u001b[32m━━━━━━━━━━━━━━━━━━━━\u001b[0m\u001b[37m\u001b[0m \u001b[1m3s\u001b[0m 14ms/step\n",
      "NMSE médio do módulo dos coeficientes: 2.002114\n",
      "\n",
      "Executando combinação 90/96: {'sequence_length': 30, 'lstm_units': 128, 'dropout_rate': 0.2, 'learning_rate': 0.001, 'batch_size': 32, 'maxlags_var': 10}\n"
     ]
    },
    {
     "name": "stderr",
     "output_type": "stream",
     "text": [
      "c:\\Users\\FilipeAraujoXimenes\\anaconda3\\Lib\\site-packages\\keras\\src\\layers\\rnn\\rnn.py:204: UserWarning: Do not pass an `input_shape`/`input_dim` argument to a layer. When using Sequential models, prefer using an `Input(shape)` object as the first layer in the model instead.\n",
      "  super().__init__(**kwargs)\n"
     ]
    },
    {
     "name": "stdout",
     "output_type": "stream",
     "text": [
      "\u001b[1m175/175\u001b[0m \u001b[32m━━━━━━━━━━━━━━━━━━━━\u001b[0m\u001b[37m\u001b[0m \u001b[1m3s\u001b[0m 17ms/step\n",
      "NMSE médio do módulo dos coeficientes: 2.001756\n",
      "\n",
      "Executando combinação 91/96: {'sequence_length': 30, 'lstm_units': 128, 'dropout_rate': 0.2, 'learning_rate': 0.001, 'batch_size': 64, 'maxlags_var': 5}\n"
     ]
    },
    {
     "name": "stderr",
     "output_type": "stream",
     "text": [
      "c:\\Users\\FilipeAraujoXimenes\\anaconda3\\Lib\\site-packages\\keras\\src\\layers\\rnn\\rnn.py:204: UserWarning: Do not pass an `input_shape`/`input_dim` argument to a layer. When using Sequential models, prefer using an `Input(shape)` object as the first layer in the model instead.\n",
      "  super().__init__(**kwargs)\n"
     ]
    },
    {
     "name": "stdout",
     "output_type": "stream",
     "text": [
      "\u001b[1m175/175\u001b[0m \u001b[32m━━━━━━━━━━━━━━━━━━━━\u001b[0m\u001b[37m\u001b[0m \u001b[1m4s\u001b[0m 20ms/step\n",
      "NMSE médio do módulo dos coeficientes: 2.002013\n",
      "\n",
      "Executando combinação 92/96: {'sequence_length': 30, 'lstm_units': 128, 'dropout_rate': 0.2, 'learning_rate': 0.001, 'batch_size': 64, 'maxlags_var': 10}\n"
     ]
    },
    {
     "name": "stderr",
     "output_type": "stream",
     "text": [
      "c:\\Users\\FilipeAraujoXimenes\\anaconda3\\Lib\\site-packages\\keras\\src\\layers\\rnn\\rnn.py:204: UserWarning: Do not pass an `input_shape`/`input_dim` argument to a layer. When using Sequential models, prefer using an `Input(shape)` object as the first layer in the model instead.\n",
      "  super().__init__(**kwargs)\n"
     ]
    },
    {
     "name": "stdout",
     "output_type": "stream",
     "text": [
      "\u001b[1m175/175\u001b[0m \u001b[32m━━━━━━━━━━━━━━━━━━━━\u001b[0m\u001b[37m\u001b[0m \u001b[1m2s\u001b[0m 12ms/step\n",
      "NMSE médio do módulo dos coeficientes: 2.001222\n",
      "\n",
      "Executando combinação 93/96: {'sequence_length': 30, 'lstm_units': 128, 'dropout_rate': 0.2, 'learning_rate': 0.0005, 'batch_size': 32, 'maxlags_var': 5}\n"
     ]
    },
    {
     "name": "stderr",
     "output_type": "stream",
     "text": [
      "c:\\Users\\FilipeAraujoXimenes\\anaconda3\\Lib\\site-packages\\keras\\src\\layers\\rnn\\rnn.py:204: UserWarning: Do not pass an `input_shape`/`input_dim` argument to a layer. When using Sequential models, prefer using an `Input(shape)` object as the first layer in the model instead.\n",
      "  super().__init__(**kwargs)\n"
     ]
    },
    {
     "name": "stdout",
     "output_type": "stream",
     "text": [
      "\u001b[1m175/175\u001b[0m \u001b[32m━━━━━━━━━━━━━━━━━━━━\u001b[0m\u001b[37m\u001b[0m \u001b[1m3s\u001b[0m 15ms/step\n",
      "NMSE médio do módulo dos coeficientes: 2.001453\n",
      "\n",
      "Executando combinação 94/96: {'sequence_length': 30, 'lstm_units': 128, 'dropout_rate': 0.2, 'learning_rate': 0.0005, 'batch_size': 32, 'maxlags_var': 10}\n"
     ]
    },
    {
     "name": "stderr",
     "output_type": "stream",
     "text": [
      "c:\\Users\\FilipeAraujoXimenes\\anaconda3\\Lib\\site-packages\\keras\\src\\layers\\rnn\\rnn.py:204: UserWarning: Do not pass an `input_shape`/`input_dim` argument to a layer. When using Sequential models, prefer using an `Input(shape)` object as the first layer in the model instead.\n",
      "  super().__init__(**kwargs)\n"
     ]
    },
    {
     "name": "stdout",
     "output_type": "stream",
     "text": [
      "\u001b[1m175/175\u001b[0m \u001b[32m━━━━━━━━━━━━━━━━━━━━\u001b[0m\u001b[37m\u001b[0m \u001b[1m3s\u001b[0m 18ms/step\n",
      "NMSE médio do módulo dos coeficientes: 2.001674\n",
      "\n",
      "Executando combinação 95/96: {'sequence_length': 30, 'lstm_units': 128, 'dropout_rate': 0.2, 'learning_rate': 0.0005, 'batch_size': 64, 'maxlags_var': 5}\n"
     ]
    },
    {
     "name": "stderr",
     "output_type": "stream",
     "text": [
      "c:\\Users\\FilipeAraujoXimenes\\anaconda3\\Lib\\site-packages\\keras\\src\\layers\\rnn\\rnn.py:204: UserWarning: Do not pass an `input_shape`/`input_dim` argument to a layer. When using Sequential models, prefer using an `Input(shape)` object as the first layer in the model instead.\n",
      "  super().__init__(**kwargs)\n"
     ]
    },
    {
     "name": "stdout",
     "output_type": "stream",
     "text": [
      "\u001b[1m175/175\u001b[0m \u001b[32m━━━━━━━━━━━━━━━━━━━━\u001b[0m\u001b[37m\u001b[0m \u001b[1m3s\u001b[0m 18ms/step\n",
      "NMSE médio do módulo dos coeficientes: 2.001613\n",
      "\n",
      "Executando combinação 96/96: {'sequence_length': 30, 'lstm_units': 128, 'dropout_rate': 0.2, 'learning_rate': 0.0005, 'batch_size': 64, 'maxlags_var': 10}\n"
     ]
    },
    {
     "name": "stderr",
     "output_type": "stream",
     "text": [
      "c:\\Users\\FilipeAraujoXimenes\\anaconda3\\Lib\\site-packages\\keras\\src\\layers\\rnn\\rnn.py:204: UserWarning: Do not pass an `input_shape`/`input_dim` argument to a layer. When using Sequential models, prefer using an `Input(shape)` object as the first layer in the model instead.\n",
      "  super().__init__(**kwargs)\n"
     ]
    },
    {
     "name": "stdout",
     "output_type": "stream",
     "text": [
      "\u001b[1m175/175\u001b[0m \u001b[32m━━━━━━━━━━━━━━━━━━━━\u001b[0m\u001b[37m\u001b[0m \u001b[1m2s\u001b[0m 10ms/step\n",
      "NMSE médio do módulo dos coeficientes: 2.000933\n",
      "\n",
      "Melhores hiperparâmetros: SeqLen:10_Units:64_Dropout:0.1_LR:0.001_Batch:32_VARLag:5 com NMSE: 1.912344\n"
     ]
    }
   ],
   "source": [
    "# Grid Search para o modelo LSTM + VAR\n",
    "\n",
    "import numpy as np\n",
    "import scipy.io as sio\n",
    "import os\n",
    "from tensorflow.keras.models import Sequential\n",
    "from tensorflow.keras.layers import LSTM, Dense, Dropout\n",
    "from tensorflow.keras.optimizers import Adam\n",
    "from tensorflow.keras.callbacks import EarlyStopping\n",
    "from sklearn.metrics import mean_squared_error\n",
    "from sklearn.preprocessing import MinMaxScaler\n",
    "from statsmodels.tsa.api import VAR\n",
    "\n",
    "# Definir os hiperparâmetros a serem testados\n",
    "hyperparams_grid = {\n",
    "    'sequence_length': [10, 20, 30],    # 3 opções\n",
    "    'lstm_units': [64, 128],           # 2 opções\n",
    "    'dropout_rate': [0.1, 0.2],         # 2 opções\n",
    "    'learning_rate': [0.001, 0.0005],  # 2 opções\n",
    "    'batch_size': [32, 64],             # 2 opções\n",
    "    'maxlags_var': [5, 10]              # 2 opções\n",
    "}\n",
    "\n",
    "# Carregar os dados\n",
    "file_path_temp_coefs = \"temp_coefs.mat\"\n",
    "file_path_spatial_modes = \"spatial_modes.mat\"\n",
    "file_path_mean_flow = \"mean_flow.mat\"\n",
    "file_path_parameters = \"parameters.mat\"\n",
    "\n",
    "mat_data_temp = sio.loadmat(file_path_temp_coefs)\n",
    "coefs = mat_data_temp['coefs']\n",
    "phi = sio.loadmat(file_path_spatial_modes)['phi']\n",
    "y_positions = sio.loadmat(file_path_mean_flow)['y'].flatten()\n",
    "Xavg = sio.loadmat(file_path_mean_flow)['Xavg'].flatten()\n",
    "nmodos_pod = sio.loadmat(file_path_parameters)['nmodes']\n",
    "\n",
    "# Definir o número de coeficientes a serem utilizados\n",
    "num_coefs = 20  # Usando 20 coeficientes\n",
    "print(f\"Número total de modos utilizados: {num_coefs}\")\n",
    "\n",
    "# Separar os coeficientes em parte real e imaginária\n",
    "real_coefs = np.real(coefs[:num_coefs, :])\n",
    "imag_coefs = np.imag(coefs[:num_coefs, :])\n",
    "\n",
    "# Divisão dos dados\n",
    "first_interval_end = 4801\n",
    "real_coefs_train = real_coefs[:, :first_interval_end:2]\n",
    "imag_coefs_train = imag_coefs[:, :first_interval_end:2]\n",
    "real_coefs_val = real_coefs[:, first_interval_end:]\n",
    "imag_coefs_val = imag_coefs[:, first_interval_end:]\n",
    "\n",
    "# Normalização\n",
    "num_total_coefs = num_coefs * 2\n",
    "scalers = []\n",
    "\n",
    "coefs_train = np.vstack([real_coefs_train, imag_coefs_train])\n",
    "coefs_val = np.vstack([real_coefs_val, imag_coefs_val])\n",
    "coefs_train_normalized = np.zeros_like(coefs_train)\n",
    "coefs_val_normalized = np.zeros_like(coefs_val)\n",
    "\n",
    "for i in range(num_total_coefs):\n",
    "    scaler_coef = MinMaxScaler(feature_range=(-1, 1))\n",
    "    coefs_train_normalized[i, :] = scaler_coef.fit_transform(coefs_train[i, :].reshape(-1, 1)).flatten()\n",
    "    coefs_val_normalized[i, :] = scaler_coef.transform(coefs_val[i, :].reshape(-1, 1)).flatten()\n",
    "    scalers.append(scaler_coef)\n",
    "\n",
    "def create_sequences(real_coefs_norm, imag_coefs_norm, seq_length):\n",
    "    X, y = [], []\n",
    "    num_samples = real_coefs_norm.shape[1] - seq_length\n",
    "    for i in range(num_samples):\n",
    "        X_seq_real = real_coefs_norm[:, i:i+seq_length]\n",
    "        X_seq_imag = imag_coefs_norm[:, i:i+seq_length]\n",
    "        X_seq = np.vstack([X_seq_real, X_seq_imag])\n",
    "        X.append(X_seq)\n",
    "        y_real = real_coefs_norm[:, i+seq_length]\n",
    "        y_imag = imag_coefs_norm[:, i+seq_length]\n",
    "        y_seq = np.hstack([y_real, y_imag])\n",
    "        y.append(y_seq)\n",
    "    X = np.array(X).transpose(0, 2, 1)\n",
    "    y = np.array(y)\n",
    "    return X, y\n",
    "\n",
    "\n",
    "# Dicionário para armazenar os resultados\n",
    "results = {}\n",
    "\n",
    "from itertools import product\n",
    "\n",
    "keys = hyperparams_grid.keys()\n",
    "values = (hyperparams_grid[key] for key in keys)\n",
    "\n",
    "total_combinations = np.prod([len(v) for v in hyperparams_grid.values()])\n",
    "print(f\"Total de combinações de hiperparâmetros: {total_combinations}\")\n",
    "\n",
    "combination_index = 1\n",
    "\n",
    "for hp_values in product(*values):\n",
    "    hyperparams = dict(zip(keys, hp_values))\n",
    "    sequence_length = hyperparams['sequence_length']\n",
    "    lstm_units = hyperparams['lstm_units']\n",
    "    dropout_rate = hyperparams['dropout_rate']\n",
    "    learning_rate = hyperparams['learning_rate']\n",
    "    batch_size = hyperparams['batch_size']\n",
    "    maxlags_var = hyperparams['maxlags_var']\n",
    "\n",
    "    print(f\"\\nExecutando combinação {combination_index}/{total_combinations}: {hyperparams}\")\n",
    "    combination_index += 1\n",
    "\n",
    "    # Criar sequências\n",
    "    X_train, y_train = create_sequences(coefs_train_normalized[:num_coefs, :], coefs_train_normalized[num_coefs:, :], sequence_length)\n",
    "    X_val, y_val = create_sequences(coefs_val_normalized[:num_coefs, :], coefs_val_normalized[num_coefs:, :], sequence_length)\n",
    "\n",
    "    # Verificar se há dados suficientes\n",
    "    if X_train.shape[0] == 0 or X_val.shape[0] == 0:\n",
    "        print(\"Dados insuficientes para a sequência atual. Pulando para a próxima combinação.\")\n",
    "        continue\n",
    "\n",
    "    # Definir o modelo LSTM\n",
    "    model = Sequential()\n",
    "    model.add(LSTM(lstm_units, input_shape=(X_train.shape[1], X_train.shape[2])))\n",
    "    model.add(Dropout(dropout_rate))\n",
    "    model.add(Dense(num_total_coefs))\n",
    "    model.compile(optimizer=Adam(learning_rate=learning_rate), loss='mean_squared_error')\n",
    "\n",
    "    # Treinar o modelo\n",
    "    early_stopping = EarlyStopping(monitor='val_loss', patience=5, restore_best_weights=True)\n",
    "    history = model.fit(X_train, y_train, epochs=50, batch_size=batch_size, validation_data=(X_val, y_val),\n",
    "                        callbacks=[early_stopping], verbose=0)\n",
    "\n",
    "    # Previsões LSTM\n",
    "    lstm_predictions_normalized = model.predict(X_val)\n",
    "    lstm_predictions = np.zeros_like(lstm_predictions_normalized)\n",
    "    y_val_original = np.zeros_like(y_val)\n",
    "    for i in range(num_total_coefs):\n",
    "        scaler = scalers[i]\n",
    "        lstm_predictions[:, i] = scaler.inverse_transform(lstm_predictions_normalized[:, i].reshape(-1, 1)).flatten()\n",
    "        y_val_original[:, i] = scaler.inverse_transform(y_val[:, i].reshape(-1, 1)).flatten()\n",
    "\n",
    "    # Calcular resíduos\n",
    "    residuals = y_val_original - lstm_predictions\n",
    "\n",
    "    # Ajustar VAR nos resíduos\n",
    "    model_var = VAR(residuals)\n",
    "    results_aic = model_var.select_order(maxlags=maxlags_var)\n",
    "    selected_lag = results_aic.aic if results_aic.aic is not None else maxlags_var\n",
    "    model_var_fitted = model_var.fit(selected_lag)\n",
    "\n",
    "    # Previsões VAR nos resíduos\n",
    "    var_residuals_pred = model_var_fitted.fittedvalues\n",
    "    var_residuals_pred = np.vstack([np.zeros((selected_lag, num_total_coefs)), var_residuals_pred])\n",
    "\n",
    "    # Previsão final\n",
    "    final_predictions = lstm_predictions[selected_lag:] + var_residuals_pred[selected_lag:]\n",
    "    actual_values = y_val_original[selected_lag + sequence_length:]\n",
    "\n",
    "    # Ajuste de dimensões\n",
    "    min_length = min(final_predictions.shape[0], actual_values.shape[0])\n",
    "    final_predictions = final_predictions[:min_length]\n",
    "    actual_values = actual_values[:min_length]\n",
    "\n",
    "    # Separar as partes real e imaginária\n",
    "    pred_real = final_predictions[:, :num_coefs]\n",
    "    pred_imag = final_predictions[:, num_coefs:]\n",
    "    actual_real = actual_values[:, :num_coefs]\n",
    "    actual_imag = actual_values[:, num_coefs:]\n",
    "\n",
    "    # Cálculo do NMSE\n",
    "    actual_modulus = np.sqrt(actual_real**2 + actual_imag**2)\n",
    "    predicted_modulus = np.sqrt(pred_real**2 + pred_imag**2)\n",
    "\n",
    "    nmse_modulus = []\n",
    "    for c in range(num_coefs):\n",
    "        mse = mean_squared_error(actual_modulus[:, c], predicted_modulus[:, c])\n",
    "        variance = np.var(actual_modulus[:, c])\n",
    "        nmse = mse / variance if variance != 0 else np.nan\n",
    "        nmse_modulus.append(nmse)\n",
    "\n",
    "    average_nmse_modulus = np.nanmean(nmse_modulus)\n",
    "\n",
    "    # Salvar resultados\n",
    "    result_key = f\"SeqLen:{sequence_length}_Units:{lstm_units}_Dropout:{dropout_rate}_LR:{learning_rate}_Batch:{batch_size}_VARLag:{selected_lag}\"\n",
    "    results[result_key] = average_nmse_modulus\n",
    "    print(f\"NMSE médio do módulo dos coeficientes: {average_nmse_modulus:.6f}\")\n",
    "\n",
    "# Salvar os resultados em um arquivo\n",
    "import pickle\n",
    "with open('grid_search_results_lstm_var.pkl', 'wb') as f:\n",
    "    pickle.dump(results, f)\n",
    "\n",
    "# Encontrar a melhor combinação de hiperparâmetros\n",
    "best_params = min(results, key=results.get)\n",
    "print(f\"\\nMelhores hiperparâmetros: {best_params} com NMSE: {results[best_params]:.6f}\")\n"
   ]
  },
  {
   "cell_type": "markdown",
   "metadata": {},
   "source": [
    "Modelo 4: LSTM + CNN + VAR"
   ]
  },
  {
   "cell_type": "code",
   "execution_count": 2,
   "metadata": {},
   "outputs": [
    {
     "name": "stdout",
     "output_type": "stream",
     "text": [
      "Número total de modos utilizados: 20\n",
      "Total de combinações de hiperparâmetros: 96\n",
      "\n",
      "Executando combinação 1/96: {'sequence_length': 10, 'lstm_units': 64, 'conv_filters': [32, 16], 'kernel_size': 3, 'dropout_rate': 0.1, 'learning_rate': 0.001, 'batch_size': 32, 'maxlags_var': 5}\n",
      "\u001b[1m175/175\u001b[0m \u001b[32m━━━━━━━━━━━━━━━━━━━━\u001b[0m\u001b[37m\u001b[0m \u001b[1m1s\u001b[0m 5ms/step\n",
      "NMSE médio do módulo dos coeficientes: 1.907957\n",
      "\n",
      "Executando combinação 2/96: {'sequence_length': 10, 'lstm_units': 64, 'conv_filters': [32, 16], 'kernel_size': 3, 'dropout_rate': 0.1, 'learning_rate': 0.001, 'batch_size': 32, 'maxlags_var': 10}\n",
      "\u001b[1m175/175\u001b[0m \u001b[32m━━━━━━━━━━━━━━━━━━━━\u001b[0m\u001b[37m\u001b[0m \u001b[1m2s\u001b[0m 9ms/step\n",
      "NMSE médio do módulo dos coeficientes: 1.908020\n",
      "\n",
      "Executando combinação 3/96: {'sequence_length': 10, 'lstm_units': 64, 'conv_filters': [32, 16], 'kernel_size': 3, 'dropout_rate': 0.1, 'learning_rate': 0.001, 'batch_size': 64, 'maxlags_var': 5}\n",
      "\u001b[1m175/175\u001b[0m \u001b[32m━━━━━━━━━━━━━━━━━━━━\u001b[0m\u001b[37m\u001b[0m \u001b[1m2s\u001b[0m 8ms/step\n",
      "NMSE médio do módulo dos coeficientes: 1.910074\n",
      "\n",
      "Executando combinação 4/96: {'sequence_length': 10, 'lstm_units': 64, 'conv_filters': [32, 16], 'kernel_size': 3, 'dropout_rate': 0.1, 'learning_rate': 0.001, 'batch_size': 64, 'maxlags_var': 10}\n",
      "\u001b[1m175/175\u001b[0m \u001b[32m━━━━━━━━━━━━━━━━━━━━\u001b[0m\u001b[37m\u001b[0m \u001b[1m3s\u001b[0m 12ms/step\n",
      "NMSE médio do módulo dos coeficientes: 1.910012\n",
      "\n",
      "Executando combinação 5/96: {'sequence_length': 10, 'lstm_units': 64, 'conv_filters': [32, 16], 'kernel_size': 3, 'dropout_rate': 0.1, 'learning_rate': 0.0005, 'batch_size': 32, 'maxlags_var': 5}\n",
      "\u001b[1m175/175\u001b[0m \u001b[32m━━━━━━━━━━━━━━━━━━━━\u001b[0m\u001b[37m\u001b[0m \u001b[1m1s\u001b[0m 5ms/step\n",
      "NMSE médio do módulo dos coeficientes: 1.908941\n",
      "\n",
      "Executando combinação 6/96: {'sequence_length': 10, 'lstm_units': 64, 'conv_filters': [32, 16], 'kernel_size': 3, 'dropout_rate': 0.1, 'learning_rate': 0.0005, 'batch_size': 32, 'maxlags_var': 10}\n",
      "\u001b[1m175/175\u001b[0m \u001b[32m━━━━━━━━━━━━━━━━━━━━\u001b[0m\u001b[37m\u001b[0m \u001b[1m1s\u001b[0m 5ms/step\n",
      "NMSE médio do módulo dos coeficientes: 1.910144\n",
      "\n",
      "Executando combinação 7/96: {'sequence_length': 10, 'lstm_units': 64, 'conv_filters': [32, 16], 'kernel_size': 3, 'dropout_rate': 0.1, 'learning_rate': 0.0005, 'batch_size': 64, 'maxlags_var': 5}\n",
      "\u001b[1m175/175\u001b[0m \u001b[32m━━━━━━━━━━━━━━━━━━━━\u001b[0m\u001b[37m\u001b[0m \u001b[1m1s\u001b[0m 7ms/step\n",
      "NMSE médio do módulo dos coeficientes: 1.909949\n",
      "\n",
      "Executando combinação 8/96: {'sequence_length': 10, 'lstm_units': 64, 'conv_filters': [32, 16], 'kernel_size': 3, 'dropout_rate': 0.1, 'learning_rate': 0.0005, 'batch_size': 64, 'maxlags_var': 10}\n",
      "\u001b[1m175/175\u001b[0m \u001b[32m━━━━━━━━━━━━━━━━━━━━\u001b[0m\u001b[37m\u001b[0m \u001b[1m2s\u001b[0m 11ms/step\n",
      "NMSE médio do módulo dos coeficientes: 1.910802\n",
      "\n",
      "Executando combinação 9/96: {'sequence_length': 10, 'lstm_units': 64, 'conv_filters': [32, 16], 'kernel_size': 3, 'dropout_rate': 0.2, 'learning_rate': 0.001, 'batch_size': 32, 'maxlags_var': 5}\n",
      "\u001b[1m175/175\u001b[0m \u001b[32m━━━━━━━━━━━━━━━━━━━━\u001b[0m\u001b[37m\u001b[0m \u001b[1m1s\u001b[0m 6ms/step\n",
      "NMSE médio do módulo dos coeficientes: 1.910839\n",
      "\n",
      "Executando combinação 10/96: {'sequence_length': 10, 'lstm_units': 64, 'conv_filters': [32, 16], 'kernel_size': 3, 'dropout_rate': 0.2, 'learning_rate': 0.001, 'batch_size': 32, 'maxlags_var': 10}\n",
      "\u001b[1m175/175\u001b[0m \u001b[32m━━━━━━━━━━━━━━━━━━━━\u001b[0m\u001b[37m\u001b[0m \u001b[1m2s\u001b[0m 6ms/step\n",
      "NMSE médio do módulo dos coeficientes: 1.911087\n",
      "\n",
      "Executando combinação 11/96: {'sequence_length': 10, 'lstm_units': 64, 'conv_filters': [32, 16], 'kernel_size': 3, 'dropout_rate': 0.2, 'learning_rate': 0.001, 'batch_size': 64, 'maxlags_var': 5}\n",
      "\u001b[1m175/175\u001b[0m \u001b[32m━━━━━━━━━━━━━━━━━━━━\u001b[0m\u001b[37m\u001b[0m \u001b[1m2s\u001b[0m 8ms/step\n",
      "NMSE médio do módulo dos coeficientes: 1.909722\n",
      "\n",
      "Executando combinação 12/96: {'sequence_length': 10, 'lstm_units': 64, 'conv_filters': [32, 16], 'kernel_size': 3, 'dropout_rate': 0.2, 'learning_rate': 0.001, 'batch_size': 64, 'maxlags_var': 10}\n",
      "\u001b[1m175/175\u001b[0m \u001b[32m━━━━━━━━━━━━━━━━━━━━\u001b[0m\u001b[37m\u001b[0m \u001b[1m1s\u001b[0m 6ms/step\n",
      "NMSE médio do módulo dos coeficientes: 1.910273\n",
      "\n",
      "Executando combinação 13/96: {'sequence_length': 10, 'lstm_units': 64, 'conv_filters': [32, 16], 'kernel_size': 3, 'dropout_rate': 0.2, 'learning_rate': 0.0005, 'batch_size': 32, 'maxlags_var': 5}\n",
      "\u001b[1m175/175\u001b[0m \u001b[32m━━━━━━━━━━━━━━━━━━━━\u001b[0m\u001b[37m\u001b[0m \u001b[1m2s\u001b[0m 8ms/step\n",
      "NMSE médio do módulo dos coeficientes: 1.910839\n",
      "\n",
      "Executando combinação 14/96: {'sequence_length': 10, 'lstm_units': 64, 'conv_filters': [32, 16], 'kernel_size': 3, 'dropout_rate': 0.2, 'learning_rate': 0.0005, 'batch_size': 32, 'maxlags_var': 10}\n",
      "\u001b[1m175/175\u001b[0m \u001b[32m━━━━━━━━━━━━━━━━━━━━\u001b[0m\u001b[37m\u001b[0m \u001b[1m2s\u001b[0m 7ms/step\n",
      "NMSE médio do módulo dos coeficientes: 1.911757\n",
      "\n",
      "Executando combinação 15/96: {'sequence_length': 10, 'lstm_units': 64, 'conv_filters': [32, 16], 'kernel_size': 3, 'dropout_rate': 0.2, 'learning_rate': 0.0005, 'batch_size': 64, 'maxlags_var': 5}\n",
      "\u001b[1m175/175\u001b[0m \u001b[32m━━━━━━━━━━━━━━━━━━━━\u001b[0m\u001b[37m\u001b[0m \u001b[1m3s\u001b[0m 11ms/step\n",
      "NMSE médio do módulo dos coeficientes: 1.910086\n",
      "\n",
      "Executando combinação 16/96: {'sequence_length': 10, 'lstm_units': 64, 'conv_filters': [32, 16], 'kernel_size': 3, 'dropout_rate': 0.2, 'learning_rate': 0.0005, 'batch_size': 64, 'maxlags_var': 10}\n",
      "\u001b[1m175/175\u001b[0m \u001b[32m━━━━━━━━━━━━━━━━━━━━\u001b[0m\u001b[37m\u001b[0m \u001b[1m2s\u001b[0m 9ms/step\n",
      "NMSE médio do módulo dos coeficientes: 1.910283\n",
      "\n",
      "Executando combinação 17/96: {'sequence_length': 10, 'lstm_units': 128, 'conv_filters': [32, 16], 'kernel_size': 3, 'dropout_rate': 0.1, 'learning_rate': 0.001, 'batch_size': 32, 'maxlags_var': 5}\n",
      "\u001b[1m175/175\u001b[0m \u001b[32m━━━━━━━━━━━━━━━━━━━━\u001b[0m\u001b[37m\u001b[0m \u001b[1m3s\u001b[0m 15ms/step\n",
      "NMSE médio do módulo dos coeficientes: 1.911062\n",
      "\n",
      "Executando combinação 18/96: {'sequence_length': 10, 'lstm_units': 128, 'conv_filters': [32, 16], 'kernel_size': 3, 'dropout_rate': 0.1, 'learning_rate': 0.001, 'batch_size': 32, 'maxlags_var': 10}\n",
      "\u001b[1m175/175\u001b[0m \u001b[32m━━━━━━━━━━━━━━━━━━━━\u001b[0m\u001b[37m\u001b[0m \u001b[1m2s\u001b[0m 8ms/step\n",
      "NMSE médio do módulo dos coeficientes: 1.909912\n",
      "\n",
      "Executando combinação 19/96: {'sequence_length': 10, 'lstm_units': 128, 'conv_filters': [32, 16], 'kernel_size': 3, 'dropout_rate': 0.1, 'learning_rate': 0.001, 'batch_size': 64, 'maxlags_var': 5}\n",
      "\u001b[1m175/175\u001b[0m \u001b[32m━━━━━━━━━━━━━━━━━━━━\u001b[0m\u001b[37m\u001b[0m \u001b[1m2s\u001b[0m 8ms/step\n",
      "NMSE médio do módulo dos coeficientes: 1.910807\n",
      "\n",
      "Executando combinação 20/96: {'sequence_length': 10, 'lstm_units': 128, 'conv_filters': [32, 16], 'kernel_size': 3, 'dropout_rate': 0.1, 'learning_rate': 0.001, 'batch_size': 64, 'maxlags_var': 10}\n",
      "\u001b[1m175/175\u001b[0m \u001b[32m━━━━━━━━━━━━━━━━━━━━\u001b[0m\u001b[37m\u001b[0m \u001b[1m2s\u001b[0m 7ms/step\n",
      "NMSE médio do módulo dos coeficientes: 1.912171\n",
      "\n",
      "Executando combinação 21/96: {'sequence_length': 10, 'lstm_units': 128, 'conv_filters': [32, 16], 'kernel_size': 3, 'dropout_rate': 0.1, 'learning_rate': 0.0005, 'batch_size': 32, 'maxlags_var': 5}\n",
      "\u001b[1m175/175\u001b[0m \u001b[32m━━━━━━━━━━━━━━━━━━━━\u001b[0m\u001b[37m\u001b[0m \u001b[1m2s\u001b[0m 11ms/step\n",
      "NMSE médio do módulo dos coeficientes: 1.911772\n",
      "\n",
      "Executando combinação 22/96: {'sequence_length': 10, 'lstm_units': 128, 'conv_filters': [32, 16], 'kernel_size': 3, 'dropout_rate': 0.1, 'learning_rate': 0.0005, 'batch_size': 32, 'maxlags_var': 10}\n",
      "\u001b[1m175/175\u001b[0m \u001b[32m━━━━━━━━━━━━━━━━━━━━\u001b[0m\u001b[37m\u001b[0m \u001b[1m2s\u001b[0m 8ms/step\n",
      "NMSE médio do módulo dos coeficientes: 1.910655\n",
      "\n",
      "Executando combinação 23/96: {'sequence_length': 10, 'lstm_units': 128, 'conv_filters': [32, 16], 'kernel_size': 3, 'dropout_rate': 0.1, 'learning_rate': 0.0005, 'batch_size': 64, 'maxlags_var': 5}\n",
      "\u001b[1m175/175\u001b[0m \u001b[32m━━━━━━━━━━━━━━━━━━━━\u001b[0m\u001b[37m\u001b[0m \u001b[1m2s\u001b[0m 10ms/step\n",
      "NMSE médio do módulo dos coeficientes: 1.911337\n",
      "\n",
      "Executando combinação 24/96: {'sequence_length': 10, 'lstm_units': 128, 'conv_filters': [32, 16], 'kernel_size': 3, 'dropout_rate': 0.1, 'learning_rate': 0.0005, 'batch_size': 64, 'maxlags_var': 10}\n",
      "\u001b[1m175/175\u001b[0m \u001b[32m━━━━━━━━━━━━━━━━━━━━\u001b[0m\u001b[37m\u001b[0m \u001b[1m2s\u001b[0m 7ms/step\n",
      "NMSE médio do módulo dos coeficientes: 1.911507\n",
      "\n",
      "Executando combinação 25/96: {'sequence_length': 10, 'lstm_units': 128, 'conv_filters': [32, 16], 'kernel_size': 3, 'dropout_rate': 0.2, 'learning_rate': 0.001, 'batch_size': 32, 'maxlags_var': 5}\n",
      "\u001b[1m175/175\u001b[0m \u001b[32m━━━━━━━━━━━━━━━━━━━━\u001b[0m\u001b[37m\u001b[0m \u001b[1m1s\u001b[0m 7ms/step\n",
      "NMSE médio do módulo dos coeficientes: 1.909807\n",
      "\n",
      "Executando combinação 26/96: {'sequence_length': 10, 'lstm_units': 128, 'conv_filters': [32, 16], 'kernel_size': 3, 'dropout_rate': 0.2, 'learning_rate': 0.001, 'batch_size': 32, 'maxlags_var': 10}\n",
      "\u001b[1m175/175\u001b[0m \u001b[32m━━━━━━━━━━━━━━━━━━━━\u001b[0m\u001b[37m\u001b[0m \u001b[1m1s\u001b[0m 6ms/step\n",
      "NMSE médio do módulo dos coeficientes: 1.909949\n",
      "\n",
      "Executando combinação 27/96: {'sequence_length': 10, 'lstm_units': 128, 'conv_filters': [32, 16], 'kernel_size': 3, 'dropout_rate': 0.2, 'learning_rate': 0.001, 'batch_size': 64, 'maxlags_var': 5}\n",
      "\u001b[1m175/175\u001b[0m \u001b[32m━━━━━━━━━━━━━━━━━━━━\u001b[0m\u001b[37m\u001b[0m \u001b[1m3s\u001b[0m 14ms/step\n",
      "NMSE médio do módulo dos coeficientes: 1.909232\n",
      "\n",
      "Executando combinação 28/96: {'sequence_length': 10, 'lstm_units': 128, 'conv_filters': [32, 16], 'kernel_size': 3, 'dropout_rate': 0.2, 'learning_rate': 0.001, 'batch_size': 64, 'maxlags_var': 10}\n",
      "\u001b[1m175/175\u001b[0m \u001b[32m━━━━━━━━━━━━━━━━━━━━\u001b[0m\u001b[37m\u001b[0m \u001b[1m1s\u001b[0m 6ms/step\n",
      "NMSE médio do módulo dos coeficientes: 1.910002\n",
      "\n",
      "Executando combinação 29/96: {'sequence_length': 10, 'lstm_units': 128, 'conv_filters': [32, 16], 'kernel_size': 3, 'dropout_rate': 0.2, 'learning_rate': 0.0005, 'batch_size': 32, 'maxlags_var': 5}\n",
      "\u001b[1m175/175\u001b[0m \u001b[32m━━━━━━━━━━━━━━━━━━━━\u001b[0m\u001b[37m\u001b[0m \u001b[1m2s\u001b[0m 10ms/step\n",
      "NMSE médio do módulo dos coeficientes: 1.910292\n",
      "\n",
      "Executando combinação 30/96: {'sequence_length': 10, 'lstm_units': 128, 'conv_filters': [32, 16], 'kernel_size': 3, 'dropout_rate': 0.2, 'learning_rate': 0.0005, 'batch_size': 32, 'maxlags_var': 10}\n",
      "\u001b[1m175/175\u001b[0m \u001b[32m━━━━━━━━━━━━━━━━━━━━\u001b[0m\u001b[37m\u001b[0m \u001b[1m3s\u001b[0m 13ms/step\n",
      "NMSE médio do módulo dos coeficientes: 1.911386\n",
      "\n",
      "Executando combinação 31/96: {'sequence_length': 10, 'lstm_units': 128, 'conv_filters': [32, 16], 'kernel_size': 3, 'dropout_rate': 0.2, 'learning_rate': 0.0005, 'batch_size': 64, 'maxlags_var': 5}\n",
      "\u001b[1m175/175\u001b[0m \u001b[32m━━━━━━━━━━━━━━━━━━━━\u001b[0m\u001b[37m\u001b[0m \u001b[1m3s\u001b[0m 15ms/step\n",
      "NMSE médio do módulo dos coeficientes: 1.911020\n",
      "\n",
      "Executando combinação 32/96: {'sequence_length': 10, 'lstm_units': 128, 'conv_filters': [32, 16], 'kernel_size': 3, 'dropout_rate': 0.2, 'learning_rate': 0.0005, 'batch_size': 64, 'maxlags_var': 10}\n",
      "\u001b[1m175/175\u001b[0m \u001b[32m━━━━━━━━━━━━━━━━━━━━\u001b[0m\u001b[37m\u001b[0m \u001b[1m2s\u001b[0m 8ms/step\n",
      "NMSE médio do módulo dos coeficientes: 1.911656\n",
      "\n",
      "Executando combinação 33/96: {'sequence_length': 20, 'lstm_units': 64, 'conv_filters': [32, 16], 'kernel_size': 3, 'dropout_rate': 0.1, 'learning_rate': 0.001, 'batch_size': 32, 'maxlags_var': 5}\n",
      "\u001b[1m175/175\u001b[0m \u001b[32m━━━━━━━━━━━━━━━━━━━━\u001b[0m\u001b[37m\u001b[0m \u001b[1m2s\u001b[0m 9ms/step\n",
      "NMSE médio do módulo dos coeficientes: 1.976992\n",
      "\n",
      "Executando combinação 34/96: {'sequence_length': 20, 'lstm_units': 64, 'conv_filters': [32, 16], 'kernel_size': 3, 'dropout_rate': 0.1, 'learning_rate': 0.001, 'batch_size': 32, 'maxlags_var': 10}\n",
      "\u001b[1m175/175\u001b[0m \u001b[32m━━━━━━━━━━━━━━━━━━━━\u001b[0m\u001b[37m\u001b[0m \u001b[1m1s\u001b[0m 7ms/step\n",
      "NMSE médio do módulo dos coeficientes: 1.978228\n",
      "\n",
      "Executando combinação 35/96: {'sequence_length': 20, 'lstm_units': 64, 'conv_filters': [32, 16], 'kernel_size': 3, 'dropout_rate': 0.1, 'learning_rate': 0.001, 'batch_size': 64, 'maxlags_var': 5}\n",
      "\u001b[1m175/175\u001b[0m \u001b[32m━━━━━━━━━━━━━━━━━━━━\u001b[0m\u001b[37m\u001b[0m \u001b[1m2s\u001b[0m 8ms/step\n",
      "NMSE médio do módulo dos coeficientes: 1.977200\n",
      "\n",
      "Executando combinação 36/96: {'sequence_length': 20, 'lstm_units': 64, 'conv_filters': [32, 16], 'kernel_size': 3, 'dropout_rate': 0.1, 'learning_rate': 0.001, 'batch_size': 64, 'maxlags_var': 10}\n",
      "\u001b[1m175/175\u001b[0m \u001b[32m━━━━━━━━━━━━━━━━━━━━\u001b[0m\u001b[37m\u001b[0m \u001b[1m2s\u001b[0m 10ms/step\n",
      "NMSE médio do módulo dos coeficientes: 1.977522\n",
      "\n",
      "Executando combinação 37/96: {'sequence_length': 20, 'lstm_units': 64, 'conv_filters': [32, 16], 'kernel_size': 3, 'dropout_rate': 0.1, 'learning_rate': 0.0005, 'batch_size': 32, 'maxlags_var': 5}\n",
      "\u001b[1m175/175\u001b[0m \u001b[32m━━━━━━━━━━━━━━━━━━━━\u001b[0m\u001b[37m\u001b[0m \u001b[1m1s\u001b[0m 7ms/step\n",
      "NMSE médio do módulo dos coeficientes: 1.979440\n",
      "\n",
      "Executando combinação 38/96: {'sequence_length': 20, 'lstm_units': 64, 'conv_filters': [32, 16], 'kernel_size': 3, 'dropout_rate': 0.1, 'learning_rate': 0.0005, 'batch_size': 32, 'maxlags_var': 10}\n",
      "\u001b[1m175/175\u001b[0m \u001b[32m━━━━━━━━━━━━━━━━━━━━\u001b[0m\u001b[37m\u001b[0m \u001b[1m3s\u001b[0m 16ms/step\n",
      "NMSE médio do módulo dos coeficientes: 1.978391\n",
      "\n",
      "Executando combinação 39/96: {'sequence_length': 20, 'lstm_units': 64, 'conv_filters': [32, 16], 'kernel_size': 3, 'dropout_rate': 0.1, 'learning_rate': 0.0005, 'batch_size': 64, 'maxlags_var': 5}\n",
      "\u001b[1m175/175\u001b[0m \u001b[32m━━━━━━━━━━━━━━━━━━━━\u001b[0m\u001b[37m\u001b[0m \u001b[1m2s\u001b[0m 12ms/step\n",
      "NMSE médio do módulo dos coeficientes: 1.977955\n",
      "\n",
      "Executando combinação 40/96: {'sequence_length': 20, 'lstm_units': 64, 'conv_filters': [32, 16], 'kernel_size': 3, 'dropout_rate': 0.1, 'learning_rate': 0.0005, 'batch_size': 64, 'maxlags_var': 10}\n",
      "\u001b[1m175/175\u001b[0m \u001b[32m━━━━━━━━━━━━━━━━━━━━\u001b[0m\u001b[37m\u001b[0m \u001b[1m1s\u001b[0m 7ms/step\n",
      "NMSE médio do módulo dos coeficientes: 1.979395\n",
      "\n",
      "Executando combinação 41/96: {'sequence_length': 20, 'lstm_units': 64, 'conv_filters': [32, 16], 'kernel_size': 3, 'dropout_rate': 0.2, 'learning_rate': 0.001, 'batch_size': 32, 'maxlags_var': 5}\n",
      "\u001b[1m175/175\u001b[0m \u001b[32m━━━━━━━━━━━━━━━━━━━━\u001b[0m\u001b[37m\u001b[0m \u001b[1m1s\u001b[0m 7ms/step\n",
      "NMSE médio do módulo dos coeficientes: 1.979413\n",
      "\n",
      "Executando combinação 42/96: {'sequence_length': 20, 'lstm_units': 64, 'conv_filters': [32, 16], 'kernel_size': 3, 'dropout_rate': 0.2, 'learning_rate': 0.001, 'batch_size': 32, 'maxlags_var': 10}\n",
      "\u001b[1m175/175\u001b[0m \u001b[32m━━━━━━━━━━━━━━━━━━━━\u001b[0m\u001b[37m\u001b[0m \u001b[1m2s\u001b[0m 8ms/step\n",
      "NMSE médio do módulo dos coeficientes: 1.979889\n",
      "\n",
      "Executando combinação 43/96: {'sequence_length': 20, 'lstm_units': 64, 'conv_filters': [32, 16], 'kernel_size': 3, 'dropout_rate': 0.2, 'learning_rate': 0.001, 'batch_size': 64, 'maxlags_var': 5}\n",
      "\u001b[1m175/175\u001b[0m \u001b[32m━━━━━━━━━━━━━━━━━━━━\u001b[0m\u001b[37m\u001b[0m \u001b[1m1s\u001b[0m 7ms/step\n",
      "NMSE médio do módulo dos coeficientes: 1.980848\n",
      "\n",
      "Executando combinação 44/96: {'sequence_length': 20, 'lstm_units': 64, 'conv_filters': [32, 16], 'kernel_size': 3, 'dropout_rate': 0.2, 'learning_rate': 0.001, 'batch_size': 64, 'maxlags_var': 10}\n",
      "\u001b[1m175/175\u001b[0m \u001b[32m━━━━━━━━━━━━━━━━━━━━\u001b[0m\u001b[37m\u001b[0m \u001b[1m2s\u001b[0m 10ms/step\n",
      "NMSE médio do módulo dos coeficientes: 1.979668\n",
      "\n",
      "Executando combinação 45/96: {'sequence_length': 20, 'lstm_units': 64, 'conv_filters': [32, 16], 'kernel_size': 3, 'dropout_rate': 0.2, 'learning_rate': 0.0005, 'batch_size': 32, 'maxlags_var': 5}\n",
      "\u001b[1m175/175\u001b[0m \u001b[32m━━━━━━━━━━━━━━━━━━━━\u001b[0m\u001b[37m\u001b[0m \u001b[1m2s\u001b[0m 13ms/step\n",
      "NMSE médio do módulo dos coeficientes: 1.979544\n",
      "\n",
      "Executando combinação 46/96: {'sequence_length': 20, 'lstm_units': 64, 'conv_filters': [32, 16], 'kernel_size': 3, 'dropout_rate': 0.2, 'learning_rate': 0.0005, 'batch_size': 32, 'maxlags_var': 10}\n",
      "\u001b[1m175/175\u001b[0m \u001b[32m━━━━━━━━━━━━━━━━━━━━\u001b[0m\u001b[37m\u001b[0m \u001b[1m2s\u001b[0m 11ms/step\n",
      "NMSE médio do módulo dos coeficientes: 1.981067\n",
      "\n",
      "Executando combinação 47/96: {'sequence_length': 20, 'lstm_units': 64, 'conv_filters': [32, 16], 'kernel_size': 3, 'dropout_rate': 0.2, 'learning_rate': 0.0005, 'batch_size': 64, 'maxlags_var': 5}\n",
      "\u001b[1m175/175\u001b[0m \u001b[32m━━━━━━━━━━━━━━━━━━━━\u001b[0m\u001b[37m\u001b[0m \u001b[1m3s\u001b[0m 15ms/step\n",
      "NMSE médio do módulo dos coeficientes: 1.979092\n",
      "\n",
      "Executando combinação 48/96: {'sequence_length': 20, 'lstm_units': 64, 'conv_filters': [32, 16], 'kernel_size': 3, 'dropout_rate': 0.2, 'learning_rate': 0.0005, 'batch_size': 64, 'maxlags_var': 10}\n",
      "\u001b[1m175/175\u001b[0m \u001b[32m━━━━━━━━━━━━━━━━━━━━\u001b[0m\u001b[37m\u001b[0m \u001b[1m2s\u001b[0m 10ms/step\n",
      "NMSE médio do módulo dos coeficientes: 1.980019\n",
      "\n",
      "Executando combinação 49/96: {'sequence_length': 20, 'lstm_units': 128, 'conv_filters': [32, 16], 'kernel_size': 3, 'dropout_rate': 0.1, 'learning_rate': 0.001, 'batch_size': 32, 'maxlags_var': 5}\n",
      "\u001b[1m175/175\u001b[0m \u001b[32m━━━━━━━━━━━━━━━━━━━━\u001b[0m\u001b[37m\u001b[0m \u001b[1m3s\u001b[0m 12ms/step\n",
      "NMSE médio do módulo dos coeficientes: 1.981049\n",
      "\n",
      "Executando combinação 50/96: {'sequence_length': 20, 'lstm_units': 128, 'conv_filters': [32, 16], 'kernel_size': 3, 'dropout_rate': 0.1, 'learning_rate': 0.001, 'batch_size': 32, 'maxlags_var': 10}\n",
      "\u001b[1m175/175\u001b[0m \u001b[32m━━━━━━━━━━━━━━━━━━━━\u001b[0m\u001b[37m\u001b[0m \u001b[1m3s\u001b[0m 16ms/step\n",
      "NMSE médio do módulo dos coeficientes: 1.981404\n",
      "\n",
      "Executando combinação 51/96: {'sequence_length': 20, 'lstm_units': 128, 'conv_filters': [32, 16], 'kernel_size': 3, 'dropout_rate': 0.1, 'learning_rate': 0.001, 'batch_size': 64, 'maxlags_var': 5}\n",
      "\u001b[1m175/175\u001b[0m \u001b[32m━━━━━━━━━━━━━━━━━━━━\u001b[0m\u001b[37m\u001b[0m \u001b[1m3s\u001b[0m 16ms/step\n",
      "NMSE médio do módulo dos coeficientes: 1.979987\n",
      "\n",
      "Executando combinação 52/96: {'sequence_length': 20, 'lstm_units': 128, 'conv_filters': [32, 16], 'kernel_size': 3, 'dropout_rate': 0.1, 'learning_rate': 0.001, 'batch_size': 64, 'maxlags_var': 10}\n",
      "\u001b[1m175/175\u001b[0m \u001b[32m━━━━━━━━━━━━━━━━━━━━\u001b[0m\u001b[37m\u001b[0m \u001b[1m3s\u001b[0m 13ms/step\n",
      "NMSE médio do módulo dos coeficientes: 1.981255\n",
      "\n",
      "Executando combinação 53/96: {'sequence_length': 20, 'lstm_units': 128, 'conv_filters': [32, 16], 'kernel_size': 3, 'dropout_rate': 0.1, 'learning_rate': 0.0005, 'batch_size': 32, 'maxlags_var': 5}\n",
      "\u001b[1m175/175\u001b[0m \u001b[32m━━━━━━━━━━━━━━━━━━━━\u001b[0m\u001b[37m\u001b[0m \u001b[1m3s\u001b[0m 15ms/step\n",
      "NMSE médio do módulo dos coeficientes: 1.980401\n",
      "\n",
      "Executando combinação 54/96: {'sequence_length': 20, 'lstm_units': 128, 'conv_filters': [32, 16], 'kernel_size': 3, 'dropout_rate': 0.1, 'learning_rate': 0.0005, 'batch_size': 32, 'maxlags_var': 10}\n",
      "\u001b[1m175/175\u001b[0m \u001b[32m━━━━━━━━━━━━━━━━━━━━\u001b[0m\u001b[37m\u001b[0m \u001b[1m3s\u001b[0m 14ms/step\n",
      "NMSE médio do módulo dos coeficientes: 1.982610\n",
      "\n",
      "Executando combinação 55/96: {'sequence_length': 20, 'lstm_units': 128, 'conv_filters': [32, 16], 'kernel_size': 3, 'dropout_rate': 0.1, 'learning_rate': 0.0005, 'batch_size': 64, 'maxlags_var': 5}\n",
      "\u001b[1m175/175\u001b[0m \u001b[32m━━━━━━━━━━━━━━━━━━━━\u001b[0m\u001b[37m\u001b[0m \u001b[1m4s\u001b[0m 17ms/step\n",
      "NMSE médio do módulo dos coeficientes: 1.979811\n",
      "\n",
      "Executando combinação 56/96: {'sequence_length': 20, 'lstm_units': 128, 'conv_filters': [32, 16], 'kernel_size': 3, 'dropout_rate': 0.1, 'learning_rate': 0.0005, 'batch_size': 64, 'maxlags_var': 10}\n",
      "\u001b[1m175/175\u001b[0m \u001b[32m━━━━━━━━━━━━━━━━━━━━\u001b[0m\u001b[37m\u001b[0m \u001b[1m4s\u001b[0m 20ms/step\n",
      "NMSE médio do módulo dos coeficientes: 1.978941\n",
      "\n",
      "Executando combinação 57/96: {'sequence_length': 20, 'lstm_units': 128, 'conv_filters': [32, 16], 'kernel_size': 3, 'dropout_rate': 0.2, 'learning_rate': 0.001, 'batch_size': 32, 'maxlags_var': 5}\n",
      "\u001b[1m175/175\u001b[0m \u001b[32m━━━━━━━━━━━━━━━━━━━━\u001b[0m\u001b[37m\u001b[0m \u001b[1m2s\u001b[0m 11ms/step\n",
      "NMSE médio do módulo dos coeficientes: 1.980256\n",
      "\n",
      "Executando combinação 58/96: {'sequence_length': 20, 'lstm_units': 128, 'conv_filters': [32, 16], 'kernel_size': 3, 'dropout_rate': 0.2, 'learning_rate': 0.001, 'batch_size': 32, 'maxlags_var': 10}\n",
      "\u001b[1m175/175\u001b[0m \u001b[32m━━━━━━━━━━━━━━━━━━━━\u001b[0m\u001b[37m\u001b[0m \u001b[1m4s\u001b[0m 20ms/step\n",
      "NMSE médio do módulo dos coeficientes: 1.980987\n",
      "\n",
      "Executando combinação 59/96: {'sequence_length': 20, 'lstm_units': 128, 'conv_filters': [32, 16], 'kernel_size': 3, 'dropout_rate': 0.2, 'learning_rate': 0.001, 'batch_size': 64, 'maxlags_var': 5}\n",
      "\u001b[1m175/175\u001b[0m \u001b[32m━━━━━━━━━━━━━━━━━━━━\u001b[0m\u001b[37m\u001b[0m \u001b[1m3s\u001b[0m 14ms/step\n",
      "NMSE médio do módulo dos coeficientes: 1.981156\n",
      "\n",
      "Executando combinação 60/96: {'sequence_length': 20, 'lstm_units': 128, 'conv_filters': [32, 16], 'kernel_size': 3, 'dropout_rate': 0.2, 'learning_rate': 0.001, 'batch_size': 64, 'maxlags_var': 10}\n",
      "\u001b[1m175/175\u001b[0m \u001b[32m━━━━━━━━━━━━━━━━━━━━\u001b[0m\u001b[37m\u001b[0m \u001b[1m4s\u001b[0m 17ms/step\n",
      "NMSE médio do módulo dos coeficientes: 1.981095\n",
      "\n",
      "Executando combinação 61/96: {'sequence_length': 20, 'lstm_units': 128, 'conv_filters': [32, 16], 'kernel_size': 3, 'dropout_rate': 0.2, 'learning_rate': 0.0005, 'batch_size': 32, 'maxlags_var': 5}\n",
      "\u001b[1m175/175\u001b[0m \u001b[32m━━━━━━━━━━━━━━━━━━━━\u001b[0m\u001b[37m\u001b[0m \u001b[1m3s\u001b[0m 16ms/step\n",
      "NMSE médio do módulo dos coeficientes: 1.982063\n",
      "\n",
      "Executando combinação 62/96: {'sequence_length': 20, 'lstm_units': 128, 'conv_filters': [32, 16], 'kernel_size': 3, 'dropout_rate': 0.2, 'learning_rate': 0.0005, 'batch_size': 32, 'maxlags_var': 10}\n",
      "\u001b[1m175/175\u001b[0m \u001b[32m━━━━━━━━━━━━━━━━━━━━\u001b[0m\u001b[37m\u001b[0m \u001b[1m3s\u001b[0m 15ms/step\n",
      "NMSE médio do módulo dos coeficientes: 1.981618\n",
      "\n",
      "Executando combinação 63/96: {'sequence_length': 20, 'lstm_units': 128, 'conv_filters': [32, 16], 'kernel_size': 3, 'dropout_rate': 0.2, 'learning_rate': 0.0005, 'batch_size': 64, 'maxlags_var': 5}\n",
      "\u001b[1m175/175\u001b[0m \u001b[32m━━━━━━━━━━━━━━━━━━━━\u001b[0m\u001b[37m\u001b[0m \u001b[1m2s\u001b[0m 13ms/step\n",
      "NMSE médio do módulo dos coeficientes: 1.981634\n",
      "\n",
      "Executando combinação 64/96: {'sequence_length': 20, 'lstm_units': 128, 'conv_filters': [32, 16], 'kernel_size': 3, 'dropout_rate': 0.2, 'learning_rate': 0.0005, 'batch_size': 64, 'maxlags_var': 10}\n",
      "\u001b[1m175/175\u001b[0m \u001b[32m━━━━━━━━━━━━━━━━━━━━\u001b[0m\u001b[37m\u001b[0m \u001b[1m4s\u001b[0m 16ms/step\n",
      "NMSE médio do módulo dos coeficientes: 1.982419\n",
      "\n",
      "Executando combinação 65/96: {'sequence_length': 30, 'lstm_units': 64, 'conv_filters': [32, 16], 'kernel_size': 3, 'dropout_rate': 0.1, 'learning_rate': 0.001, 'batch_size': 32, 'maxlags_var': 5}\n",
      "\u001b[1m175/175\u001b[0m \u001b[32m━━━━━━━━━━━━━━━━━━━━\u001b[0m\u001b[37m\u001b[0m \u001b[1m4s\u001b[0m 22ms/step\n",
      "NMSE médio do módulo dos coeficientes: 1.993437\n",
      "\n",
      "Executando combinação 66/96: {'sequence_length': 30, 'lstm_units': 64, 'conv_filters': [32, 16], 'kernel_size': 3, 'dropout_rate': 0.1, 'learning_rate': 0.001, 'batch_size': 32, 'maxlags_var': 10}\n",
      "\u001b[1m175/175\u001b[0m \u001b[32m━━━━━━━━━━━━━━━━━━━━\u001b[0m\u001b[37m\u001b[0m \u001b[1m3s\u001b[0m 13ms/step\n",
      "NMSE médio do módulo dos coeficientes: 1.994410\n",
      "\n",
      "Executando combinação 67/96: {'sequence_length': 30, 'lstm_units': 64, 'conv_filters': [32, 16], 'kernel_size': 3, 'dropout_rate': 0.1, 'learning_rate': 0.001, 'batch_size': 64, 'maxlags_var': 5}\n",
      "\u001b[1m175/175\u001b[0m \u001b[32m━━━━━━━━━━━━━━━━━━━━\u001b[0m\u001b[37m\u001b[0m \u001b[1m4s\u001b[0m 19ms/step\n",
      "NMSE médio do módulo dos coeficientes: 1.994002\n",
      "\n",
      "Executando combinação 68/96: {'sequence_length': 30, 'lstm_units': 64, 'conv_filters': [32, 16], 'kernel_size': 3, 'dropout_rate': 0.1, 'learning_rate': 0.001, 'batch_size': 64, 'maxlags_var': 10}\n",
      "\u001b[1m175/175\u001b[0m \u001b[32m━━━━━━━━━━━━━━━━━━━━\u001b[0m\u001b[37m\u001b[0m \u001b[1m2s\u001b[0m 10ms/step\n",
      "NMSE médio do módulo dos coeficientes: 1.995046\n",
      "\n",
      "Executando combinação 69/96: {'sequence_length': 30, 'lstm_units': 64, 'conv_filters': [32, 16], 'kernel_size': 3, 'dropout_rate': 0.1, 'learning_rate': 0.0005, 'batch_size': 32, 'maxlags_var': 5}\n",
      "\u001b[1m175/175\u001b[0m \u001b[32m━━━━━━━━━━━━━━━━━━━━\u001b[0m\u001b[37m\u001b[0m \u001b[1m4s\u001b[0m 23ms/step\n",
      "NMSE médio do módulo dos coeficientes: 1.994997\n",
      "\n",
      "Executando combinação 70/96: {'sequence_length': 30, 'lstm_units': 64, 'conv_filters': [32, 16], 'kernel_size': 3, 'dropout_rate': 0.1, 'learning_rate': 0.0005, 'batch_size': 32, 'maxlags_var': 10}\n",
      "\u001b[1m175/175\u001b[0m \u001b[32m━━━━━━━━━━━━━━━━━━━━\u001b[0m\u001b[37m\u001b[0m \u001b[1m3s\u001b[0m 18ms/step\n",
      "NMSE médio do módulo dos coeficientes: 1.993567\n",
      "\n",
      "Executando combinação 71/96: {'sequence_length': 30, 'lstm_units': 64, 'conv_filters': [32, 16], 'kernel_size': 3, 'dropout_rate': 0.1, 'learning_rate': 0.0005, 'batch_size': 64, 'maxlags_var': 5}\n",
      "\u001b[1m175/175\u001b[0m \u001b[32m━━━━━━━━━━━━━━━━━━━━\u001b[0m\u001b[37m\u001b[0m \u001b[1m3s\u001b[0m 11ms/step\n",
      "NMSE médio do módulo dos coeficientes: 1.993186\n",
      "\n",
      "Executando combinação 72/96: {'sequence_length': 30, 'lstm_units': 64, 'conv_filters': [32, 16], 'kernel_size': 3, 'dropout_rate': 0.1, 'learning_rate': 0.0005, 'batch_size': 64, 'maxlags_var': 10}\n",
      "\u001b[1m175/175\u001b[0m \u001b[32m━━━━━━━━━━━━━━━━━━━━\u001b[0m\u001b[37m\u001b[0m \u001b[1m4s\u001b[0m 16ms/step\n",
      "NMSE médio do módulo dos coeficientes: 1.992878\n",
      "\n",
      "Executando combinação 73/96: {'sequence_length': 30, 'lstm_units': 64, 'conv_filters': [32, 16], 'kernel_size': 3, 'dropout_rate': 0.2, 'learning_rate': 0.001, 'batch_size': 32, 'maxlags_var': 5}\n",
      "\u001b[1m175/175\u001b[0m \u001b[32m━━━━━━━━━━━━━━━━━━━━\u001b[0m\u001b[37m\u001b[0m \u001b[1m3s\u001b[0m 14ms/step\n",
      "NMSE médio do módulo dos coeficientes: 1.995250\n",
      "\n",
      "Executando combinação 74/96: {'sequence_length': 30, 'lstm_units': 64, 'conv_filters': [32, 16], 'kernel_size': 3, 'dropout_rate': 0.2, 'learning_rate': 0.001, 'batch_size': 32, 'maxlags_var': 10}\n",
      "\u001b[1m175/175\u001b[0m \u001b[32m━━━━━━━━━━━━━━━━━━━━\u001b[0m\u001b[37m\u001b[0m \u001b[1m3s\u001b[0m 14ms/step\n",
      "NMSE médio do módulo dos coeficientes: 1.995085\n",
      "\n",
      "Executando combinação 75/96: {'sequence_length': 30, 'lstm_units': 64, 'conv_filters': [32, 16], 'kernel_size': 3, 'dropout_rate': 0.2, 'learning_rate': 0.001, 'batch_size': 64, 'maxlags_var': 5}\n",
      "\u001b[1m175/175\u001b[0m \u001b[32m━━━━━━━━━━━━━━━━━━━━\u001b[0m\u001b[37m\u001b[0m \u001b[1m4s\u001b[0m 18ms/step\n",
      "NMSE médio do módulo dos coeficientes: 1.995256\n",
      "\n",
      "Executando combinação 76/96: {'sequence_length': 30, 'lstm_units': 64, 'conv_filters': [32, 16], 'kernel_size': 3, 'dropout_rate': 0.2, 'learning_rate': 0.001, 'batch_size': 64, 'maxlags_var': 10}\n",
      "\u001b[1m175/175\u001b[0m \u001b[32m━━━━━━━━━━━━━━━━━━━━\u001b[0m\u001b[37m\u001b[0m \u001b[1m3s\u001b[0m 17ms/step\n",
      "NMSE médio do módulo dos coeficientes: 1.994713\n",
      "\n",
      "Executando combinação 77/96: {'sequence_length': 30, 'lstm_units': 64, 'conv_filters': [32, 16], 'kernel_size': 3, 'dropout_rate': 0.2, 'learning_rate': 0.0005, 'batch_size': 32, 'maxlags_var': 5}\n",
      "\u001b[1m175/175\u001b[0m \u001b[32m━━━━━━━━━━━━━━━━━━━━\u001b[0m\u001b[37m\u001b[0m \u001b[1m4s\u001b[0m 20ms/step\n",
      "NMSE médio do módulo dos coeficientes: 1.995352\n",
      "\n",
      "Executando combinação 78/96: {'sequence_length': 30, 'lstm_units': 64, 'conv_filters': [32, 16], 'kernel_size': 3, 'dropout_rate': 0.2, 'learning_rate': 0.0005, 'batch_size': 32, 'maxlags_var': 10}\n",
      "\u001b[1m175/175\u001b[0m \u001b[32m━━━━━━━━━━━━━━━━━━━━\u001b[0m\u001b[37m\u001b[0m \u001b[1m3s\u001b[0m 11ms/step\n",
      "NMSE médio do módulo dos coeficientes: 1.996695\n",
      "\n",
      "Executando combinação 79/96: {'sequence_length': 30, 'lstm_units': 64, 'conv_filters': [32, 16], 'kernel_size': 3, 'dropout_rate': 0.2, 'learning_rate': 0.0005, 'batch_size': 64, 'maxlags_var': 5}\n",
      "\u001b[1m175/175\u001b[0m \u001b[32m━━━━━━━━━━━━━━━━━━━━\u001b[0m\u001b[37m\u001b[0m \u001b[1m3s\u001b[0m 12ms/step\n",
      "NMSE médio do módulo dos coeficientes: 1.995244\n",
      "\n",
      "Executando combinação 80/96: {'sequence_length': 30, 'lstm_units': 64, 'conv_filters': [32, 16], 'kernel_size': 3, 'dropout_rate': 0.2, 'learning_rate': 0.0005, 'batch_size': 64, 'maxlags_var': 10}\n",
      "\u001b[1m175/175\u001b[0m \u001b[32m━━━━━━━━━━━━━━━━━━━━\u001b[0m\u001b[37m\u001b[0m \u001b[1m5s\u001b[0m 22ms/step\n",
      "NMSE médio do módulo dos coeficientes: 1.996070\n",
      "\n",
      "Executando combinação 81/96: {'sequence_length': 30, 'lstm_units': 128, 'conv_filters': [32, 16], 'kernel_size': 3, 'dropout_rate': 0.1, 'learning_rate': 0.001, 'batch_size': 32, 'maxlags_var': 5}\n",
      "\u001b[1m175/175\u001b[0m \u001b[32m━━━━━━━━━━━━━━━━━━━━\u001b[0m\u001b[37m\u001b[0m \u001b[1m4s\u001b[0m 20ms/step\n",
      "NMSE médio do módulo dos coeficientes: 1.997560\n",
      "\n",
      "Executando combinação 82/96: {'sequence_length': 30, 'lstm_units': 128, 'conv_filters': [32, 16], 'kernel_size': 3, 'dropout_rate': 0.1, 'learning_rate': 0.001, 'batch_size': 32, 'maxlags_var': 10}\n",
      "\u001b[1m175/175\u001b[0m \u001b[32m━━━━━━━━━━━━━━━━━━━━\u001b[0m\u001b[37m\u001b[0m \u001b[1m5s\u001b[0m 25ms/step\n",
      "NMSE médio do módulo dos coeficientes: 1.997390\n",
      "\n",
      "Executando combinação 83/96: {'sequence_length': 30, 'lstm_units': 128, 'conv_filters': [32, 16], 'kernel_size': 3, 'dropout_rate': 0.1, 'learning_rate': 0.001, 'batch_size': 64, 'maxlags_var': 5}\n",
      "\u001b[1m175/175\u001b[0m \u001b[32m━━━━━━━━━━━━━━━━━━━━\u001b[0m\u001b[37m\u001b[0m \u001b[1m5s\u001b[0m 22ms/step\n",
      "NMSE médio do módulo dos coeficientes: 1.997602\n",
      "\n",
      "Executando combinação 84/96: {'sequence_length': 30, 'lstm_units': 128, 'conv_filters': [32, 16], 'kernel_size': 3, 'dropout_rate': 0.1, 'learning_rate': 0.001, 'batch_size': 64, 'maxlags_var': 10}\n",
      "\u001b[1m175/175\u001b[0m \u001b[32m━━━━━━━━━━━━━━━━━━━━\u001b[0m\u001b[37m\u001b[0m \u001b[1m5s\u001b[0m 28ms/step\n",
      "NMSE médio do módulo dos coeficientes: 1.996765\n",
      "\n",
      "Executando combinação 85/96: {'sequence_length': 30, 'lstm_units': 128, 'conv_filters': [32, 16], 'kernel_size': 3, 'dropout_rate': 0.1, 'learning_rate': 0.0005, 'batch_size': 32, 'maxlags_var': 5}\n",
      "\u001b[1m175/175\u001b[0m \u001b[32m━━━━━━━━━━━━━━━━━━━━\u001b[0m\u001b[37m\u001b[0m \u001b[1m4s\u001b[0m 23ms/step\n",
      "NMSE médio do módulo dos coeficientes: 1.996788\n",
      "\n",
      "Executando combinação 86/96: {'sequence_length': 30, 'lstm_units': 128, 'conv_filters': [32, 16], 'kernel_size': 3, 'dropout_rate': 0.1, 'learning_rate': 0.0005, 'batch_size': 32, 'maxlags_var': 10}\n",
      "\u001b[1m175/175\u001b[0m \u001b[32m━━━━━━━━━━━━━━━━━━━━\u001b[0m\u001b[37m\u001b[0m \u001b[1m3s\u001b[0m 17ms/step\n",
      "NMSE médio do módulo dos coeficientes: 1.999018\n",
      "\n",
      "Executando combinação 87/96: {'sequence_length': 30, 'lstm_units': 128, 'conv_filters': [32, 16], 'kernel_size': 3, 'dropout_rate': 0.1, 'learning_rate': 0.0005, 'batch_size': 64, 'maxlags_var': 5}\n",
      "\u001b[1m175/175\u001b[0m \u001b[32m━━━━━━━━━━━━━━━━━━━━\u001b[0m\u001b[37m\u001b[0m \u001b[1m3s\u001b[0m 13ms/step\n",
      "NMSE médio do módulo dos coeficientes: 1.994345\n",
      "\n",
      "Executando combinação 88/96: {'sequence_length': 30, 'lstm_units': 128, 'conv_filters': [32, 16], 'kernel_size': 3, 'dropout_rate': 0.1, 'learning_rate': 0.0005, 'batch_size': 64, 'maxlags_var': 10}\n",
      "\u001b[1m175/175\u001b[0m \u001b[32m━━━━━━━━━━━━━━━━━━━━\u001b[0m\u001b[37m\u001b[0m \u001b[1m4s\u001b[0m 21ms/step\n",
      "NMSE médio do módulo dos coeficientes: 1.996357\n",
      "\n",
      "Executando combinação 89/96: {'sequence_length': 30, 'lstm_units': 128, 'conv_filters': [32, 16], 'kernel_size': 3, 'dropout_rate': 0.2, 'learning_rate': 0.001, 'batch_size': 32, 'maxlags_var': 5}\n",
      "\u001b[1m175/175\u001b[0m \u001b[32m━━━━━━━━━━━━━━━━━━━━\u001b[0m\u001b[37m\u001b[0m \u001b[1m5s\u001b[0m 25ms/step\n",
      "NMSE médio do módulo dos coeficientes: 1.996926\n",
      "\n",
      "Executando combinação 90/96: {'sequence_length': 30, 'lstm_units': 128, 'conv_filters': [32, 16], 'kernel_size': 3, 'dropout_rate': 0.2, 'learning_rate': 0.001, 'batch_size': 32, 'maxlags_var': 10}\n",
      "\u001b[1m175/175\u001b[0m \u001b[32m━━━━━━━━━━━━━━━━━━━━\u001b[0m\u001b[37m\u001b[0m \u001b[1m5s\u001b[0m 28ms/step\n",
      "NMSE médio do módulo dos coeficientes: 1.997786\n",
      "\n",
      "Executando combinação 91/96: {'sequence_length': 30, 'lstm_units': 128, 'conv_filters': [32, 16], 'kernel_size': 3, 'dropout_rate': 0.2, 'learning_rate': 0.001, 'batch_size': 64, 'maxlags_var': 5}\n",
      "\u001b[1m175/175\u001b[0m \u001b[32m━━━━━━━━━━━━━━━━━━━━\u001b[0m\u001b[37m\u001b[0m \u001b[1m5s\u001b[0m 27ms/step\n",
      "NMSE médio do módulo dos coeficientes: 1.997625\n",
      "\n",
      "Executando combinação 92/96: {'sequence_length': 30, 'lstm_units': 128, 'conv_filters': [32, 16], 'kernel_size': 3, 'dropout_rate': 0.2, 'learning_rate': 0.001, 'batch_size': 64, 'maxlags_var': 10}\n",
      "\u001b[1m175/175\u001b[0m \u001b[32m━━━━━━━━━━━━━━━━━━━━\u001b[0m\u001b[37m\u001b[0m \u001b[1m5s\u001b[0m 29ms/step\n",
      "NMSE médio do módulo dos coeficientes: 1.995968\n",
      "\n",
      "Executando combinação 93/96: {'sequence_length': 30, 'lstm_units': 128, 'conv_filters': [32, 16], 'kernel_size': 3, 'dropout_rate': 0.2, 'learning_rate': 0.0005, 'batch_size': 32, 'maxlags_var': 5}\n",
      "\u001b[1m175/175\u001b[0m \u001b[32m━━━━━━━━━━━━━━━━━━━━\u001b[0m\u001b[37m\u001b[0m \u001b[1m4s\u001b[0m 22ms/step\n",
      "NMSE médio do módulo dos coeficientes: 1.997328\n",
      "\n",
      "Executando combinação 94/96: {'sequence_length': 30, 'lstm_units': 128, 'conv_filters': [32, 16], 'kernel_size': 3, 'dropout_rate': 0.2, 'learning_rate': 0.0005, 'batch_size': 32, 'maxlags_var': 10}\n",
      "\u001b[1m175/175\u001b[0m \u001b[32m━━━━━━━━━━━━━━━━━━━━\u001b[0m\u001b[37m\u001b[0m \u001b[1m4s\u001b[0m 19ms/step\n",
      "NMSE médio do módulo dos coeficientes: 1.995846\n",
      "\n",
      "Executando combinação 95/96: {'sequence_length': 30, 'lstm_units': 128, 'conv_filters': [32, 16], 'kernel_size': 3, 'dropout_rate': 0.2, 'learning_rate': 0.0005, 'batch_size': 64, 'maxlags_var': 5}\n",
      "\u001b[1m175/175\u001b[0m \u001b[32m━━━━━━━━━━━━━━━━━━━━\u001b[0m\u001b[37m\u001b[0m \u001b[1m5s\u001b[0m 23ms/step\n",
      "NMSE médio do módulo dos coeficientes: 1.997058\n",
      "\n",
      "Executando combinação 96/96: {'sequence_length': 30, 'lstm_units': 128, 'conv_filters': [32, 16], 'kernel_size': 3, 'dropout_rate': 0.2, 'learning_rate': 0.0005, 'batch_size': 64, 'maxlags_var': 10}\n",
      "\u001b[1m175/175\u001b[0m \u001b[32m━━━━━━━━━━━━━━━━━━━━\u001b[0m\u001b[37m\u001b[0m \u001b[1m5s\u001b[0m 25ms/step\n",
      "NMSE médio do módulo dos coeficientes: 1.995623\n",
      "\n",
      "Melhores hiperparâmetros: SeqLen:10_Units:64_Filters:[32, 16]_Kernel:3_Dropout:0.1_LR:0.001_Batch:32_VARLag:5 com NMSE: 1.907957\n"
     ]
    }
   ],
   "source": [
    "# Grid Search para o modelo LSTM + CNN + VAR\n",
    "\n",
    "import numpy as np\n",
    "import scipy.io as sio\n",
    "import os\n",
    "from tensorflow.keras.models import Model\n",
    "from tensorflow.keras.layers import Input, LSTM, Conv1D, Dense, Dropout, BatchNormalization\n",
    "from tensorflow.keras.optimizers import Adam\n",
    "from tensorflow.keras.callbacks import EarlyStopping\n",
    "from sklearn.metrics import mean_squared_error\n",
    "from sklearn.preprocessing import MinMaxScaler\n",
    "from statsmodels.tsa.api import VAR\n",
    "\n",
    "hyperparams_grid = {\n",
    "    'sequence_length': [10, 20, 30],          # 3 opções\n",
    "    'lstm_units': [64, 128],                  # 2 opções\n",
    "    'conv_filters': [[32, 16]],     # 2 opções\n",
    "    'kernel_size': [3],                        # 1 opção\n",
    "    'dropout_rate': [0.1, 0.2],                # 2 opções\n",
    "    'learning_rate': [0.001, 0.0005],         # 2 opções\n",
    "    'batch_size': [32, 64],                    # 2 opções\n",
    "    'maxlags_var': [5, 10]                     # 2 opções\n",
    "}\n",
    "\n",
    "# Carregar os dados\n",
    "file_path_temp_coefs = \"temp_coefs.mat\"\n",
    "file_path_spatial_modes = \"spatial_modes.mat\"\n",
    "file_path_mean_flow = \"mean_flow.mat\"\n",
    "file_path_parameters = \"parameters.mat\"\n",
    "\n",
    "mat_data_temp = sio.loadmat(file_path_temp_coefs)\n",
    "coefs = mat_data_temp['coefs']\n",
    "phi = sio.loadmat(file_path_spatial_modes)['phi']\n",
    "y_positions = sio.loadmat(file_path_mean_flow)['y'].flatten()\n",
    "Xavg = sio.loadmat(file_path_mean_flow)['Xavg'].flatten()\n",
    "nmodos_pod = sio.loadmat(file_path_parameters)['nmodes']\n",
    "\n",
    "# Definir o número de coeficientes a serem utilizados\n",
    "num_coefs = 20  # Usando 20 coeficientes\n",
    "print(f\"Número total de modos utilizados: {num_coefs}\")\n",
    "\n",
    "# Separar os coeficientes em parte real e imaginária\n",
    "real_coefs = np.real(coefs[:num_coefs, :])\n",
    "imag_coefs = np.imag(coefs[:num_coefs, :])\n",
    "\n",
    "# Divisão dos dados\n",
    "first_interval_end = 4801\n",
    "real_coefs_train = real_coefs[:, :first_interval_end:2]\n",
    "imag_coefs_train = imag_coefs[:, :first_interval_end:2]\n",
    "real_coefs_val = real_coefs[:, first_interval_end:]\n",
    "imag_coefs_val = imag_coefs[:, first_interval_end:]\n",
    "\n",
    "# Normalização\n",
    "num_total_coefs = num_coefs * 2\n",
    "scalers = []\n",
    "\n",
    "coefs_train = np.vstack([real_coefs_train, imag_coefs_train])\n",
    "coefs_val = np.vstack([real_coefs_val, imag_coefs_val])\n",
    "coefs_train_normalized = np.zeros_like(coefs_train)\n",
    "coefs_val_normalized = np.zeros_like(coefs_val)\n",
    "\n",
    "for i in range(num_total_coefs):\n",
    "    scaler_coef = MinMaxScaler(feature_range=(-1, 1))\n",
    "    coefs_train_normalized[i, :] = scaler_coef.fit_transform(coefs_train[i, :].reshape(-1, 1)).flatten()\n",
    "    coefs_val_normalized[i, :] = scaler_coef.transform(coefs_val[i, :].reshape(-1, 1)).flatten()\n",
    "    scalers.append(scaler_coef)\n",
    "\n",
    "def create_sequences(real_coefs_norm, imag_coefs_norm, seq_length):\n",
    "    X, y = [], []\n",
    "    num_samples = real_coefs_norm.shape[1] - seq_length\n",
    "    for i in range(num_samples):\n",
    "        X_seq_real = real_coefs_norm[:, i:i+seq_length]\n",
    "        X_seq_imag = imag_coefs_norm[:, i:i+seq_length]\n",
    "        X_seq = np.vstack([X_seq_real, X_seq_imag])\n",
    "        X.append(X_seq)\n",
    "        y_real = real_coefs_norm[:, i+seq_length]\n",
    "        y_imag = imag_coefs_norm[:, i+seq_length]\n",
    "        y_seq = np.hstack([y_real, y_imag])\n",
    "        y.append(y_seq)\n",
    "    X = np.array(X).transpose(0, 2, 1)\n",
    "    y = np.array(y)\n",
    "    return X, y\n",
    "\n",
    "\n",
    "# Dicionário para armazenar os resultados\n",
    "results = {}\n",
    "\n",
    "from itertools import product\n",
    "\n",
    "keys = hyperparams_grid.keys()\n",
    "values = (hyperparams_grid[key] for key in keys)\n",
    "\n",
    "total_combinations = np.prod([len(v) for v in hyperparams_grid.values()])\n",
    "print(f\"Total de combinações de hiperparâmetros: {total_combinations}\")\n",
    "\n",
    "combination_index = 1\n",
    "\n",
    "for hp_values in product(*values):\n",
    "    hyperparams = dict(zip(keys, hp_values))\n",
    "    sequence_length = hyperparams['sequence_length']\n",
    "    lstm_units = hyperparams['lstm_units']\n",
    "    conv_filters = hyperparams['conv_filters']\n",
    "    kernel_size = hyperparams['kernel_size']\n",
    "    dropout_rate = hyperparams['dropout_rate']\n",
    "    learning_rate = hyperparams['learning_rate']\n",
    "    batch_size = hyperparams['batch_size']\n",
    "    maxlags_var = hyperparams['maxlags_var']\n",
    "\n",
    "    print(f\"\\nExecutando combinação {combination_index}/{total_combinations}: {hyperparams}\")\n",
    "    combination_index += 1\n",
    "\n",
    "    # Criar sequências\n",
    "    X_train, y_train = create_sequences(coefs_train_normalized[:num_coefs, :], coefs_train_normalized[num_coefs:, :], sequence_length)\n",
    "    X_val, y_val = create_sequences(coefs_val_normalized[:num_coefs, :], coefs_val_normalized[num_coefs:, :], sequence_length)\n",
    "\n",
    "    # Verificar se há dados suficientes\n",
    "    if X_train.shape[0] == 0 or X_val.shape[0] == 0:\n",
    "        print(\"Dados insuficientes para a sequência atual. Pulando para a próxima combinação.\")\n",
    "        continue\n",
    "\n",
    "    # Definir o modelo\n",
    "    lstm_input = Input(shape=(X_train.shape[1], X_train.shape[2]))\n",
    "    x = lstm_input\n",
    "    x = Conv1D(filters=conv_filters[0], kernel_size=kernel_size, activation='relu', padding='same')(x)\n",
    "    x = BatchNormalization()(x)\n",
    "    x = Conv1D(filters=conv_filters[1], kernel_size=kernel_size, activation='relu', padding='same')(x)\n",
    "    x = BatchNormalization()(x)\n",
    "    x = Dropout(dropout_rate)(x)\n",
    "    x = LSTM(lstm_units, return_sequences=False, activation='tanh')(x)\n",
    "    x = Dropout(dropout_rate)(x)\n",
    "    output = Dense(num_total_coefs, activation='linear')(x)\n",
    "    model = Model(inputs=lstm_input, outputs=output)\n",
    "    model.compile(optimizer=Adam(learning_rate=learning_rate), loss='mean_squared_error')\n",
    "\n",
    "    # Treinar o modelo\n",
    "    early_stopping = EarlyStopping(monitor='val_loss', patience=5, restore_best_weights=True)\n",
    "    history = model.fit(X_train, y_train, epochs=50, batch_size=batch_size, validation_data=(X_val, y_val),\n",
    "                        callbacks=[early_stopping], verbose=0)\n",
    "\n",
    "    # Previsões LSTM+CNN\n",
    "    lstm_cnn_predictions_normalized = model.predict(X_val)\n",
    "    lstm_cnn_predictions = np.zeros_like(lstm_cnn_predictions_normalized)\n",
    "    y_val_original = np.zeros_like(y_val)\n",
    "    for i in range(num_total_coefs):\n",
    "        scaler = scalers[i]\n",
    "        lstm_cnn_predictions[:, i] = scaler.inverse_transform(lstm_cnn_predictions_normalized[:, i].reshape(-1, 1)).flatten()\n",
    "        y_val_original[:, i] = scaler.inverse_transform(y_val[:, i].reshape(-1, 1)).flatten()\n",
    "\n",
    "    # Calcular resíduos\n",
    "    residuals = y_val_original - lstm_cnn_predictions\n",
    "\n",
    "    # Ajustar VAR nos resíduos\n",
    "    model_var = VAR(residuals)\n",
    "    results_aic = model_var.select_order(maxlags=maxlags_var)\n",
    "    selected_lag = results_aic.aic if results_aic.aic is not None else maxlags_var\n",
    "    model_var_fitted = model_var.fit(selected_lag)\n",
    "\n",
    "    # Previsões VAR nos resíduos\n",
    "    var_residuals_pred = model_var_fitted.fittedvalues\n",
    "    var_residuals_pred = np.vstack([np.zeros((selected_lag, num_total_coefs)), var_residuals_pred])\n",
    "\n",
    "    # Previsão final\n",
    "    final_predictions = lstm_cnn_predictions[selected_lag:] + var_residuals_pred[selected_lag:]\n",
    "    actual_values = y_val_original[selected_lag + sequence_length:]\n",
    "\n",
    "    # Ajuste de dimensões\n",
    "    min_length = min(final_predictions.shape[0], actual_values.shape[0])\n",
    "    final_predictions = final_predictions[:min_length]\n",
    "    actual_values = actual_values[:min_length]\n",
    "\n",
    "    # Separar as partes real e imaginária\n",
    "    pred_real = final_predictions[:, :num_coefs]\n",
    "    pred_imag = final_predictions[:, num_coefs:]\n",
    "    actual_real = actual_values[:, :num_coefs]\n",
    "    actual_imag = actual_values[:, num_coefs:]\n",
    "\n",
    "    # Cálculo do NMSE\n",
    "    actual_modulus = np.sqrt(actual_real**2 + actual_imag**2)\n",
    "    predicted_modulus = np.sqrt(pred_real**2 + pred_imag**2)\n",
    "\n",
    "    nmse_modulus = []\n",
    "    for c in range(num_coefs):\n",
    "        mse = mean_squared_error(actual_modulus[:, c], predicted_modulus[:, c])\n",
    "        variance = np.var(actual_modulus[:, c])\n",
    "        nmse = mse / variance if variance != 0 else np.nan\n",
    "        nmse_modulus.append(nmse)\n",
    "\n",
    "    average_nmse_modulus = np.nanmean(nmse_modulus)\n",
    "\n",
    "    # Salvar resultados\n",
    "    result_key = f\"SeqLen:{sequence_length}_Units:{lstm_units}_Filters:{conv_filters}_Kernel:{kernel_size}_Dropout:{dropout_rate}_LR:{learning_rate}_Batch:{batch_size}_VARLag:{selected_lag}\"\n",
    "    results[result_key] = average_nmse_modulus\n",
    "    print(f\"NMSE médio do módulo dos coeficientes: {average_nmse_modulus:.6f}\")\n",
    "\n",
    "# Salvar os resultados em um arquivo\n",
    "import pickle\n",
    "with open('grid_search_results_lstm_cnn_var.pkl', 'wb') as f:\n",
    "    pickle.dump(results, f)\n",
    "\n",
    "# Encontrar a melhor combinação de hiperparâmetros\n",
    "best_params = min(results, key=results.get)\n",
    "print(f\"\\nMelhores hiperparâmetros: {best_params} com NMSE: {results[best_params]:.6f}\")\n"
   ]
  }
 ],
 "metadata": {
  "kernelspec": {
   "display_name": "base",
   "language": "python",
   "name": "python3"
  },
  "language_info": {
   "codemirror_mode": {
    "name": "ipython",
    "version": 3
   },
   "file_extension": ".py",
   "mimetype": "text/x-python",
   "name": "python",
   "nbconvert_exporter": "python",
   "pygments_lexer": "ipython3",
   "version": "3.11.5"
  }
 },
 "nbformat": 4,
 "nbformat_minor": 2
}
